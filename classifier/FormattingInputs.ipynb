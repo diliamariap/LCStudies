{
 "cells": [
  {
   "cell_type": "markdown",
   "id": "5ccd9756-a2b5-4d5a-9099-3302d6b0a1f7",
   "metadata": {},
   "source": [
    "# Format PFN inputs"
   ]
  },
  {
   "cell_type": "code",
   "execution_count": null,
   "id": "d12f7a18-11db-4f3c-a90e-606278a58399",
   "metadata": {},
   "outputs": [],
   "source": []
  },
  {
   "cell_type": "code",
   "execution_count": 1,
   "id": "e4faa980-67bd-44ce-88c9-a14b0bfffb0c",
   "metadata": {},
   "outputs": [],
   "source": [
    "import uproot as ur\n",
    "import awkward as ak\n",
    "import numpy as np"
   ]
  },
  {
   "cell_type": "markdown",
   "id": "d8962e20-6c5a-4a07-b0d1-cae2e850ee56",
   "metadata": {},
   "source": [
    "## Read dataset trees for pi0 and pipm"
   ]
  },
  {
   "cell_type": "code",
   "execution_count": 2,
   "id": "6248f38f-0bbc-4c7e-bf2c-d2e6d5a9c5fa",
   "metadata": {},
   "outputs": [
    {
     "name": "stdout",
     "output_type": "stream",
     "text": [
      ".      XY_tracks_small.npz  pi0\t\t     pi0_small.root   pipm_medium.root\n",
      "..     X_4.npy\t\t    pi0_medium.npz   pipm\t      pipm_small.root\n",
      "X.npy  delta\t\t    pi0_medium.root  pipm_medium.npz  rho\n"
     ]
    }
   ],
   "source": [
    "data_path = '/fast_scratch/atlas_images/v01-45/'\n",
    "!ls -a /fast_scratch/atlas_images/v01-45/\n",
    "#X_4.npy is a 180k long array of clusters; first 90k are Pi+ and last 90k are pi0"
   ]
  },
  {
   "cell_type": "code",
   "execution_count": 3,
   "id": "f5b4346e-7f2b-4ca8-8e27-3ad33429beab",
   "metadata": {},
   "outputs": [],
   "source": [
    "path_pipm = data_path + 'pipm_medium.root'\n",
    "path_pi0  = data_path + 'pi0_medium.root'"
   ]
  },
  {
   "cell_type": "code",
   "execution_count": 4,
   "id": "be112bd2-2781-4acb-bf33-4c9ddea33ccb",
   "metadata": {},
   "outputs": [],
   "source": [
    "tree_pipm = ur.open(path_pipm)['EventTree']\n",
    "tree_pi0  = ur.open(path_pi0)['EventTree']"
   ]
  },
  {
   "cell_type": "code",
   "execution_count": 5,
   "id": "3d113f54-4dbe-4f0a-a7ba-2a9ff31cc163",
   "metadata": {},
   "outputs": [],
   "source": [
    "geoDict_tree_pipm = ur.open(path_pipm)['CellGeo']\n",
    "addgeoDict_tree_pi0  = ur.open(path_pi0)[\"CellGeo\"]"
   ]
  },
  {
   "cell_type": "markdown",
   "id": "a4e5a345-35b4-4883-bb17-32febcc2d512",
   "metadata": {},
   "source": [
    "## Import useful functions"
   ]
  },
  {
   "cell_type": "code",
   "execution_count": 6,
   "id": "bba01bd1-4323-4fc3-a7c9-404611e44488",
   "metadata": {},
   "outputs": [],
   "source": [
    "# my worspace and directories\n",
    "path_prefix = '/home/dportill/LCStudies/'\n",
    "plotpath = path_prefix+'classifier/Plots_EFN/'\n",
    "modelpath = path_prefix+'classifier/Models_EFN/'"
   ]
  },
  {
   "cell_type": "code",
   "execution_count": 7,
   "id": "3baf2d93-5384-4eb1-aed7-203fd29acfe5",
   "metadata": {},
   "outputs": [],
   "source": [
    "# import graph utilities\n",
    "import sys\n",
    "sys.path.append(path_prefix)\n",
    "from  util import graph_util as gu\n",
    "from  util import plot_util as pu"
   ]
  },
  {
   "cell_type": "markdown",
   "id": "5b31b59b-978b-432c-b9a2-b901b3728d9a",
   "metadata": {},
   "source": [
    "## Process the inputs "
   ]
  },
  {
   "cell_type": "markdown",
   "id": "ac5de89f-ba31-4ea2-a3da-377f0018e0fd",
   "metadata": {},
   "source": [
    "* loadArrayBranchFlat(branchName, tree, padLength): Gives a flat list of clusters padded with equal number of cells\n",
    "\n",
    "ak.flatten: flatten the event index, to generate a list of clusters\n",
    "\n",
    "pad_none: pad the cell axis to the specified length of padLength"
   ]
  },
  {
   "cell_type": "code",
   "execution_count": 8,
   "id": "f852c31a-5cc5-44ab-aecc-dc9b8e45a0e9",
   "metadata": {},
   "outputs": [],
   "source": [
    "#pipm\n",
    "cell_id_pipm = gu.loadArrayBranchFlat('cluster_cell_ID', tree_pipm, 2000)\n",
    "cell_e_pipm = gu.loadArrayBranchFlat('cluster_cell_E', tree_pipm, 2000)"
   ]
  },
  {
   "cell_type": "code",
   "execution_count": 9,
   "id": "ff71e46c-86ad-421b-a46d-560606434126",
   "metadata": {},
   "outputs": [],
   "source": [
    "#pi0\n",
    "cell_id_pi0 = gu.loadArrayBranchFlat('cluster_cell_ID', tree_pi0, 2000)\n",
    "cell_e_pi0 = gu.loadArrayBranchFlat('cluster_cell_E', tree_pi0, 2000)"
   ]
  },
  {
   "cell_type": "code",
   "execution_count": 10,
   "id": "25866034-3a1e-4e2a-b95c-5fe220e3dd28",
   "metadata": {},
   "outputs": [
    {
     "name": "stdout",
     "output_type": "stream",
     "text": [
      "Number of pipm clusters: 672281\n",
      "Number of pi0 clusters: 421481\n",
      "Number of padded cells has to be equal to padLength: 2000\n"
     ]
    }
   ],
   "source": [
    "print(\"Number of pipm clusters:\", len(cell_e_pipm)) \n",
    "print(\"Number of pi0 clusters:\", len(cell_e_pi0)) \n",
    "print(\"Number of padded cells has to be equal to padLength:\", len(cell_e_pipm[0])) "
   ]
  },
  {
   "cell_type": "markdown",
   "id": "fe28b6ec-bcdd-4e3f-b9ed-cc8639bbb232",
   "metadata": {},
   "source": [
    "* loadGraphDictionary(tree): converting the geoTree into a dictionary for each branch that has each one cell_geo_ID as key \n",
    "\n",
    "? I dont understand the \"mask\" part :S"
   ]
  },
  {
   "cell_type": "code",
   "execution_count": 11,
   "id": "6f63d163-8168-4c7a-9125-086de95d46fa",
   "metadata": {},
   "outputs": [],
   "source": [
    "#load dictionaries \n",
    "geoDict_pipm = gu.loadGraphDictionary(geoDict_tree_pipm)\n",
    "geoDict_pi0  = gu.loadGraphDictionary(geoDict_tree_pi0)"
   ]
  },
  {
   "cell_type": "code",
   "execution_count": 12,
   "id": "0481d0a6-981b-4b25-904e-7e07a46cfe03",
   "metadata": {},
   "outputs": [
    {
     "data": {
      "text/plain": [
       "dict_keys(['cell_geo_sampling', 'cell_geo_eta', 'cell_geo_phi', 'cell_geo_rPerp', 'cell_geo_deta', 'cell_geo_dphi', 'cell_geo_volume', 'cell_geo_sigma'])"
      ]
     },
     "execution_count": 12,
     "metadata": {},
     "output_type": "execute_result"
    }
   ],
   "source": [
    "geoDict_pipm.keys()"
   ]
  },
  {
   "cell_type": "code",
   "execution_count": 13,
   "id": "f11bf6fd-8ab2-47d7-9775-c115fc26d6ab",
   "metadata": {},
   "outputs": [
    {
     "name": "stdout",
     "output_type": "stream",
     "text": [
      "Sampling ID of the cell with ID 740294656: 6\n"
     ]
    }
   ],
   "source": [
    "print(\"Sampling ID of the cell with ID 740294656:\",geoDict_pipm['cell_geo_sampling'][740294656])"
   ]
  },
  {
   "cell_type": "markdown",
   "id": "52096e87-e80b-4435-95a0-2e406ea08440",
   "metadata": {},
   "source": [
    "* convertIDToGeo(cellID, geoString, globalDict)\n",
    "\n",
    "Connects the cell ID from the event tree (cellID) that has all the cells in order with the cell ID on the geo tree (cluster_cell_ID) for a cell variable using the global dictionary\n",
    "\n",
    "\n",
    "[Translate every element in numpy array according to key](https://stackoverflow.com/questions/16992713/translate-every-element-in-numpy-array-according-to-key)\n",
    "\n",
    "np.vectorize(my_dict.get)(array)"
   ]
  },
  {
   "cell_type": "code",
   "execution_count": 14,
   "id": "2f22735e-209c-4303-b352-34f15bf03a0c",
   "metadata": {},
   "outputs": [],
   "source": [
    "cell_phi_pipm = gu.convertIDToGeo(cell_id_pipm, 'cell_geo_phi', geoDict_pipm)\n",
    "cell_eta_pipm = gu.convertIDToGeo(cell_id_pipm, 'cell_geo_eta', geoDict_pipm)\n",
    "\n",
    "cell_phi_pi0 = gu.convertIDToGeo(cell_id_pi0, 'cell_geo_phi', geoDict_pi0)\n",
    "cell_eta_pi0 = gu.convertIDToGeo(cell_id_pi0, 'cell_geo_eta', geoDict_pi0)"
   ]
  },
  {
   "cell_type": "markdown",
   "id": "061bddc7-4d67-44d2-a914-3f87449a1db1",
   "metadata": {},
   "source": [
    "* loadVectorBranchFlat(branchName, tree): \n",
    "\n",
    " converts to numpy a flatten array for the desired branch (no event index). But in this case is not padded because it is at cluster level"
   ]
  },
  {
   "cell_type": "code",
   "execution_count": 15,
   "id": "0e3d5a73-37d0-4bea-93ef-053633a3acd7",
   "metadata": {},
   "outputs": [],
   "source": [
    "clus_eta_pipm = gu.loadVectorBranchFlat('cluster_Eta', tree_pipm)\n",
    "clus_E_pipm = gu.loadVectorBranchFlat('cluster_E', tree_pipm)\n",
    "clus_phi_pipm = gu.loadVectorBranchFlat('cluster_Phi', tree_pipm)\n",
    "\n",
    "clus_eta_pi0 = gu.loadVectorBranchFlat('cluster_Eta', tree_pi0)\n",
    "clus_E_pi0 = gu.loadVectorBranchFlat('cluster_E', tree_pi0)\n",
    "clus_phi_pi0  = gu.loadVectorBranchFlat('cluster_Phi', tree_pi0)"
   ]
  },
  {
   "cell_type": "markdown",
   "id": "7070c98f-b3d8-445d-99cd-ad1b3d573b44",
   "metadata": {},
   "source": [
    "* Filter Events  $|\\eta|<0.7$"
   ]
  },
  {
   "cell_type": "code",
   "execution_count": 16,
   "id": "dc6ff69f-0d1d-4e77-8738-130c14715dd5",
   "metadata": {},
   "outputs": [],
   "source": [
    "#Central Clusters\n",
    "eta_mask_pipm = abs(clus_eta_pipm) < 0.7\n",
    "eta_mask_pi0  = abs(clus_eta_pi0) < 0.7\n",
    "\n",
    "#High energy clusters\n",
    "energy_mask_pipm = clus_E_pipm > 0.5\n",
    "energy_mask_pi0 = clus_E_pi0 > 0.5"
   ]
  },
  {
   "cell_type": "code",
   "execution_count": 17,
   "id": "e65b4fb9-413a-4927-bf4c-5aa6b41366f9",
   "metadata": {},
   "outputs": [],
   "source": [
    "selection_pipm = eta_mask_pipm & energy_mask_pipm\n",
    "selection_pi0 = eta_mask_pi0 & energy_mask_pi0"
   ]
  },
  {
   "cell_type": "markdown",
   "id": "3faadc8b-7101-4de3-a345-8a1f0659101c",
   "metadata": {},
   "source": [
    "* Normalise eta, phi  ???"
   ]
  },
  {
   "cell_type": "code",
   "execution_count": 18,
   "id": "a6179b12-57c1-48c1-92e3-1cfc05d96a0c",
   "metadata": {},
   "outputs": [],
   "source": [
    "cell_eta_norm_pipm = np.nan_to_num(cell_eta_pipm - clus_eta_pipm[:, None])\n",
    "cell_eta_norm_pi0 = np.nan_to_num(cell_eta_pi0 - clus_eta_pi0[:, None])\n",
    "cell_phi_norm_pipm = np.nan_to_num(cell_phi_pipm - clus_phi_pipm[:, None])\n",
    "cell_phi_norm_pi0 = np.nan_to_num(cell_phi_pi0 - clus_phi_pi0[:, None])"
   ]
  },
  {
   "cell_type": "markdown",
   "id": "aeb74f46-7b4f-4337-8f69-e48ef8553008",
   "metadata": {},
   "source": [
    "* Log(Energy)"
   ]
  },
  {
   "cell_type": "code",
   "execution_count": 19,
   "id": "c3636559-3b2c-4a93-aaef-415edf0aa1f0",
   "metadata": {},
   "outputs": [
    {
     "name": "stderr",
     "output_type": "stream",
     "text": [
      "<ipython-input-19-c48a3c03326e>:1: RuntimeWarning: divide by zero encountered in log\n",
      "  cell_e_norm_pipm = np.nan_to_num(np.log(cell_e_pipm), posinf = 0, neginf=0)\n",
      "<ipython-input-19-c48a3c03326e>:2: RuntimeWarning: divide by zero encountered in log\n",
      "  cell_e_norm_pi0 = np.nan_to_num(np.log(cell_e_pi0), posinf = 0, neginf=0)\n"
     ]
    }
   ],
   "source": [
    "cell_e_norm_pipm = np.nan_to_num(np.log(cell_e_pipm), posinf = 0, neginf=0)\n",
    "cell_e_norm_pi0 = np.nan_to_num(np.log(cell_e_pi0), posinf = 0, neginf=0)"
   ]
  },
  {
   "cell_type": "markdown",
   "id": "086e0fd8-7f39-4e00-a42c-e115577f1683",
   "metadata": {},
   "source": [
    "* Normalise sampling ID ?"
   ]
  },
  {
   "cell_type": "code",
   "execution_count": 20,
   "id": "b4e190d0-d407-4d73-8a08-d0e94f9fad91",
   "metadata": {},
   "outputs": [],
   "source": [
    "cell_samp_pipm = gu.convertIDToGeo(cell_id_pipm, 'cell_geo_sampling', geoDict_pipm)\n",
    "cell_samp_pi0 = gu.convertIDToGeo(cell_id_pi0, 'cell_geo_sampling', geoDict_pi0)"
   ]
  },
  {
   "cell_type": "code",
   "execution_count": 21,
   "id": "04b448d4-0010-41dc-b905-9587f85010d6",
   "metadata": {},
   "outputs": [],
   "source": [
    "#normalize to a lower value fairly arbitrarily\n",
    "cell_samp_norm_pipm = cell_samp_pipm * 0.1\n",
    "cell_samp_norm_pi0 = cell_samp_pi0 * 0.1"
   ]
  },
  {
   "cell_type": "markdown",
   "id": "63bfb55c-b353-4d89-ae1b-de9a4e65ec7c",
   "metadata": {},
   "source": [
    "* Add other cell-level features: cell_geo_volume , cell_geo_sigma"
   ]
  },
  {
   "cell_type": "code",
   "execution_count": 22,
   "id": "5d2e2fdd-f03c-49e0-90d7-d2b6af6fef3e",
   "metadata": {},
   "outputs": [],
   "source": [
    "cell_vol_pipm = gu.convertIDToGeo(cell_id_pipm, 'cell_geo_volume', geoDict_pipm)\n",
    "cell_vol_pi0  = gu.convertIDToGeo(cell_id_pi0,  'cell_geo_volume', geoDict_pi0)"
   ]
  },
  {
   "cell_type": "code",
   "execution_count": 23,
   "id": "cd664348-93a1-42b6-9ef7-055f6b5b9d67",
   "metadata": {},
   "outputs": [],
   "source": [
    "cell_sig_pipm = gu.convertIDToGeo(cell_id_pipm, 'cell_geo_sigma', geoDict_pipm)\n",
    "cell_sig_pi0  = gu.convertIDToGeo(cell_id_pi0,  'cell_geo_sigma', geoDict_pi0)"
   ]
  },
  {
   "cell_type": "code",
   "execution_count": 24,
   "id": "5a05d5a3-9d7c-41fc-a471-4c551e73d997",
   "metadata": {},
   "outputs": [],
   "source": [
    "cell_vol_norm_pipm = np.nan_to_num(cell_vol_pipm)\n",
    "cell_vol_norm_pi0  = np.nan_to_num(cell_vol_pi0)\n",
    "\n",
    "cell_sig_norm_pipm = np.nan_to_num(cell_sig_pipm)\n",
    "cell_sig_norm_pi0  = np.nan_to_num(cell_sig_pi0)"
   ]
  },
  {
   "cell_type": "markdown",
   "id": "170af387-84b3-46bf-a4ef-58dd1574343d",
   "metadata": {},
   "source": [
    "## Energy Flow inputs "
   ]
  },
  {
   "cell_type": "markdown",
   "id": "707ca0ef-f56c-4e91-bb3b-c1730580900d",
   "metadata": {},
   "source": [
    "Inputs consists of two components:\n",
    "- `X` : has X_pipm first and then X_pi0. It has shape `(num_clusters,max_num_cells,4)`  The cells are given as `(log(E),eta,phi,samplerID)` values\n",
    "- `Y` : a numpy array of quark/gluon jet labels (pipm=`1` and pi0=`0`). "
   ]
  },
  {
   "cell_type": "code",
   "execution_count": 25,
   "id": "228d56e1-8584-4f72-9d98-2ad33d847d97",
   "metadata": {},
   "outputs": [],
   "source": [
    "#X_pipm = np.stack((cell_e_norm_pipm[selection_pipm], cell_eta_norm_pipm[selection_pipm], cell_phi_norm_pipm[selection_pipm], cell_samp_norm_pipm[selection_pipm]), axis = 2)\n",
    "#X_pi0  = np.stack((cell_e_norm_pi0[selection_pi0], cell_eta_norm_pi0[selection_pi0], cell_phi_norm_pi0[selection_pi0], cell_samp_norm_pi0[selection_pi0]), axis = 2)"
   ]
  },
  {
   "cell_type": "code",
   "execution_count": 26,
   "id": "8e8dded1-37b3-4a34-9904-ae124d016807",
   "metadata": {},
   "outputs": [],
   "source": [
    "#X = np.concatenate((X_pipm[:90000], X_pi0[:90000]))"
   ]
  },
  {
   "cell_type": "code",
   "execution_count": 27,
   "id": "1de51096-281c-4440-a32a-cff8d9b64c9f",
   "metadata": {},
   "outputs": [],
   "source": [
    "#np.save(path_prefix+'X_baseline.npy', X)"
   ]
  },
  {
   "cell_type": "code",
   "execution_count": 28,
   "id": "2d255285-5c87-414b-ad9c-0fa225604102",
   "metadata": {},
   "outputs": [],
   "source": [
    "X_pipm = np.stack((cell_e_norm_pipm[selection_pipm], cell_eta_norm_pipm[selection_pipm], cell_phi_norm_pipm[selection_pipm], cell_samp_norm_pipm[selection_pipm], cell_sig_norm_pipm[selection_pipm], cell_vol_norm_pipm[selection_pipm]), axis = 2)\n",
    "X_pi0  = np.stack((cell_e_norm_pi0[selection_pi0], cell_eta_norm_pi0[selection_pi0], cell_phi_norm_pi0[selection_pi0], cell_samp_norm_pi0[selection_pi0], cell_sig_norm_pi0[selection_pi0], cell_vol_norm_pi0[selection_pi0]), axis = 2)"
   ]
  },
  {
   "cell_type": "code",
   "execution_count": 29,
   "id": "a7bd80bb-b3ae-47c4-a6b0-20ba5939308f",
   "metadata": {},
   "outputs": [],
   "source": [
    "X = np.concatenate((X_pipm[:90000], X_pi0[:90000]))"
   ]
  },
  {
   "cell_type": "code",
   "execution_count": 32,
   "id": "0d23e940-a3fa-417e-828d-644968ac28d6",
   "metadata": {},
   "outputs": [],
   "source": [
    "np.save(path_prefix+'X_added.npy', X)"
   ]
  }
 ],
 "metadata": {
  "kernelspec": {
   "display_name": "Python 3",
   "language": "python",
   "name": "python3"
  },
  "language_info": {
   "codemirror_mode": {
    "name": "ipython",
    "version": 3
   },
   "file_extension": ".py",
   "mimetype": "text/x-python",
   "name": "python",
   "nbconvert_exporter": "python",
   "pygments_lexer": "ipython3",
   "version": "3.8.5"
  }
 },
 "nbformat": 4,
 "nbformat_minor": 5
}
