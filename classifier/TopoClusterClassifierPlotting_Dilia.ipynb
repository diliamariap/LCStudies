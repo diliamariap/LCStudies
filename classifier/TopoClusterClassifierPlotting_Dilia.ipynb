{
 "cells": [
  {
   "cell_type": "markdown",
   "id": "7f016441-2cc2-493f-98e2-8585ee729aef",
   "metadata": {},
   "source": [
    "# Let's plot! "
   ]
  },
  {
   "cell_type": "code",
   "execution_count": 1,
   "id": "eae9ce9c-0d7f-44d0-99eb-4a26d4273ad8",
   "metadata": {},
   "outputs": [],
   "source": [
    "%load_ext autoreload\n",
    "%autoreload 2"
   ]
  },
  {
   "cell_type": "code",
   "execution_count": 2,
   "id": "522965d0-f3f7-4983-9ba8-7486aab7d129",
   "metadata": {},
   "outputs": [],
   "source": [
    "#import libraries and some constants\n",
    "\n",
    "import os\n",
    "import numpy as np\n",
    "import matplotlib as mpl\n",
    "import matplotlib.pyplot as plt\n",
    "from matplotlib.colors import Normalize, LogNorm\n",
    "import pandas as pd\n",
    "import uproot as ur\n",
    "import atlas_mpl_style as ampl\n",
    "ampl.use_atlas_style()"
   ]
  },
  {
   "cell_type": "code",
   "execution_count": 3,
   "id": "ee2977d3-5ac9-4569-aa42-de0e76c011cb",
   "metadata": {},
   "outputs": [],
   "source": [
    "# my worspace and directories\n",
    "\n",
    "path_prefix = '/home/dportill/LCStudies/'\n",
    "plotpath = path_prefix+'classifier/Plots/'\n",
    "modelpath = path_prefix+'classifier/Models/'"
   ]
  },
  {
   "cell_type": "code",
   "execution_count": 4,
   "id": "4de5a4ca-8645-413f-96cd-d6348fc89b6d",
   "metadata": {},
   "outputs": [],
   "source": [
    "# import our resolution utilities\n",
    "\n",
    "import sys\n",
    "sys.path.append(path_prefix)\n",
    "from  util import resolution_util as ru\n",
    "from  util import plot_util as pu\n",
    "from  util import ml_util as mu"
   ]
  },
  {
   "cell_type": "code",
   "execution_count": 5,
   "id": "16eab293-3654-4686-a6a7-b1e5f9097f35",
   "metadata": {},
   "outputs": [],
   "source": [
    "# Load data v7 with images from pubnote\n",
    "\n",
    "inputpath = '/fast_scratch/atlas_images/v7/'\n",
    "rootfiles = [\"pi0\", \"piplus\", \"piminus\"]\n",
    "\n",
    "#setupPionData(inputpath, rootfiles, branches = []) on ml_util with defaultBranches from ClusterTree\n",
    "trees, pdata = mu.setupPionData(inputpath, rootfiles)"
   ]
  },
  {
   "cell_type": "code",
   "execution_count": 6,
   "id": "a461488d-3723-4735-af93-228a5b50dc70",
   "metadata": {},
   "outputs": [
    {
     "name": "stdout",
     "output_type": "stream",
     "text": [
      "Number of pi0 events: 263891\n",
      "Number of pi+ events: 435967\n",
      "Number of pi- events: 434627\n",
      "Total: 1134485\n"
     ]
    }
   ],
   "source": [
    "# pdata -> Dictionary of dataframes. \"pi0\", \"piplus\", \"piminus\" are separated inside of the dictionary\n",
    "\n",
    "np0 = len(pdata['pi0'])\n",
    "npp = len(pdata['piplus'])\n",
    "npm = len(pdata['piminus'])\n",
    "\n",
    "print(\"Number of pi0 events: {}\".format(np0))\n",
    "print(\"Number of pi+ events: {}\".format(npp))\n",
    "print(\"Number of pi- events: {}\".format(npm))\n",
    "print(\"Total: {}\".format(np0+npp+npm))"
   ]
  },
  {
   "cell_type": "code",
   "execution_count": 7,
   "id": "a5973c3c-b371-45d9-a291-6951a360db42",
   "metadata": {},
   "outputs": [],
   "source": [
    "pcells = {\n",
    "    ifile : {\n",
    "        layer : mu.setupCells(itree, layer, flatten = False)\n",
    "        for layer in mu.cell_meta\n",
    "    }\n",
    "    for ifile, itree in trees.items()\n",
    "}"
   ]
  },
  {
   "cell_type": "code",
   "execution_count": 8,
   "id": "da5c18be-3e45-43c2-8ae9-c5ec5dbe85a4",
   "metadata": {},
   "outputs": [],
   "source": [
    "import numpy\n",
    "from tensorflow.keras.models import Sequential\n",
    "from tensorflow.keras.layers import Dense\n",
    "from tensorflow.keras.layers import Dropout\n",
    "from tensorflow.keras.layers import Flatten\n",
    "from tensorflow.keras.layers import Convolution2D\n",
    "from tensorflow.keras.layers import MaxPool2D\n",
    "from tensorflow.keras.layers import Input\n",
    "from tensorflow.keras.layers import concatenate\n",
    "from tensorflow.keras.layers import BatchNormalization\n",
    "from tensorflow.keras.layers import Activation\n",
    "from tensorflow.keras.layers import AveragePooling2D\n",
    "from tensorflow.keras.regularizers import l2\n",
    "from tensorflow.keras.optimizers import Adam\n",
    "from tensorflow.keras import Model\n",
    "from tensorflow import keras as keras"
   ]
  },
  {
   "cell_type": "code",
   "execution_count": 9,
   "id": "0d1b9b15-633d-4638-b1eb-4b956b88cf0d",
   "metadata": {},
   "outputs": [],
   "source": [
    "import tensorflow as tf"
   ]
  },
  {
   "cell_type": "code",
   "execution_count": 10,
   "id": "ed85a4af-33cd-4fef-ae28-26491565d06c",
   "metadata": {},
   "outputs": [],
   "source": [
    "## let's just take one gpu:\n",
    "os.environ['CUDA_VISIBLE_DEVICES'] = \"1\"\n",
    "os.environ['TF_FORCE_GPU_ALLOW_GROWTH'] = 'true'"
   ]
  },
  {
   "cell_type": "code",
   "execution_count": 11,
   "id": "46783a89-dcb7-4de6-a6bd-8411bf243748",
   "metadata": {},
   "outputs": [],
   "source": [
    "# create train/validation/test subsets containing 70%/10%/20%\n",
    "# of events from each type of pion event\n",
    "# merge pi0 and pi+ events\n",
    "training_classes = ['pi0','piplus']\n",
    "pdata_merged, pcells_merged, plabels = mu.createTrainingDatasets(training_classes, pdata, pcells)"
   ]
  },
  {
   "cell_type": "code",
   "execution_count": 12,
   "id": "7abb2842-d702-40a1-9570-4c23deff7ff1",
   "metadata": {},
   "outputs": [],
   "source": [
    "pcellsE23_EMB2G_channels = mu.setupChannelImages(mu.rescaleImages(pcells_merged, (16, 16), layers=['EMB2', 'EMB3']),last=True)"
   ]
  },
  {
   "cell_type": "code",
   "execution_count": 13,
   "id": "f49ba22a-085a-46d2-93df-f9bf17ba742a",
   "metadata": {},
   "outputs": [],
   "source": [
    "pcellsE1_EMB1G_channels = mu.setupChannelImages(mu.rescaleImages(pcells_merged, (128, 4), layers=['EMB1']),last=True)"
   ]
  },
  {
   "cell_type": "code",
   "execution_count": 14,
   "id": "4997c67c-1e61-4d14-b2bb-799a89c3a150",
   "metadata": {},
   "outputs": [],
   "source": [
    "pcellsT123_T1G_channels = mu.setupChannelImages(mu.rescaleImages(pcells_merged, (4, 4), layers=['TileBar0', 'TileBar1', 'TileBar2']),last=True)"
   ]
  },
  {
   "cell_type": "code",
   "execution_count": 15,
   "id": "c5bde41f-846a-4f2d-b5e6-d6b6e9ad3ef9",
   "metadata": {},
   "outputs": [],
   "source": [
    "model_p1_d02=tf.keras.models.load_model(modelpath+'model_p1_d02_v2.h5')"
   ]
  },
  {
   "cell_type": "code",
   "execution_count": 16,
   "id": "70af2f7e-adf1-4eb4-b538-ef5d35422778",
   "metadata": {},
   "outputs": [],
   "source": [
    "scores_p1_d02 = model_p1_d02.predict([pcellsE1_EMB1G_channels, pcellsE23_EMB2G_channels, pcellsT123_T1G_channels])"
   ]
  },
  {
   "cell_type": "markdown",
   "id": "47ea1bc9-f9f4-4c57-be68-9a62831d6584",
   "metadata": {},
   "source": [
    "ENERGY BINS"
   ]
  },
  {
   "cell_type": "code",
   "execution_count": 17,
   "id": "2e280c0f-7a56-44b3-8435-4946845a72d0",
   "metadata": {},
   "outputs": [],
   "source": [
    "varlist = []\n",
    "cluster_e = pu.rocVar(\n",
    "    name='clusterE',\n",
    "    bins=[1,10,50,500],\n",
    "    df=pdata_merged,\n",
    "    latex='Cluster E',\n",
    "    vlist=varlist,\n",
    ")"
   ]
  },
  {
   "cell_type": "code",
   "execution_count": 18,
   "id": "ede2e052-6a5e-4662-8ed4-607aa8056438",
   "metadata": {},
   "outputs": [
    {
     "data": {
      "text/plain": [
       "<Figure size 799.992x599.976 with 0 Axes>"
      ]
     },
     "metadata": {},
     "output_type": "display_data"
    },
    {
     "data": {
      "image/png": "[encoded data removed]",
      "text/plain": [
       "<Figure size 799.992x599.976 with 1 Axes>"
      ]
     },
     "metadata": {},
     "output_type": "display_data"
    }
   ],
   "source": [
    "pu.rocScan(varlist, [scores_p1_d02[:,1]], ['CNN'], plabels, pdata_merged, \n",
    "            plotpath=  plotpath+ 'CNN_epochs100_v2_roc_zoom.pdf',\n",
    "            x_min = 0.0, x_max = 0.25, y_min = 0.75, y_max = 1.0,\n",
    "            atlas_x = 0.5, atlas_y = 0.5, simulation = True,\n",
    "            textlist = [{'x': 0.5, 'y': 0.4, 'text': 'Classification of $\\pi^{+}$ vs $\\pi^{0}$'},\n",
    "                        {'x': 0.5, 'y': 0.34, 'text': 'CNN '}])"
   ]
  },
  {
   "cell_type": "code",
   "execution_count": 19,
   "id": "60861806-5c34-4f50-b81c-c398e4d4e8be",
   "metadata": {},
   "outputs": [
    {
     "name": "stdout",
     "output_type": "stream",
     "text": [
      "0         True\n",
      "1         True\n",
      "2         True\n",
      "3         True\n",
      "4         True\n",
      "          ... \n",
      "435962    True\n",
      "435963    True\n",
      "435964    True\n",
      "435965    True\n",
      "435966    True\n",
      "Name: label, Length: 435967, dtype: bool\n"
     ]
    }
   ],
   "source": [
    "#print(plabels) #-> 0 for pi0, 1 for piplus\n",
    "print(pdata['piplus']['label']==1) # -> true-> 0 for pi0, 1 for piplus\n",
    "\n",
    "\n",
    "#print(pdata['pi0'].keys()) # ['pi0', 'piplus', 'piminus'] -> Index(['clusterIndex', 'truthE', 'nCluster', 'clusterE', 'clusterECalib',\n",
    "     #  'clusterPt', 'clusterEta', 'clusterPhi', 'cluster_nCells',\n",
    "     #  'cluster_sumCellE', 'cluster_ENG_CALIB_TOT', 'cluster_ENG_CALIB_OUT_T',\n",
    "     #  'cluster_ENG_CALIB_DEAD_TOT', 'cluster_EM_PROBABILITY',\n",
    "     #  'cluster_HAD_WEIGHT', 'cluster_CENTER_MAG', 'cluster_FIRST_ENG_DENS',\n",
    "     #  'cluster_cellE_norm', 'train', 'test', 'val', 'label'],\n",
    "     # dtype='object')\n",
    "#print(pdata_merged.keys()) # same keys as pdata\n",
    "#print(pdata_merged['train']==1) #-> true  for the one that we will use for plotting"
   ]
  },
  {
   "cell_type": "code",
   "execution_count": 20,
   "id": "c2728198-228c-45ca-a6e5-978df9eaeb3b",
   "metadata": {},
   "outputs": [],
   "source": [
    "#def roc_plot_scores(scores, ylabels, data, figfile='',\n",
    "#             x_label='False positive rate',\n",
    "#             y_label='True positive rate',\n",
    "#             x_min=0, x_max=1.1, x_log=False,\n",
    "#             y_min=0, y_max=1.1, y_log=False,\n",
    "#             linestyles=[], colorgrouping=-1,\n",
    "#             extra_lines=[], labels=[], rejection = False,\n",
    "#             atlas_x=-1, atlas_y=-1, simulation=False, atlas_status = 'Internal',\n",
    "#             textlist=[], title=''):"
   ]
  },
  {
   "cell_type": "code",
   "execution_count": 21,
   "id": "7fe682bd-8333-4a3c-8569-6167ce7f6b73",
   "metadata": {},
   "outputs": [
    {
     "data": {
      "text/plain": [
       "array([0.29155678, 0.15355414, 0.1029858 , ..., 0.99869555, 0.17689842,\n",
       "       0.9996782 ], dtype=float32)"
      ]
     },
     "execution_count": 21,
     "metadata": {},
     "output_type": "execute_result"
    }
   ],
   "source": [
    "1-pdata_merged.cluster_EM_PROBABILITY.to_numpy()"
   ]
  },
  {
   "cell_type": "code",
   "execution_count": 22,
   "id": "a371ce51-fedb-462d-870b-333034d37ba7",
   "metadata": {},
   "outputs": [],
   "source": [
    "#pu.roc_plot_scores([1-pdata_merged.cluster_EM_PROBABILITY.to_numpy(),scores_p1_d02[:,1]],plabels,pdata_merged,)"
   ]
  },
  {
   "cell_type": "code",
   "execution_count": 23,
   "id": "fed4e4a1-8ce0-4aba-8306-bbe8d8ae009e",
   "metadata": {},
   "outputs": [],
   "source": [
    "#pu.roc_plot_scores([ 1-scores_p1_d02[:,1], pdata_merged.cluster_EM_PROBABILITY.to_numpy()], plabels, pdata_merged, \n",
    "#            figfile = plotpath+'model_compare.pdf',\n",
    "#            labels = ['CNN', 'LC EMProb'],\n",
    "#            x_min = 0.925, x_max = 1.0, y_min = 1, y_max = 1000, \n",
    "#            x_log = False, y_log = True, rejection = True, \n",
    "#            x_label = '$\\pi^{+}$ Efficiency', y_label = '$\\pi^{0}$ Rejection',\n",
    "#            atlas_x = 0.05, atlas_y = 0.925, simulation = True,\n",
    "#            linestyles = ['-','--','-.',':'], colorgrouping = -1,\n",
    "#            textlist = [{'x': 0.05, 'y': 0.8, 'text': 'Classification of $\\pi^{+}$ vs $\\pi^{0}$'}])"
   ]
  },
  {
   "cell_type": "code",
   "execution_count": null,
   "id": "a667e0f4-62c9-4175-97c8-ad18d87f1d17",
   "metadata": {},
   "outputs": [],
   "source": []
  }
 ],
 "metadata": {
  "kernelspec": {
   "display_name": "Python 3",
   "language": "python",
   "name": "python3"
  },
  "language_info": {
   "codemirror_mode": {
    "name": "ipython",
    "version": 3
   },
   "file_extension": ".py",
   "mimetype": "text/x-python",
   "name": "python",
   "nbconvert_exporter": "python",
   "pygments_lexer": "ipython3",
   "version": "3.8.5"
  }
 },
 "nbformat": 4,
 "nbformat_minor": 5
}
