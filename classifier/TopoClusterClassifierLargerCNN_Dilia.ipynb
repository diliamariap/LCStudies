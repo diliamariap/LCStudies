{
 "cells": [
  {
   "cell_type": "markdown",
   "id": "e0d9fc8f-66f3-4478-a32e-3f968c8ef90f",
   "metadata": {
    "tags": []
   },
   "source": [
    "# Can Dilia be a youth?"
   ]
  },
  {
   "cell_type": "code",
   "execution_count": 1,
   "id": "67d44661-1ebe-46fa-ae20-88f6ff96a280",
   "metadata": {},
   "outputs": [],
   "source": [
    "%load_ext autoreload\n",
    "%autoreload 2"
   ]
  },
  {
   "cell_type": "code",
   "execution_count": 2,
   "id": "92bf34f1-0309-4910-a65f-97bb5868b5ac",
   "metadata": {},
   "outputs": [],
   "source": [
    "#import libraries and some constants\n",
    "\n",
    "import os\n",
    "import numpy as np\n",
    "import matplotlib as mpl\n",
    "import matplotlib.pyplot as plt\n",
    "from matplotlib.colors import Normalize, LogNorm\n",
    "import pandas as pd\n",
    "import uproot as ur\n",
    "import atlas_mpl_style as ampl\n",
    "ampl.use_atlas_style()"
   ]
  },
  {
   "cell_type": "code",
   "execution_count": 3,
   "id": "9613808f-7b2a-4a3f-ba19-d5ecc3f2981a",
   "metadata": {},
   "outputs": [],
   "source": [
    "# my worspace and directories\n",
    "\n",
    "path_prefix = '/home/dportill/LCStudies/'\n",
    "plotpath = path_prefix+'classifier/Plots/'\n",
    "modelpath = path_prefix+'classifier/Models/'"
   ]
  },
  {
   "cell_type": "code",
   "execution_count": 4,
   "id": "9f5d1181-edd0-445a-bb25-aa71a8dfffb1",
   "metadata": {},
   "outputs": [],
   "source": [
    "# import our resolution utilities\n",
    "\n",
    "import sys\n",
    "sys.path.append(path_prefix)\n",
    "from  util import resolution_util as ru\n",
    "from  util import plot_util as pu\n",
    "from  util import ml_util as mu"
   ]
  },
  {
   "cell_type": "code",
   "execution_count": 5,
   "id": "397b371f-c683-4cc1-be29-a25f7e282fb4",
   "metadata": {
    "tags": []
   },
   "outputs": [],
   "source": [
    "# Load data v7 with images from pubnote\n",
    "\n",
    "inputpath = '/fast_scratch/atlas_images/v7/'\n",
    "rootfiles = [\"pi0\", \"piplus\", \"piminus\"]\n",
    "\n",
    "#setupPionData(inputpath, rootfiles, branches = []) on ml_util with defaultBranches from ClusterTree\n",
    "trees, pdata = mu.setupPionData(inputpath, rootfiles)"
   ]
  },
  {
   "cell_type": "code",
   "execution_count": 6,
   "id": "aa8e68f8-ce3f-4118-9905-af3b8415af4c",
   "metadata": {},
   "outputs": [
    {
     "name": "stdout",
     "output_type": "stream",
     "text": [
      "Number of pi0 events: 263891\n",
      "Number of pi+ events: 435967\n",
      "Number of pi- events: 434627\n",
      "Total: 1134485\n"
     ]
    }
   ],
   "source": [
    "# pdata -> Dictionary of dataframes. \"pi0\", \"piplus\", \"piminus\" are separated inside of the dictionary\n",
    "\n",
    "np0 = len(pdata['pi0'])\n",
    "npp = len(pdata['piplus'])\n",
    "npm = len(pdata['piminus'])\n",
    "\n",
    "print(\"Number of pi0 events: {}\".format(np0))\n",
    "print(\"Number of pi+ events: {}\".format(npp))\n",
    "print(\"Number of pi- events: {}\".format(npm))\n",
    "print(\"Total: {}\".format(np0+npp+npm))"
   ]
  },
  {
   "cell_type": "code",
   "execution_count": 7,
   "id": "33197bfc-3c50-45ce-9feb-97002a260d3c",
   "metadata": {},
   "outputs": [],
   "source": [
    "pcells = {\n",
    "    ifile : {\n",
    "        layer : mu.setupCells(itree, layer, flatten = False)\n",
    "        for layer in mu.cell_meta\n",
    "    }\n",
    "    for ifile, itree in trees.items()\n",
    "}"
   ]
  },
  {
   "cell_type": "code",
   "execution_count": 8,
   "id": "1f7d4ad7-8989-426f-9174-96b6b490a4a5",
   "metadata": {},
   "outputs": [],
   "source": [
    "import numpy\n",
    "from tensorflow.keras.models import Sequential\n",
    "from tensorflow.keras.layers import Dense\n",
    "from tensorflow.keras.layers import Dropout\n",
    "from tensorflow.keras.layers import Flatten\n",
    "from tensorflow.keras.layers import Convolution2D\n",
    "from tensorflow.keras.layers import MaxPool2D\n",
    "from tensorflow.keras.layers import Input\n",
    "from tensorflow.keras.layers import concatenate\n",
    "from tensorflow.keras.layers import BatchNormalization\n",
    "from tensorflow.keras.layers import Activation\n",
    "from tensorflow.keras.layers import AveragePooling2D\n",
    "from tensorflow.keras.regularizers import l2\n",
    "from tensorflow.keras.optimizers import Adam\n",
    "from tensorflow.keras import Model\n",
    "from tensorflow import keras as keras"
   ]
  },
  {
   "cell_type": "code",
   "execution_count": 9,
   "id": "846840f8-ed82-4d99-8cf1-abce72538792",
   "metadata": {},
   "outputs": [],
   "source": [
    "import tensorflow as tf"
   ]
  },
  {
   "cell_type": "code",
   "execution_count": 13,
   "id": "9b080889-e688-455b-ae02-4eeb2cad2df9",
   "metadata": {},
   "outputs": [],
   "source": [
    "##For taking multiple gpus:\n",
    "#gpu_list = [\"/gpu:0\",\"/gpu:1\"]\n",
    "#strategy = tf.distribute.MirroredStrategy(devices=gpu_list)\n",
    "#ngpu = strategy.num_replicas_in_sync\n",
    "#print ('Number of devices: {}'.format(ngpu))"
   ]
  },
  {
   "cell_type": "code",
   "execution_count": 12,
   "id": "c62efa74-b713-4353-a6a5-7b1ffa3513ad",
   "metadata": {},
   "outputs": [],
   "source": [
    "# let's just take one gpu:\n",
    "os.environ['CUDA_VISIBLE_DEVICES'] = \"0\"\n",
    "os.environ['TF_FORCE_GPU_ALLOW_GROWTH'] = 'true'"
   ]
  },
  {
   "cell_type": "code",
   "execution_count": 22,
   "id": "5cec3d55-2fef-40ea-b916-4d9f50180655",
   "metadata": {},
   "outputs": [
    {
     "name": "stdout",
     "output_type": "stream",
     "text": [
      " ---------------------------- Index:  0 , label:  pi0\n",
      "        clusterIndex      truthE  nCluster    clusterE  clusterECalib  \\\n",
      "0                  0  532.180603         1  522.347168     531.995789   \n",
      "1                  0    7.640409         1    6.733534       8.309240   \n",
      "2                  0    5.514576         2    2.788937       3.465582   \n",
      "3                  1    5.514576         2    1.246055       1.994231   \n",
      "4                  0   24.719658         1   23.665634      25.394232   \n",
      "...              ...         ...       ...         ...            ...   \n",
      "263886             0  932.972351         1  908.714111     926.805603   \n",
      "263887             0    1.626860         1    0.872110       1.478907   \n",
      "263888             0  475.428680         1  466.900146     480.174408   \n",
      "263889             0  137.269974         1  132.834503     137.719467   \n",
      "263890             0    0.329255         1    0.303065       0.652258   \n",
      "\n",
      "         clusterPt  clusterEta  clusterPhi  cluster_nCells  cluster_sumCellE  \\\n",
      "0       420.019897    0.684586    2.553012             215        522.284546   \n",
      "1         6.730501   -0.030018   -0.233483              33          6.716488   \n",
      "2         2.788538    0.016918   -0.064456              19          2.786920   \n",
      "3         1.245970   -0.011718    0.170417              20          1.236003   \n",
      "4        20.004780    0.596112   -1.447337              71         23.620420   \n",
      "...            ...         ...         ...             ...               ...   \n",
      "263886  893.800903    0.182423    0.440628             272        908.598633   \n",
      "263887    0.871941   -0.019679   -0.146033              12          0.872110   \n",
      "263888  419.654022   -0.470175   -1.417484             221        466.813965   \n",
      "263889  107.809349    0.668822   -2.883786             146        132.787277   \n",
      "263890    0.293188    0.258850   -1.823680               6          0.303065   \n",
      "\n",
      "        ...  cluster_ENG_CALIB_DEAD_TOT  cluster_EM_PROBABILITY  \\\n",
      "0       ...                    6.235618                0.708443   \n",
      "1       ...                    0.999628                0.846446   \n",
      "2       ...                    0.402937                0.897014   \n",
      "3       ...                    0.295411                0.669620   \n",
      "4       ...                    0.588899                0.891540   \n",
      "...     ...                         ...                     ...   \n",
      "263886  ...                   20.615303                0.790056   \n",
      "263887  ...                    0.435803                0.670825   \n",
      "263888  ...                   10.428680                0.694012   \n",
      "263889  ...                    6.457107                0.953837   \n",
      "263890  ...                    0.000000                0.563041   \n",
      "\n",
      "        cluster_HAD_WEIGHT  cluster_CENTER_MAG  cluster_FIRST_ENG_DENS  \\\n",
      "0                 1.002550         2130.533936            2.000256e-07   \n",
      "1                 1.036329         1643.174438            3.591073e-09   \n",
      "2                 1.056275         1629.202148            2.741003e-09   \n",
      "3                 1.014805         1642.123413            6.448641e-10   \n",
      "4                 1.010419         1957.808105            9.210176e-09   \n",
      "...                    ...                 ...                     ...   \n",
      "263886            1.003116         1761.709839            3.262131e-07   \n",
      "263887            1.014872         1583.438721            9.950206e-10   \n",
      "263888            1.006694         1905.335693            1.292157e-07   \n",
      "263889            1.001908         2048.657471            4.434617e-08   \n",
      "263890            1.063566         1668.821411            5.913742e-10   \n",
      "\n",
      "                                       cluster_cellE_norm  train   test  \\\n",
      "0       [0.42383957, 0.25932196, 0.010288767, 0.070900...  False   True   \n",
      "1       [0.1888285, 0.027471792, 0.13144703, 0.0492348...   True  False   \n",
      "2       [0.26600686, 0.10086492, 0.056210708, 0.030787...   True   True   \n",
      "3       [0.13950127, 0.012886987, 0.05303248, 0.087672...   True  False   \n",
      "4       [0.174418, 0.02549543, 0.1451308, 0.009518651,...   True   True   \n",
      "...                                                   ...    ...    ...   \n",
      "263886  [0.3849582, 0.19698541, 0.012790536, 0.1023852...  False  False   \n",
      "263887  [0.07131103, 0.232839, 0.16489471, 0.09966385,...   True  False   \n",
      "263888  [0.28286272, 0.16574916, 0.014442229, 0.008751...  False  False   \n",
      "263889  [0.29070306, 0.022880288, 0.11889357, 0.009812...   True  False   \n",
      "263890  [0.37281224, 0.019935625, 0.17471258, 0.016597...   True  False   \n",
      "\n",
      "          val  label  \n",
      "0       False      0  \n",
      "1        True      0  \n",
      "2       False      0  \n",
      "3        True      0  \n",
      "4       False      0  \n",
      "...       ...    ...  \n",
      "263886  False      0  \n",
      "263887  False      0  \n",
      "263888  False      0  \n",
      "263889  False      0  \n",
      "263890  False      0  \n",
      "\n",
      "[263891 rows x 22 columns]\n",
      " ---------------------------- Index:  1 , label:  piplus\n",
      "        clusterIndex       truthE  nCluster     clusterE  clusterECalib  \\\n",
      "0                  0  1950.726807         3  1706.589233    1847.573242   \n",
      "1                  1  1950.726807         3    58.192909      78.681816   \n",
      "2                  2  1950.726807         3     0.349190       0.769498   \n",
      "3                  0    18.619093         2    11.992596      21.729856   \n",
      "4                  1    18.619093         2     0.398268       0.827007   \n",
      "...              ...          ...       ...          ...            ...   \n",
      "435962             1    12.444592         2     2.249070       6.352647   \n",
      "435963             0    13.728332         1    13.441289      18.162279   \n",
      "435964             0    55.948166         1    41.322838      55.096611   \n",
      "435965             0     8.780014         2     5.636946       6.648877   \n",
      "435966             1     8.780014         2     1.329056       2.407062   \n",
      "\n",
      "          clusterPt  clusterEta  clusterPhi  cluster_nCells  cluster_sumCellE  \\\n",
      "0       1393.735718    0.658092   -2.112122             353       1705.227661   \n",
      "1         46.815140    0.683789   -2.178753              45         54.173908   \n",
      "2          0.315112    0.460979   -2.405282               2          0.285924   \n",
      "3         11.850097    0.154927   -1.119611              33         11.971533   \n",
      "4          0.393829    0.150000   -0.932660               1          0.398268   \n",
      "...             ...         ...         ...             ...               ...   \n",
      "435962     2.230844   -0.127740    1.087620              15          2.243600   \n",
      "435963    10.837882   -0.679954   -0.456889              19         13.442112   \n",
      "435964    34.028568    0.643597   -0.854183              74         41.298710   \n",
      "435965     4.833791   -0.568765   -3.092654              30          5.601835   \n",
      "435966     1.109268   -0.619548   -3.110617               2          1.083858   \n",
      "\n",
      "        ...  cluster_ENG_CALIB_DEAD_TOT  cluster_EM_PROBABILITY  \\\n",
      "0       ...                   44.067638                0.018130   \n",
      "1       ...                   11.988488                0.001000   \n",
      "2       ...                    0.078698                0.000623   \n",
      "3       ...                    2.499960                0.006570   \n",
      "4       ...                    0.014711                0.003600   \n",
      "...     ...                         ...                     ...   \n",
      "435962  ...                    0.456210                0.007869   \n",
      "435963  ...                    0.090284                0.000505   \n",
      "435964  ...                    3.498916                0.001304   \n",
      "435965  ...                    0.233764                0.823102   \n",
      "435966  ...                    0.206344                0.000322   \n",
      "\n",
      "        cluster_HAD_WEIGHT  cluster_CENTER_MAG  cluster_FIRST_ENG_DENS  \\\n",
      "0                 1.024731         2423.317871            4.277404e-07   \n",
      "1                 1.191867         3425.696777            1.755061e-10   \n",
      "2                 1.212510         3913.996338            1.603220e-12   \n",
      "3                 1.167025         2252.051270            8.310836e-10   \n",
      "4                 1.109439         3054.038818            5.170689e-12   \n",
      "...                    ...                 ...                     ...   \n",
      "435962            1.333571         2330.671387            3.774810e-10   \n",
      "435963            1.197136         3435.510254            8.101688e-11   \n",
      "435964            1.143205         2832.557129            1.299032e-09   \n",
      "435965            1.032151         1964.757446            2.271775e-09   \n",
      "435966            1.223381         2935.412598            2.803758e-11   \n",
      "\n",
      "                                       cluster_cellE_norm  train   test  \\\n",
      "0       [0.31853524, 0.0076545365, 0.25650582, 0.02611...   True   True   \n",
      "1       [0.027513273, 0.0021719737, 0.0013425057, 0.00...   True   True   \n",
      "2                     [0.6538643, 0.18118072, 0.16495493]   True   True   \n",
      "3       [0.16594508, 0.0015814339, 0.05095686, 0.01340...   True  False   \n",
      "4                                                   [1.0]   True   True   \n",
      "...                                                   ...    ...    ...   \n",
      "435962  [0.23387866, 0.008866438, 0.006691358, 0.00268...   True  False   \n",
      "435963  [0.49174085, 0.060185365, 0.010226395, 0.02072...  False  False   \n",
      "435964  [0.101409234, 0.007867423, 0.07660544, 0.00523...   True  False   \n",
      "435965  [0.2748373, 0.005323416, 0.045132488, 0.155698...   True  False   \n",
      "435966   [0.6234799, 0.07199959, 0.19202979, 0.112490736]   True  False   \n",
      "\n",
      "          val  label  \n",
      "0       False      1  \n",
      "1       False      1  \n",
      "2       False      1  \n",
      "3        True      1  \n",
      "4       False      1  \n",
      "...       ...    ...  \n",
      "435962  False      1  \n",
      "435963  False      1  \n",
      "435964  False      1  \n",
      "435965  False      1  \n",
      "435966  False      1  \n",
      "\n",
      "[435967 rows x 22 columns]\n"
     ]
    }
   ],
   "source": [
    "# create train/validation/test subsets containing 70%/10%/20%\n",
    "# of events from each type of pion event\n",
    "training_classes = ['pi0','piplus']\n",
    "pdata_merged, pcells_merged, plabels = mu.createTrainingDatasets(training_classes, pdata, pcells)"
   ]
  },
  {
   "cell_type": "code",
   "execution_count": 15,
   "id": "4895b591-874d-4a81-af17-baee37121f29",
   "metadata": {},
   "outputs": [],
   "source": [
    "pcellsE23_EMB2G_channels = mu.setupChannelImages(mu.rescaleImages(pcells_merged, (16, 16), layers=['EMB2', 'EMB3']),last=True)"
   ]
  },
  {
   "cell_type": "code",
   "execution_count": 16,
   "id": "495e8be4-365b-4a38-936d-dbbb5d1f971e",
   "metadata": {},
   "outputs": [],
   "source": [
    "pcellsE1_EMB1G_channels = mu.setupChannelImages(mu.rescaleImages(pcells_merged, (128, 4), layers=['EMB1']),last=True)"
   ]
  },
  {
   "cell_type": "code",
   "execution_count": 23,
   "id": "3ee4d4c5-df58-4339-906f-fe541affeb07",
   "metadata": {},
   "outputs": [],
   "source": [
    "pcellsT123_T1G_channels = mu.setupChannelImages(mu.rescaleImages(pcells_merged, (4, 4), layers=['TileBar0', 'TileBar1', 'TileBar2']),last=True)"
   ]
  },
  {
   "cell_type": "code",
   "execution_count": null,
   "id": "1b34ca22-0a83-4d66-b465-b2da1afe6fc5",
   "metadata": {},
   "outputs": [],
   "source": []
  },
  {
   "cell_type": "code",
   "execution_count": null,
   "id": "3811d87c-afdc-44d7-8e04-f5e24c269251",
   "metadata": {},
   "outputs": [],
   "source": []
  }
 ],
 "metadata": {
  "kernelspec": {
   "display_name": "Python 3",
   "language": "python",
   "name": "python3"
  },
  "language_info": {
   "codemirror_mode": {
    "name": "ipython",
    "version": 3
   },
   "file_extension": ".py",
   "mimetype": "text/x-python",
   "name": "python",
   "nbconvert_exporter": "python",
   "pygments_lexer": "ipython3",
   "version": "3.8.5"
  }
 },
 "nbformat": 4,
 "nbformat_minor": 5
}
