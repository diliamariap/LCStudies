{
 "cells": [
  {
   "cell_type": "markdown",
   "id": "e0d9fc8f-66f3-4478-a32e-3f968c8ef90f",
   "metadata": {
    "tags": []
   },
   "source": [
    "# Can Dilia be a youth?"
   ]
  },
  {
   "cell_type": "code",
   "execution_count": 1,
   "id": "67d44661-1ebe-46fa-ae20-88f6ff96a280",
   "metadata": {},
   "outputs": [],
   "source": [
    "%load_ext autoreload\n",
    "%autoreload 2"
   ]
  },
  {
   "cell_type": "code",
   "execution_count": 2,
   "id": "92bf34f1-0309-4910-a65f-97bb5868b5ac",
   "metadata": {},
   "outputs": [],
   "source": [
    "#import libraries and some constants\n",
    "\n",
    "import os\n",
    "import numpy as np\n",
    "import matplotlib as mpl\n",
    "import matplotlib.pyplot as plt\n",
    "from matplotlib.colors import Normalize, LogNorm\n",
    "import pandas as pd\n",
    "import uproot as ur\n",
    "import atlas_mpl_style as ampl\n",
    "ampl.use_atlas_style()"
   ]
  },
  {
   "cell_type": "code",
   "execution_count": 3,
   "id": "9613808f-7b2a-4a3f-ba19-d5ecc3f2981a",
   "metadata": {},
   "outputs": [],
   "source": [
    "# my worspace and directories\n",
    "\n",
    "path_prefix = '/home/dportill/LCStudies/'\n",
    "plotpath = path_prefix+'classifier/Plots/'\n",
    "modelpath = path_prefix+'classifier/Models/'"
   ]
  },
  {
   "cell_type": "code",
   "execution_count": 4,
   "id": "9f5d1181-edd0-445a-bb25-aa71a8dfffb1",
   "metadata": {},
   "outputs": [],
   "source": [
    "# import our resolution utilities\n",
    "\n",
    "import sys\n",
    "sys.path.append(path_prefix)\n",
    "from  util import resolution_util as ru\n",
    "from  util import plot_util as pu\n",
    "from  util import ml_util as mu"
   ]
  },
  {
   "cell_type": "code",
   "execution_count": 5,
   "id": "397b371f-c683-4cc1-be29-a25f7e282fb4",
   "metadata": {
    "tags": []
   },
   "outputs": [],
   "source": [
    "# Load data v7 with images from pubnote\n",
    "\n",
    "inputpath = '/fast_scratch/atlas_images/v7/'\n",
    "rootfiles = [\"pi0\", \"piplus\", \"piminus\"]\n",
    "\n",
    "#setupPionData(inputpath, rootfiles, branches = []) on ml_util with defaultBranches from ClusterTree\n",
    "trees, pdata = mu.setupPionData(inputpath, rootfiles)"
   ]
  },
  {
   "cell_type": "code",
   "execution_count": 6,
   "id": "aa8e68f8-ce3f-4118-9905-af3b8415af4c",
   "metadata": {},
   "outputs": [
    {
     "name": "stdout",
     "output_type": "stream",
     "text": [
      "Number of pi0 events: 263891\n",
      "Number of pi+ events: 435967\n",
      "Number of pi- events: 434627\n",
      "Total: 1134485\n"
     ]
    }
   ],
   "source": [
    "# pdata -> Dictionary of dataframes. \"pi0\", \"piplus\", \"piminus\" are separated inside of the dictionary\n",
    "\n",
    "np0 = len(pdata['pi0'])\n",
    "npp = len(pdata['piplus'])\n",
    "npm = len(pdata['piminus'])\n",
    "\n",
    "print(\"Number of pi0 events: {}\".format(np0))\n",
    "print(\"Number of pi+ events: {}\".format(npp))\n",
    "print(\"Number of pi- events: {}\".format(npm))\n",
    "print(\"Total: {}\".format(np0+npp+npm))"
   ]
  },
  {
   "cell_type": "code",
   "execution_count": 7,
   "id": "33197bfc-3c50-45ce-9feb-97002a260d3c",
   "metadata": {},
   "outputs": [],
   "source": [
    "pcells = {\n",
    "    ifile : {\n",
    "        layer : mu.setupCells(itree, layer, flatten = False)\n",
    "        for layer in mu.cell_meta\n",
    "    }\n",
    "    for ifile, itree in trees.items()\n",
    "}"
   ]
  },
  {
   "cell_type": "code",
   "execution_count": 8,
   "id": "3811d87c-afdc-44d7-8e04-f5e24c269251",
   "metadata": {},
   "outputs": [],
   "source": [
    "# * PRINTING *\n",
    "# pcells is a dictionary of dictionaries of arrays with keys 'pi0','piplus'and 'piminus' \n",
    "#that has the layers as keys: EMB1, EMB2, EMB3, TileBar0, TileBar1, TileBar2 defined on cell_meta\n",
    "#with dimension of the arrays as len_phi x len_eta\n",
    "\n",
    "#print(pcells['pi0']['TileBar0']) #neutral pions some no zero values on first TileBar"
   ]
  },
  {
   "cell_type": "code",
   "execution_count": 9,
   "id": "1f7d4ad7-8989-426f-9174-96b6b490a4a5",
   "metadata": {},
   "outputs": [],
   "source": [
    "import numpy\n",
    "from tensorflow.keras.models import Sequential\n",
    "from tensorflow.keras.layers import Dense\n",
    "from tensorflow.keras.layers import Dropout\n",
    "from tensorflow.keras.layers import Flatten\n",
    "from tensorflow.keras.layers import Convolution2D\n",
    "from tensorflow.keras.layers import MaxPool2D\n",
    "from tensorflow.keras.layers import Input\n",
    "from tensorflow.keras.layers import concatenate\n",
    "from tensorflow.keras.layers import BatchNormalization\n",
    "from tensorflow.keras.layers import Activation\n",
    "from tensorflow.keras.layers import AveragePooling2D\n",
    "from tensorflow.keras.regularizers import l2\n",
    "from tensorflow.keras.optimizers import Adam\n",
    "from tensorflow.keras import Model\n",
    "from tensorflow import keras as keras"
   ]
  },
  {
   "cell_type": "code",
   "execution_count": 10,
   "id": "846840f8-ed82-4d99-8cf1-abce72538792",
   "metadata": {
    "tags": []
   },
   "outputs": [],
   "source": [
    "import tensorflow as tf"
   ]
  },
  {
   "cell_type": "code",
   "execution_count": 11,
   "id": "9b080889-e688-455b-ae02-4eeb2cad2df9",
   "metadata": {},
   "outputs": [],
   "source": [
    "##For taking multiple gpus:\n",
    "#gpu_list = [\"/gpu:0\",\"/gpu:1\"]\n",
    "#strategy = tf.distribute.MirroredStrategy(devices=gpu_list)\n",
    "#ngpu = strategy.num_replicas_in_sync\n",
    "#print ('Number of devices: {}'.format(ngpu))"
   ]
  },
  {
   "cell_type": "code",
   "execution_count": 12,
   "id": "c62efa74-b713-4353-a6a5-7b1ffa3513ad",
   "metadata": {},
   "outputs": [],
   "source": [
    "## let's just take one gpu:\n",
    "os.environ['CUDA_VISIBLE_DEVICES'] = \"1\"\n",
    "os.environ['TF_FORCE_GPU_ALLOW_GROWTH'] = 'true'"
   ]
  },
  {
   "cell_type": "code",
   "execution_count": 13,
   "id": "20d959fc-92ae-4d29-b038-e9eae479b509",
   "metadata": {
    "tags": []
   },
   "outputs": [],
   "source": [
    "##Other Trial ( \"ValueError: Memory growth cannot differ between GPU devices\" ) \n",
    "#physical_devices = tf.config.list_physical_devices('GPU') \n",
    "#tf.config.experimental.set_memory_growth(physical_devices[0], True)"
   ]
  },
  {
   "cell_type": "code",
   "execution_count": 14,
   "id": "5cec3d55-2fef-40ea-b916-4d9f50180655",
   "metadata": {},
   "outputs": [],
   "source": [
    "# create train/validation/test subsets containing 70%/10%/20%\n",
    "# of events from each type of pion event\n",
    "# merge pi0 and pi+ events\n",
    "training_classes = ['pi0','piplus']\n",
    "pdata_merged, pcells_merged, plabels = mu.createTrainingDatasets(training_classes, pdata, pcells)\n",
    "\n",
    "\n",
    "#pcells_merged -> huge nympy array with all pi0 first and then all pi+ data\n",
    "#A numpy arraw like this will remove all entries that are not true: pdata_merged.train\n",
    "#plabels -> which ones are pions plus or pi zero. "
   ]
  },
  {
   "cell_type": "code",
   "execution_count": 15,
   "id": "1b34ca22-0a83-4d66-b465-b2da1afe6fc5",
   "metadata": {},
   "outputs": [
    {
     "name": "stdout",
     "output_type": "stream",
     "text": [
      " ********************************** p_index:  0 , plabel:  pi0\n",
      " ********************************** p_index:  1 , plabel:  piplus\n",
      "0         True\n",
      "1         True\n",
      "2         True\n",
      "3         True\n",
      "4         True\n",
      "          ... \n",
      "435962    True\n",
      "435963    True\n",
      "435964    True\n",
      "435965    True\n",
      "435966    True\n",
      "Name: label, Length: 435967, dtype: bool\n"
     ]
    }
   ],
   "source": [
    "# * PRINTING *\n",
    "\n",
    "for p_index, plabel in enumerate(training_classes):\n",
    "    print(\" ********************************** p_index: \", p_index, \", plabel: \", plabel)\n",
    "\n",
    "#pdata after createTrainingDatasets get a 'label' 0 if pi0 \n",
    "#print(pdata['pi0']['label']==0)\n",
    "print(pdata['piplus']['label']==1)\n"
   ]
  },
  {
   "cell_type": "code",
   "execution_count": 16,
   "id": "4895b591-874d-4a81-af17-baee37121f29",
   "metadata": {},
   "outputs": [],
   "source": [
    "pcellsE23_EMB2G_channels = mu.setupChannelImages(mu.rescaleImages(pcells_merged, (16, 16), layers=['EMB2', 'EMB3']),last=True)"
   ]
  },
  {
   "cell_type": "code",
   "execution_count": 17,
   "id": "495e8be4-365b-4a38-936d-dbbb5d1f971e",
   "metadata": {},
   "outputs": [],
   "source": [
    "pcellsE1_EMB1G_channels = mu.setupChannelImages(mu.rescaleImages(pcells_merged, (128, 4), layers=['EMB1']),last=True)"
   ]
  },
  {
   "cell_type": "code",
   "execution_count": 18,
   "id": "3ee4d4c5-df58-4339-906f-fe541affeb07",
   "metadata": {},
   "outputs": [],
   "source": [
    "pcellsT123_T1G_channels = mu.setupChannelImages(mu.rescaleImages(pcells_merged, (4, 4), layers=['TileBar0', 'TileBar1', 'TileBar2']),last=True)"
   ]
  },
  {
   "cell_type": "code",
   "execution_count": 19,
   "id": "49e1175c-216e-4fab-9a5f-4175701bbd5e",
   "metadata": {},
   "outputs": [],
   "source": [
    "def merged_model(droprate=.5):\n",
    "    # EMB1 image (convolutional)\n",
    "    input1 = Input(shape=(128,4,1), name='emb1_input')\n",
    "    x1 = Convolution2D(32, (3, 3), padding='same', name='emb1_conv2d_1')(input1)\n",
    "    x1 = Activation('relu')(x1)\n",
    "    # x1 = Dropout(droprate)(x1)\n",
    "    x1 = Convolution2D(32, (3, 3), padding='same', name='emb1_conv2d_2')(x1)\n",
    "    x1 = Activation('relu')(x1)\n",
    "    x1 = MaxPool2D(pool_size=(2, 1), padding='same', name='emb1_maxpool_3')(x1)\n",
    "    x1 = Convolution2D(64, (3, 3), padding='same', name='emb1_conv2d_3')(x1)\n",
    "    x1 = Activation('relu')(x1)\n",
    "    #x1 = Dropout(droprate)(x1)\n",
    "    x1 = Convolution2D(64, (3, 3), padding='same', name='emb1_conv2d_4')(x1)\n",
    "    x1 = Activation('relu')(x1)\n",
    "    x1 = MaxPool2D(pool_size=(2, 1), padding='same', name='emb1_maxpool_5')(x1)\n",
    "    x1 = Convolution2D(128, (2, 2), padding='same', name='emb1_conv2d_6')(x1)\n",
    "    x1 = Activation('relu')(x1)\n",
    "    x1 = Convolution2D(128, (2, 2), padding='same', name='emb1_conv2d_7')(x1)\n",
    "    x1 = Activation('relu')(x1)\n",
    "    x1 = MaxPool2D(pool_size=(2, 1), padding='same', name='emb1_maxpool_8')(x1)\n",
    "    x1 = Dropout(droprate, name='emb1_dropout_4')(x1)\n",
    "    x1 = Flatten(name='emb1_flatten_9')(x1)\n",
    "    x1 = Dense(128, activation='relu', name='emb1_dense_9')(x1)\n",
    "\n",
    "    # EMB23 image (convolutional)\n",
    "    input2 = Input(shape=(16,16,2), name='emb23_input')\n",
    "    x2 = Convolution2D(32, (1, 1), padding='same', name='emb23_conv1d_1')(input2)\n",
    "    x2 = Activation('relu')(x2)\n",
    "    # x2 = Dropout(droprate)(x2)\n",
    "    x2 = Convolution2D(64, (2, 2), padding='same', name='emb23_conv2d_2')(x2)\n",
    "    # x2 = Dropout(droprate)(x2)\n",
    "    x2 = MaxPool2D(pool_size=(2, 2), padding='same', name='emb23_maxpool_3')(x2)\n",
    "    x2 = Convolution2D(128, (2, 2), padding='same', name='emb23_conv2d_4')(x2)\n",
    "    x2 = Activation('relu')(x2)\n",
    "    # x2 = Dropout(droprate)(x2)\n",
    "    x2 = Convolution2D(128, (2, 2), padding='same', name='emb23_conv2d_5')(x2)\n",
    "    x2 = Activation('relu')(x2)\n",
    "    x2 = MaxPool2D(pool_size=(2, 2), padding='same', name='emb23_maxpool_6')(x2)\n",
    "    x2 = Dropout(droprate, name='emb23_dropout_4')(x2)\n",
    "    x2 = Flatten(name='emb23_flatten_7')(x2)\n",
    "    x2 = Dense(128, activation='relu', name='emb23_dense_8')(x2)\n",
    "\n",
    "    # tiles image (convolutional)\n",
    "    input3 = Input(shape=(4,4,3), name='tiles_input')\n",
    "    x3 = Convolution2D(32, (1, 1), padding='same', name='tiles_conv1d_1')(input3)\n",
    "    x3 = Activation('relu')(x3)\n",
    "    # x3 = Dropout(droprate)(x3)\n",
    "    x3 = Convolution2D(64, (2, 2), padding='same', name='tiles_conv2d_2')(x3)\n",
    "    x3 = Activation('relu')(x3)\n",
    "    # x3 = Dropout(droprate)(x3)\n",
    "    x3 = Convolution2D(128, (2, 2), padding='same', name='tiles_conv2d_3')(x3)\n",
    "    x3 = Activation('relu')(x3)\n",
    "    x3 = MaxPool2D(pool_size=(2, 2), padding='same', name='tiles_maxpool_4')(x3)\n",
    "    x3 = Dropout(droprate, name='tiles_dropout_4')(x3)\n",
    "    x3 = Flatten(name='tiles_flatten_5')(x3)\n",
    "    x3 = Dense(128, activation='relu', name='tiles_dense_6')(x3)\n",
    "\n",
    "    # concatenate outputs from the two networks above\n",
    "    x = concatenate([x1, x2, x3], name='concatenate') \n",
    "    x = Dropout(droprate, name='concate_dropout_5')(x)\n",
    "    x = Dense(64, name='concated_dense_1')(x)    \n",
    "    x = Activation('relu')(x)\n",
    "    x = Dropout(droprate, name='dense_dropout_6')(x)\n",
    "\n",
    "    # final output\n",
    "    output = Dense(2, activation='softmax', name='dense_output')(x)\n",
    "    # output = 5*tf.math.tanh(x)   # 0 to +5 range\n",
    "\n",
    "    model = Model(inputs = [input1, input2, input3], outputs = [output])\n",
    "    \n",
    "    # compile model\n",
    "    # model = multi_gpu_model(model, gpus=4)\n",
    "    model.compile(loss='categorical_crossentropy', optimizer='adam', metrics=['accuracy'])\n",
    "    return model"
   ]
  },
  {
   "cell_type": "code",
   "execution_count": 20,
   "id": "56ba0819-647c-400b-bd95-1e2afabab94b",
   "metadata": {},
   "outputs": [],
   "source": [
    "model_p1_d02 = merged_model(0.2)"
   ]
  },
  {
   "cell_type": "code",
   "execution_count": 21,
   "id": "3e213166-4bb4-4693-ace8-76926200f3ba",
   "metadata": {
    "tags": []
   },
   "outputs": [],
   "source": [
    "#history_p1_d02 = model_p1_d02.fit([pcellsE1_EMB1G_channels[pdata_merged.train], \n",
    "#                                pcellsE23_EMB2G_channels[pdata_merged.train], \n",
    "#                                pcellsT123_T1G_channels[pdata_merged.train]],\n",
    "#                                plabels[pdata_merged.train],\n",
    "#                                validation_data=([pcellsE1_EMB1G_channels[pdata_merged.val], \n",
    "#                                                    pcellsE23_EMB2G_channels[pdata_merged.val], \n",
    "#                                                    pcellsT123_T1G_channels[pdata_merged.val]], \n",
    "#                                                    plabels[pdata_merged.val]),\n",
    "#                                epochs=50,\n",
    "#                                batch_size = 128,     #*ngpu,\n",
    "#                                verbose=2\n",
    "#                                # use_multiprocessing=False\n",
    "#                                )"
   ]
  },
  {
   "cell_type": "code",
   "execution_count": 22,
   "id": "ebf4c04f-0487-4111-852b-86194efacc23",
   "metadata": {
    "tags": []
   },
   "outputs": [
    {
     "name": "stdout",
     "output_type": "stream",
     "text": [
      "Epoch 1/100\n",
      "3828/3828 - 62s - loss: 0.2394 - accuracy: 0.9074 - val_loss: 0.1941 - val_accuracy: 0.9283\n",
      "Epoch 2/100\n",
      "3828/3828 - 45s - loss: 0.1983 - accuracy: 0.9268 - val_loss: 0.1884 - val_accuracy: 0.9299\n",
      "Epoch 3/100\n",
      "3828/3828 - 44s - loss: 0.1906 - accuracy: 0.9302 - val_loss: 0.1785 - val_accuracy: 0.9341\n",
      "Epoch 4/100\n",
      "3828/3828 - 44s - loss: 0.1858 - accuracy: 0.9321 - val_loss: 0.1733 - val_accuracy: 0.9356\n",
      "Epoch 5/100\n",
      "3828/3828 - 44s - loss: 0.1818 - accuracy: 0.9331 - val_loss: 0.1763 - val_accuracy: 0.9356\n",
      "Epoch 6/100\n",
      "3828/3828 - 44s - loss: 0.1794 - accuracy: 0.9343 - val_loss: 0.1733 - val_accuracy: 0.9364\n",
      "Epoch 7/100\n",
      "3828/3828 - 43s - loss: 0.1768 - accuracy: 0.9350 - val_loss: 0.1717 - val_accuracy: 0.9370\n",
      "Epoch 8/100\n",
      "3828/3828 - 44s - loss: 0.1753 - accuracy: 0.9361 - val_loss: 0.1704 - val_accuracy: 0.9389\n",
      "Epoch 9/100\n",
      "3828/3828 - 44s - loss: 0.1736 - accuracy: 0.9368 - val_loss: 0.1653 - val_accuracy: 0.9389\n",
      "Epoch 10/100\n",
      "3828/3828 - 44s - loss: 0.1720 - accuracy: 0.9372 - val_loss: 0.1665 - val_accuracy: 0.9394\n",
      "Epoch 11/100\n",
      "3828/3828 - 44s - loss: 0.1705 - accuracy: 0.9380 - val_loss: 0.1640 - val_accuracy: 0.9398\n",
      "Epoch 12/100\n",
      "3828/3828 - 43s - loss: 0.1693 - accuracy: 0.9382 - val_loss: 0.1631 - val_accuracy: 0.9405\n",
      "Epoch 13/100\n",
      "3828/3828 - 43s - loss: 0.1683 - accuracy: 0.9390 - val_loss: 0.1639 - val_accuracy: 0.9409\n",
      "Epoch 14/100\n",
      "3828/3828 - 43s - loss: 0.1678 - accuracy: 0.9391 - val_loss: 0.1610 - val_accuracy: 0.9414\n",
      "Epoch 15/100\n",
      "3828/3828 - 43s - loss: 0.1667 - accuracy: 0.9395 - val_loss: 0.1625 - val_accuracy: 0.9403\n",
      "Epoch 16/100\n",
      "3828/3828 - 43s - loss: 0.1662 - accuracy: 0.9394 - val_loss: 0.1657 - val_accuracy: 0.9389\n",
      "Epoch 17/100\n",
      "3828/3828 - 44s - loss: 0.1647 - accuracy: 0.9400 - val_loss: 0.1619 - val_accuracy: 0.9401\n",
      "Epoch 18/100\n",
      "3828/3828 - 44s - loss: 0.1641 - accuracy: 0.9403 - val_loss: 0.1599 - val_accuracy: 0.9423\n",
      "Epoch 19/100\n",
      "3828/3828 - 43s - loss: 0.1630 - accuracy: 0.9408 - val_loss: 0.1594 - val_accuracy: 0.9423\n",
      "Epoch 20/100\n",
      "3828/3828 - 44s - loss: 0.1622 - accuracy: 0.9412 - val_loss: 0.1622 - val_accuracy: 0.9403\n",
      "Epoch 21/100\n",
      "3828/3828 - 44s - loss: 0.1616 - accuracy: 0.9414 - val_loss: 0.1602 - val_accuracy: 0.9429\n",
      "Epoch 22/100\n",
      "3828/3828 - 44s - loss: 0.1608 - accuracy: 0.9417 - val_loss: 0.1601 - val_accuracy: 0.9426\n",
      "Epoch 23/100\n",
      "3828/3828 - 44s - loss: 0.1600 - accuracy: 0.9418 - val_loss: 0.1571 - val_accuracy: 0.9435\n",
      "Epoch 24/100\n",
      "3828/3828 - 44s - loss: 0.1596 - accuracy: 0.9421 - val_loss: 0.1618 - val_accuracy: 0.9417\n",
      "Epoch 25/100\n",
      "3828/3828 - 45s - loss: 0.1590 - accuracy: 0.9424 - val_loss: 0.1571 - val_accuracy: 0.9431\n",
      "Epoch 26/100\n",
      "3828/3828 - 44s - loss: 0.1580 - accuracy: 0.9427 - val_loss: 0.1581 - val_accuracy: 0.9430\n",
      "Epoch 27/100\n",
      "3828/3828 - 43s - loss: 0.1572 - accuracy: 0.9428 - val_loss: 0.1540 - val_accuracy: 0.9446\n",
      "Epoch 28/100\n",
      "3828/3828 - 44s - loss: 0.1571 - accuracy: 0.9432 - val_loss: 0.1554 - val_accuracy: 0.9439\n",
      "Epoch 29/100\n",
      "3828/3828 - 44s - loss: 0.1558 - accuracy: 0.9435 - val_loss: 0.1559 - val_accuracy: 0.9441\n",
      "Epoch 30/100\n",
      "3828/3828 - 44s - loss: 0.1558 - accuracy: 0.9434 - val_loss: 0.1536 - val_accuracy: 0.9442\n",
      "Epoch 31/100\n",
      "3828/3828 - 43s - loss: 0.1548 - accuracy: 0.9438 - val_loss: 0.1583 - val_accuracy: 0.9433\n",
      "Epoch 32/100\n",
      "3828/3828 - 43s - loss: 0.1546 - accuracy: 0.9439 - val_loss: 0.1557 - val_accuracy: 0.9434\n",
      "Epoch 33/100\n",
      "3828/3828 - 44s - loss: 0.1540 - accuracy: 0.9444 - val_loss: 0.1522 - val_accuracy: 0.9456\n",
      "Epoch 34/100\n",
      "3828/3828 - 44s - loss: 0.1528 - accuracy: 0.9446 - val_loss: 0.1530 - val_accuracy: 0.9446\n",
      "Epoch 35/100\n",
      "3828/3828 - 44s - loss: 0.1536 - accuracy: 0.9443 - val_loss: 0.1550 - val_accuracy: 0.9446\n",
      "Epoch 36/100\n",
      "3828/3828 - 44s - loss: 0.1525 - accuracy: 0.9448 - val_loss: 0.1540 - val_accuracy: 0.9445\n",
      "Epoch 37/100\n",
      "3828/3828 - 43s - loss: 0.1515 - accuracy: 0.9449 - val_loss: 0.1559 - val_accuracy: 0.9439\n",
      "Epoch 38/100\n",
      "3828/3828 - 44s - loss: 0.1513 - accuracy: 0.9450 - val_loss: 0.1506 - val_accuracy: 0.9461\n",
      "Epoch 39/100\n",
      "3828/3828 - 44s - loss: 0.1503 - accuracy: 0.9456 - val_loss: 0.1532 - val_accuracy: 0.9451\n",
      "Epoch 40/100\n",
      "3828/3828 - 44s - loss: 0.1503 - accuracy: 0.9455 - val_loss: 0.1528 - val_accuracy: 0.9446\n",
      "Epoch 41/100\n",
      "3828/3828 - 43s - loss: 0.1492 - accuracy: 0.9457 - val_loss: 0.1533 - val_accuracy: 0.9447\n",
      "Epoch 42/100\n",
      "3828/3828 - 43s - loss: 0.1490 - accuracy: 0.9461 - val_loss: 0.1518 - val_accuracy: 0.9458\n",
      "Epoch 43/100\n",
      "3828/3828 - 43s - loss: 0.1489 - accuracy: 0.9459 - val_loss: 0.1545 - val_accuracy: 0.9461\n",
      "Epoch 44/100\n",
      "3828/3828 - 44s - loss: 0.1481 - accuracy: 0.9463 - val_loss: 0.1501 - val_accuracy: 0.9467\n",
      "Epoch 45/100\n",
      "3828/3828 - 43s - loss: 0.1480 - accuracy: 0.9463 - val_loss: 0.1842 - val_accuracy: 0.9462\n",
      "Epoch 46/100\n",
      "3828/3828 - 43s - loss: 0.1480 - accuracy: 0.9464 - val_loss: 0.1486 - val_accuracy: 0.9469\n",
      "Epoch 47/100\n",
      "3828/3828 - 43s - loss: 0.1464 - accuracy: 0.9473 - val_loss: 0.1514 - val_accuracy: 0.9447\n",
      "Epoch 48/100\n",
      "3828/3828 - 44s - loss: 0.1469 - accuracy: 0.9467 - val_loss: 0.1485 - val_accuracy: 0.9471\n",
      "Epoch 49/100\n",
      "3828/3828 - 43s - loss: 0.1464 - accuracy: 0.9470 - val_loss: 0.1492 - val_accuracy: 0.9465\n",
      "Epoch 50/100\n",
      "3828/3828 - 44s - loss: 0.1466 - accuracy: 0.9473 - val_loss: 0.1480 - val_accuracy: 0.9471\n",
      "Epoch 51/100\n",
      "3828/3828 - 44s - loss: 0.1456 - accuracy: 0.9473 - val_loss: 0.1495 - val_accuracy: 0.9470\n",
      "Epoch 52/100\n",
      "3828/3828 - 44s - loss: 0.1458 - accuracy: 0.9471 - val_loss: 0.1487 - val_accuracy: 0.9468\n",
      "Epoch 53/100\n",
      "3828/3828 - 44s - loss: 0.1454 - accuracy: 0.9473 - val_loss: 0.1507 - val_accuracy: 0.9478\n",
      "Epoch 54/100\n",
      "3828/3828 - 43s - loss: 0.1449 - accuracy: 0.9477 - val_loss: 0.1490 - val_accuracy: 0.9471\n",
      "Epoch 55/100\n",
      "3828/3828 - 43s - loss: 0.1458 - accuracy: 0.9476 - val_loss: 0.1497 - val_accuracy: 0.9467\n",
      "Epoch 56/100\n",
      "3828/3828 - 44s - loss: 0.1440 - accuracy: 0.9479 - val_loss: 0.1513 - val_accuracy: 0.9466\n",
      "Epoch 57/100\n",
      "3828/3828 - 44s - loss: 0.1446 - accuracy: 0.9481 - val_loss: 0.1535 - val_accuracy: 0.9465\n",
      "Epoch 58/100\n",
      "3828/3828 - 44s - loss: 0.1431 - accuracy: 0.9482 - val_loss: 0.1490 - val_accuracy: 0.9475\n",
      "Epoch 59/100\n",
      "3828/3828 - 44s - loss: 0.1428 - accuracy: 0.9485 - val_loss: 0.1511 - val_accuracy: 0.9460\n",
      "Epoch 60/100\n",
      "3828/3828 - 43s - loss: 0.1422 - accuracy: 0.9484 - val_loss: 0.1488 - val_accuracy: 0.9474\n",
      "Epoch 61/100\n",
      "3828/3828 - 44s - loss: 0.1420 - accuracy: 0.9486 - val_loss: 0.1506 - val_accuracy: 0.9466\n",
      "Epoch 62/100\n",
      "3828/3828 - 43s - loss: 0.1420 - accuracy: 0.9487 - val_loss: 0.1528 - val_accuracy: 0.9453\n",
      "Epoch 63/100\n",
      "3828/3828 - 43s - loss: 0.1421 - accuracy: 0.9488 - val_loss: 0.1499 - val_accuracy: 0.9470\n",
      "Epoch 64/100\n",
      "3828/3828 - 44s - loss: 0.1415 - accuracy: 0.9489 - val_loss: 0.1527 - val_accuracy: 0.9464\n",
      "Epoch 65/100\n",
      "3828/3828 - 44s - loss: 0.1418 - accuracy: 0.9485 - val_loss: 0.1497 - val_accuracy: 0.9486\n",
      "Epoch 66/100\n",
      "3828/3828 - 44s - loss: 0.1406 - accuracy: 0.9494 - val_loss: 0.1497 - val_accuracy: 0.9469\n",
      "Epoch 67/100\n",
      "3828/3828 - 44s - loss: 0.1407 - accuracy: 0.9491 - val_loss: 0.1482 - val_accuracy: 0.9480\n",
      "Epoch 68/100\n",
      "3828/3828 - 43s - loss: 0.1402 - accuracy: 0.9492 - val_loss: 0.1504 - val_accuracy: 0.9478\n",
      "Epoch 69/100\n",
      "3828/3828 - 44s - loss: 0.1407 - accuracy: 0.9492 - val_loss: 0.1467 - val_accuracy: 0.9486\n",
      "Epoch 70/100\n",
      "3828/3828 - 44s - loss: 0.1400 - accuracy: 0.9496 - val_loss: 0.1485 - val_accuracy: 0.9481\n",
      "Epoch 71/100\n",
      "3828/3828 - 43s - loss: 0.1404 - accuracy: 0.9491 - val_loss: 0.1492 - val_accuracy: 0.9474\n",
      "Epoch 72/100\n",
      "3828/3828 - 43s - loss: 0.1393 - accuracy: 0.9499 - val_loss: 0.1493 - val_accuracy: 0.9482\n",
      "Epoch 73/100\n",
      "3828/3828 - 44s - loss: 0.1395 - accuracy: 0.9496 - val_loss: 0.1493 - val_accuracy: 0.9474\n",
      "Epoch 74/100\n",
      "3828/3828 - 43s - loss: 0.1386 - accuracy: 0.9499 - val_loss: 0.1509 - val_accuracy: 0.9479\n",
      "Epoch 75/100\n",
      "3828/3828 - 44s - loss: 0.1382 - accuracy: 0.9502 - val_loss: 0.1505 - val_accuracy: 0.9477\n",
      "Epoch 76/100\n",
      "3828/3828 - 44s - loss: 0.1392 - accuracy: 0.9498 - val_loss: 0.1492 - val_accuracy: 0.9471\n",
      "Epoch 77/100\n",
      "3828/3828 - 44s - loss: 0.1414 - accuracy: 0.9500 - val_loss: 0.1489 - val_accuracy: 0.9495\n",
      "Epoch 78/100\n",
      "3828/3828 - 43s - loss: 0.1378 - accuracy: 0.9504 - val_loss: 0.1480 - val_accuracy: 0.9490\n",
      "Epoch 79/100\n",
      "3828/3828 - 44s - loss: 0.1374 - accuracy: 0.9504 - val_loss: 0.1483 - val_accuracy: 0.9480\n",
      "Epoch 80/100\n",
      "3828/3828 - 44s - loss: 0.1385 - accuracy: 0.9501 - val_loss: 0.1474 - val_accuracy: 0.9493\n",
      "Epoch 81/100\n",
      "3828/3828 - 43s - loss: 0.1458 - accuracy: 0.9498 - val_loss: 0.1480 - val_accuracy: 0.9494\n",
      "Epoch 82/100\n",
      "3828/3828 - 43s - loss: 0.1367 - accuracy: 0.9508 - val_loss: 0.1471 - val_accuracy: 0.9495\n",
      "Epoch 83/100\n",
      "3828/3828 - 43s - loss: 0.1367 - accuracy: 0.9509 - val_loss: 0.1503 - val_accuracy: 0.9487\n",
      "Epoch 84/100\n",
      "3828/3828 - 43s - loss: 0.1369 - accuracy: 0.9505 - val_loss: 0.1489 - val_accuracy: 0.9481\n",
      "Epoch 85/100\n",
      "3828/3828 - 44s - loss: 0.1360 - accuracy: 0.9510 - val_loss: 0.1501 - val_accuracy: 0.9500\n",
      "Epoch 86/100\n",
      "3828/3828 - 43s - loss: 0.1361 - accuracy: 0.9510 - val_loss: 0.1529 - val_accuracy: 0.9496\n",
      "Epoch 87/100\n",
      "3828/3828 - 44s - loss: 0.1364 - accuracy: 0.9507 - val_loss: 0.1488 - val_accuracy: 0.9493\n",
      "Epoch 88/100\n",
      "3828/3828 - 44s - loss: 0.1364 - accuracy: 0.9508 - val_loss: 0.1509 - val_accuracy: 0.9477\n",
      "Epoch 89/100\n",
      "3828/3828 - 44s - loss: 0.1363 - accuracy: 0.9509 - val_loss: 0.1605 - val_accuracy: 0.9490\n",
      "Epoch 90/100\n",
      "3828/3828 - 43s - loss: 0.1345 - accuracy: 0.9515 - val_loss: 0.1513 - val_accuracy: 0.9490\n",
      "Epoch 91/100\n",
      "3828/3828 - 44s - loss: 0.1354 - accuracy: 0.9512 - val_loss: 0.1507 - val_accuracy: 0.9490\n",
      "Epoch 92/100\n",
      "3828/3828 - 44s - loss: 0.1356 - accuracy: 0.9512 - val_loss: 0.1508 - val_accuracy: 0.9484\n",
      "Epoch 93/100\n",
      "3828/3828 - 44s - loss: 0.1350 - accuracy: 0.9515 - val_loss: 0.1500 - val_accuracy: 0.9495\n",
      "Epoch 94/100\n",
      "3828/3828 - 44s - loss: 0.1345 - accuracy: 0.9516 - val_loss: 0.1507 - val_accuracy: 0.9486\n",
      "Epoch 95/100\n",
      "3828/3828 - 44s - loss: 0.1341 - accuracy: 0.9518 - val_loss: 0.1468 - val_accuracy: 0.9493\n",
      "Epoch 96/100\n",
      "3828/3828 - 44s - loss: 0.2344 - accuracy: 0.9484 - val_loss: 0.1511 - val_accuracy: 0.9481\n",
      "Epoch 97/100\n",
      "3828/3828 - 44s - loss: 0.1352 - accuracy: 0.9515 - val_loss: 0.1510 - val_accuracy: 0.9465\n",
      "Epoch 98/100\n",
      "3828/3828 - 43s - loss: 0.1343 - accuracy: 0.9519 - val_loss: 0.1476 - val_accuracy: 0.9496\n",
      "Epoch 99/100\n",
      "3828/3828 - 44s - loss: 0.1334 - accuracy: 0.9522 - val_loss: 0.1489 - val_accuracy: 0.9487\n",
      "Epoch 100/100\n",
      "3828/3828 - 44s - loss: 0.1336 - accuracy: 0.9520 - val_loss: 0.1490 - val_accuracy: 0.9493\n"
     ]
    }
   ],
   "source": [
    "##### Testing less epochs than 250\n",
    "history_p1_d02 = model_p1_d02.fit([pcellsE1_EMB1G_channels[pdata_merged.train], \n",
    "                                pcellsE23_EMB2G_channels[pdata_merged.train], \n",
    "                                pcellsT123_T1G_channels[pdata_merged.train]],\n",
    "                                plabels[pdata_merged.train],\n",
    "                                validation_data=([pcellsE1_EMB1G_channels[pdata_merged.val], \n",
    "                                                    pcellsE23_EMB2G_channels[pdata_merged.val], \n",
    "                                                    pcellsT123_T1G_channels[pdata_merged.val]], \n",
    "                                                    plabels[pdata_merged.val]),\n",
    "                                epochs = 100,\n",
    "                                batch_size = 128,\n",
    "                                verbose=2\n",
    "                                # use_multiprocessing=False\n",
    "                                )"
   ]
  },
  {
   "cell_type": "markdown",
   "id": "ab22105d-0188-4907-8a49-13e86a9ca8ef",
   "metadata": {},
   "source": [
    "* Plotting!!!! "
   ]
  },
  {
   "cell_type": "code",
   "execution_count": 28,
   "id": "b9179715-475c-4d8f-af94-87a5106716a1",
   "metadata": {},
   "outputs": [
    {
     "data": {
      "text/plain": [
       "<Figure size 799.992x599.976 with 0 Axes>"
      ]
     },
     "metadata": {},
     "output_type": "display_data"
    },
    {
     "data": {
      "image/png": "[encoded data removed]",
      "text/plain": [
       "<Figure size 799.992x599.976 with 1 Axes>"
      ]
     },
     "metadata": {},
     "output_type": "display_data"
    },
    {
     "data": {
      "image/png": "[encoded data removed]",
      "text/plain": [
       "<Figure size 799.992x599.976 with 1 Axes>"
      ]
     },
     "metadata": {},
     "output_type": "display_data"
    }
   ],
   "source": [
    "plt.cla(); plt.clf()\n",
    "fig = plt.figure()\n",
    "fig.patch.set_facecolor('white')\n",
    "plt.plot(history_p1_d02.history['accuracy'])\n",
    "plt.plot(history_p1_d02.history['val_accuracy'])\n",
    "plt.title('model accuracy for Channels')\n",
    "plt.ylabel('accuracy')\n",
    "plt.xlabel('epoch')\n",
    "plt.legend(['train', 'test'], loc='upper left')\n",
    "plt.savefig('Plots/accuracy_epochs100_v2.pdf')\n",
    "plt.show()\n",
    "\n",
    "    # summarize history for loss\n",
    "fig = plt.figure()\n",
    "fig.patch.set_facecolor('white')\n",
    "plt.plot(history_p1_d02.history['loss'])\n",
    "plt.plot(history_p1_d02.history['val_loss'])\n",
    "plt.title('model loss for Channels')\n",
    "plt.ylabel('loss')\n",
    "plt.xlabel('epoch')\n",
    "plt.legend(['train', 'test'], loc='upper left')\n",
    "plt.savefig(plotpath + 'loss_epochs100_v2.pdf')\n",
    "plt.show()"
   ]
  },
  {
   "cell_type": "code",
   "execution_count": null,
   "id": "942118d5-50b1-41dd-a2de-50357e81f8f5",
   "metadata": {},
   "outputs": [],
   "source": [
    "model_p1_d02.save(modelpath+'model_p1_d02_v2.h5')\n",
    "scores_p1_d02 = model_p1_d02.predict([pcellsE1_EMB1G_channels, pcellsE23_EMB2G_channels, pcellsT123_T1G_channels])"
   ]
  },
  {
   "cell_type": "code",
   "execution_count": 25,
   "id": "b215e7c4-cf9d-4dee-8a5b-dac70f304a50",
   "metadata": {},
   "outputs": [
    {
     "name": "stdout",
     "output_type": "stream",
     "text": [
      "Model: \"model\"\n",
      "__________________________________________________________________________________________________\n",
      "Layer (type)                    Output Shape         Param #     Connected to                     \n",
      "==================================================================================================\n",
      "emb1_input (InputLayer)         [(None, 128, 4, 1)]  0                                            \n",
      "__________________________________________________________________________________________________\n",
      "emb1_conv2d_1 (Conv2D)          (None, 128, 4, 32)   320         emb1_input[0][0]                 \n",
      "__________________________________________________________________________________________________\n",
      "activation (Activation)         (None, 128, 4, 32)   0           emb1_conv2d_1[0][0]              \n",
      "__________________________________________________________________________________________________\n",
      "emb1_conv2d_2 (Conv2D)          (None, 128, 4, 32)   9248        activation[0][0]                 \n",
      "__________________________________________________________________________________________________\n",
      "activation_1 (Activation)       (None, 128, 4, 32)   0           emb1_conv2d_2[0][0]              \n",
      "__________________________________________________________________________________________________\n",
      "emb1_maxpool_3 (MaxPooling2D)   (None, 64, 4, 32)    0           activation_1[0][0]               \n",
      "__________________________________________________________________________________________________\n",
      "emb1_conv2d_3 (Conv2D)          (None, 64, 4, 64)    18496       emb1_maxpool_3[0][0]             \n",
      "__________________________________________________________________________________________________\n",
      "emb23_input (InputLayer)        [(None, 16, 16, 2)]  0                                            \n",
      "__________________________________________________________________________________________________\n",
      "activation_2 (Activation)       (None, 64, 4, 64)    0           emb1_conv2d_3[0][0]              \n",
      "__________________________________________________________________________________________________\n",
      "emb23_conv1d_1 (Conv2D)         (None, 16, 16, 32)   96          emb23_input[0][0]                \n",
      "__________________________________________________________________________________________________\n",
      "emb1_conv2d_4 (Conv2D)          (None, 64, 4, 64)    36928       activation_2[0][0]               \n",
      "__________________________________________________________________________________________________\n",
      "activation_6 (Activation)       (None, 16, 16, 32)   0           emb23_conv1d_1[0][0]             \n",
      "__________________________________________________________________________________________________\n",
      "tiles_input (InputLayer)        [(None, 4, 4, 3)]    0                                            \n",
      "__________________________________________________________________________________________________\n",
      "activation_3 (Activation)       (None, 64, 4, 64)    0           emb1_conv2d_4[0][0]              \n",
      "__________________________________________________________________________________________________\n",
      "emb23_conv2d_2 (Conv2D)         (None, 16, 16, 64)   8256        activation_6[0][0]               \n",
      "__________________________________________________________________________________________________\n",
      "tiles_conv1d_1 (Conv2D)         (None, 4, 4, 32)     128         tiles_input[0][0]                \n",
      "__________________________________________________________________________________________________\n",
      "emb1_maxpool_5 (MaxPooling2D)   (None, 32, 4, 64)    0           activation_3[0][0]               \n",
      "__________________________________________________________________________________________________\n",
      "emb23_maxpool_3 (MaxPooling2D)  (None, 8, 8, 64)     0           emb23_conv2d_2[0][0]             \n",
      "__________________________________________________________________________________________________\n",
      "activation_9 (Activation)       (None, 4, 4, 32)     0           tiles_conv1d_1[0][0]             \n",
      "__________________________________________________________________________________________________\n",
      "emb1_conv2d_6 (Conv2D)          (None, 32, 4, 128)   32896       emb1_maxpool_5[0][0]             \n",
      "__________________________________________________________________________________________________\n",
      "emb23_conv2d_4 (Conv2D)         (None, 8, 8, 128)    32896       emb23_maxpool_3[0][0]            \n",
      "__________________________________________________________________________________________________\n",
      "tiles_conv2d_2 (Conv2D)         (None, 4, 4, 64)     8256        activation_9[0][0]               \n",
      "__________________________________________________________________________________________________\n",
      "activation_4 (Activation)       (None, 32, 4, 128)   0           emb1_conv2d_6[0][0]              \n",
      "__________________________________________________________________________________________________\n",
      "activation_7 (Activation)       (None, 8, 8, 128)    0           emb23_conv2d_4[0][0]             \n",
      "__________________________________________________________________________________________________\n",
      "activation_10 (Activation)      (None, 4, 4, 64)     0           tiles_conv2d_2[0][0]             \n",
      "__________________________________________________________________________________________________\n",
      "emb1_conv2d_7 (Conv2D)          (None, 32, 4, 128)   65664       activation_4[0][0]               \n",
      "__________________________________________________________________________________________________\n",
      "emb23_conv2d_5 (Conv2D)         (None, 8, 8, 128)    65664       activation_7[0][0]               \n",
      "__________________________________________________________________________________________________\n",
      "tiles_conv2d_3 (Conv2D)         (None, 4, 4, 128)    32896       activation_10[0][0]              \n",
      "__________________________________________________________________________________________________\n",
      "activation_5 (Activation)       (None, 32, 4, 128)   0           emb1_conv2d_7[0][0]              \n",
      "__________________________________________________________________________________________________\n",
      "activation_8 (Activation)       (None, 8, 8, 128)    0           emb23_conv2d_5[0][0]             \n",
      "__________________________________________________________________________________________________\n",
      "activation_11 (Activation)      (None, 4, 4, 128)    0           tiles_conv2d_3[0][0]             \n",
      "__________________________________________________________________________________________________\n",
      "emb1_maxpool_8 (MaxPooling2D)   (None, 16, 4, 128)   0           activation_5[0][0]               \n",
      "__________________________________________________________________________________________________\n",
      "emb23_maxpool_6 (MaxPooling2D)  (None, 4, 4, 128)    0           activation_8[0][0]               \n",
      "__________________________________________________________________________________________________\n",
      "tiles_maxpool_4 (MaxPooling2D)  (None, 2, 2, 128)    0           activation_11[0][0]              \n",
      "__________________________________________________________________________________________________\n",
      "emb1_dropout_4 (Dropout)        (None, 16, 4, 128)   0           emb1_maxpool_8[0][0]             \n",
      "__________________________________________________________________________________________________\n",
      "emb23_dropout_4 (Dropout)       (None, 4, 4, 128)    0           emb23_maxpool_6[0][0]            \n",
      "__________________________________________________________________________________________________\n",
      "tiles_dropout_4 (Dropout)       (None, 2, 2, 128)    0           tiles_maxpool_4[0][0]            \n",
      "__________________________________________________________________________________________________\n",
      "emb1_flatten_9 (Flatten)        (None, 8192)         0           emb1_dropout_4[0][0]             \n",
      "__________________________________________________________________________________________________\n",
      "emb23_flatten_7 (Flatten)       (None, 2048)         0           emb23_dropout_4[0][0]            \n",
      "__________________________________________________________________________________________________\n",
      "tiles_flatten_5 (Flatten)       (None, 512)          0           tiles_dropout_4[0][0]            \n",
      "__________________________________________________________________________________________________\n",
      "emb1_dense_9 (Dense)            (None, 128)          1048704     emb1_flatten_9[0][0]             \n",
      "__________________________________________________________________________________________________\n",
      "emb23_dense_8 (Dense)           (None, 128)          262272      emb23_flatten_7[0][0]            \n",
      "__________________________________________________________________________________________________\n",
      "tiles_dense_6 (Dense)           (None, 128)          65664       tiles_flatten_5[0][0]            \n",
      "__________________________________________________________________________________________________\n",
      "concatenate (Concatenate)       (None, 384)          0           emb1_dense_9[0][0]               \n",
      "                                                                 emb23_dense_8[0][0]              \n",
      "                                                                 tiles_dense_6[0][0]              \n",
      "__________________________________________________________________________________________________\n",
      "concate_dropout_5 (Dropout)     (None, 384)          0           concatenate[0][0]                \n",
      "__________________________________________________________________________________________________\n",
      "concated_dense_1 (Dense)        (None, 64)           24640       concate_dropout_5[0][0]          \n",
      "__________________________________________________________________________________________________\n",
      "activation_12 (Activation)      (None, 64)           0           concated_dense_1[0][0]           \n",
      "__________________________________________________________________________________________________\n",
      "dense_dropout_6 (Dropout)       (None, 64)           0           activation_12[0][0]              \n",
      "__________________________________________________________________________________________________\n",
      "dense_output (Dense)            (None, 2)            130         dense_dropout_6[0][0]            \n",
      "==================================================================================================\n",
      "Total params: 1,713,154\n",
      "Trainable params: 1,713,154\n",
      "Non-trainable params: 0\n",
      "__________________________________________________________________________________________________\n"
     ]
    }
   ],
   "source": [
    "model_p1_d02.summary()"
   ]
  },
  {
   "cell_type": "code",
   "execution_count": 26,
   "id": "30de2abc-310e-4e68-90b0-c8be2793e784",
   "metadata": {},
   "outputs": [
    {
     "name": "stdout",
     "output_type": "stream",
     "text": [
      "Area under curve for CNN p1_d02 0.9862257554363169\n"
     ]
    }
   ],
   "source": [
    "from sklearn.metrics import roc_curve, auc\n",
    "roc_fpr_p1_d02, roc_tpr_p1_d02, roc_thresh_p1_d02 = roc_curve(\n",
    "        plabels[pdata_merged.test][:,1],\n",
    "        scores_p1_d02[pdata_merged.test,1],\n",
    "        drop_intermediate=False,\n",
    "    )\n",
    "roc_auc_p1_d02 = auc(roc_fpr_p1_d02, roc_tpr_p1_d02)\n",
    "print('Area under curve for CNN p1_d02 ' + str(roc_auc_p1_d02))"
   ]
  },
  {
   "cell_type": "markdown",
   "id": "38668cc8-addf-4885-9c2f-d315f96893f3",
   "metadata": {},
   "source": [
    "With 100 ephocs: Area under curve for CNN p1_d02 0.9863198848439804"
   ]
  },
  {
   "cell_type": "markdown",
   "id": "b3b1e328-a94c-4db2-9731-805094f9002e",
   "metadata": {},
   "source": [
    "With 250 ephocs: Area under curve for CNN p1_d02 0.9898192961620463"
   ]
  },
  {
   "cell_type": "markdown",
   "id": "3bb4888a-a6e8-45e7-8209-39465ff210ee",
   "metadata": {},
   "source": [
    "LETS TRY WITH 250 ephocs!!"
   ]
  },
  {
   "cell_type": "code",
   "execution_count": 27,
   "id": "6b27d613-acad-4e99-96c4-a76f51a3338a",
   "metadata": {},
   "outputs": [],
   "source": [
    "#history_p1_d02_250 = model_p1_d02.fit([pcellsE1_EMB1G_channels[pdata_merged.train], \n",
    "#                                pcellsE23_EMB2G_channels[pdata_merged.train], \n",
    "#                                pcellsT123_T1G_channels[pdata_merged.train]],\n",
    "#                                plabels[pdata_merged.train],\n",
    "#                                validation_data=([pcellsE1_EMB1G_channels[pdata_merged.val], \n",
    "#                                                    pcellsE23_EMB2G_channels[pdata_merged.val], \n",
    "#                                                    pcellsT123_T1G_channels[pdata_merged.val]], \n",
    "#                                                    plabels[pdata_merged.val]),\n",
    "#                                epochs=250,\n",
    "#                                batch_size = 128,\n",
    "#                                verbose=2\n",
    "#                                # use_multiprocessing=False\n",
    "#                                )"
   ]
  },
  {
   "cell_type": "code",
   "execution_count": null,
   "id": "71c8c731-915f-4afc-b312-6f3161371c11",
   "metadata": {},
   "outputs": [],
   "source": []
  }
 ],
 "metadata": {
  "kernelspec": {
   "display_name": "Python 3",
   "language": "python",
   "name": "python3"
  },
  "language_info": {
   "codemirror_mode": {
    "name": "ipython",
    "version": 3
   },
   "file_extension": ".py",
   "mimetype": "text/x-python",
   "name": "python",
   "nbconvert_exporter": "python",
   "pygments_lexer": "ipython3",
   "version": "3.8.5"
  }
 },
 "nbformat": 4,
 "nbformat_minor": 5
}
