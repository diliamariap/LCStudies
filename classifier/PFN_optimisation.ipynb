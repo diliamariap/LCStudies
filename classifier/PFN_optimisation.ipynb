{
 "cells": [
  {
   "cell_type": "markdown",
   "id": "ee962314-767f-45c3-bbf8-5e19eae87be9",
   "metadata": {},
   "source": [
    "# PARTICLE Flow Network Classification  "
   ]
  },
  {
   "cell_type": "code",
   "execution_count": 3,
   "id": "b3178521-646a-43cd-880b-4678d253bcc3",
   "metadata": {},
   "outputs": [],
   "source": [
    "import uproot as ur\n",
    "import awkward as ak\n",
    "import numpy as np"
   ]
  },
  {
   "cell_type": "code",
   "execution_count": 4,
   "id": "fc6df40a-c7ef-4f37-b2fe-9d27218d482a",
   "metadata": {},
   "outputs": [],
   "source": [
    "import os\n",
    "os.environ['CUDA_VISIBLE_DEVICES'] = \"7\"\n",
    "os.environ['TF_FORCE_GPU_ALLOW_GROWTH'] = 'true'"
   ]
  },
  {
   "cell_type": "code",
   "execution_count": 5,
   "id": "db9ffc81-ba2e-44c6-9156-8aec5f30ccc1",
   "metadata": {},
   "outputs": [],
   "source": [
    "import tensorflow as tf\n",
    "\n",
    "# energyflow imports\n",
    "import energyflow as ef\n",
    "from energyflow.archs import PFN\n",
    "\n",
    "from sklearn.metrics import roc_auc_score, roc_curve\n",
    "import matplotlib.pyplot as plt"
   ]
  },
  {
   "cell_type": "markdown",
   "id": "a3d756d9-093f-49a5-93c2-a12af1f707d8",
   "metadata": {},
   "source": [
    "## Read dataset trees for pi0 and pipm"
   ]
  },
  {
   "cell_type": "markdown",
   "id": "b2e24414-e70b-4ab5-bf75-b72e03b4f0d7",
   "metadata": {},
   "source": [
    "Inputs consists of two components:\n",
    "- `X` : has X_pipm first and then X_pi0. It has shape `(num_clusters,max_num_cells,4)`  The cells are given as `(log(E),eta,phi,samplerID)` values\n",
    "- `Y` : a numpy array of quark/gluon jet labels (pipm=`1` and pi0=`0`). "
   ]
  },
  {
   "cell_type": "code",
   "execution_count": 6,
   "id": "1fae3bcd-f536-4d9c-9bc4-1f78f5f5de65",
   "metadata": {},
   "outputs": [],
   "source": [
    "# my worspace and directories\n",
    "path_prefix = '/home/dportill/LCStudies/'\n",
    "plotpath = path_prefix+'classifier/Plots_EFN/'\n",
    "modelpath = path_prefix+'classifier/Models_EFN/'\n",
    "\n",
    "data_path = '/fast_scratch/atlas_images/v01-45/'"
   ]
  },
  {
   "cell_type": "code",
   "execution_count": 7,
   "id": "4a34fd9c-0728-4e5e-9260-091d12821c5a",
   "metadata": {},
   "outputs": [],
   "source": [
    "X = np.load(data_path+'X_4.npy')"
   ]
  },
  {
   "cell_type": "code",
   "execution_count": 8,
   "id": "fc6695c7-0870-40ee-8822-e8a4e5c8ab4e",
   "metadata": {},
   "outputs": [],
   "source": [
    "Y = tf.keras.utils.to_categorical(np.concatenate((np.ones(90000), np.zeros(90000))))"
   ]
  },
  {
   "cell_type": "markdown",
   "id": "31d3f721-a602-4d26-bc6d-f81d7558af10",
   "metadata": {},
   "source": [
    "* Phi_sizes : The sizes of the dense layers in the per-particle frontend module $\\Phi$. The last element will be the number of latent observables that the model defines. Larger latent space dimensions correspond roughly to higher resolution images.\n",
    "* F_sizes : The sizes of the dense layers in the backend module $F$."
   ]
  },
  {
   "cell_type": "markdown",
   "id": "983cc33f-bceb-4348-b9b6-2fa6d1409c88",
   "metadata": {},
   "source": [
    "## Default Phi_sizes, F_sizes and latent space dimensions"
   ]
  },
  {
   "cell_type": "code",
   "execution_count": 9,
   "id": "c3863766-b1b9-4626-bc16-81a2a7ab856e",
   "metadata": {},
   "outputs": [],
   "source": [
    "Phi_sizes, F_sizes = (100, 100, 128), (100, 100, 100)"
   ]
  },
  {
   "cell_type": "code",
   "execution_count": 10,
   "id": "8bfbf46f-6c3b-42f8-81e6-5ccbd69b13d2",
   "metadata": {},
   "outputs": [],
   "source": [
    "from energyflow.utils import data_split\n",
    "\n",
    "# do train/val/test split \n",
    "(X_train, X_val, X_test,\n",
    " Y_train, Y_val, Y_test) = data_split(X, Y, val=10000, test=40000)"
   ]
  },
  {
   "cell_type": "markdown",
   "id": "2eecd931-abeb-4e80-8ef8-5fe8dc0740b1",
   "metadata": {},
   "source": [
    "* ### EarlyStopping"
   ]
  },
  {
   "cell_type": "markdown",
   "id": "ca70ebdd-cac1-4f60-95ed-3e7f8acab2cd",
   "metadata": {},
   "source": [
    "        - **patience**=`None` : _int_\n",
    "            - The number of epochs with no improvement after which the training\n",
    "            is stopped (using the [EarlyStopping](https://keras.io/\n",
    "            callbacks/#earlystopping) callback). If `None` then no early stopping\n",
    "            is used.\n",
    "        - **earlystop_opts**=`{'restore_best_weights':True, 'verbose':1}` : _dict_\n",
    "            - Dictionary of keyword arguments to be passed on to the\n",
    "            [`EarlyStopping`](https://keras.io/callbacks/#earlystopping)\n",
    "            callback, if it is present. `patience` (see above) is included in\n",
    "            this dictionary. All other arguments are the Keras defaults.\n",
    "            \n",
    "    tf.keras.callbacks.EarlyStopping(\n",
    "    monitor='val_loss', min_delta=0, patience=0, verbose=0,\n",
    "    mode='auto', baseline=None, restore_best_weights=False)"
   ]
  },
  {
   "cell_type": "markdown",
   "id": "b95c1e23-14bd-49cf-863a-0e6dc005f4e8",
   "metadata": {},
   "source": [
    "* loss"
   ]
  },
  {
   "cell_type": "code",
   "execution_count": 15,
   "id": "4da4e4db-375b-449f-b749-1f73c29cadee",
   "metadata": {},
   "outputs": [],
   "source": [
    "# This callback will stop the training when there is no improvement in\n",
    "# the loss for three consecutive epochs.\n",
    "callback = tf.keras.callbacks.EarlyStopping(monitor='loss', patience=3)"
   ]
  },
  {
   "cell_type": "code",
   "execution_count": 16,
   "id": "f942c48b-ad78-45dd-84b0-ae32280753dc",
   "metadata": {
    "collapsed": true,
    "jupyter": {
     "outputs_hidden": true
    },
    "tags": []
   },
   "outputs": [
    {
     "name": "stdout",
     "output_type": "stream",
     "text": [
      "Model: \"model\"\n",
      "__________________________________________________________________________________________________\n",
      "Layer (type)                    Output Shape         Param #     Connected to                     \n",
      "==================================================================================================\n",
      "input (InputLayer)              [(None, None, 4)]    0                                            \n",
      "__________________________________________________________________________________________________\n",
      "tdist_0 (TimeDistributed)       (None, None, 100)    500         input[0][0]                      \n",
      "__________________________________________________________________________________________________\n",
      "activation (Activation)         (None, None, 100)    0           tdist_0[0][0]                    \n",
      "__________________________________________________________________________________________________\n",
      "tdist_1 (TimeDistributed)       (None, None, 100)    10100       activation[0][0]                 \n",
      "__________________________________________________________________________________________________\n",
      "activation_1 (Activation)       (None, None, 100)    0           tdist_1[0][0]                    \n",
      "__________________________________________________________________________________________________\n",
      "tdist_2 (TimeDistributed)       (None, None, 128)    12928       activation_1[0][0]               \n",
      "__________________________________________________________________________________________________\n",
      "mask (Lambda)                   (None, None)         0           input[0][0]                      \n",
      "__________________________________________________________________________________________________\n",
      "activation_2 (Activation)       (None, None, 128)    0           tdist_2[0][0]                    \n",
      "__________________________________________________________________________________________________\n",
      "sum (Dot)                       (None, 128)          0           mask[0][0]                       \n",
      "                                                                 activation_2[0][0]               \n",
      "__________________________________________________________________________________________________\n",
      "dense_0 (Dense)                 (None, 100)          12900       sum[0][0]                        \n",
      "__________________________________________________________________________________________________\n",
      "activation_3 (Activation)       (None, 100)          0           dense_0[0][0]                    \n",
      "__________________________________________________________________________________________________\n",
      "dense_1 (Dense)                 (None, 100)          10100       activation_3[0][0]               \n",
      "__________________________________________________________________________________________________\n",
      "activation_4 (Activation)       (None, 100)          0           dense_1[0][0]                    \n",
      "__________________________________________________________________________________________________\n",
      "dense_2 (Dense)                 (None, 100)          10100       activation_4[0][0]               \n",
      "__________________________________________________________________________________________________\n",
      "activation_5 (Activation)       (None, 100)          0           dense_2[0][0]                    \n",
      "__________________________________________________________________________________________________\n",
      "output (Dense)                  (None, 2)            202         activation_5[0][0]               \n",
      "__________________________________________________________________________________________________\n",
      "activation_6 (Activation)       (None, 2)            0           output[0][0]                     \n",
      "==================================================================================================\n",
      "Total params: 56,830\n",
      "Trainable params: 56,830\n",
      "Non-trainable params: 0\n",
      "__________________________________________________________________________________________________\n"
     ]
    }
   ],
   "source": [
    "pfn_v0 = PFN(input_dim=X.shape[-1], Phi_sizes=Phi_sizes, F_sizes=F_sizes)"
   ]
  },
  {
   "cell_type": "markdown",
   "id": "84c8cd0d-33a3-416e-bc26-bc991c9963ca",
   "metadata": {},
   "source": [
    "The Keras Masking layer is used to ignore all-zero particles\n",
    "during the training and evaluation of the network. The Keras TimeDistributed layer\n",
    "is used to apply the function Φ to each particle, which in the relevant language is a\n",
    "“time step”. To carry out the summation in the latent space, we use the Keras Dot\n",
    "layer for the EFN architecture, to product and sum the transverse momentum fractions\n",
    "with the latent observables, and the Lambda layer for the PFN architecture, to sum\n",
    "over the particles. "
   ]
  },
  {
   "cell_type": "code",
   "execution_count": 17,
   "id": "2b036abe-dd55-4412-905d-87aef83fd220",
   "metadata": {
    "collapsed": true,
    "jupyter": {
     "outputs_hidden": true
    },
    "tags": []
   },
   "outputs": [
    {
     "name": "stdout",
     "output_type": "stream",
     "text": [
      "Epoch 1/100\n",
      "260/260 [==============================] - 21s 62ms/step - loss: 4.4894 - acc: 0.7111 - val_loss: 0.6475 - val_acc: 0.7901\n",
      "Epoch 2/100\n",
      "260/260 [==============================] - 14s 55ms/step - loss: 0.8122 - acc: 0.7467 - val_loss: 0.5192 - val_acc: 0.7870\n",
      "Epoch 3/100\n",
      "260/260 [==============================] - 14s 54ms/step - loss: 0.4848 - acc: 0.7614 - val_loss: 0.4188 - val_acc: 0.7733\n",
      "Epoch 4/100\n",
      "260/260 [==============================] - 15s 56ms/step - loss: 0.4557 - acc: 0.7636 - val_loss: 0.4028 - val_acc: 0.7923\n",
      "Epoch 5/100\n",
      "260/260 [==============================] - 14s 55ms/step - loss: 0.4274 - acc: 0.7809 - val_loss: 0.3992 - val_acc: 0.8097\n",
      "Epoch 6/100\n",
      "260/260 [==============================] - 14s 55ms/step - loss: 0.3925 - acc: 0.8097 - val_loss: 0.3876 - val_acc: 0.8060\n",
      "Epoch 7/100\n",
      "260/260 [==============================] - 15s 56ms/step - loss: 0.3766 - acc: 0.8231 - val_loss: 0.3541 - val_acc: 0.8266\n",
      "Epoch 8/100\n",
      "260/260 [==============================] - 14s 55ms/step - loss: 0.3493 - acc: 0.8461 - val_loss: 0.3033 - val_acc: 0.8685\n",
      "Epoch 9/100\n",
      "260/260 [==============================] - 14s 54ms/step - loss: 0.3040 - acc: 0.8747 - val_loss: 0.2744 - val_acc: 0.8990\n",
      "Epoch 10/100\n",
      "260/260 [==============================] - 14s 56ms/step - loss: 0.2784 - acc: 0.8916 - val_loss: 0.2835 - val_acc: 0.8889\n",
      "Epoch 11/100\n",
      "260/260 [==============================] - 15s 57ms/step - loss: 0.2675 - acc: 0.8966 - val_loss: 0.2989 - val_acc: 0.8874\n",
      "Epoch 12/100\n",
      "260/260 [==============================] - 15s 56ms/step - loss: 0.2485 - acc: 0.9067 - val_loss: 0.2595 - val_acc: 0.9012\n",
      "Epoch 13/100\n",
      "260/260 [==============================] - 14s 56ms/step - loss: 0.2427 - acc: 0.9077 - val_loss: 0.2377 - val_acc: 0.9125\n",
      "Epoch 14/100\n",
      "260/260 [==============================] - 14s 55ms/step - loss: 0.2434 - acc: 0.9077 - val_loss: 0.2295 - val_acc: 0.9139\n",
      "Epoch 15/100\n",
      "260/260 [==============================] - 14s 54ms/step - loss: 0.2384 - acc: 0.9093 - val_loss: 0.2391 - val_acc: 0.9089\n",
      "Epoch 16/100\n",
      "260/260 [==============================] - 14s 55ms/step - loss: 0.2371 - acc: 0.9114 - val_loss: 0.2239 - val_acc: 0.9168\n",
      "Epoch 17/100\n",
      "260/260 [==============================] - 14s 55ms/step - loss: 0.2263 - acc: 0.9154 - val_loss: 0.2370 - val_acc: 0.9070\n",
      "Epoch 18/100\n",
      "260/260 [==============================] - 14s 55ms/step - loss: 0.2263 - acc: 0.9149 - val_loss: 0.2246 - val_acc: 0.9133\n",
      "Epoch 19/100\n",
      "260/260 [==============================] - 14s 56ms/step - loss: 0.2209 - acc: 0.9158 - val_loss: 0.2299 - val_acc: 0.9137\n",
      "Epoch 20/100\n",
      "260/260 [==============================] - 14s 55ms/step - loss: 0.2180 - acc: 0.9176 - val_loss: 0.2266 - val_acc: 0.9167\n",
      "Epoch 21/100\n",
      "260/260 [==============================] - 15s 56ms/step - loss: 0.2222 - acc: 0.9168 - val_loss: 0.2225 - val_acc: 0.9179\n",
      "Epoch 22/100\n",
      "260/260 [==============================] - 14s 55ms/step - loss: 0.2182 - acc: 0.9176 - val_loss: 0.2168 - val_acc: 0.9194\n",
      "Epoch 23/100\n",
      "260/260 [==============================] - 15s 57ms/step - loss: 0.2208 - acc: 0.9170 - val_loss: 0.2202 - val_acc: 0.9188\n",
      "Epoch 24/100\n",
      "260/260 [==============================] - 14s 55ms/step - loss: 0.2256 - acc: 0.9139 - val_loss: 0.2210 - val_acc: 0.9187\n",
      "Epoch 25/100\n",
      "260/260 [==============================] - 14s 54ms/step - loss: 0.2124 - acc: 0.9198 - val_loss: 0.2193 - val_acc: 0.9176\n",
      "Epoch 26/100\n",
      "260/260 [==============================] - 14s 56ms/step - loss: 0.2148 - acc: 0.9194 - val_loss: 0.2140 - val_acc: 0.9195\n",
      "Epoch 27/100\n",
      "260/260 [==============================] - 15s 57ms/step - loss: 0.2123 - acc: 0.9200 - val_loss: 0.2128 - val_acc: 0.9210\n",
      "Epoch 28/100\n",
      "260/260 [==============================] - 14s 56ms/step - loss: 0.2094 - acc: 0.9207 - val_loss: 0.2162 - val_acc: 0.9195\n",
      "Epoch 29/100\n",
      "260/260 [==============================] - 15s 56ms/step - loss: 0.2075 - acc: 0.9221 - val_loss: 0.2168 - val_acc: 0.9179\n",
      "Epoch 30/100\n",
      "260/260 [==============================] - 14s 55ms/step - loss: 0.2099 - acc: 0.9214 - val_loss: 0.2362 - val_acc: 0.9123\n",
      "Epoch 31/100\n",
      "260/260 [==============================] - 14s 54ms/step - loss: 0.2085 - acc: 0.9210 - val_loss: 0.2254 - val_acc: 0.9199\n",
      "Epoch 32/100\n",
      "260/260 [==============================] - 14s 54ms/step - loss: 0.2048 - acc: 0.9238 - val_loss: 0.2294 - val_acc: 0.9146\n",
      "Epoch 33/100\n",
      "260/260 [==============================] - 14s 55ms/step - loss: 0.2172 - acc: 0.9196 - val_loss: 0.2081 - val_acc: 0.9221\n",
      "Epoch 34/100\n",
      "260/260 [==============================] - 14s 54ms/step - loss: 0.2080 - acc: 0.9219 - val_loss: 0.2149 - val_acc: 0.9217\n",
      "Epoch 35/100\n",
      "260/260 [==============================] - 14s 55ms/step - loss: 0.2078 - acc: 0.9222 - val_loss: 0.2111 - val_acc: 0.9225\n"
     ]
    }
   ],
   "source": [
    "# train model\n",
    "history_v0 = pfn_v0.fit(X_train, Y_train,\n",
    "        epochs=100,\n",
    "        batch_size=500,\n",
    "        callbacks=[callback],\n",
    "        validation_data=(X_val, Y_val),\n",
    "        verbose=1)"
   ]
  },
  {
   "cell_type": "code",
   "execution_count": 19,
   "id": "bd129a7e-37d2-4f9c-8399-aa81d41db3f5",
   "metadata": {},
   "outputs": [],
   "source": [
    "pfn_v0.save(modelpath+'pfn_v0_Epoch35Loss.h5')"
   ]
  },
  {
   "cell_type": "code",
   "execution_count": 27,
   "id": "c1fc3f33-5c62-4ba8-898d-ee6a162713a2",
   "metadata": {},
   "outputs": [
    {
     "name": "stdout",
     "output_type": "stream",
     "text": [
      "Epochs run:  35\n",
      "AUC: 0.97436100224361\n"
     ]
    }
   ],
   "source": [
    "# get area under the ROC curve\n",
    "preds = pfn_v0.predict(X_test, batch_size=1000)\n",
    "auc = roc_auc_score(Y_test[:,1], preds[:,1])\n",
    "print(\"Epochs run: \" , len(history_v0.history['loss']) )\n",
    "print('AUC:', auc)"
   ]
  },
  {
   "cell_type": "code",
   "execution_count": 29,
   "id": "9544f65e-523b-4c7e-bc03-d93e7b464b6d",
   "metadata": {
    "tags": []
   },
   "outputs": [
    {
     "data": {
      "text/plain": [
       "<Figure size 432x288 with 0 Axes>"
      ]
     },
     "metadata": {},
     "output_type": "display_data"
    },
    {
     "data": {
      "image/png": "[encoded data removed]",
      "text/plain": [
       "<Figure size 432x288 with 1 Axes>"
      ]
     },
     "metadata": {},
     "output_type": "display_data"
    },
    {
     "data": {
      "image/png": "[encoded data removed]",
      "text/plain": [
       "<Figure size 432x288 with 1 Axes>"
      ]
     },
     "metadata": {},
     "output_type": "display_data"
    }
   ],
   "source": [
    "plt.cla(); plt.clf()\n",
    "fig = plt.figure()\n",
    "fig.patch.set_facecolor('white')\n",
    "\n",
    "plt.plot(history_v0.history['acc'])\n",
    "plt.plot(history_v0.history['val_acc'])\n",
    "plt.title('model accuracy')\n",
    "plt.ylabel('accuracy')\n",
    "plt.xlabel('epoch')\n",
    "plt.legend(['train', 'test'], loc='upper left')\n",
    "# plt.savefig('Plots/accuracy_' + layer + '.pdf')\n",
    "plt.show()\n",
    "\n",
    "\n",
    "# summarize history for loss\n",
    "fig = plt.figure()\n",
    "fig.patch.set_facecolor('white')\n",
    "plt.plot(history_v0.history['loss'])\n",
    "plt.plot(history_v0.history['val_loss'])\n",
    "plt.title('model loss')\n",
    "plt.ylabel('loss')\n",
    "plt.xlabel('epoch')\n",
    "plt.yscale('log')\n",
    "plt.legend(['train', 'test'], loc='upper left')\n",
    "# plt.savefig(plotpath + 'loss_' + layer + '.pdf')\n",
    "plt.show()"
   ]
  },
  {
   "cell_type": "markdown",
   "id": "f00afe89-221a-45ba-ac01-4b8792e7e440",
   "metadata": {},
   "source": [
    "* val_loss"
   ]
  },
  {
   "cell_type": "code",
   "execution_count": 31,
   "id": "75ec93b8-7b79-4f0c-b7b0-463c3d9445cf",
   "metadata": {
    "collapsed": true,
    "jupyter": {
     "outputs_hidden": true
    },
    "tags": []
   },
   "outputs": [
    {
     "name": "stdout",
     "output_type": "stream",
     "text": [
      "Model: \"model_2\"\n",
      "__________________________________________________________________________________________________\n",
      "Layer (type)                    Output Shape         Param #     Connected to                     \n",
      "==================================================================================================\n",
      "input (InputLayer)              [(None, None, 4)]    0                                            \n",
      "__________________________________________________________________________________________________\n",
      "tdist_0 (TimeDistributed)       (None, None, 100)    500         input[0][0]                      \n",
      "__________________________________________________________________________________________________\n",
      "activation_14 (Activation)      (None, None, 100)    0           tdist_0[0][0]                    \n",
      "__________________________________________________________________________________________________\n",
      "tdist_1 (TimeDistributed)       (None, None, 100)    10100       activation_14[0][0]              \n",
      "__________________________________________________________________________________________________\n",
      "activation_15 (Activation)      (None, None, 100)    0           tdist_1[0][0]                    \n",
      "__________________________________________________________________________________________________\n",
      "tdist_2 (TimeDistributed)       (None, None, 128)    12928       activation_15[0][0]              \n",
      "__________________________________________________________________________________________________\n",
      "mask (Lambda)                   (None, None)         0           input[0][0]                      \n",
      "__________________________________________________________________________________________________\n",
      "activation_16 (Activation)      (None, None, 128)    0           tdist_2[0][0]                    \n",
      "__________________________________________________________________________________________________\n",
      "sum (Dot)                       (None, 128)          0           mask[0][0]                       \n",
      "                                                                 activation_16[0][0]              \n",
      "__________________________________________________________________________________________________\n",
      "dense_0 (Dense)                 (None, 100)          12900       sum[0][0]                        \n",
      "__________________________________________________________________________________________________\n",
      "activation_17 (Activation)      (None, 100)          0           dense_0[0][0]                    \n",
      "__________________________________________________________________________________________________\n",
      "dense_1 (Dense)                 (None, 100)          10100       activation_17[0][0]              \n",
      "__________________________________________________________________________________________________\n",
      "activation_18 (Activation)      (None, 100)          0           dense_1[0][0]                    \n",
      "__________________________________________________________________________________________________\n",
      "dense_2 (Dense)                 (None, 100)          10100       activation_18[0][0]              \n",
      "__________________________________________________________________________________________________\n",
      "activation_19 (Activation)      (None, 100)          0           dense_2[0][0]                    \n",
      "__________________________________________________________________________________________________\n",
      "output (Dense)                  (None, 2)            202         activation_19[0][0]              \n",
      "__________________________________________________________________________________________________\n",
      "activation_20 (Activation)      (None, 2)            0           output[0][0]                     \n",
      "==================================================================================================\n",
      "Total params: 56,830\n",
      "Trainable params: 56,830\n",
      "Non-trainable params: 0\n",
      "__________________________________________________________________________________________________\n"
     ]
    }
   ],
   "source": [
    "pfn_v0_val_loss = PFN(input_dim=X.shape[-1], Phi_sizes=Phi_sizes, F_sizes=F_sizes)"
   ]
  },
  {
   "cell_type": "code",
   "execution_count": 32,
   "id": "0c83e0cd-1a23-46e8-8159-7f26d6073cfd",
   "metadata": {
    "collapsed": true,
    "jupyter": {
     "outputs_hidden": true
    },
    "tags": []
   },
   "outputs": [
    {
     "name": "stdout",
     "output_type": "stream",
     "text": [
      "Epoch 1/100\n",
      "260/260 [==============================] - 15s 55ms/step - loss: 8.6614 - acc: 0.6771 - val_loss: 0.6448 - val_acc: 0.7232\n",
      "Epoch 2/100\n",
      "260/260 [==============================] - 14s 54ms/step - loss: 0.7241 - acc: 0.7478 - val_loss: 0.4467 - val_acc: 0.7920\n",
      "Epoch 3/100\n",
      "260/260 [==============================] - 15s 57ms/step - loss: 0.5174 - acc: 0.7619 - val_loss: 0.4965 - val_acc: 0.7430\n",
      "Epoch 4/100\n",
      "260/260 [==============================] - 14s 53ms/step - loss: 0.5511 - acc: 0.7534 - val_loss: 0.4183 - val_acc: 0.7896\n",
      "Epoch 5/100\n",
      "260/260 [==============================] - 15s 56ms/step - loss: 0.4462 - acc: 0.7751 - val_loss: 0.4162 - val_acc: 0.7543\n",
      "Epoch 6/100\n",
      "260/260 [==============================] - 14s 53ms/step - loss: 0.4321 - acc: 0.7757 - val_loss: 0.4038 - val_acc: 0.8021\n",
      "Epoch 7/100\n",
      "260/260 [==============================] - 14s 54ms/step - loss: 0.4108 - acc: 0.8022 - val_loss: 0.3914 - val_acc: 0.7889\n",
      "Epoch 8/100\n",
      "260/260 [==============================] - 15s 59ms/step - loss: 0.3937 - acc: 0.8185 - val_loss: 0.3557 - val_acc: 0.8432\n",
      "Epoch 9/100\n",
      "260/260 [==============================] - 14s 55ms/step - loss: 0.3542 - acc: 0.8444 - val_loss: 0.3408 - val_acc: 0.8521\n",
      "Epoch 10/100\n",
      "260/260 [==============================] - 14s 55ms/step - loss: 0.4164 - acc: 0.8470 - val_loss: 0.4206 - val_acc: 0.8117\n",
      "Epoch 11/100\n",
      "260/260 [==============================] - 15s 56ms/step - loss: 0.3962 - acc: 0.8235 - val_loss: 0.3345 - val_acc: 0.8755\n",
      "Epoch 12/100\n",
      "260/260 [==============================] - 14s 54ms/step - loss: 0.3165 - acc: 0.8739 - val_loss: 0.3501 - val_acc: 0.8642\n",
      "Epoch 13/100\n",
      "260/260 [==============================] - 14s 55ms/step - loss: 0.3074 - acc: 0.8775 - val_loss: 0.2791 - val_acc: 0.8882\n",
      "Epoch 14/100\n",
      "260/260 [==============================] - 15s 56ms/step - loss: 0.2844 - acc: 0.8869 - val_loss: 0.2744 - val_acc: 0.8989\n",
      "Epoch 15/100\n",
      "260/260 [==============================] - 14s 55ms/step - loss: 0.2691 - acc: 0.8952 - val_loss: 0.2546 - val_acc: 0.9036\n",
      "Epoch 16/100\n",
      "260/260 [==============================] - 15s 57ms/step - loss: 0.2678 - acc: 0.8952 - val_loss: 0.2530 - val_acc: 0.9013\n",
      "Epoch 17/100\n",
      "260/260 [==============================] - 14s 54ms/step - loss: 0.2514 - acc: 0.9035 - val_loss: 0.3396 - val_acc: 0.8472\n",
      "Epoch 18/100\n",
      "260/260 [==============================] - 14s 54ms/step - loss: 0.2783 - acc: 0.8907 - val_loss: 0.2510 - val_acc: 0.9032\n",
      "Epoch 19/100\n",
      "260/260 [==============================] - 14s 54ms/step - loss: 0.2447 - acc: 0.9067 - val_loss: 0.2437 - val_acc: 0.9111\n",
      "Epoch 20/100\n",
      "260/260 [==============================] - 14s 55ms/step - loss: 0.2319 - acc: 0.9117 - val_loss: 0.2460 - val_acc: 0.9065\n",
      "Epoch 21/100\n",
      "260/260 [==============================] - 14s 54ms/step - loss: 0.2307 - acc: 0.9122 - val_loss: 0.2316 - val_acc: 0.9124\n",
      "Epoch 22/100\n",
      "260/260 [==============================] - 15s 57ms/step - loss: 0.2294 - acc: 0.9132 - val_loss: 0.2407 - val_acc: 0.9123\n",
      "Epoch 23/100\n",
      "260/260 [==============================] - 14s 55ms/step - loss: 0.2347 - acc: 0.9112 - val_loss: 0.2180 - val_acc: 0.9190\n",
      "Epoch 24/100\n",
      "260/260 [==============================] - 14s 53ms/step - loss: 0.2231 - acc: 0.9159 - val_loss: 0.2324 - val_acc: 0.9135\n",
      "Epoch 25/100\n",
      "260/260 [==============================] - 14s 54ms/step - loss: 0.2140 - acc: 0.9203 - val_loss: 0.2285 - val_acc: 0.9146\n",
      "Epoch 26/100\n",
      "260/260 [==============================] - 14s 53ms/step - loss: 0.2188 - acc: 0.9179 - val_loss: 0.2204 - val_acc: 0.9152\n"
     ]
    }
   ],
   "source": [
    "# train model\n",
    "history_v0_val_loss  = pfn_v0_val_loss.fit(X_train, Y_train,\n",
    "        epochs=100,\n",
    "        batch_size=500,\n",
    "        callbacks= [tf.keras.callbacks.EarlyStopping(monitor='val_loss', patience=3)],\n",
    "        validation_data=(X_val, Y_val),\n",
    "        verbose=1)"
   ]
  },
  {
   "cell_type": "code",
   "execution_count": 33,
   "id": "1f290ea8-4683-48d0-9fd1-98bc144bc7d0",
   "metadata": {},
   "outputs": [],
   "source": [
    "pfn_v0_val_loss.save(modelpath+'pfn_v0_val_loss.h5')"
   ]
  },
  {
   "cell_type": "code",
   "execution_count": 41,
   "id": "0d0a6b9d-6c24-45e4-a763-f3a061a43221",
   "metadata": {},
   "outputs": [
    {
     "name": "stdout",
     "output_type": "stream",
     "text": [
      "Epochs run:  26\n",
      "AUC: 0.9715965347159652\n"
     ]
    }
   ],
   "source": [
    "# get area under the ROC curve\n",
    "preds_v0_val_loss = pfn_v0_val_loss.predict(X_test, batch_size=1000)\n",
    "auc_v0_val_loss = roc_auc_score(Y_test[:,1], preds_v0_val_loss[:,1])\n",
    "print(\"Epochs run: \" , len(history_v0_val_loss.history['loss']) )\n",
    "print('AUC:', auc_v0_val_loss)"
   ]
  },
  {
   "cell_type": "code",
   "execution_count": 36,
   "id": "9d0e65aa-6a9a-4bb3-ba4a-111dab9a3a87",
   "metadata": {
    "tags": []
   },
   "outputs": [
    {
     "data": {
      "text/plain": [
       "<Figure size 432x288 with 0 Axes>"
      ]
     },
     "metadata": {},
     "output_type": "display_data"
    },
    {
     "data": {
      "image/png": "[encoded data removed]",
      "text/plain": [
       "<Figure size 432x288 with 1 Axes>"
      ]
     },
     "metadata": {},
     "output_type": "display_data"
    },
    {
     "data": {
      "image/png": "[encoded data removed]",
      "text/plain": [
       "<Figure size 432x288 with 1 Axes>"
      ]
     },
     "metadata": {},
     "output_type": "display_data"
    }
   ],
   "source": [
    "plt.cla(); plt.clf()\n",
    "fig = plt.figure()\n",
    "fig.patch.set_facecolor('white')\n",
    "\n",
    "plt.plot(history_v0_val_loss.history['acc'])\n",
    "plt.plot(history_v0_val_loss.history['val_acc'])\n",
    "plt.title('model accuracy')\n",
    "plt.ylabel('accuracy')\n",
    "plt.xlabel('epoch')\n",
    "plt.legend(['train', 'test'], loc='upper left')\n",
    "# plt.savefig('Plots/accuracy_' + layer + '.pdf')\n",
    "plt.show()\n",
    "\n",
    "\n",
    "# summarize history for loss\n",
    "fig = plt.figure()\n",
    "fig.patch.set_facecolor('white')\n",
    "plt.plot(history_v0_val_loss.history['loss'])\n",
    "plt.plot(history_v0_val_loss.history['val_loss'])\n",
    "plt.title('model loss')\n",
    "plt.ylabel('loss')\n",
    "plt.xlabel('epoch')\n",
    "plt.yscale('log')\n",
    "plt.legend(['train', 'test'], loc='upper left')\n",
    "# plt.savefig(plotpath + 'loss_' + layer + '.pdf')\n",
    "plt.show()"
   ]
  },
  {
   "cell_type": "markdown",
   "id": "2f51f738-317c-4858-b3a5-46f6c3cb12a4",
   "metadata": {},
   "source": [
    "* val_acc"
   ]
  },
  {
   "cell_type": "code",
   "execution_count": 37,
   "id": "4bca2c28-ff62-4150-9d36-87b1b12e8218",
   "metadata": {
    "collapsed": true,
    "jupyter": {
     "outputs_hidden": true
    },
    "tags": []
   },
   "outputs": [
    {
     "name": "stdout",
     "output_type": "stream",
     "text": [
      "Model: \"model_3\"\n",
      "__________________________________________________________________________________________________\n",
      "Layer (type)                    Output Shape         Param #     Connected to                     \n",
      "==================================================================================================\n",
      "input (InputLayer)              [(None, None, 4)]    0                                            \n",
      "__________________________________________________________________________________________________\n",
      "tdist_0 (TimeDistributed)       (None, None, 100)    500         input[0][0]                      \n",
      "__________________________________________________________________________________________________\n",
      "activation_21 (Activation)      (None, None, 100)    0           tdist_0[0][0]                    \n",
      "__________________________________________________________________________________________________\n",
      "tdist_1 (TimeDistributed)       (None, None, 100)    10100       activation_21[0][0]              \n",
      "__________________________________________________________________________________________________\n",
      "activation_22 (Activation)      (None, None, 100)    0           tdist_1[0][0]                    \n",
      "__________________________________________________________________________________________________\n",
      "tdist_2 (TimeDistributed)       (None, None, 128)    12928       activation_22[0][0]              \n",
      "__________________________________________________________________________________________________\n",
      "mask (Lambda)                   (None, None)         0           input[0][0]                      \n",
      "__________________________________________________________________________________________________\n",
      "activation_23 (Activation)      (None, None, 128)    0           tdist_2[0][0]                    \n",
      "__________________________________________________________________________________________________\n",
      "sum (Dot)                       (None, 128)          0           mask[0][0]                       \n",
      "                                                                 activation_23[0][0]              \n",
      "__________________________________________________________________________________________________\n",
      "dense_0 (Dense)                 (None, 100)          12900       sum[0][0]                        \n",
      "__________________________________________________________________________________________________\n",
      "activation_24 (Activation)      (None, 100)          0           dense_0[0][0]                    \n",
      "__________________________________________________________________________________________________\n",
      "dense_1 (Dense)                 (None, 100)          10100       activation_24[0][0]              \n",
      "__________________________________________________________________________________________________\n",
      "activation_25 (Activation)      (None, 100)          0           dense_1[0][0]                    \n",
      "__________________________________________________________________________________________________\n",
      "dense_2 (Dense)                 (None, 100)          10100       activation_25[0][0]              \n",
      "__________________________________________________________________________________________________\n",
      "activation_26 (Activation)      (None, 100)          0           dense_2[0][0]                    \n",
      "__________________________________________________________________________________________________\n",
      "output (Dense)                  (None, 2)            202         activation_26[0][0]              \n",
      "__________________________________________________________________________________________________\n",
      "activation_27 (Activation)      (None, 2)            0           output[0][0]                     \n",
      "==================================================================================================\n",
      "Total params: 56,830\n",
      "Trainable params: 56,830\n",
      "Non-trainable params: 0\n",
      "__________________________________________________________________________________________________\n"
     ]
    }
   ],
   "source": [
    "pfn_v0_val_acc = PFN(input_dim=X.shape[-1], Phi_sizes=Phi_sizes, F_sizes=F_sizes)"
   ]
  },
  {
   "cell_type": "code",
   "execution_count": 38,
   "id": "e95fef72-02a5-409f-8bc8-ee7d6db751b1",
   "metadata": {
    "collapsed": true,
    "jupyter": {
     "outputs_hidden": true
    },
    "tags": []
   },
   "outputs": [
    {
     "name": "stdout",
     "output_type": "stream",
     "text": [
      "Epoch 1/100\n",
      "260/260 [==============================] - 15s 55ms/step - loss: 7.6097 - acc: 0.6959 - val_loss: 1.6074 - val_acc: 0.7720\n",
      "Epoch 2/100\n",
      "260/260 [==============================] - 14s 53ms/step - loss: 0.8198 - acc: 0.7468 - val_loss: 0.5796 - val_acc: 0.7135\n",
      "Epoch 3/100\n",
      "260/260 [==============================] - 14s 53ms/step - loss: 0.6301 - acc: 0.7565 - val_loss: 0.4106 - val_acc: 0.7820\n",
      "Epoch 4/100\n",
      "260/260 [==============================] - 14s 55ms/step - loss: 0.5348 - acc: 0.7570 - val_loss: 0.4066 - val_acc: 0.7972\n",
      "Epoch 5/100\n",
      "260/260 [==============================] - 14s 55ms/step - loss: 0.4156 - acc: 0.7878 - val_loss: 0.3929 - val_acc: 0.8171\n",
      "Epoch 6/100\n",
      "260/260 [==============================] - 14s 53ms/step - loss: 0.4237 - acc: 0.7923 - val_loss: 0.3925 - val_acc: 0.8053\n",
      "Epoch 7/100\n",
      "260/260 [==============================] - 14s 54ms/step - loss: 0.3861 - acc: 0.8224 - val_loss: 0.4062 - val_acc: 0.8131\n",
      "Epoch 8/100\n",
      "260/260 [==============================] - 15s 56ms/step - loss: 0.6999 - acc: 0.8089 - val_loss: 0.3992 - val_acc: 0.8093\n"
     ]
    }
   ],
   "source": [
    "# train model\n",
    "history_v0_val_acc  = pfn_v0_val_acc.fit(X_train, Y_train,\n",
    "        epochs=100,\n",
    "        batch_size=500,\n",
    "        callbacks= [tf.keras.callbacks.EarlyStopping(monitor='val_acc', patience=3)],\n",
    "        validation_data=(X_val, Y_val),\n",
    "        verbose=1)"
   ]
  },
  {
   "cell_type": "code",
   "execution_count": 39,
   "id": "ef2449d3-6c98-4bf7-97de-a1e2d19f17bd",
   "metadata": {},
   "outputs": [],
   "source": [
    "pfn_v0_val_loss.save(modelpath+'pfn_v0_val_acc.h5')"
   ]
  },
  {
   "cell_type": "code",
   "execution_count": 42,
   "id": "ae4a808b-8218-41ae-a2b3-58280b4e965f",
   "metadata": {},
   "outputs": [
    {
     "name": "stdout",
     "output_type": "stream",
     "text": [
      "Epochs run:  8\n",
      "AUC: 0.9055413540554136\n"
     ]
    }
   ],
   "source": [
    "# get area under the ROC curve\n",
    "preds_v0_val_acc = pfn_v0_val_acc.predict(X_test, batch_size=1000)\n",
    "auc_v0_val_acc = roc_auc_score(Y_test[:,1], preds_v0_val_acc[:,1])\n",
    "print(\"Epochs run: \" , len(history_v0_val_acc.history['loss']) )\n",
    "print('AUC:', auc_v0_val_acc)"
   ]
  },
  {
   "cell_type": "markdown",
   "id": "3ec43aad-8036-4a12-8899-6e9f3ee7b885",
   "metadata": {},
   "source": [
    "* Area Under the Curve ----> 100 Epochs\n",
    "\n",
    "??? [Dint work this metric because the model was not compiled with this one](https://stackoverflow.com/questions/55153983/how-to-save-best-model-in-keras-based-on-auc-metric)"
   ]
  },
  {
   "cell_type": "code",
   "execution_count": 43,
   "id": "aceec07d-6d0c-4850-a64e-b5c3112abeab",
   "metadata": {},
   "outputs": [],
   "source": [
    "auc = tf.keras.metrics.AUC()  # instantiate it here to have a shorter handle"
   ]
  },
  {
   "cell_type": "code",
   "execution_count": 44,
   "id": "3b8b8f75-74df-4e0f-ba57-1e6f0d90fc45",
   "metadata": {},
   "outputs": [],
   "source": [
    "callback_auc = tf.keras.callbacks.EarlyStopping(monitor='val_auc',mode='max', patience=3)"
   ]
  },
  {
   "cell_type": "code",
   "execution_count": 45,
   "id": "624367d1-fb09-4879-9d67-9f66121dd64e",
   "metadata": {
    "collapsed": true,
    "jupyter": {
     "outputs_hidden": true
    },
    "tags": []
   },
   "outputs": [
    {
     "name": "stdout",
     "output_type": "stream",
     "text": [
      "Model: \"model_4\"\n",
      "__________________________________________________________________________________________________\n",
      "Layer (type)                    Output Shape         Param #     Connected to                     \n",
      "==================================================================================================\n",
      "input (InputLayer)              [(None, None, 4)]    0                                            \n",
      "__________________________________________________________________________________________________\n",
      "tdist_0 (TimeDistributed)       (None, None, 100)    500         input[0][0]                      \n",
      "__________________________________________________________________________________________________\n",
      "activation_28 (Activation)      (None, None, 100)    0           tdist_0[0][0]                    \n",
      "__________________________________________________________________________________________________\n",
      "tdist_1 (TimeDistributed)       (None, None, 100)    10100       activation_28[0][0]              \n",
      "__________________________________________________________________________________________________\n",
      "activation_29 (Activation)      (None, None, 100)    0           tdist_1[0][0]                    \n",
      "__________________________________________________________________________________________________\n",
      "tdist_2 (TimeDistributed)       (None, None, 128)    12928       activation_29[0][0]              \n",
      "__________________________________________________________________________________________________\n",
      "mask (Lambda)                   (None, None)         0           input[0][0]                      \n",
      "__________________________________________________________________________________________________\n",
      "activation_30 (Activation)      (None, None, 128)    0           tdist_2[0][0]                    \n",
      "__________________________________________________________________________________________________\n",
      "sum (Dot)                       (None, 128)          0           mask[0][0]                       \n",
      "                                                                 activation_30[0][0]              \n",
      "__________________________________________________________________________________________________\n",
      "dense_0 (Dense)                 (None, 100)          12900       sum[0][0]                        \n",
      "__________________________________________________________________________________________________\n",
      "activation_31 (Activation)      (None, 100)          0           dense_0[0][0]                    \n",
      "__________________________________________________________________________________________________\n",
      "dense_1 (Dense)                 (None, 100)          10100       activation_31[0][0]              \n",
      "__________________________________________________________________________________________________\n",
      "activation_32 (Activation)      (None, 100)          0           dense_1[0][0]                    \n",
      "__________________________________________________________________________________________________\n",
      "dense_2 (Dense)                 (None, 100)          10100       activation_32[0][0]              \n",
      "__________________________________________________________________________________________________\n",
      "activation_33 (Activation)      (None, 100)          0           dense_2[0][0]                    \n",
      "__________________________________________________________________________________________________\n",
      "output (Dense)                  (None, 2)            202         activation_33[0][0]              \n",
      "__________________________________________________________________________________________________\n",
      "activation_34 (Activation)      (None, 2)            0           output[0][0]                     \n",
      "==================================================================================================\n",
      "Total params: 56,830\n",
      "Trainable params: 56,830\n",
      "Non-trainable params: 0\n",
      "__________________________________________________________________________________________________\n"
     ]
    }
   ],
   "source": [
    "pfn_v0_val_auc = PFN(input_dim=X.shape[-1], Phi_sizes=Phi_sizes, F_sizes=F_sizes)"
   ]
  },
  {
   "cell_type": "code",
   "execution_count": 46,
   "id": "87bb69e0-6d15-48ef-b0f0-b9b0e9d6407c",
   "metadata": {
    "collapsed": true,
    "jupyter": {
     "outputs_hidden": true
    },
    "tags": []
   },
   "outputs": [
    {
     "name": "stdout",
     "output_type": "stream",
     "text": [
      "Epoch 1/100\n",
      "260/260 [==============================] - 15s 56ms/step - loss: 6.7372 - acc: 0.6993 - val_loss: 0.5892 - val_acc: 0.7292\n",
      "WARNING:tensorflow:Early stopping conditioned on metric `val_auc` which is not available. Available metrics are: loss,acc,val_loss,val_acc\n",
      "Epoch 2/100\n",
      "260/260 [==============================] - 14s 54ms/step - loss: 0.8409 - acc: 0.7445 - val_loss: 0.4412 - val_acc: 0.7829\n",
      "WARNING:tensorflow:Early stopping conditioned on metric `val_auc` which is not available. Available metrics are: loss,acc,val_loss,val_acc\n",
      "Epoch 3/100\n",
      "260/260 [==============================] - 14s 55ms/step - loss: 0.5759 - acc: 0.7655 - val_loss: 1.4581 - val_acc: 0.5678\n",
      "WARNING:tensorflow:Early stopping conditioned on metric `val_auc` which is not available. Available metrics are: loss,acc,val_loss,val_acc\n",
      "Epoch 4/100\n",
      "260/260 [==============================] - 14s 53ms/step - loss: 0.6505 - acc: 0.7572 - val_loss: 0.4276 - val_acc: 0.7863\n",
      "WARNING:tensorflow:Early stopping conditioned on metric `val_auc` which is not available. Available metrics are: loss,acc,val_loss,val_acc\n",
      "Epoch 5/100\n",
      "260/260 [==============================] - 14s 56ms/step - loss: 0.4535 - acc: 0.7730 - val_loss: 0.4095 - val_acc: 0.7898\n",
      "WARNING:tensorflow:Early stopping conditioned on metric `val_auc` which is not available. Available metrics are: loss,acc,val_loss,val_acc\n",
      "Epoch 6/100\n",
      "260/260 [==============================] - 14s 55ms/step - loss: 0.4202 - acc: 0.7836 - val_loss: 0.3942 - val_acc: 0.8026\n",
      "WARNING:tensorflow:Early stopping conditioned on metric `val_auc` which is not available. Available metrics are: loss,acc,val_loss,val_acc\n",
      "Epoch 7/100\n",
      "260/260 [==============================] - 14s 54ms/step - loss: 0.4031 - acc: 0.7981 - val_loss: 0.3874 - val_acc: 0.8164\n",
      "WARNING:tensorflow:Early stopping conditioned on metric `val_auc` which is not available. Available metrics are: loss,acc,val_loss,val_acc\n",
      "Epoch 8/100\n",
      "260/260 [==============================] - 14s 56ms/step - loss: 0.3928 - acc: 0.8101 - val_loss: 0.4355 - val_acc: 0.7958\n",
      "WARNING:tensorflow:Early stopping conditioned on metric `val_auc` which is not available. Available metrics are: loss,acc,val_loss,val_acc\n",
      "Epoch 9/100\n",
      "260/260 [==============================] - 14s 56ms/step - loss: 0.4125 - acc: 0.8051 - val_loss: 0.4345 - val_acc: 0.8006\n",
      "WARNING:tensorflow:Early stopping conditioned on metric `val_auc` which is not available. Available metrics are: loss,acc,val_loss,val_acc\n",
      "Epoch 10/100\n",
      "260/260 [==============================] - 14s 54ms/step - loss: 0.3401 - acc: 0.8539 - val_loss: 0.3167 - val_acc: 0.8702\n",
      "WARNING:tensorflow:Early stopping conditioned on metric `val_auc` which is not available. Available metrics are: loss,acc,val_loss,val_acc\n",
      "Epoch 11/100\n",
      "260/260 [==============================] - 14s 55ms/step - loss: 0.3127 - acc: 0.8728 - val_loss: 0.3141 - val_acc: 0.8727\n",
      "WARNING:tensorflow:Early stopping conditioned on metric `val_auc` which is not available. Available metrics are: loss,acc,val_loss,val_acc\n",
      "Epoch 12/100\n",
      "260/260 [==============================] - 14s 55ms/step - loss: 0.2912 - acc: 0.8862 - val_loss: 0.2736 - val_acc: 0.8938\n",
      "WARNING:tensorflow:Early stopping conditioned on metric `val_auc` which is not available. Available metrics are: loss,acc,val_loss,val_acc\n",
      "Epoch 13/100\n",
      "260/260 [==============================] - 14s 55ms/step - loss: 0.2848 - acc: 0.8900 - val_loss: 0.2851 - val_acc: 0.8923\n",
      "WARNING:tensorflow:Early stopping conditioned on metric `val_auc` which is not available. Available metrics are: loss,acc,val_loss,val_acc\n",
      "Epoch 14/100\n",
      "260/260 [==============================] - 15s 57ms/step - loss: 0.2743 - acc: 0.8949 - val_loss: 0.2613 - val_acc: 0.9038\n",
      "WARNING:tensorflow:Early stopping conditioned on metric `val_auc` which is not available. Available metrics are: loss,acc,val_loss,val_acc\n",
      "Epoch 15/100\n",
      "260/260 [==============================] - 14s 54ms/step - loss: 0.2673 - acc: 0.8981 - val_loss: 0.2982 - val_acc: 0.8882\n",
      "WARNING:tensorflow:Early stopping conditioned on metric `val_auc` which is not available. Available metrics are: loss,acc,val_loss,val_acc\n",
      "Epoch 16/100\n",
      "260/260 [==============================] - 15s 57ms/step - loss: 0.2736 - acc: 0.8955 - val_loss: 0.2429 - val_acc: 0.9069\n",
      "WARNING:tensorflow:Early stopping conditioned on metric `val_auc` which is not available. Available metrics are: loss,acc,val_loss,val_acc\n",
      "Epoch 17/100\n",
      "260/260 [==============================] - 14s 54ms/step - loss: 0.2442 - acc: 0.9068 - val_loss: 0.2356 - val_acc: 0.9125\n",
      "WARNING:tensorflow:Early stopping conditioned on metric `val_auc` which is not available. Available metrics are: loss,acc,val_loss,val_acc\n",
      "Epoch 18/100\n",
      "260/260 [==============================] - 15s 57ms/step - loss: 0.2411 - acc: 0.9084 - val_loss: 0.2479 - val_acc: 0.9070\n",
      "WARNING:tensorflow:Early stopping conditioned on metric `val_auc` which is not available. Available metrics are: loss,acc,val_loss,val_acc\n",
      "Epoch 19/100\n",
      "260/260 [==============================] - 14s 54ms/step - loss: 0.2314 - acc: 0.9111 - val_loss: 0.2591 - val_acc: 0.8989\n",
      "WARNING:tensorflow:Early stopping conditioned on metric `val_auc` which is not available. Available metrics are: loss,acc,val_loss,val_acc\n",
      "Epoch 20/100\n",
      "260/260 [==============================] - 14s 56ms/step - loss: 0.2353 - acc: 0.9108 - val_loss: 0.2249 - val_acc: 0.9145\n",
      "WARNING:tensorflow:Early stopping conditioned on metric `val_auc` which is not available. Available metrics are: loss,acc,val_loss,val_acc\n",
      "Epoch 21/100\n",
      "260/260 [==============================] - 14s 54ms/step - loss: 0.2343 - acc: 0.9110 - val_loss: 0.2356 - val_acc: 0.9126\n",
      "WARNING:tensorflow:Early stopping conditioned on metric `val_auc` which is not available. Available metrics are: loss,acc,val_loss,val_acc\n",
      "Epoch 22/100\n",
      "260/260 [==============================] - 14s 55ms/step - loss: 0.2238 - acc: 0.9146 - val_loss: 0.2295 - val_acc: 0.9149\n",
      "WARNING:tensorflow:Early stopping conditioned on metric `val_auc` which is not available. Available metrics are: loss,acc,val_loss,val_acc\n",
      "Epoch 23/100\n",
      "260/260 [==============================] - 15s 56ms/step - loss: 0.2319 - acc: 0.9117 - val_loss: 0.2324 - val_acc: 0.9109\n",
      "WARNING:tensorflow:Early stopping conditioned on metric `val_auc` which is not available. Available metrics are: loss,acc,val_loss,val_acc\n",
      "Epoch 24/100\n",
      "260/260 [==============================] - 14s 54ms/step - loss: 0.2242 - acc: 0.9159 - val_loss: 0.2249 - val_acc: 0.9148\n",
      "WARNING:tensorflow:Early stopping conditioned on metric `val_auc` which is not available. Available metrics are: loss,acc,val_loss,val_acc\n",
      "Epoch 25/100\n",
      "260/260 [==============================] - 14s 54ms/step - loss: 0.2274 - acc: 0.9146 - val_loss: 0.2414 - val_acc: 0.9107\n",
      "WARNING:tensorflow:Early stopping conditioned on metric `val_auc` which is not available. Available metrics are: loss,acc,val_loss,val_acc\n",
      "Epoch 26/100\n",
      "260/260 [==============================] - 14s 54ms/step - loss: 0.2217 - acc: 0.9162 - val_loss: 0.2278 - val_acc: 0.9159\n",
      "WARNING:tensorflow:Early stopping conditioned on metric `val_auc` which is not available. Available metrics are: loss,acc,val_loss,val_acc\n",
      "Epoch 27/100\n",
      "260/260 [==============================] - 14s 54ms/step - loss: 0.2212 - acc: 0.9156 - val_loss: 0.2275 - val_acc: 0.9143\n",
      "WARNING:tensorflow:Early stopping conditioned on metric `val_auc` which is not available. Available metrics are: loss,acc,val_loss,val_acc\n",
      "Epoch 28/100\n",
      "260/260 [==============================] - 15s 57ms/step - loss: 0.2188 - acc: 0.9171 - val_loss: 0.2187 - val_acc: 0.9192\n",
      "WARNING:tensorflow:Early stopping conditioned on metric `val_auc` which is not available. Available metrics are: loss,acc,val_loss,val_acc\n",
      "Epoch 29/100\n",
      "260/260 [==============================] - 14s 54ms/step - loss: 0.2156 - acc: 0.9172 - val_loss: 0.2289 - val_acc: 0.9149\n",
      "WARNING:tensorflow:Early stopping conditioned on metric `val_auc` which is not available. Available metrics are: loss,acc,val_loss,val_acc\n",
      "Epoch 30/100\n",
      "260/260 [==============================] - 14s 54ms/step - loss: 0.2106 - acc: 0.9209 - val_loss: 0.2210 - val_acc: 0.9153\n",
      "WARNING:tensorflow:Early stopping conditioned on metric `val_auc` which is not available. Available metrics are: loss,acc,val_loss,val_acc\n",
      "Epoch 31/100\n",
      "260/260 [==============================] - 14s 54ms/step - loss: 0.2217 - acc: 0.9161 - val_loss: 0.2276 - val_acc: 0.9124\n",
      "WARNING:tensorflow:Early stopping conditioned on metric `val_auc` which is not available. Available metrics are: loss,acc,val_loss,val_acc\n",
      "Epoch 32/100\n",
      "260/260 [==============================] - 14s 54ms/step - loss: 0.2128 - acc: 0.9185 - val_loss: 0.2116 - val_acc: 0.9216\n",
      "WARNING:tensorflow:Early stopping conditioned on metric `val_auc` which is not available. Available metrics are: loss,acc,val_loss,val_acc\n",
      "Epoch 33/100\n",
      "260/260 [==============================] - 14s 54ms/step - loss: 0.2141 - acc: 0.9196 - val_loss: 0.2148 - val_acc: 0.9201\n",
      "WARNING:tensorflow:Early stopping conditioned on metric `val_auc` which is not available. Available metrics are: loss,acc,val_loss,val_acc\n",
      "Epoch 34/100\n",
      "260/260 [==============================] - 14s 56ms/step - loss: 0.2091 - acc: 0.9200 - val_loss: 0.2159 - val_acc: 0.9175\n",
      "WARNING:tensorflow:Early stopping conditioned on metric `val_auc` which is not available. Available metrics are: loss,acc,val_loss,val_acc\n",
      "Epoch 35/100\n",
      "260/260 [==============================] - 15s 56ms/step - loss: 0.2098 - acc: 0.9213 - val_loss: 0.2170 - val_acc: 0.9195\n",
      "WARNING:tensorflow:Early stopping conditioned on metric `val_auc` which is not available. Available metrics are: loss,acc,val_loss,val_acc\n",
      "Epoch 36/100\n",
      "260/260 [==============================] - 14s 55ms/step - loss: 0.2067 - acc: 0.9214 - val_loss: 0.2400 - val_acc: 0.9088\n",
      "WARNING:tensorflow:Early stopping conditioned on metric `val_auc` which is not available. Available metrics are: loss,acc,val_loss,val_acc\n",
      "Epoch 37/100\n",
      "260/260 [==============================] - 14s 55ms/step - loss: 0.2081 - acc: 0.9216 - val_loss: 0.2181 - val_acc: 0.9177\n",
      "WARNING:tensorflow:Early stopping conditioned on metric `val_auc` which is not available. Available metrics are: loss,acc,val_loss,val_acc\n",
      "Epoch 38/100\n",
      "260/260 [==============================] - 15s 57ms/step - loss: 0.2042 - acc: 0.9234 - val_loss: 0.2144 - val_acc: 0.9219\n",
      "WARNING:tensorflow:Early stopping conditioned on metric `val_auc` which is not available. Available metrics are: loss,acc,val_loss,val_acc\n",
      "Epoch 39/100\n",
      "260/260 [==============================] - 14s 54ms/step - loss: 0.2053 - acc: 0.9225 - val_loss: 0.2158 - val_acc: 0.9195\n",
      "WARNING:tensorflow:Early stopping conditioned on metric `val_auc` which is not available. Available metrics are: loss,acc,val_loss,val_acc\n",
      "Epoch 40/100\n",
      "260/260 [==============================] - 14s 54ms/step - loss: 0.2050 - acc: 0.9229 - val_loss: 0.2068 - val_acc: 0.9223\n",
      "WARNING:tensorflow:Early stopping conditioned on metric `val_auc` which is not available. Available metrics are: loss,acc,val_loss,val_acc\n",
      "Epoch 41/100\n",
      "260/260 [==============================] - 14s 55ms/step - loss: 0.2025 - acc: 0.9248 - val_loss: 0.2106 - val_acc: 0.9196\n",
      "WARNING:tensorflow:Early stopping conditioned on metric `val_auc` which is not available. Available metrics are: loss,acc,val_loss,val_acc\n",
      "Epoch 42/100\n",
      "260/260 [==============================] - 14s 55ms/step - loss: 0.2013 - acc: 0.9247 - val_loss: 0.2082 - val_acc: 0.9223\n",
      "WARNING:tensorflow:Early stopping conditioned on metric `val_auc` which is not available. Available metrics are: loss,acc,val_loss,val_acc\n",
      "Epoch 43/100\n",
      "260/260 [==============================] - 14s 55ms/step - loss: 0.2021 - acc: 0.9244 - val_loss: 0.2112 - val_acc: 0.9214\n",
      "WARNING:tensorflow:Early stopping conditioned on metric `val_auc` which is not available. Available metrics are: loss,acc,val_loss,val_acc\n",
      "Epoch 44/100\n",
      "260/260 [==============================] - 14s 54ms/step - loss: 0.1985 - acc: 0.9258 - val_loss: 0.2068 - val_acc: 0.9233\n",
      "WARNING:tensorflow:Early stopping conditioned on metric `val_auc` which is not available. Available metrics are: loss,acc,val_loss,val_acc\n",
      "Epoch 45/100\n",
      "260/260 [==============================] - 14s 54ms/step - loss: 0.1982 - acc: 0.9266 - val_loss: 0.2141 - val_acc: 0.9202\n",
      "WARNING:tensorflow:Early stopping conditioned on metric `val_auc` which is not available. Available metrics are: loss,acc,val_loss,val_acc\n",
      "Epoch 46/100\n",
      "260/260 [==============================] - 14s 54ms/step - loss: 0.1997 - acc: 0.9252 - val_loss: 0.2184 - val_acc: 0.9182\n",
      "WARNING:tensorflow:Early stopping conditioned on metric `val_auc` which is not available. Available metrics are: loss,acc,val_loss,val_acc\n",
      "Epoch 47/100\n",
      "260/260 [==============================] - 14s 54ms/step - loss: 0.2004 - acc: 0.9252 - val_loss: 0.2090 - val_acc: 0.9225\n",
      "WARNING:tensorflow:Early stopping conditioned on metric `val_auc` which is not available. Available metrics are: loss,acc,val_loss,val_acc\n",
      "Epoch 48/100\n",
      "260/260 [==============================] - 14s 55ms/step - loss: 0.1965 - acc: 0.9268 - val_loss: 0.2029 - val_acc: 0.9241\n",
      "WARNING:tensorflow:Early stopping conditioned on metric `val_auc` which is not available. Available metrics are: loss,acc,val_loss,val_acc\n",
      "Epoch 49/100\n",
      "260/260 [==============================] - 14s 55ms/step - loss: 0.1991 - acc: 0.9252 - val_loss: 0.2011 - val_acc: 0.9256\n",
      "WARNING:tensorflow:Early stopping conditioned on metric `val_auc` which is not available. Available metrics are: loss,acc,val_loss,val_acc\n",
      "Epoch 50/100\n",
      "260/260 [==============================] - 14s 54ms/step - loss: 0.1935 - acc: 0.9274 - val_loss: 0.2053 - val_acc: 0.9217\n",
      "WARNING:tensorflow:Early stopping conditioned on metric `val_auc` which is not available. Available metrics are: loss,acc,val_loss,val_acc\n",
      "Epoch 51/100\n",
      "260/260 [==============================] - 14s 54ms/step - loss: 0.1937 - acc: 0.9274 - val_loss: 0.2130 - val_acc: 0.9184\n",
      "WARNING:tensorflow:Early stopping conditioned on metric `val_auc` which is not available. Available metrics are: loss,acc,val_loss,val_acc\n",
      "Epoch 52/100\n",
      "260/260 [==============================] - 14s 54ms/step - loss: 0.1975 - acc: 0.9255 - val_loss: 0.2048 - val_acc: 0.9250\n",
      "WARNING:tensorflow:Early stopping conditioned on metric `val_auc` which is not available. Available metrics are: loss,acc,val_loss,val_acc\n",
      "Epoch 53/100\n",
      "260/260 [==============================] - 14s 54ms/step - loss: 0.1920 - acc: 0.9286 - val_loss: 0.2030 - val_acc: 0.9237\n",
      "WARNING:tensorflow:Early stopping conditioned on metric `val_auc` which is not available. Available metrics are: loss,acc,val_loss,val_acc\n",
      "Epoch 54/100\n",
      "260/260 [==============================] - 15s 56ms/step - loss: 0.1940 - acc: 0.9268 - val_loss: 0.2067 - val_acc: 0.9226\n",
      "WARNING:tensorflow:Early stopping conditioned on metric `val_auc` which is not available. Available metrics are: loss,acc,val_loss,val_acc\n",
      "Epoch 55/100\n",
      "260/260 [==============================] - 14s 56ms/step - loss: 0.1961 - acc: 0.9266 - val_loss: 0.2031 - val_acc: 0.9248\n",
      "WARNING:tensorflow:Early stopping conditioned on metric `val_auc` which is not available. Available metrics are: loss,acc,val_loss,val_acc\n",
      "Epoch 56/100\n",
      "260/260 [==============================] - 14s 54ms/step - loss: 0.1935 - acc: 0.9270 - val_loss: 0.2005 - val_acc: 0.9255\n",
      "WARNING:tensorflow:Early stopping conditioned on metric `val_auc` which is not available. Available metrics are: loss,acc,val_loss,val_acc\n",
      "Epoch 57/100\n",
      "260/260 [==============================] - 14s 55ms/step - loss: 0.1896 - acc: 0.9293 - val_loss: 0.2020 - val_acc: 0.9248\n",
      "WARNING:tensorflow:Early stopping conditioned on metric `val_auc` which is not available. Available metrics are: loss,acc,val_loss,val_acc\n",
      "Epoch 58/100\n",
      "260/260 [==============================] - 14s 54ms/step - loss: 0.1898 - acc: 0.9292 - val_loss: 0.2001 - val_acc: 0.9267\n",
      "WARNING:tensorflow:Early stopping conditioned on metric `val_auc` which is not available. Available metrics are: loss,acc,val_loss,val_acc\n",
      "Epoch 59/100\n",
      "260/260 [==============================] - 14s 54ms/step - loss: 0.1891 - acc: 0.9300 - val_loss: 0.2034 - val_acc: 0.9263\n",
      "WARNING:tensorflow:Early stopping conditioned on metric `val_auc` which is not available. Available metrics are: loss,acc,val_loss,val_acc\n",
      "Epoch 60/100\n",
      "260/260 [==============================] - 14s 54ms/step - loss: 0.1917 - acc: 0.9279 - val_loss: 0.2014 - val_acc: 0.9266\n",
      "WARNING:tensorflow:Early stopping conditioned on metric `val_auc` which is not available. Available metrics are: loss,acc,val_loss,val_acc\n",
      "Epoch 61/100\n",
      "260/260 [==============================] - 14s 55ms/step - loss: 0.1914 - acc: 0.9285 - val_loss: 0.1980 - val_acc: 0.9270\n",
      "WARNING:tensorflow:Early stopping conditioned on metric `val_auc` which is not available. Available metrics are: loss,acc,val_loss,val_acc\n",
      "Epoch 62/100\n",
      "260/260 [==============================] - 14s 54ms/step - loss: 0.1883 - acc: 0.9299 - val_loss: 0.2021 - val_acc: 0.9267\n",
      "WARNING:tensorflow:Early stopping conditioned on metric `val_auc` which is not available. Available metrics are: loss,acc,val_loss,val_acc\n",
      "Epoch 63/100\n",
      "260/260 [==============================] - 14s 55ms/step - loss: 0.1882 - acc: 0.9292 - val_loss: 0.1986 - val_acc: 0.9261\n",
      "WARNING:tensorflow:Early stopping conditioned on metric `val_auc` which is not available. Available metrics are: loss,acc,val_loss,val_acc\n",
      "Epoch 64/100\n",
      "260/260 [==============================] - 14s 55ms/step - loss: 0.1870 - acc: 0.9306 - val_loss: 0.2003 - val_acc: 0.9263\n",
      "WARNING:tensorflow:Early stopping conditioned on metric `val_auc` which is not available. Available metrics are: loss,acc,val_loss,val_acc\n",
      "Epoch 65/100\n",
      "260/260 [==============================] - 14s 54ms/step - loss: 0.1915 - acc: 0.9285 - val_loss: 0.1989 - val_acc: 0.9266\n",
      "WARNING:tensorflow:Early stopping conditioned on metric `val_auc` which is not available. Available metrics are: loss,acc,val_loss,val_acc\n",
      "Epoch 66/100\n",
      "260/260 [==============================] - 14s 55ms/step - loss: 0.1841 - acc: 0.9322 - val_loss: 0.2066 - val_acc: 0.9250\n",
      "WARNING:tensorflow:Early stopping conditioned on metric `val_auc` which is not available. Available metrics are: loss,acc,val_loss,val_acc\n",
      "Epoch 67/100\n",
      "260/260 [==============================] - 15s 56ms/step - loss: 0.1851 - acc: 0.9320 - val_loss: 0.1999 - val_acc: 0.9255\n",
      "WARNING:tensorflow:Early stopping conditioned on metric `val_auc` which is not available. Available metrics are: loss,acc,val_loss,val_acc\n",
      "Epoch 68/100\n",
      "260/260 [==============================] - 14s 55ms/step - loss: 0.1837 - acc: 0.9318 - val_loss: 0.2001 - val_acc: 0.9272\n",
      "WARNING:tensorflow:Early stopping conditioned on metric `val_auc` which is not available. Available metrics are: loss,acc,val_loss,val_acc\n",
      "Epoch 69/100\n",
      "260/260 [==============================] - 14s 54ms/step - loss: 0.1863 - acc: 0.9305 - val_loss: 0.1995 - val_acc: 0.9272\n",
      "WARNING:tensorflow:Early stopping conditioned on metric `val_auc` which is not available. Available metrics are: loss,acc,val_loss,val_acc\n",
      "Epoch 70/100\n",
      "260/260 [==============================] - 15s 56ms/step - loss: 0.1848 - acc: 0.9311 - val_loss: 0.1930 - val_acc: 0.9276\n",
      "WARNING:tensorflow:Early stopping conditioned on metric `val_auc` which is not available. Available metrics are: loss,acc,val_loss,val_acc\n",
      "Epoch 71/100\n",
      "260/260 [==============================] - 14s 56ms/step - loss: 0.1848 - acc: 0.9308 - val_loss: 0.1999 - val_acc: 0.9265\n",
      "WARNING:tensorflow:Early stopping conditioned on metric `val_auc` which is not available. Available metrics are: loss,acc,val_loss,val_acc\n",
      "Epoch 72/100\n",
      "260/260 [==============================] - 14s 55ms/step - loss: 0.1801 - acc: 0.9334 - val_loss: 0.2020 - val_acc: 0.9258\n",
      "WARNING:tensorflow:Early stopping conditioned on metric `val_auc` which is not available. Available metrics are: loss,acc,val_loss,val_acc\n",
      "Epoch 73/100\n",
      "260/260 [==============================] - 15s 57ms/step - loss: 0.1848 - acc: 0.9312 - val_loss: 0.1982 - val_acc: 0.9279\n",
      "WARNING:tensorflow:Early stopping conditioned on metric `val_auc` which is not available. Available metrics are: loss,acc,val_loss,val_acc\n",
      "Epoch 74/100\n",
      "260/260 [==============================] - 14s 55ms/step - loss: 0.1799 - acc: 0.9336 - val_loss: 0.1935 - val_acc: 0.9296\n",
      "WARNING:tensorflow:Early stopping conditioned on metric `val_auc` which is not available. Available metrics are: loss,acc,val_loss,val_acc\n",
      "Epoch 75/100\n",
      "260/260 [==============================] - 14s 54ms/step - loss: 0.1818 - acc: 0.9325 - val_loss: 0.1935 - val_acc: 0.9299\n",
      "WARNING:tensorflow:Early stopping conditioned on metric `val_auc` which is not available. Available metrics are: loss,acc,val_loss,val_acc\n",
      "Epoch 76/100\n",
      "260/260 [==============================] - 14s 54ms/step - loss: 0.1813 - acc: 0.9328 - val_loss: 0.1979 - val_acc: 0.9275\n",
      "WARNING:tensorflow:Early stopping conditioned on metric `val_auc` which is not available. Available metrics are: loss,acc,val_loss,val_acc\n",
      "Epoch 77/100\n",
      "260/260 [==============================] - 14s 54ms/step - loss: 0.1816 - acc: 0.9324 - val_loss: 0.1926 - val_acc: 0.9285\n",
      "WARNING:tensorflow:Early stopping conditioned on metric `val_auc` which is not available. Available metrics are: loss,acc,val_loss,val_acc\n",
      "Epoch 78/100\n",
      "260/260 [==============================] - 14s 56ms/step - loss: 0.1797 - acc: 0.9334 - val_loss: 0.1965 - val_acc: 0.9286\n",
      "WARNING:tensorflow:Early stopping conditioned on metric `val_auc` which is not available. Available metrics are: loss,acc,val_loss,val_acc\n",
      "Epoch 79/100\n",
      "260/260 [==============================] - 14s 54ms/step - loss: 0.1792 - acc: 0.9338 - val_loss: 0.1953 - val_acc: 0.9304\n",
      "WARNING:tensorflow:Early stopping conditioned on metric `val_auc` which is not available. Available metrics are: loss,acc,val_loss,val_acc\n",
      "Epoch 80/100\n",
      "260/260 [==============================] - 14s 55ms/step - loss: 0.1792 - acc: 0.9328 - val_loss: 0.1969 - val_acc: 0.9275\n",
      "WARNING:tensorflow:Early stopping conditioned on metric `val_auc` which is not available. Available metrics are: loss,acc,val_loss,val_acc\n",
      "Epoch 81/100\n",
      "260/260 [==============================] - 14s 54ms/step - loss: 0.1799 - acc: 0.9336 - val_loss: 0.1945 - val_acc: 0.9282\n",
      "WARNING:tensorflow:Early stopping conditioned on metric `val_auc` which is not available. Available metrics are: loss,acc,val_loss,val_acc\n",
      "Epoch 82/100\n",
      "260/260 [==============================] - 14s 54ms/step - loss: 0.1759 - acc: 0.9352 - val_loss: 0.1977 - val_acc: 0.9295\n",
      "WARNING:tensorflow:Early stopping conditioned on metric `val_auc` which is not available. Available metrics are: loss,acc,val_loss,val_acc\n",
      "Epoch 83/100\n",
      "260/260 [==============================] - 14s 56ms/step - loss: 0.1802 - acc: 0.9327 - val_loss: 0.1941 - val_acc: 0.9304\n",
      "WARNING:tensorflow:Early stopping conditioned on metric `val_auc` which is not available. Available metrics are: loss,acc,val_loss,val_acc\n",
      "Epoch 84/100\n",
      "260/260 [==============================] - 14s 54ms/step - loss: 0.1774 - acc: 0.9346 - val_loss: 0.2027 - val_acc: 0.9271\n",
      "WARNING:tensorflow:Early stopping conditioned on metric `val_auc` which is not available. Available metrics are: loss,acc,val_loss,val_acc\n",
      "Epoch 85/100\n",
      "260/260 [==============================] - 14s 54ms/step - loss: 0.1776 - acc: 0.9338 - val_loss: 0.1960 - val_acc: 0.9313\n",
      "WARNING:tensorflow:Early stopping conditioned on metric `val_auc` which is not available. Available metrics are: loss,acc,val_loss,val_acc\n",
      "Epoch 86/100\n",
      "260/260 [==============================] - 14s 55ms/step - loss: 0.1787 - acc: 0.9337 - val_loss: 0.1956 - val_acc: 0.9295\n",
      "WARNING:tensorflow:Early stopping conditioned on metric `val_auc` which is not available. Available metrics are: loss,acc,val_loss,val_acc\n",
      "Epoch 87/100\n",
      "260/260 [==============================] - 14s 54ms/step - loss: 0.1778 - acc: 0.9339 - val_loss: 0.1946 - val_acc: 0.9275\n",
      "WARNING:tensorflow:Early stopping conditioned on metric `val_auc` which is not available. Available metrics are: loss,acc,val_loss,val_acc\n",
      "Epoch 88/100\n",
      "260/260 [==============================] - 15s 56ms/step - loss: 0.1770 - acc: 0.9345 - val_loss: 0.1946 - val_acc: 0.9301\n",
      "WARNING:tensorflow:Early stopping conditioned on metric `val_auc` which is not available. Available metrics are: loss,acc,val_loss,val_acc\n",
      "Epoch 89/100\n",
      "260/260 [==============================] - 14s 54ms/step - loss: 0.1769 - acc: 0.9342 - val_loss: 0.1951 - val_acc: 0.9294\n",
      "WARNING:tensorflow:Early stopping conditioned on metric `val_auc` which is not available. Available metrics are: loss,acc,val_loss,val_acc\n",
      "Epoch 90/100\n",
      "260/260 [==============================] - 14s 54ms/step - loss: 0.1767 - acc: 0.9344 - val_loss: 0.2004 - val_acc: 0.9276\n",
      "WARNING:tensorflow:Early stopping conditioned on metric `val_auc` which is not available. Available metrics are: loss,acc,val_loss,val_acc\n",
      "Epoch 91/100\n",
      "260/260 [==============================] - 14s 54ms/step - loss: 0.1751 - acc: 0.9354 - val_loss: 0.2023 - val_acc: 0.9275\n",
      "WARNING:tensorflow:Early stopping conditioned on metric `val_auc` which is not available. Available metrics are: loss,acc,val_loss,val_acc\n",
      "Epoch 92/100\n",
      "260/260 [==============================] - 14s 55ms/step - loss: 0.1755 - acc: 0.9353 - val_loss: 0.1939 - val_acc: 0.9317\n",
      "WARNING:tensorflow:Early stopping conditioned on metric `val_auc` which is not available. Available metrics are: loss,acc,val_loss,val_acc\n",
      "Epoch 93/100\n",
      "260/260 [==============================] - 14s 55ms/step - loss: 0.1731 - acc: 0.9361 - val_loss: 0.2008 - val_acc: 0.9285\n",
      "WARNING:tensorflow:Early stopping conditioned on metric `val_auc` which is not available. Available metrics are: loss,acc,val_loss,val_acc\n",
      "Epoch 94/100\n",
      "260/260 [==============================] - 15s 57ms/step - loss: 0.1758 - acc: 0.9349 - val_loss: 0.1958 - val_acc: 0.9301\n",
      "WARNING:tensorflow:Early stopping conditioned on metric `val_auc` which is not available. Available metrics are: loss,acc,val_loss,val_acc\n",
      "Epoch 95/100\n",
      "260/260 [==============================] - 14s 55ms/step - loss: 0.1700 - acc: 0.9366 - val_loss: 0.1936 - val_acc: 0.9303\n",
      "WARNING:tensorflow:Early stopping conditioned on metric `val_auc` which is not available. Available metrics are: loss,acc,val_loss,val_acc\n",
      "Epoch 96/100\n",
      "260/260 [==============================] - 15s 56ms/step - loss: 0.1704 - acc: 0.9374 - val_loss: 0.1922 - val_acc: 0.9315\n",
      "WARNING:tensorflow:Early stopping conditioned on metric `val_auc` which is not available. Available metrics are: loss,acc,val_loss,val_acc\n",
      "Epoch 97/100\n",
      "260/260 [==============================] - 14s 54ms/step - loss: 0.1747 - acc: 0.9354 - val_loss: 0.1899 - val_acc: 0.9325\n",
      "WARNING:tensorflow:Early stopping conditioned on metric `val_auc` which is not available. Available metrics are: loss,acc,val_loss,val_acc\n",
      "Epoch 98/100\n",
      "260/260 [==============================] - 14s 54ms/step - loss: 0.1721 - acc: 0.9362 - val_loss: 0.1933 - val_acc: 0.9312\n",
      "WARNING:tensorflow:Early stopping conditioned on metric `val_auc` which is not available. Available metrics are: loss,acc,val_loss,val_acc\n",
      "Epoch 99/100\n",
      "260/260 [==============================] - 15s 56ms/step - loss: 0.1728 - acc: 0.9356 - val_loss: 0.1956 - val_acc: 0.9295\n",
      "WARNING:tensorflow:Early stopping conditioned on metric `val_auc` which is not available. Available metrics are: loss,acc,val_loss,val_acc\n",
      "Epoch 100/100\n",
      "260/260 [==============================] - 14s 56ms/step - loss: 0.1701 - acc: 0.9369 - val_loss: 0.1981 - val_acc: 0.9283\n",
      "WARNING:tensorflow:Early stopping conditioned on metric `val_auc` which is not available. Available metrics are: loss,acc,val_loss,val_acc\n"
     ]
    }
   ],
   "source": [
    "# train model\n",
    "history_v0_val_auc  = pfn_v0_val_auc.fit(X_train, Y_train,\n",
    "        epochs=100,\n",
    "        batch_size=500,\n",
    "        callbacks= [callback_auc],\n",
    "        validation_data=(X_val, Y_val),\n",
    "        verbose=1)"
   ]
  },
  {
   "cell_type": "code",
   "execution_count": 47,
   "id": "9b6444e0-aaa9-44e2-92d6-ac25739133bd",
   "metadata": {},
   "outputs": [],
   "source": [
    "pfn_v0_val_auc.save(modelpath+'pfn_v0_100Epochs.h5')"
   ]
  },
  {
   "cell_type": "code",
   "execution_count": 50,
   "id": "906095b8-92df-4eb4-8971-a9eac3158bc8",
   "metadata": {},
   "outputs": [
    {
     "name": "stdout",
     "output_type": "stream",
     "text": [
      "Epochs run:  100\n",
      "AUC: 0.9775741060257409\n"
     ]
    }
   ],
   "source": [
    "# get area under the ROC curve\n",
    "preds_v0_val_auc = pfn_v0_val_auc.predict(X_test, batch_size=1000)\n",
    "auc_v0_val_auc = roc_auc_score(Y_test[:,1], preds_v0_val_auc[:,1])\n",
    "print(\"Epochs run: \" , len(history_v0_val_auc.history['loss']) )\n",
    "print('AUC:', auc_v0_val_auc)"
   ]
  },
  {
   "cell_type": "code",
   "execution_count": 51,
   "id": "2eb7c0a9-bee7-4dfa-92c5-fb61805c120a",
   "metadata": {},
   "outputs": [
    {
     "data": {
      "text/plain": [
       "<Figure size 432x288 with 0 Axes>"
      ]
     },
     "metadata": {},
     "output_type": "display_data"
    },
    {
     "data": {
      "image/png": "[encoded data removed]",
      "text/plain": [
       "<Figure size 432x288 with 1 Axes>"
      ]
     },
     "metadata": {},
     "output_type": "display_data"
    },
    {
     "data": {
      "image/png": "[encoded data removed]",
      "text/plain": [
       "<Figure size 432x288 with 1 Axes>"
      ]
     },
     "metadata": {},
     "output_type": "display_data"
    }
   ],
   "source": [
    "plt.cla(); plt.clf()\n",
    "fig = plt.figure()\n",
    "fig.patch.set_facecolor('white')\n",
    "\n",
    "plt.plot(history_v0_val_auc.history['acc'])\n",
    "plt.plot(history_v0_val_auc.history['val_acc'])\n",
    "plt.title('model accuracy')\n",
    "plt.ylabel('accuracy')\n",
    "plt.xlabel('epoch')\n",
    "plt.legend(['train', 'test'], loc='upper left')\n",
    "# plt.savefig('Plots/accuracy_' + layer + '.pdf')\n",
    "plt.show()\n",
    "\n",
    "\n",
    "# summarize history for loss\n",
    "fig = plt.figure()\n",
    "fig.patch.set_facecolor('white')\n",
    "plt.plot(history_v0_val_auc.history['loss'])\n",
    "plt.plot(history_v0_val_auc.history['val_loss'])\n",
    "plt.title('model loss')\n",
    "plt.ylabel('loss')\n",
    "plt.xlabel('epoch')\n",
    "plt.yscale('log')\n",
    "plt.legend(['train', 'test'], loc='upper left')\n",
    "# plt.savefig(plotpath + 'loss_' + layer + '.pdf')\n",
    "plt.show()"
   ]
  },
  {
   "cell_type": "markdown",
   "id": "88812ff6-dd8e-43db-ac7b-de0ff638f93c",
   "metadata": {},
   "source": [
    "* 50 Epochs\n"
   ]
  },
  {
   "cell_type": "code",
   "execution_count": 11,
   "id": "06faae82-ecc9-4d30-8dc2-50d675162594",
   "metadata": {
    "collapsed": true,
    "jupyter": {
     "outputs_hidden": true
    },
    "tags": []
   },
   "outputs": [
    {
     "name": "stdout",
     "output_type": "stream",
     "text": [
      "Model: \"model\"\n",
      "__________________________________________________________________________________________________\n",
      "Layer (type)                    Output Shape         Param #     Connected to                     \n",
      "==================================================================================================\n",
      "input (InputLayer)              [(None, None, 4)]    0                                            \n",
      "__________________________________________________________________________________________________\n",
      "tdist_0 (TimeDistributed)       (None, None, 100)    500         input[0][0]                      \n",
      "__________________________________________________________________________________________________\n",
      "activation (Activation)         (None, None, 100)    0           tdist_0[0][0]                    \n",
      "__________________________________________________________________________________________________\n",
      "tdist_1 (TimeDistributed)       (None, None, 100)    10100       activation[0][0]                 \n",
      "__________________________________________________________________________________________________\n",
      "activation_1 (Activation)       (None, None, 100)    0           tdist_1[0][0]                    \n",
      "__________________________________________________________________________________________________\n",
      "tdist_2 (TimeDistributed)       (None, None, 128)    12928       activation_1[0][0]               \n",
      "__________________________________________________________________________________________________\n",
      "mask (Lambda)                   (None, None)         0           input[0][0]                      \n",
      "__________________________________________________________________________________________________\n",
      "activation_2 (Activation)       (None, None, 128)    0           tdist_2[0][0]                    \n",
      "__________________________________________________________________________________________________\n",
      "sum (Dot)                       (None, 128)          0           mask[0][0]                       \n",
      "                                                                 activation_2[0][0]               \n",
      "__________________________________________________________________________________________________\n",
      "dense_0 (Dense)                 (None, 100)          12900       sum[0][0]                        \n",
      "__________________________________________________________________________________________________\n",
      "activation_3 (Activation)       (None, 100)          0           dense_0[0][0]                    \n",
      "__________________________________________________________________________________________________\n",
      "dense_1 (Dense)                 (None, 100)          10100       activation_3[0][0]               \n",
      "__________________________________________________________________________________________________\n",
      "activation_4 (Activation)       (None, 100)          0           dense_1[0][0]                    \n",
      "__________________________________________________________________________________________________\n",
      "dense_2 (Dense)                 (None, 100)          10100       activation_4[0][0]               \n",
      "__________________________________________________________________________________________________\n",
      "activation_5 (Activation)       (None, 100)          0           dense_2[0][0]                    \n",
      "__________________________________________________________________________________________________\n",
      "output (Dense)                  (None, 2)            202         activation_5[0][0]               \n",
      "__________________________________________________________________________________________________\n",
      "activation_6 (Activation)       (None, 2)            0           output[0][0]                     \n",
      "==================================================================================================\n",
      "Total params: 56,830\n",
      "Trainable params: 56,830\n",
      "Non-trainable params: 0\n",
      "__________________________________________________________________________________________________\n"
     ]
    }
   ],
   "source": [
    "pfn_v0_50 = PFN(input_dim=X.shape[-1], Phi_sizes=Phi_sizes, F_sizes=F_sizes)"
   ]
  },
  {
   "cell_type": "code",
   "execution_count": 12,
   "id": "c45ffb5d-8087-4941-ad00-75cd112b81ac",
   "metadata": {
    "collapsed": true,
    "jupyter": {
     "outputs_hidden": true
    },
    "tags": []
   },
   "outputs": [
    {
     "name": "stdout",
     "output_type": "stream",
     "text": [
      "Epoch 1/50\n",
      "260/260 [==============================] - 16s 58ms/step - loss: 7.1945 - acc: 0.6985 - val_loss: 0.5708 - val_acc: 0.7858\n",
      "Epoch 2/50\n",
      "260/260 [==============================] - 17s 64ms/step - loss: 0.6555 - acc: 0.7492 - val_loss: 0.4804 - val_acc: 0.7765\n",
      "Epoch 3/50\n",
      "260/260 [==============================] - 14s 55ms/step - loss: 0.4948 - acc: 0.7614 - val_loss: 0.5283 - val_acc: 0.6730\n",
      "Epoch 4/50\n",
      "260/260 [==============================] - 14s 55ms/step - loss: 0.4668 - acc: 0.7631 - val_loss: 0.4557 - val_acc: 0.7166\n",
      "Epoch 5/50\n",
      "260/260 [==============================] - 14s 55ms/step - loss: 0.4371 - acc: 0.7749 - val_loss: 0.4077 - val_acc: 0.7980\n",
      "Epoch 6/50\n",
      "260/260 [==============================] - 14s 56ms/step - loss: 0.4164 - acc: 0.7903 - val_loss: 0.3829 - val_acc: 0.8082\n",
      "Epoch 7/50\n",
      "260/260 [==============================] - 14s 56ms/step - loss: 0.3851 - acc: 0.8222 - val_loss: 0.4675 - val_acc: 0.7591\n",
      "Epoch 8/50\n",
      "260/260 [==============================] - 15s 56ms/step - loss: 0.4176 - acc: 0.8116 - val_loss: 0.3368 - val_acc: 0.8476\n",
      "Epoch 9/50\n",
      "260/260 [==============================] - 14s 55ms/step - loss: 0.3184 - acc: 0.8728 - val_loss: 0.2926 - val_acc: 0.8855\n",
      "Epoch 10/50\n",
      "260/260 [==============================] - 15s 56ms/step - loss: 0.2916 - acc: 0.8845 - val_loss: 0.2879 - val_acc: 0.8806\n",
      "Epoch 11/50\n",
      "260/260 [==============================] - 14s 55ms/step - loss: 0.2774 - acc: 0.8920 - val_loss: 0.4205 - val_acc: 0.8191\n",
      "Epoch 12/50\n",
      "260/260 [==============================] - 14s 55ms/step - loss: 0.5153 - acc: 0.8579 - val_loss: 0.3629 - val_acc: 0.8493\n",
      "Epoch 13/50\n",
      "260/260 [==============================] - 14s 55ms/step - loss: 0.3030 - acc: 0.8792 - val_loss: 0.2697 - val_acc: 0.8900\n",
      "Epoch 14/50\n",
      "260/260 [==============================] - 14s 54ms/step - loss: 0.2521 - acc: 0.9019 - val_loss: 0.2427 - val_acc: 0.9046\n",
      "Epoch 15/50\n",
      "260/260 [==============================] - 14s 54ms/step - loss: 0.2482 - acc: 0.9056 - val_loss: 0.2458 - val_acc: 0.9068\n",
      "Epoch 16/50\n",
      "260/260 [==============================] - 15s 56ms/step - loss: 0.2366 - acc: 0.9106 - val_loss: 0.2357 - val_acc: 0.9127\n",
      "Epoch 17/50\n",
      "260/260 [==============================] - 14s 54ms/step - loss: 0.2378 - acc: 0.9104 - val_loss: 0.2287 - val_acc: 0.9123\n",
      "Epoch 18/50\n",
      "260/260 [==============================] - 14s 55ms/step - loss: 0.2302 - acc: 0.9125 - val_loss: 0.2201 - val_acc: 0.9147\n",
      "Epoch 19/50\n",
      "260/260 [==============================] - 14s 54ms/step - loss: 0.2267 - acc: 0.9161 - val_loss: 0.2343 - val_acc: 0.9091\n",
      "Epoch 20/50\n",
      "260/260 [==============================] - 15s 57ms/step - loss: 0.2275 - acc: 0.9152 - val_loss: 0.2182 - val_acc: 0.9197\n",
      "Epoch 21/50\n",
      "260/260 [==============================] - 15s 57ms/step - loss: 0.2213 - acc: 0.9181 - val_loss: 0.2157 - val_acc: 0.9183\n",
      "Epoch 22/50\n",
      "260/260 [==============================] - 15s 56ms/step - loss: 0.2215 - acc: 0.9183 - val_loss: 0.2173 - val_acc: 0.9190\n",
      "Epoch 23/50\n",
      "260/260 [==============================] - 15s 56ms/step - loss: 0.2134 - acc: 0.9198 - val_loss: 0.2275 - val_acc: 0.9142\n",
      "Epoch 24/50\n",
      "260/260 [==============================] - 14s 55ms/step - loss: 0.2198 - acc: 0.9188 - val_loss: 0.2277 - val_acc: 0.9161\n",
      "Epoch 25/50\n",
      "260/260 [==============================] - 14s 54ms/step - loss: 0.2110 - acc: 0.9224 - val_loss: 0.2149 - val_acc: 0.9196\n",
      "Epoch 26/50\n",
      "260/260 [==============================] - 15s 56ms/step - loss: 0.2090 - acc: 0.9219 - val_loss: 0.2293 - val_acc: 0.9149\n",
      "Epoch 27/50\n",
      "260/260 [==============================] - 14s 54ms/step - loss: 0.2142 - acc: 0.9217 - val_loss: 0.2104 - val_acc: 0.9211\n",
      "Epoch 28/50\n",
      "260/260 [==============================] - 14s 55ms/step - loss: 0.2093 - acc: 0.9216 - val_loss: 0.2084 - val_acc: 0.9227\n",
      "Epoch 29/50\n",
      "260/260 [==============================] - 14s 55ms/step - loss: 0.2053 - acc: 0.9240 - val_loss: 0.2057 - val_acc: 0.9230\n",
      "Epoch 30/50\n",
      "260/260 [==============================] - 14s 56ms/step - loss: 0.2041 - acc: 0.9248 - val_loss: 0.2103 - val_acc: 0.9219\n",
      "Epoch 31/50\n",
      "260/260 [==============================] - 14s 55ms/step - loss: 0.2078 - acc: 0.9226 - val_loss: 0.2211 - val_acc: 0.9148\n",
      "Epoch 32/50\n",
      "260/260 [==============================] - 14s 54ms/step - loss: 0.2029 - acc: 0.9247 - val_loss: 0.2065 - val_acc: 0.9230\n",
      "Epoch 33/50\n",
      "260/260 [==============================] - 14s 53ms/step - loss: 0.2046 - acc: 0.9241 - val_loss: 0.2098 - val_acc: 0.9207\n",
      "Epoch 34/50\n",
      "260/260 [==============================] - 14s 54ms/step - loss: 0.2021 - acc: 0.9246 - val_loss: 0.2028 - val_acc: 0.9241\n",
      "Epoch 35/50\n",
      "260/260 [==============================] - 14s 55ms/step - loss: 0.1992 - acc: 0.9263 - val_loss: 0.2053 - val_acc: 0.9229\n",
      "Epoch 36/50\n",
      "260/260 [==============================] - 14s 54ms/step - loss: 0.1996 - acc: 0.9257 - val_loss: 0.2259 - val_acc: 0.9149\n",
      "Epoch 37/50\n",
      "260/260 [==============================] - 14s 55ms/step - loss: 0.2032 - acc: 0.9236 - val_loss: 0.1978 - val_acc: 0.9257\n",
      "Epoch 38/50\n",
      "260/260 [==============================] - 14s 55ms/step - loss: 0.1966 - acc: 0.9267 - val_loss: 0.2066 - val_acc: 0.9220\n",
      "Epoch 39/50\n",
      "260/260 [==============================] - 15s 56ms/step - loss: 0.1999 - acc: 0.9249 - val_loss: 0.2112 - val_acc: 0.9221\n",
      "Epoch 40/50\n",
      "260/260 [==============================] - 14s 54ms/step - loss: 0.1997 - acc: 0.9256 - val_loss: 0.1980 - val_acc: 0.9249\n",
      "Epoch 41/50\n",
      "260/260 [==============================] - 14s 55ms/step - loss: 0.1950 - acc: 0.9274 - val_loss: 0.2005 - val_acc: 0.9247\n",
      "Epoch 42/50\n",
      "260/260 [==============================] - 14s 54ms/step - loss: 0.1998 - acc: 0.9256 - val_loss: 0.2040 - val_acc: 0.9221\n",
      "Epoch 43/50\n",
      "260/260 [==============================] - 14s 54ms/step - loss: 0.1999 - acc: 0.9258 - val_loss: 0.2107 - val_acc: 0.9206\n",
      "Epoch 44/50\n",
      "260/260 [==============================] - 14s 55ms/step - loss: 0.1985 - acc: 0.9255 - val_loss: 0.2070 - val_acc: 0.9232\n",
      "Epoch 45/50\n",
      "260/260 [==============================] - 14s 53ms/step - loss: 0.1959 - acc: 0.9269 - val_loss: 0.2065 - val_acc: 0.9208\n",
      "Epoch 46/50\n",
      "260/260 [==============================] - 14s 56ms/step - loss: 0.2001 - acc: 0.9247 - val_loss: 0.1995 - val_acc: 0.9251\n",
      "Epoch 47/50\n",
      "260/260 [==============================] - 14s 55ms/step - loss: 0.2009 - acc: 0.9247 - val_loss: 0.2076 - val_acc: 0.9229\n",
      "Epoch 48/50\n",
      "260/260 [==============================] - 14s 55ms/step - loss: 0.1958 - acc: 0.9271 - val_loss: 0.2000 - val_acc: 0.9226\n",
      "Epoch 49/50\n",
      "260/260 [==============================] - 14s 53ms/step - loss: 0.1923 - acc: 0.9284 - val_loss: 0.1957 - val_acc: 0.9256\n",
      "Epoch 50/50\n",
      "260/260 [==============================] - 14s 55ms/step - loss: 0.1914 - acc: 0.9292 - val_loss: 0.2027 - val_acc: 0.9243\n"
     ]
    }
   ],
   "source": [
    "# train model\n",
    "history_v0_50  = pfn_v0_50.fit(X_train, Y_train,\n",
    "        epochs=50,\n",
    "        batch_size=500,\n",
    "        validation_data=(X_val, Y_val),\n",
    "        verbose=1)"
   ]
  },
  {
   "cell_type": "code",
   "execution_count": 13,
   "id": "7aa10413-2166-4bcf-91fc-0a12372373b0",
   "metadata": {},
   "outputs": [],
   "source": [
    "pfn_v0_50.save(modelpath+'pfn_v0_50_epochs_v2.h5')"
   ]
  },
  {
   "cell_type": "code",
   "execution_count": 14,
   "id": "5b055246-a216-48f7-a799-9b95025e3ce2",
   "metadata": {},
   "outputs": [
    {
     "name": "stdout",
     "output_type": "stream",
     "text": [
      "Epochs run:  50\n",
      "AUC: 0.9748689534986894\n"
     ]
    }
   ],
   "source": [
    "# get area under the ROC curve\n",
    "preds_v0_50 = pfn_v0_50.predict(X_test, batch_size=1000)\n",
    "auc_v0_50 = roc_auc_score(Y_test[:,1], preds_v0_50[:,1])\n",
    "print(\"Epochs run: \" , len(history_v0_50.history['loss']) )\n",
    "print('AUC:', auc_v0_50)"
   ]
  },
  {
   "cell_type": "code",
   "execution_count": 15,
   "id": "f91bab13-86ba-4165-a4ab-55775b6cd155",
   "metadata": {},
   "outputs": [
    {
     "data": {
      "text/plain": [
       "<Figure size 432x288 with 0 Axes>"
      ]
     },
     "metadata": {},
     "output_type": "display_data"
    },
    {
     "data": {
      "image/png": "[encoded data removed]",
      "text/plain": [
       "<Figure size 432x288 with 1 Axes>"
      ]
     },
     "metadata": {},
     "output_type": "display_data"
    },
    {
     "data": {
      "image/png": "[encoded data removed]",
      "text/plain": [
       "<Figure size 432x288 with 1 Axes>"
      ]
     },
     "metadata": {},
     "output_type": "display_data"
    }
   ],
   "source": [
    "plt.cla(); plt.clf()\n",
    "fig = plt.figure()\n",
    "fig.patch.set_facecolor('white')\n",
    "\n",
    "plt.plot(history_v0_50.history['acc'])\n",
    "plt.plot(history_v0_50.history['val_acc'])\n",
    "plt.title('model accuracy')\n",
    "plt.ylabel('accuracy')\n",
    "plt.xlabel('epoch')\n",
    "plt.legend(['train', 'test'], loc='upper left')\n",
    "# plt.savefig('Plots/accuracy_' + layer + '.pdf')\n",
    "plt.show()\n",
    "\n",
    "\n",
    "# summarize history for loss\n",
    "fig = plt.figure()\n",
    "fig.patch.set_facecolor('white')\n",
    "plt.plot(history_v0_50.history['loss'])\n",
    "plt.plot(history_v0_50.history['val_loss'])\n",
    "plt.title('model loss')\n",
    "plt.ylabel('loss')\n",
    "plt.xlabel('epoch')\n",
    "plt.yscale('log')\n",
    "plt.legend(['train', 'test'], loc='upper left')\n",
    "# plt.savefig(plotpath + 'loss_' + layer + '.pdf')\n",
    "plt.show()"
   ]
  },
  {
   "cell_type": "markdown",
   "id": "d89bd8ba-e2db-4fee-8422-9e39bc1c5d53",
   "metadata": {},
   "source": [
    "## Adding in regularization"
   ]
  },
  {
   "cell_type": "markdown",
   "id": "81c22240-cf57-4e7e-947f-618001f9f2f8",
   "metadata": {},
   "source": [
    "add a penalty for weight size to the loss function.\n",
    "\n",
    "Three different regularizer instances are provided; they are:\n",
    "\n",
    "L1: Sum of the absolute weights.\n",
    "L2: Sum of the squared weights.\n",
    "L1L2: Sum of the absolute and the squared weights."
   ]
  },
  {
   "cell_type": "markdown",
   "id": "da5f5e0b-78e7-4045-b9b3-aa82f852523f",
   "metadata": {},
   "source": [
    "* ### latent_dropout"
   ]
  },
  {
   "cell_type": "markdown",
   "id": "f112a2d9-cd9f-4571-b0fb-fa79d983a8e6",
   "metadata": {},
   "source": [
    "latent_dropout=0 : float\n",
    "\n",
    "Dropout rates for the summation layer that defines the value of the latent observables on the inputs.\n",
    "\n",
    "[Keras Dropout layer](https://keras.io/api/layers/regularization_layers/dropout/)\n",
    "The Dropout layer randomly sets input units to 0 with a frequency of rate at each step during training time, which helps prevent overfitting. Inputs not set to 0 are scaled up by 1/(1 - rate) such that the sum over all inputs is unchanged.\n",
    "\n",
    " dropout fractions in ML4Pions note are set to 0.2."
   ]
  },
  {
   "cell_type": "markdown",
   "id": "a6a8865b-8060-4d00-b9bd-c51927162344",
   "metadata": {},
   "source": [
    "* latent_dropout=0.2, 50 Epochs"
   ]
  },
  {
   "cell_type": "code",
   "execution_count": 59,
   "id": "fb1da2d5-c1c0-4f31-989a-8099b986314c",
   "metadata": {
    "collapsed": true,
    "jupyter": {
     "outputs_hidden": true
    },
    "tags": []
   },
   "outputs": [
    {
     "name": "stdout",
     "output_type": "stream",
     "text": [
      "Model: \"model_7\"\n",
      "__________________________________________________________________________________________________\n",
      "Layer (type)                    Output Shape         Param #     Connected to                     \n",
      "==================================================================================================\n",
      "input (InputLayer)              [(None, None, 4)]    0                                            \n",
      "__________________________________________________________________________________________________\n",
      "tdist_0 (TimeDistributed)       (None, None, 100)    500         input[0][0]                      \n",
      "__________________________________________________________________________________________________\n",
      "activation_49 (Activation)      (None, None, 100)    0           tdist_0[0][0]                    \n",
      "__________________________________________________________________________________________________\n",
      "tdist_1 (TimeDistributed)       (None, None, 100)    10100       activation_49[0][0]              \n",
      "__________________________________________________________________________________________________\n",
      "activation_50 (Activation)      (None, None, 100)    0           tdist_1[0][0]                    \n",
      "__________________________________________________________________________________________________\n",
      "tdist_2 (TimeDistributed)       (None, None, 128)    12928       activation_50[0][0]              \n",
      "__________________________________________________________________________________________________\n",
      "mask (Lambda)                   (None, None)         0           input[0][0]                      \n",
      "__________________________________________________________________________________________________\n",
      "activation_51 (Activation)      (None, None, 128)    0           tdist_2[0][0]                    \n",
      "__________________________________________________________________________________________________\n",
      "sum (Dot)                       (None, 128)          0           mask[0][0]                       \n",
      "                                                                 activation_51[0][0]              \n",
      "__________________________________________________________________________________________________\n",
      "sum_dropout (Dropout)           (None, 128)          0           sum[0][0]                        \n",
      "__________________________________________________________________________________________________\n",
      "dense_0 (Dense)                 (None, 100)          12900       sum_dropout[0][0]                \n",
      "__________________________________________________________________________________________________\n",
      "activation_52 (Activation)      (None, 100)          0           dense_0[0][0]                    \n",
      "__________________________________________________________________________________________________\n",
      "dense_1 (Dense)                 (None, 100)          10100       activation_52[0][0]              \n",
      "__________________________________________________________________________________________________\n",
      "activation_53 (Activation)      (None, 100)          0           dense_1[0][0]                    \n",
      "__________________________________________________________________________________________________\n",
      "dense_2 (Dense)                 (None, 100)          10100       activation_53[0][0]              \n",
      "__________________________________________________________________________________________________\n",
      "activation_54 (Activation)      (None, 100)          0           dense_2[0][0]                    \n",
      "__________________________________________________________________________________________________\n",
      "output (Dense)                  (None, 2)            202         activation_54[0][0]              \n",
      "__________________________________________________________________________________________________\n",
      "activation_55 (Activation)      (None, 2)            0           output[0][0]                     \n",
      "==================================================================================================\n",
      "Total params: 56,830\n",
      "Trainable params: 56,830\n",
      "Non-trainable params: 0\n",
      "__________________________________________________________________________________________________\n"
     ]
    }
   ],
   "source": [
    "pfn_latent_dropout_02 = PFN(input_dim=X.shape[-1], Phi_sizes=Phi_sizes, F_sizes=F_sizes, latent_dropout=0.2)"
   ]
  },
  {
   "cell_type": "code",
   "execution_count": 60,
   "id": "c1ba7a5b-cfa7-4543-826c-ae00abdb5cf1",
   "metadata": {
    "collapsed": true,
    "jupyter": {
     "outputs_hidden": true
    },
    "tags": []
   },
   "outputs": [
    {
     "name": "stdout",
     "output_type": "stream",
     "text": [
      "Epoch 1/50\n",
      "260/260 [==============================] - 15s 56ms/step - loss: 6.4502 - acc: 0.6712 - val_loss: 0.4711 - val_acc: 0.7884\n",
      "Epoch 2/50\n",
      "260/260 [==============================] - 14s 54ms/step - loss: 0.5331 - acc: 0.7708 - val_loss: 0.4133 - val_acc: 0.7919\n",
      "Epoch 3/50\n",
      "260/260 [==============================] - 14s 54ms/step - loss: 0.4430 - acc: 0.7839 - val_loss: 0.4017 - val_acc: 0.7973\n",
      "Epoch 4/50\n",
      "260/260 [==============================] - 14s 54ms/step - loss: 0.4109 - acc: 0.8043 - val_loss: 0.3742 - val_acc: 0.8179\n",
      "Epoch 5/50\n",
      "260/260 [==============================] - 14s 54ms/step - loss: 0.3806 - acc: 0.8234 - val_loss: 0.3437 - val_acc: 0.8360\n",
      "Epoch 6/50\n",
      "260/260 [==============================] - 14s 54ms/step - loss: 0.3399 - acc: 0.8521 - val_loss: 0.2854 - val_acc: 0.8920\n",
      "Epoch 7/50\n",
      "260/260 [==============================] - 14s 54ms/step - loss: 0.2955 - acc: 0.8796 - val_loss: 0.2624 - val_acc: 0.8940\n",
      "Epoch 8/50\n",
      "260/260 [==============================] - 15s 56ms/step - loss: 0.2756 - acc: 0.8891 - val_loss: 0.2523 - val_acc: 0.8992\n",
      "Epoch 9/50\n",
      "260/260 [==============================] - 15s 56ms/step - loss: 0.2621 - acc: 0.8966 - val_loss: 0.2479 - val_acc: 0.9041\n",
      "Epoch 10/50\n",
      "260/260 [==============================] - 14s 54ms/step - loss: 0.2530 - acc: 0.9025 - val_loss: 0.2474 - val_acc: 0.9051\n",
      "Epoch 11/50\n",
      "260/260 [==============================] - 14s 54ms/step - loss: 0.2479 - acc: 0.9045 - val_loss: 0.2382 - val_acc: 0.9071\n",
      "Epoch 12/50\n",
      "260/260 [==============================] - 14s 54ms/step - loss: 0.2421 - acc: 0.9076 - val_loss: 0.2331 - val_acc: 0.9124\n",
      "Epoch 13/50\n",
      "260/260 [==============================] - 14s 56ms/step - loss: 0.2382 - acc: 0.9085 - val_loss: 0.2242 - val_acc: 0.9188\n",
      "Epoch 14/50\n",
      "260/260 [==============================] - 14s 55ms/step - loss: 0.2313 - acc: 0.9128 - val_loss: 0.2253 - val_acc: 0.9180\n",
      "Epoch 15/50\n",
      "260/260 [==============================] - 14s 56ms/step - loss: 0.2285 - acc: 0.9135 - val_loss: 0.2210 - val_acc: 0.9189\n",
      "Epoch 16/50\n",
      "260/260 [==============================] - 15s 58ms/step - loss: 0.2308 - acc: 0.9123 - val_loss: 0.2273 - val_acc: 0.9150\n",
      "Epoch 17/50\n",
      "260/260 [==============================] - 14s 54ms/step - loss: 0.2275 - acc: 0.9142 - val_loss: 0.2215 - val_acc: 0.9156\n",
      "Epoch 18/50\n",
      "260/260 [==============================] - 14s 54ms/step - loss: 0.2188 - acc: 0.9176 - val_loss: 0.2200 - val_acc: 0.9190\n",
      "Epoch 19/50\n",
      "260/260 [==============================] - 14s 54ms/step - loss: 0.2191 - acc: 0.9179 - val_loss: 0.2155 - val_acc: 0.9177\n",
      "Epoch 20/50\n",
      "260/260 [==============================] - 14s 54ms/step - loss: 0.2185 - acc: 0.9167 - val_loss: 0.2109 - val_acc: 0.9221\n",
      "Epoch 21/50\n",
      "260/260 [==============================] - 14s 54ms/step - loss: 0.2182 - acc: 0.9181 - val_loss: 0.2190 - val_acc: 0.9171\n",
      "Epoch 22/50\n",
      "260/260 [==============================] - 14s 56ms/step - loss: 0.2195 - acc: 0.9173 - val_loss: 0.2131 - val_acc: 0.9192\n",
      "Epoch 23/50\n",
      "260/260 [==============================] - 14s 55ms/step - loss: 0.2182 - acc: 0.9184 - val_loss: 0.2165 - val_acc: 0.9170\n",
      "Epoch 24/50\n",
      "260/260 [==============================] - 14s 55ms/step - loss: 0.2169 - acc: 0.9175 - val_loss: 0.2100 - val_acc: 0.9212\n",
      "Epoch 25/50\n",
      "260/260 [==============================] - 14s 54ms/step - loss: 0.2158 - acc: 0.9189 - val_loss: 0.2106 - val_acc: 0.9188\n",
      "Epoch 26/50\n",
      "260/260 [==============================] - 15s 56ms/step - loss: 0.2205 - acc: 0.9168 - val_loss: 0.2085 - val_acc: 0.9207\n",
      "Epoch 27/50\n",
      "260/260 [==============================] - 14s 54ms/step - loss: 0.2141 - acc: 0.9190 - val_loss: 0.2085 - val_acc: 0.9210\n",
      "Epoch 28/50\n",
      "260/260 [==============================] - 14s 54ms/step - loss: 0.2109 - acc: 0.9205 - val_loss: 0.2115 - val_acc: 0.9192\n",
      "Epoch 29/50\n",
      "260/260 [==============================] - 14s 53ms/step - loss: 0.2133 - acc: 0.9203 - val_loss: 0.2223 - val_acc: 0.9160\n",
      "Epoch 30/50\n",
      "260/260 [==============================] - 14s 54ms/step - loss: 0.2099 - acc: 0.9202 - val_loss: 0.2012 - val_acc: 0.9239\n",
      "Epoch 31/50\n",
      "260/260 [==============================] - 14s 56ms/step - loss: 0.2097 - acc: 0.9208 - val_loss: 0.2114 - val_acc: 0.9202\n",
      "Epoch 32/50\n",
      "260/260 [==============================] - 14s 55ms/step - loss: 0.2064 - acc: 0.9225 - val_loss: 0.2180 - val_acc: 0.9163\n",
      "Epoch 33/50\n",
      "260/260 [==============================] - 14s 54ms/step - loss: 0.2068 - acc: 0.9225 - val_loss: 0.2031 - val_acc: 0.9243\n",
      "Epoch 34/50\n",
      "260/260 [==============================] - 14s 54ms/step - loss: 0.2078 - acc: 0.9219 - val_loss: 0.2023 - val_acc: 0.9246\n",
      "Epoch 35/50\n",
      "260/260 [==============================] - 14s 54ms/step - loss: 0.2046 - acc: 0.9229 - val_loss: 0.2076 - val_acc: 0.9230\n",
      "Epoch 36/50\n",
      "260/260 [==============================] - 14s 54ms/step - loss: 0.2016 - acc: 0.9243 - val_loss: 0.2013 - val_acc: 0.9237\n",
      "Epoch 37/50\n",
      "260/260 [==============================] - 14s 54ms/step - loss: 0.2052 - acc: 0.9227 - val_loss: 0.2006 - val_acc: 0.9250\n",
      "Epoch 38/50\n",
      "260/260 [==============================] - 14s 54ms/step - loss: 0.2026 - acc: 0.9237 - val_loss: 0.2053 - val_acc: 0.9228\n",
      "Epoch 39/50\n",
      "260/260 [==============================] - 14s 54ms/step - loss: 0.2007 - acc: 0.9239 - val_loss: 0.2108 - val_acc: 0.9205\n",
      "Epoch 40/50\n",
      "260/260 [==============================] - 14s 54ms/step - loss: 0.2008 - acc: 0.9246 - val_loss: 0.2243 - val_acc: 0.9165\n",
      "Epoch 41/50\n",
      "260/260 [==============================] - 14s 54ms/step - loss: 0.1982 - acc: 0.9253 - val_loss: 0.2068 - val_acc: 0.9215\n",
      "Epoch 42/50\n",
      "260/260 [==============================] - 14s 54ms/step - loss: 0.1973 - acc: 0.9263 - val_loss: 0.1964 - val_acc: 0.9278\n",
      "Epoch 43/50\n",
      "260/260 [==============================] - 15s 56ms/step - loss: 0.2004 - acc: 0.9244 - val_loss: 0.2080 - val_acc: 0.9213\n",
      "Epoch 44/50\n",
      "260/260 [==============================] - 14s 54ms/step - loss: 0.1999 - acc: 0.9251 - val_loss: 0.1964 - val_acc: 0.9277\n",
      "Epoch 45/50\n",
      "260/260 [==============================] - 14s 54ms/step - loss: 0.1957 - acc: 0.9256 - val_loss: 0.1956 - val_acc: 0.9277\n",
      "Epoch 46/50\n",
      "260/260 [==============================] - 14s 54ms/step - loss: 0.1953 - acc: 0.9274 - val_loss: 0.2035 - val_acc: 0.9238\n",
      "Epoch 47/50\n",
      "260/260 [==============================] - 14s 54ms/step - loss: 0.1958 - acc: 0.9269 - val_loss: 0.1995 - val_acc: 0.9263\n",
      "Epoch 48/50\n",
      "260/260 [==============================] - 14s 54ms/step - loss: 0.1938 - acc: 0.9283 - val_loss: 0.1985 - val_acc: 0.9260\n",
      "Epoch 49/50\n",
      "260/260 [==============================] - 14s 54ms/step - loss: 0.1927 - acc: 0.9279 - val_loss: 0.2019 - val_acc: 0.9245\n",
      "Epoch 50/50\n",
      "260/260 [==============================] - 14s 54ms/step - loss: 0.1966 - acc: 0.9258 - val_loss: 0.2030 - val_acc: 0.9241\n"
     ]
    }
   ],
   "source": [
    "history_latent_dropout_02 = pfn_latent_dropout_02.fit(X_train, Y_train,\n",
    "        epochs=50,\n",
    "        batch_size=500,\n",
    "        validation_data=(X_val, Y_val),\n",
    "        verbose=1)"
   ]
  },
  {
   "cell_type": "code",
   "execution_count": 61,
   "id": "e428a7f3-e63d-4609-b9a2-b3c40d697533",
   "metadata": {},
   "outputs": [],
   "source": [
    "pfn_latent_dropout_02.save(modelpath+'pfn_latent_dropout_02.h5')"
   ]
  },
  {
   "cell_type": "code",
   "execution_count": 63,
   "id": "95d23f68-8cc8-4869-a1be-bf9965cc3e52",
   "metadata": {
    "tags": []
   },
   "outputs": [
    {
     "name": "stdout",
     "output_type": "stream",
     "text": [
      "Epochs run:  50\n",
      "AUC: 0.9751679597516796\n"
     ]
    }
   ],
   "source": [
    "# get area under the ROC curve\n",
    "preds_latent_dropout_02 = pfn_latent_dropout_02.predict(X_test, batch_size=1000)\n",
    "auc_latent_dropout_02 = roc_auc_score(Y_test[:,1], preds_latent_dropout_02[:,1])\n",
    "print(\"Epochs run: \" , len(history_latent_dropout_02.history['loss']) )\n",
    "print('AUC:', auc_latent_dropout_02)"
   ]
  },
  {
   "cell_type": "code",
   "execution_count": 64,
   "id": "c644fd2f-343a-4995-909f-3b6fa0c4cfba",
   "metadata": {
    "tags": []
   },
   "outputs": [
    {
     "data": {
      "text/plain": [
       "<Figure size 432x288 with 0 Axes>"
      ]
     },
     "metadata": {},
     "output_type": "display_data"
    },
    {
     "data": {
      "image/png": "[encoded data removed]",
      "text/plain": [
       "<Figure size 432x288 with 1 Axes>"
      ]
     },
     "metadata": {},
     "output_type": "display_data"
    },
    {
     "data": {
      "image/png": "[encoded data removed]",
      "text/plain": [
       "<Figure size 432x288 with 1 Axes>"
      ]
     },
     "metadata": {},
     "output_type": "display_data"
    }
   ],
   "source": [
    "plt.cla(); plt.clf()\n",
    "fig = plt.figure()\n",
    "fig.patch.set_facecolor('white')\n",
    "\n",
    "plt.plot(history_latent_dropout_02.history['acc'])\n",
    "plt.plot(history_latent_dropout_02.history['val_acc'])\n",
    "plt.title('model accuracy')\n",
    "plt.ylabel('accuracy')\n",
    "plt.xlabel('epoch')\n",
    "plt.legend(['train', 'test'], loc='upper left')\n",
    "# plt.savefig('Plots/accuracy_' + layer + '.pdf')\n",
    "plt.show()\n",
    "\n",
    "\n",
    "# summarize history for loss\n",
    "fig = plt.figure()\n",
    "fig.patch.set_facecolor('white')\n",
    "plt.plot(history_latent_dropout_02.history['loss'])\n",
    "plt.plot(history_latent_dropout_02.history['val_loss'])\n",
    "plt.title('model loss')\n",
    "plt.ylabel('loss')\n",
    "plt.xlabel('epoch')\n",
    "plt.yscale('log')\n",
    "plt.legend(['train', 'test'], loc='upper left')\n",
    "# plt.savefig(plotpath + 'loss_' + layer + '.pdf')\n",
    "plt.show()"
   ]
  },
  {
   "cell_type": "code",
   "execution_count": null,
   "id": "87d6c5f4-c43c-4682-af49-9732f44c332d",
   "metadata": {},
   "outputs": [],
   "source": []
  },
  {
   "cell_type": "markdown",
   "id": "6e3a5c14-bf5e-4c2f-b653-60e17e511ede",
   "metadata": {},
   "source": [
    "* latent_dropout=0.2, 100 Epochs"
   ]
  },
  {
   "cell_type": "code",
   "execution_count": 26,
   "id": "f7a81f4d-7595-4740-843d-d18757345637",
   "metadata": {
    "collapsed": true,
    "jupyter": {
     "outputs_hidden": true
    },
    "tags": []
   },
   "outputs": [
    {
     "name": "stdout",
     "output_type": "stream",
     "text": [
      "Model: \"model_3\"\n",
      "__________________________________________________________________________________________________\n",
      "Layer (type)                    Output Shape         Param #     Connected to                     \n",
      "==================================================================================================\n",
      "input (InputLayer)              [(None, None, 4)]    0                                            \n",
      "__________________________________________________________________________________________________\n",
      "tdist_0 (TimeDistributed)       (None, None, 100)    500         input[0][0]                      \n",
      "__________________________________________________________________________________________________\n",
      "activation_21 (Activation)      (None, None, 100)    0           tdist_0[0][0]                    \n",
      "__________________________________________________________________________________________________\n",
      "tdist_1 (TimeDistributed)       (None, None, 100)    10100       activation_21[0][0]              \n",
      "__________________________________________________________________________________________________\n",
      "activation_22 (Activation)      (None, None, 100)    0           tdist_1[0][0]                    \n",
      "__________________________________________________________________________________________________\n",
      "tdist_2 (TimeDistributed)       (None, None, 128)    12928       activation_22[0][0]              \n",
      "__________________________________________________________________________________________________\n",
      "mask (Lambda)                   (None, None)         0           input[0][0]                      \n",
      "__________________________________________________________________________________________________\n",
      "activation_23 (Activation)      (None, None, 128)    0           tdist_2[0][0]                    \n",
      "__________________________________________________________________________________________________\n",
      "sum (Dot)                       (None, 128)          0           mask[0][0]                       \n",
      "                                                                 activation_23[0][0]              \n",
      "__________________________________________________________________________________________________\n",
      "sum_dropout (Dropout)           (None, 128)          0           sum[0][0]                        \n",
      "__________________________________________________________________________________________________\n",
      "dense_0 (Dense)                 (None, 100)          12900       sum_dropout[0][0]                \n",
      "__________________________________________________________________________________________________\n",
      "activation_24 (Activation)      (None, 100)          0           dense_0[0][0]                    \n",
      "__________________________________________________________________________________________________\n",
      "dense_1 (Dense)                 (None, 100)          10100       activation_24[0][0]              \n",
      "__________________________________________________________________________________________________\n",
      "activation_25 (Activation)      (None, 100)          0           dense_1[0][0]                    \n",
      "__________________________________________________________________________________________________\n",
      "dense_2 (Dense)                 (None, 100)          10100       activation_25[0][0]              \n",
      "__________________________________________________________________________________________________\n",
      "activation_26 (Activation)      (None, 100)          0           dense_2[0][0]                    \n",
      "__________________________________________________________________________________________________\n",
      "output (Dense)                  (None, 2)            202         activation_26[0][0]              \n",
      "__________________________________________________________________________________________________\n",
      "activation_27 (Activation)      (None, 2)            0           output[0][0]                     \n",
      "==================================================================================================\n",
      "Total params: 56,830\n",
      "Trainable params: 56,830\n",
      "Non-trainable params: 0\n",
      "__________________________________________________________________________________________________\n"
     ]
    }
   ],
   "source": [
    "pfn_latent_dropout_02_100Ep = PFN(input_dim=X.shape[-1], Phi_sizes=Phi_sizes, F_sizes=F_sizes, latent_dropout=0.2)"
   ]
  },
  {
   "cell_type": "code",
   "execution_count": 27,
   "id": "49f1bacf-f912-4727-a1d0-36f9fe4cb10b",
   "metadata": {
    "collapsed": true,
    "jupyter": {
     "outputs_hidden": true
    },
    "tags": []
   },
   "outputs": [
    {
     "name": "stdout",
     "output_type": "stream",
     "text": [
      "Epoch 1/100\n",
      "260/260 [==============================] - 15s 55ms/step - loss: 7.7123 - acc: 0.6569 - val_loss: 0.4726 - val_acc: 0.7840\n",
      "Epoch 2/100\n",
      "260/260 [==============================] - 14s 53ms/step - loss: 0.5080 - acc: 0.7684 - val_loss: 0.4269 - val_acc: 0.7850\n",
      "Epoch 3/100\n",
      "260/260 [==============================] - 14s 53ms/step - loss: 0.4390 - acc: 0.7818 - val_loss: 0.4116 - val_acc: 0.7896\n",
      "Epoch 4/100\n",
      "260/260 [==============================] - 14s 53ms/step - loss: 0.4137 - acc: 0.8008 - val_loss: 0.3859 - val_acc: 0.8141\n",
      "Epoch 5/100\n",
      "260/260 [==============================] - 14s 54ms/step - loss: 0.3870 - acc: 0.8187 - val_loss: 0.3625 - val_acc: 0.8338\n",
      "Epoch 6/100\n",
      "260/260 [==============================] - 14s 54ms/step - loss: 0.3598 - acc: 0.8395 - val_loss: 0.3268 - val_acc: 0.8536\n",
      "Epoch 7/100\n",
      "260/260 [==============================] - 14s 55ms/step - loss: 0.3118 - acc: 0.8717 - val_loss: 0.2675 - val_acc: 0.8955\n",
      "Epoch 8/100\n",
      "260/260 [==============================] - 14s 54ms/step - loss: 0.2870 - acc: 0.8862 - val_loss: 0.2404 - val_acc: 0.9045\n",
      "Epoch 9/100\n",
      "260/260 [==============================] - 14s 54ms/step - loss: 0.2674 - acc: 0.8933 - val_loss: 0.2381 - val_acc: 0.9057\n",
      "Epoch 10/100\n",
      "260/260 [==============================] - 14s 54ms/step - loss: 0.2546 - acc: 0.9016 - val_loss: 0.2461 - val_acc: 0.9020\n",
      "Epoch 11/100\n",
      "260/260 [==============================] - 14s 54ms/step - loss: 0.2499 - acc: 0.9033 - val_loss: 0.2330 - val_acc: 0.9103\n",
      "Epoch 12/100\n",
      "260/260 [==============================] - 14s 54ms/step - loss: 0.2427 - acc: 0.9075 - val_loss: 0.2314 - val_acc: 0.9075\n",
      "Epoch 13/100\n",
      "260/260 [==============================] - 14s 54ms/step - loss: 0.2416 - acc: 0.9074 - val_loss: 0.2191 - val_acc: 0.9125\n",
      "Epoch 14/100\n",
      "260/260 [==============================] - 14s 54ms/step - loss: 0.2387 - acc: 0.9092 - val_loss: 0.2213 - val_acc: 0.9132\n",
      "Epoch 15/100\n",
      "260/260 [==============================] - 14s 53ms/step - loss: 0.2304 - acc: 0.9134 - val_loss: 0.2163 - val_acc: 0.9150\n",
      "Epoch 16/100\n",
      "260/260 [==============================] - 14s 54ms/step - loss: 0.2300 - acc: 0.9123 - val_loss: 0.2308 - val_acc: 0.9120\n",
      "Epoch 17/100\n",
      "260/260 [==============================] - 14s 54ms/step - loss: 0.2291 - acc: 0.9131 - val_loss: 0.2194 - val_acc: 0.9140\n",
      "Epoch 18/100\n",
      "260/260 [==============================] - 14s 53ms/step - loss: 0.2265 - acc: 0.9145 - val_loss: 0.2192 - val_acc: 0.9124\n",
      "Epoch 19/100\n",
      "260/260 [==============================] - 14s 54ms/step - loss: 0.2195 - acc: 0.9179 - val_loss: 0.2091 - val_acc: 0.9190\n",
      "Epoch 20/100\n",
      "260/260 [==============================] - 14s 54ms/step - loss: 0.2215 - acc: 0.9165 - val_loss: 0.2078 - val_acc: 0.9208\n",
      "Epoch 21/100\n",
      "260/260 [==============================] - 14s 54ms/step - loss: 0.2189 - acc: 0.9184 - val_loss: 0.2047 - val_acc: 0.9231\n",
      "Epoch 22/100\n",
      "260/260 [==============================] - 14s 54ms/step - loss: 0.2147 - acc: 0.9191 - val_loss: 0.2209 - val_acc: 0.9151\n",
      "Epoch 23/100\n",
      "260/260 [==============================] - 14s 54ms/step - loss: 0.2189 - acc: 0.9178 - val_loss: 0.2062 - val_acc: 0.9198\n",
      "Epoch 24/100\n",
      "260/260 [==============================] - 14s 54ms/step - loss: 0.2142 - acc: 0.9199 - val_loss: 0.2095 - val_acc: 0.9180\n",
      "Epoch 25/100\n",
      "260/260 [==============================] - 14s 53ms/step - loss: 0.2143 - acc: 0.9199 - val_loss: 0.2047 - val_acc: 0.9211\n",
      "Epoch 26/100\n",
      "260/260 [==============================] - 14s 53ms/step - loss: 0.2121 - acc: 0.9197 - val_loss: 0.2150 - val_acc: 0.9152\n",
      "Epoch 27/100\n",
      "260/260 [==============================] - 14s 54ms/step - loss: 0.2154 - acc: 0.9204 - val_loss: 0.1992 - val_acc: 0.9224\n",
      "Epoch 28/100\n",
      "260/260 [==============================] - 14s 53ms/step - loss: 0.2126 - acc: 0.9203 - val_loss: 0.2083 - val_acc: 0.9189\n",
      "Epoch 29/100\n",
      "260/260 [==============================] - 14s 54ms/step - loss: 0.2110 - acc: 0.9206 - val_loss: 0.2093 - val_acc: 0.9202\n",
      "Epoch 30/100\n",
      "260/260 [==============================] - 14s 54ms/step - loss: 0.2080 - acc: 0.9222 - val_loss: 0.2032 - val_acc: 0.9204\n",
      "Epoch 31/100\n",
      "260/260 [==============================] - 14s 54ms/step - loss: 0.2143 - acc: 0.9195 - val_loss: 0.2011 - val_acc: 0.9230\n",
      "Epoch 32/100\n",
      "260/260 [==============================] - 14s 54ms/step - loss: 0.2105 - acc: 0.9222 - val_loss: 0.2019 - val_acc: 0.9231\n",
      "Epoch 33/100\n",
      "260/260 [==============================] - 14s 54ms/step - loss: 0.2077 - acc: 0.9221 - val_loss: 0.2011 - val_acc: 0.9223\n",
      "Epoch 34/100\n",
      "260/260 [==============================] - 14s 54ms/step - loss: 0.2064 - acc: 0.9229 - val_loss: 0.1996 - val_acc: 0.9241\n",
      "Epoch 35/100\n",
      "260/260 [==============================] - 14s 54ms/step - loss: 0.2095 - acc: 0.9216 - val_loss: 0.2121 - val_acc: 0.9193\n",
      "Epoch 36/100\n",
      "260/260 [==============================] - 14s 54ms/step - loss: 0.2083 - acc: 0.9215 - val_loss: 0.1993 - val_acc: 0.9240\n",
      "Epoch 37/100\n",
      "260/260 [==============================] - 14s 55ms/step - loss: 0.2015 - acc: 0.9246 - val_loss: 0.2025 - val_acc: 0.9229\n",
      "Epoch 38/100\n",
      "260/260 [==============================] - 14s 54ms/step - loss: 0.2068 - acc: 0.9226 - val_loss: 0.1999 - val_acc: 0.9231\n",
      "Epoch 39/100\n",
      "260/260 [==============================] - 14s 54ms/step - loss: 0.2026 - acc: 0.9237 - val_loss: 0.1996 - val_acc: 0.9235\n",
      "Epoch 40/100\n",
      "260/260 [==============================] - 14s 54ms/step - loss: 0.2027 - acc: 0.9245 - val_loss: 0.1999 - val_acc: 0.9241\n",
      "Epoch 41/100\n",
      "260/260 [==============================] - 14s 55ms/step - loss: 0.2013 - acc: 0.9248 - val_loss: 0.2021 - val_acc: 0.9231\n",
      "Epoch 42/100\n",
      "260/260 [==============================] - 14s 54ms/step - loss: 0.1997 - acc: 0.9251 - val_loss: 0.1976 - val_acc: 0.9260\n",
      "Epoch 43/100\n",
      "260/260 [==============================] - 14s 53ms/step - loss: 0.2064 - acc: 0.9233 - val_loss: 0.1976 - val_acc: 0.9252\n",
      "Epoch 44/100\n",
      "260/260 [==============================] - 14s 54ms/step - loss: 0.1995 - acc: 0.9256 - val_loss: 0.2009 - val_acc: 0.9244\n",
      "Epoch 45/100\n",
      "260/260 [==============================] - 14s 55ms/step - loss: 0.1991 - acc: 0.9250 - val_loss: 0.1974 - val_acc: 0.9242\n",
      "Epoch 46/100\n",
      "260/260 [==============================] - 14s 54ms/step - loss: 0.2026 - acc: 0.9241 - val_loss: 0.2078 - val_acc: 0.9215\n",
      "Epoch 47/100\n",
      "260/260 [==============================] - 14s 54ms/step - loss: 0.2004 - acc: 0.9255 - val_loss: 0.1977 - val_acc: 0.9255\n",
      "Epoch 48/100\n",
      "260/260 [==============================] - 14s 54ms/step - loss: 0.2001 - acc: 0.9264 - val_loss: 0.1984 - val_acc: 0.9245\n",
      "Epoch 49/100\n",
      "260/260 [==============================] - 14s 53ms/step - loss: 0.2002 - acc: 0.9262 - val_loss: 0.1949 - val_acc: 0.9265\n",
      "Epoch 50/100\n",
      "260/260 [==============================] - 14s 54ms/step - loss: 0.1975 - acc: 0.9259 - val_loss: 0.1937 - val_acc: 0.9275\n",
      "Epoch 51/100\n",
      "260/260 [==============================] - 14s 54ms/step - loss: 0.1978 - acc: 0.9264 - val_loss: 0.1981 - val_acc: 0.9239\n",
      "Epoch 52/100\n",
      "260/260 [==============================] - 14s 54ms/step - loss: 0.1982 - acc: 0.9266 - val_loss: 0.1952 - val_acc: 0.9258\n",
      "Epoch 53/100\n",
      "260/260 [==============================] - 14s 54ms/step - loss: 0.1965 - acc: 0.9272 - val_loss: 0.1994 - val_acc: 0.9239\n",
      "Epoch 54/100\n",
      "260/260 [==============================] - 14s 54ms/step - loss: 0.1947 - acc: 0.9276 - val_loss: 0.1919 - val_acc: 0.9282\n",
      "Epoch 55/100\n",
      "260/260 [==============================] - 14s 54ms/step - loss: 0.1959 - acc: 0.9268 - val_loss: 0.1983 - val_acc: 0.9248\n",
      "Epoch 56/100\n",
      "260/260 [==============================] - 14s 55ms/step - loss: 0.1964 - acc: 0.9269 - val_loss: 0.2017 - val_acc: 0.9239\n",
      "Epoch 57/100\n",
      "260/260 [==============================] - 14s 55ms/step - loss: 0.1926 - acc: 0.9281 - val_loss: 0.1913 - val_acc: 0.9284\n",
      "Epoch 58/100\n",
      "260/260 [==============================] - 14s 54ms/step - loss: 0.1928 - acc: 0.9286 - val_loss: 0.2117 - val_acc: 0.9192\n",
      "Epoch 59/100\n",
      "260/260 [==============================] - 14s 55ms/step - loss: 0.1994 - acc: 0.9253 - val_loss: 0.2059 - val_acc: 0.9205\n",
      "Epoch 60/100\n",
      "260/260 [==============================] - 14s 54ms/step - loss: 0.1949 - acc: 0.9270 - val_loss: 0.2013 - val_acc: 0.9226\n",
      "Epoch 61/100\n",
      "260/260 [==============================] - 14s 53ms/step - loss: 0.1932 - acc: 0.9278 - val_loss: 0.2012 - val_acc: 0.9251\n",
      "Epoch 62/100\n",
      "260/260 [==============================] - 14s 54ms/step - loss: 0.1938 - acc: 0.9272 - val_loss: 0.2033 - val_acc: 0.9215\n",
      "Epoch 63/100\n",
      "260/260 [==============================] - 14s 54ms/step - loss: 0.1922 - acc: 0.9276 - val_loss: 0.1965 - val_acc: 0.9250\n",
      "Epoch 64/100\n",
      "260/260 [==============================] - 14s 54ms/step - loss: 0.1925 - acc: 0.9279 - val_loss: 0.2053 - val_acc: 0.9213\n",
      "Epoch 65/100\n",
      "260/260 [==============================] - 14s 54ms/step - loss: 0.1916 - acc: 0.9287 - val_loss: 0.1964 - val_acc: 0.9257\n",
      "Epoch 66/100\n",
      "260/260 [==============================] - 14s 54ms/step - loss: 0.1902 - acc: 0.9296 - val_loss: 0.1995 - val_acc: 0.9254\n",
      "Epoch 67/100\n",
      "260/260 [==============================] - 14s 54ms/step - loss: 0.1925 - acc: 0.9284 - val_loss: 0.1939 - val_acc: 0.9268\n",
      "Epoch 68/100\n",
      "260/260 [==============================] - 14s 54ms/step - loss: 0.1909 - acc: 0.9292 - val_loss: 0.1889 - val_acc: 0.9290\n",
      "Epoch 69/100\n",
      "260/260 [==============================] - 14s 54ms/step - loss: 0.1898 - acc: 0.9294 - val_loss: 0.1993 - val_acc: 0.9242\n",
      "Epoch 70/100\n",
      "260/260 [==============================] - 14s 54ms/step - loss: 0.1889 - acc: 0.9304 - val_loss: 0.1895 - val_acc: 0.9270\n",
      "Epoch 71/100\n",
      "260/260 [==============================] - 14s 54ms/step - loss: 0.1890 - acc: 0.9286 - val_loss: 0.1962 - val_acc: 0.9260\n",
      "Epoch 72/100\n",
      "260/260 [==============================] - 14s 54ms/step - loss: 0.1911 - acc: 0.9289 - val_loss: 0.1986 - val_acc: 0.9247\n",
      "Epoch 73/100\n",
      "260/260 [==============================] - 14s 54ms/step - loss: 0.1888 - acc: 0.9296 - val_loss: 0.1907 - val_acc: 0.9286\n",
      "Epoch 74/100\n",
      "260/260 [==============================] - 14s 54ms/step - loss: 0.1907 - acc: 0.9286 - val_loss: 0.2007 - val_acc: 0.9239\n",
      "Epoch 75/100\n",
      "260/260 [==============================] - 14s 54ms/step - loss: 0.1872 - acc: 0.9307 - val_loss: 0.1933 - val_acc: 0.9261\n",
      "Epoch 76/100\n",
      "260/260 [==============================] - 14s 54ms/step - loss: 0.1895 - acc: 0.9296 - val_loss: 0.2006 - val_acc: 0.9224\n",
      "Epoch 77/100\n",
      "260/260 [==============================] - 14s 54ms/step - loss: 0.1845 - acc: 0.9319 - val_loss: 0.1899 - val_acc: 0.9277\n",
      "Epoch 78/100\n",
      "260/260 [==============================] - 14s 54ms/step - loss: 0.1856 - acc: 0.9317 - val_loss: 0.1883 - val_acc: 0.9300\n",
      "Epoch 79/100\n",
      "260/260 [==============================] - 14s 54ms/step - loss: 0.1874 - acc: 0.9307 - val_loss: 0.1981 - val_acc: 0.9236\n",
      "Epoch 80/100\n",
      "260/260 [==============================] - 14s 54ms/step - loss: 0.1852 - acc: 0.9310 - val_loss: 0.1908 - val_acc: 0.9275\n",
      "Epoch 81/100\n",
      "260/260 [==============================] - 14s 54ms/step - loss: 0.1832 - acc: 0.9321 - val_loss: 0.1888 - val_acc: 0.9290\n",
      "Epoch 82/100\n",
      "260/260 [==============================] - 14s 54ms/step - loss: 0.1872 - acc: 0.9307 - val_loss: 0.1889 - val_acc: 0.9277\n",
      "Epoch 83/100\n",
      "260/260 [==============================] - 14s 54ms/step - loss: 0.1863 - acc: 0.9311 - val_loss: 0.1952 - val_acc: 0.9260\n",
      "Epoch 84/100\n",
      "260/260 [==============================] - 14s 55ms/step - loss: 0.1865 - acc: 0.9312 - val_loss: 0.1869 - val_acc: 0.9290\n",
      "Epoch 85/100\n",
      "260/260 [==============================] - 14s 54ms/step - loss: 0.1866 - acc: 0.9298 - val_loss: 0.1943 - val_acc: 0.9258\n",
      "Epoch 86/100\n",
      "260/260 [==============================] - 14s 54ms/step - loss: 0.1869 - acc: 0.9307 - val_loss: 0.1963 - val_acc: 0.9240\n",
      "Epoch 87/100\n",
      "260/260 [==============================] - 14s 54ms/step - loss: 0.1828 - acc: 0.9328 - val_loss: 0.1934 - val_acc: 0.9252\n",
      "Epoch 88/100\n",
      "260/260 [==============================] - 14s 53ms/step - loss: 0.1830 - acc: 0.9314 - val_loss: 0.1877 - val_acc: 0.9264\n",
      "Epoch 89/100\n",
      "260/260 [==============================] - 14s 55ms/step - loss: 0.1868 - acc: 0.9307 - val_loss: 0.1945 - val_acc: 0.9253\n",
      "Epoch 90/100\n",
      "260/260 [==============================] - 14s 54ms/step - loss: 0.1818 - acc: 0.9332 - val_loss: 0.1906 - val_acc: 0.9250\n",
      "Epoch 91/100\n",
      "260/260 [==============================] - 14s 54ms/step - loss: 0.1837 - acc: 0.9328 - val_loss: 0.1901 - val_acc: 0.9264\n",
      "Epoch 92/100\n",
      "260/260 [==============================] - 14s 53ms/step - loss: 0.1840 - acc: 0.9313 - val_loss: 0.1866 - val_acc: 0.9280\n",
      "Epoch 93/100\n",
      "260/260 [==============================] - 14s 54ms/step - loss: 0.1844 - acc: 0.9314 - val_loss: 0.1893 - val_acc: 0.9293\n",
      "Epoch 94/100\n",
      "260/260 [==============================] - 14s 53ms/step - loss: 0.1828 - acc: 0.9324 - val_loss: 0.1961 - val_acc: 0.9259\n",
      "Epoch 95/100\n",
      "260/260 [==============================] - 14s 54ms/step - loss: 0.1847 - acc: 0.9320 - val_loss: 0.1850 - val_acc: 0.9290\n",
      "Epoch 96/100\n",
      "260/260 [==============================] - 14s 54ms/step - loss: 0.1827 - acc: 0.9315 - val_loss: 0.1832 - val_acc: 0.9296\n",
      "Epoch 97/100\n",
      "260/260 [==============================] - 14s 54ms/step - loss: 0.1832 - acc: 0.9315 - val_loss: 0.1856 - val_acc: 0.9305\n",
      "Epoch 98/100\n",
      "260/260 [==============================] - 14s 54ms/step - loss: 0.1837 - acc: 0.9311 - val_loss: 0.1908 - val_acc: 0.9259\n",
      "Epoch 99/100\n",
      "260/260 [==============================] - 14s 54ms/step - loss: 0.1832 - acc: 0.9314 - val_loss: 0.1881 - val_acc: 0.9289\n",
      "Epoch 100/100\n",
      "260/260 [==============================] - 14s 54ms/step - loss: 0.1817 - acc: 0.9333 - val_loss: 0.1831 - val_acc: 0.9303\n"
     ]
    }
   ],
   "source": [
    "history_latent_dropout_02_100Ep = pfn_latent_dropout_02_100Ep.fit(X_train, Y_train,\n",
    "        epochs=100,\n",
    "        batch_size=500,\n",
    "        validation_data=(X_val, Y_val),\n",
    "        verbose=1)"
   ]
  },
  {
   "cell_type": "code",
   "execution_count": 28,
   "id": "a4ad5c2e-ec40-4fbd-b7d8-09c47f18fe51",
   "metadata": {},
   "outputs": [],
   "source": [
    "pfn_latent_dropout_02_100Ep.save(modelpath+'pfn_latent_dropout_02_100Ep.h5')"
   ]
  },
  {
   "cell_type": "code",
   "execution_count": 29,
   "id": "ca455e27-410c-4e89-8495-f37aa2f775a0",
   "metadata": {
    "tags": []
   },
   "outputs": [
    {
     "name": "stdout",
     "output_type": "stream",
     "text": [
      "Epochs run:  100\n",
      "AUC: 0.9785219210352193\n"
     ]
    }
   ],
   "source": [
    "# get area under the ROC curve\n",
    "preds_latent_dropout_02_100Ep = pfn_latent_dropout_02_100Ep.predict(X_test, batch_size=1000)\n",
    "auc_latent_dropout_02_100Ep = roc_auc_score(Y_test[:,1], preds_latent_dropout_02_100Ep[:,1])\n",
    "print(\"Epochs run: \" , len(history_latent_dropout_02_100Ep.history['loss']) )\n",
    "print('AUC:', auc_latent_dropout_02_100Ep)"
   ]
  },
  {
   "cell_type": "code",
   "execution_count": 30,
   "id": "8fa4b681-cd17-4ff1-ac85-0ae73a3d082e",
   "metadata": {
    "tags": []
   },
   "outputs": [
    {
     "data": {
      "text/plain": [
       "<Figure size 432x288 with 0 Axes>"
      ]
     },
     "metadata": {},
     "output_type": "display_data"
    },
    {
     "data": {
      "image/png": "[encoded data removed]",
      "text/plain": [
       "<Figure size 432x288 with 1 Axes>"
      ]
     },
     "metadata": {},
     "output_type": "display_data"
    },
    {
     "data": {
      "image/png": "[encoded data removed]",
      "text/plain": [
       "<Figure size 432x288 with 1 Axes>"
      ]
     },
     "metadata": {},
     "output_type": "display_data"
    }
   ],
   "source": [
    "plt.cla(); plt.clf()\n",
    "fig = plt.figure()\n",
    "fig.patch.set_facecolor('white')\n",
    "\n",
    "plt.plot(history_latent_dropout_02_100Ep.history['acc'])\n",
    "plt.plot(history_latent_dropout_02_100Ep.history['val_acc'])\n",
    "plt.title('model accuracy')\n",
    "plt.ylabel('accuracy')\n",
    "plt.xlabel('epoch')\n",
    "plt.legend(['train', 'test'], loc='upper left')\n",
    "# plt.savefig('Plots/accuracy_' + layer + '.pdf')\n",
    "plt.show()\n",
    "\n",
    "\n",
    "# summarize history for loss\n",
    "fig = plt.figure()\n",
    "fig.patch.set_facecolor('white')\n",
    "plt.plot(history_latent_dropout_02_100Ep.history['loss'])\n",
    "plt.plot(history_latent_dropout_02_100Ep.history['val_loss'])\n",
    "plt.title('model loss')\n",
    "plt.ylabel('loss')\n",
    "plt.xlabel('epoch')\n",
    "plt.yscale('log')\n",
    "plt.legend(['train', 'test'], loc='upper left')\n",
    "# plt.savefig(plotpath + 'loss_' + layer + '.pdf')\n",
    "plt.show()"
   ]
  },
  {
   "cell_type": "markdown",
   "id": "752447cf-b16c-49cc-9473-5ba45b8d9c48",
   "metadata": {},
   "source": [
    "* latent_dropout=0.5, 50 Epochs"
   ]
  },
  {
   "cell_type": "code",
   "execution_count": 18,
   "id": "6e7a41a1-ccdf-4ae7-b67e-a37be57f36f3",
   "metadata": {
    "collapsed": true,
    "jupyter": {
     "outputs_hidden": true
    },
    "tags": []
   },
   "outputs": [
    {
     "name": "stdout",
     "output_type": "stream",
     "text": [
      "Model: \"model_1\"\n",
      "__________________________________________________________________________________________________\n",
      "Layer (type)                    Output Shape         Param #     Connected to                     \n",
      "==================================================================================================\n",
      "input (InputLayer)              [(None, None, 4)]    0                                            \n",
      "__________________________________________________________________________________________________\n",
      "tdist_0 (TimeDistributed)       (None, None, 100)    500         input[0][0]                      \n",
      "__________________________________________________________________________________________________\n",
      "activation_7 (Activation)       (None, None, 100)    0           tdist_0[0][0]                    \n",
      "__________________________________________________________________________________________________\n",
      "tdist_1 (TimeDistributed)       (None, None, 100)    10100       activation_7[0][0]               \n",
      "__________________________________________________________________________________________________\n",
      "activation_8 (Activation)       (None, None, 100)    0           tdist_1[0][0]                    \n",
      "__________________________________________________________________________________________________\n",
      "tdist_2 (TimeDistributed)       (None, None, 128)    12928       activation_8[0][0]               \n",
      "__________________________________________________________________________________________________\n",
      "mask (Lambda)                   (None, None)         0           input[0][0]                      \n",
      "__________________________________________________________________________________________________\n",
      "activation_9 (Activation)       (None, None, 128)    0           tdist_2[0][0]                    \n",
      "__________________________________________________________________________________________________\n",
      "sum (Dot)                       (None, 128)          0           mask[0][0]                       \n",
      "                                                                 activation_9[0][0]               \n",
      "__________________________________________________________________________________________________\n",
      "sum_dropout (Dropout)           (None, 128)          0           sum[0][0]                        \n",
      "__________________________________________________________________________________________________\n",
      "dense_0 (Dense)                 (None, 100)          12900       sum_dropout[0][0]                \n",
      "__________________________________________________________________________________________________\n",
      "activation_10 (Activation)      (None, 100)          0           dense_0[0][0]                    \n",
      "__________________________________________________________________________________________________\n",
      "dense_1 (Dense)                 (None, 100)          10100       activation_10[0][0]              \n",
      "__________________________________________________________________________________________________\n",
      "activation_11 (Activation)      (None, 100)          0           dense_1[0][0]                    \n",
      "__________________________________________________________________________________________________\n",
      "dense_2 (Dense)                 (None, 100)          10100       activation_11[0][0]              \n",
      "__________________________________________________________________________________________________\n",
      "activation_12 (Activation)      (None, 100)          0           dense_2[0][0]                    \n",
      "__________________________________________________________________________________________________\n",
      "output (Dense)                  (None, 2)            202         activation_12[0][0]              \n",
      "__________________________________________________________________________________________________\n",
      "activation_13 (Activation)      (None, 2)            0           output[0][0]                     \n",
      "==================================================================================================\n",
      "Total params: 56,830\n",
      "Trainable params: 56,830\n",
      "Non-trainable params: 0\n",
      "__________________________________________________________________________________________________\n"
     ]
    }
   ],
   "source": [
    "pfn_latent_dropout_05 = PFN(input_dim=X.shape[-1], Phi_sizes=Phi_sizes, F_sizes=F_sizes, latent_dropout=0.5)"
   ]
  },
  {
   "cell_type": "code",
   "execution_count": 19,
   "id": "c9044238-d335-4de5-997d-411803e6bed3",
   "metadata": {
    "collapsed": true,
    "jupyter": {
     "outputs_hidden": true
    },
    "tags": []
   },
   "outputs": [
    {
     "name": "stdout",
     "output_type": "stream",
     "text": [
      "Epoch 1/50\n",
      "260/260 [==============================] - 15s 55ms/step - loss: 12.8281 - acc: 0.6808 - val_loss: 0.4852 - val_acc: 0.7835\n",
      "Epoch 2/50\n",
      "260/260 [==============================] - 14s 53ms/step - loss: 0.5228 - acc: 0.7730 - val_loss: 0.4394 - val_acc: 0.7855\n",
      "Epoch 3/50\n",
      "260/260 [==============================] - 14s 53ms/step - loss: 0.4552 - acc: 0.7860 - val_loss: 0.4188 - val_acc: 0.8108\n",
      "Epoch 4/50\n",
      "260/260 [==============================] - 14s 53ms/step - loss: 0.4216 - acc: 0.8011 - val_loss: 0.4267 - val_acc: 0.7700\n",
      "Epoch 5/50\n",
      "260/260 [==============================] - 14s 53ms/step - loss: 0.3992 - acc: 0.8104 - val_loss: 0.3924 - val_acc: 0.7855\n",
      "Epoch 6/50\n",
      "260/260 [==============================] - 14s 53ms/step - loss: 0.3750 - acc: 0.8269 - val_loss: 0.3630 - val_acc: 0.8319\n",
      "Epoch 7/50\n",
      "260/260 [==============================] - 14s 53ms/step - loss: 0.3456 - acc: 0.8517 - val_loss: 0.3357 - val_acc: 0.8618\n",
      "Epoch 8/50\n",
      "260/260 [==============================] - 14s 54ms/step - loss: 0.3216 - acc: 0.8696 - val_loss: 0.3327 - val_acc: 0.8452\n",
      "Epoch 9/50\n",
      "260/260 [==============================] - 14s 54ms/step - loss: 0.3197 - acc: 0.8668 - val_loss: 0.2825 - val_acc: 0.8817\n",
      "Epoch 10/50\n",
      "260/260 [==============================] - 14s 54ms/step - loss: 0.3070 - acc: 0.8776 - val_loss: 0.2899 - val_acc: 0.8799\n",
      "Epoch 11/50\n",
      "260/260 [==============================] - 14s 54ms/step - loss: 0.2958 - acc: 0.8816 - val_loss: 0.2954 - val_acc: 0.8782\n",
      "Epoch 12/50\n",
      "260/260 [==============================] - 14s 54ms/step - loss: 0.2920 - acc: 0.8851 - val_loss: 0.3101 - val_acc: 0.8748\n",
      "Epoch 13/50\n",
      "260/260 [==============================] - 14s 55ms/step - loss: 0.2825 - acc: 0.8896 - val_loss: 0.2748 - val_acc: 0.8848\n",
      "Epoch 14/50\n",
      "260/260 [==============================] - 14s 55ms/step - loss: 0.2770 - acc: 0.8925 - val_loss: 0.2687 - val_acc: 0.8907\n",
      "Epoch 15/50\n",
      "260/260 [==============================] - 14s 54ms/step - loss: 0.2722 - acc: 0.8953 - val_loss: 0.2626 - val_acc: 0.8924\n",
      "Epoch 16/50\n",
      "260/260 [==============================] - 14s 54ms/step - loss: 0.2758 - acc: 0.8927 - val_loss: 0.2511 - val_acc: 0.8978\n",
      "Epoch 17/50\n",
      "260/260 [==============================] - 14s 54ms/step - loss: 0.2675 - acc: 0.8964 - val_loss: 0.2634 - val_acc: 0.8930\n",
      "Epoch 18/50\n",
      "260/260 [==============================] - 14s 55ms/step - loss: 0.2671 - acc: 0.8975 - val_loss: 0.2722 - val_acc: 0.9005\n",
      "Epoch 19/50\n",
      "260/260 [==============================] - 15s 56ms/step - loss: 0.2599 - acc: 0.9009 - val_loss: 0.2475 - val_acc: 0.9053\n",
      "Epoch 20/50\n",
      "260/260 [==============================] - 14s 54ms/step - loss: 0.2529 - acc: 0.9038 - val_loss: 0.2394 - val_acc: 0.9050\n",
      "Epoch 21/50\n",
      "260/260 [==============================] - 14s 54ms/step - loss: 0.2518 - acc: 0.9038 - val_loss: 0.2426 - val_acc: 0.9037\n",
      "Epoch 22/50\n",
      "260/260 [==============================] - 14s 53ms/step - loss: 0.2504 - acc: 0.9046 - val_loss: 0.2349 - val_acc: 0.9065\n",
      "Epoch 23/50\n",
      "260/260 [==============================] - 14s 54ms/step - loss: 0.2419 - acc: 0.9091 - val_loss: 0.2408 - val_acc: 0.9054\n",
      "Epoch 24/50\n",
      "260/260 [==============================] - 14s 55ms/step - loss: 0.2410 - acc: 0.9094 - val_loss: 0.2355 - val_acc: 0.9076\n",
      "Epoch 25/50\n",
      "260/260 [==============================] - 14s 55ms/step - loss: 0.2398 - acc: 0.9089 - val_loss: 0.2340 - val_acc: 0.9096\n",
      "Epoch 26/50\n",
      "260/260 [==============================] - 14s 55ms/step - loss: 0.2406 - acc: 0.9089 - val_loss: 0.2309 - val_acc: 0.9096\n",
      "Epoch 27/50\n",
      "260/260 [==============================] - 14s 54ms/step - loss: 0.2433 - acc: 0.9082 - val_loss: 0.2216 - val_acc: 0.9136\n",
      "Epoch 28/50\n",
      "260/260 [==============================] - 14s 54ms/step - loss: 0.2344 - acc: 0.9123 - val_loss: 0.2470 - val_acc: 0.9051\n",
      "Epoch 29/50\n",
      "260/260 [==============================] - 14s 54ms/step - loss: 0.2300 - acc: 0.9138 - val_loss: 0.2415 - val_acc: 0.9046\n",
      "Epoch 30/50\n",
      "260/260 [==============================] - 14s 54ms/step - loss: 0.2359 - acc: 0.9112 - val_loss: 0.2535 - val_acc: 0.9018\n",
      "Epoch 31/50\n",
      "260/260 [==============================] - 14s 53ms/step - loss: 0.2268 - acc: 0.9145 - val_loss: 0.2577 - val_acc: 0.9006\n",
      "Epoch 32/50\n",
      "260/260 [==============================] - 14s 54ms/step - loss: 0.2268 - acc: 0.9145 - val_loss: 0.2272 - val_acc: 0.9121\n",
      "Epoch 33/50\n",
      "260/260 [==============================] - 14s 54ms/step - loss: 0.2281 - acc: 0.9139 - val_loss: 0.2340 - val_acc: 0.9097\n",
      "Epoch 34/50\n",
      "260/260 [==============================] - 14s 53ms/step - loss: 0.2262 - acc: 0.9158 - val_loss: 0.2210 - val_acc: 0.9126\n",
      "Epoch 35/50\n",
      "260/260 [==============================] - 14s 54ms/step - loss: 0.2237 - acc: 0.9156 - val_loss: 0.2398 - val_acc: 0.9094\n",
      "Epoch 36/50\n",
      "260/260 [==============================] - 14s 55ms/step - loss: 0.2247 - acc: 0.9152 - val_loss: 0.2339 - val_acc: 0.9098\n",
      "Epoch 37/50\n",
      "260/260 [==============================] - 14s 54ms/step - loss: 0.2252 - acc: 0.9151 - val_loss: 0.2299 - val_acc: 0.9128\n",
      "Epoch 38/50\n",
      "260/260 [==============================] - 14s 54ms/step - loss: 0.2232 - acc: 0.9160 - val_loss: 0.2381 - val_acc: 0.9092\n",
      "Epoch 39/50\n",
      "260/260 [==============================] - 14s 54ms/step - loss: 0.2234 - acc: 0.9162 - val_loss: 0.2309 - val_acc: 0.9108\n",
      "Epoch 40/50\n",
      "260/260 [==============================] - 14s 54ms/step - loss: 0.2186 - acc: 0.9180 - val_loss: 0.2340 - val_acc: 0.9083\n",
      "Epoch 41/50\n",
      "260/260 [==============================] - 14s 54ms/step - loss: 0.2218 - acc: 0.9166 - val_loss: 0.2372 - val_acc: 0.9073\n",
      "Epoch 42/50\n",
      "260/260 [==============================] - 14s 54ms/step - loss: 0.2223 - acc: 0.9167 - val_loss: 0.2208 - val_acc: 0.9133\n",
      "Epoch 43/50\n",
      "260/260 [==============================] - 14s 55ms/step - loss: 0.2194 - acc: 0.9172 - val_loss: 0.2311 - val_acc: 0.9129\n",
      "Epoch 44/50\n",
      "260/260 [==============================] - 14s 54ms/step - loss: 0.2178 - acc: 0.9190 - val_loss: 0.2248 - val_acc: 0.9114\n",
      "Epoch 45/50\n",
      "260/260 [==============================] - 14s 54ms/step - loss: 0.2184 - acc: 0.9178 - val_loss: 0.2328 - val_acc: 0.9093\n",
      "Epoch 46/50\n",
      "260/260 [==============================] - 14s 53ms/step - loss: 0.2165 - acc: 0.9193 - val_loss: 0.2467 - val_acc: 0.9060\n",
      "Epoch 47/50\n",
      "260/260 [==============================] - 14s 53ms/step - loss: 0.2151 - acc: 0.9194 - val_loss: 0.2247 - val_acc: 0.9166\n",
      "Epoch 48/50\n",
      "260/260 [==============================] - 14s 53ms/step - loss: 0.2143 - acc: 0.9196 - val_loss: 0.2312 - val_acc: 0.9122\n",
      "Epoch 49/50\n",
      "260/260 [==============================] - 14s 54ms/step - loss: 0.2149 - acc: 0.9203 - val_loss: 0.2330 - val_acc: 0.9099\n",
      "Epoch 50/50\n",
      "260/260 [==============================] - 14s 54ms/step - loss: 0.2139 - acc: 0.9192 - val_loss: 0.2333 - val_acc: 0.9096\n"
     ]
    }
   ],
   "source": [
    "history_latent_dropout_05 = pfn_latent_dropout_05.fit(X_train, Y_train,\n",
    "        epochs=50,\n",
    "        batch_size=500,\n",
    "        validation_data=(X_val, Y_val),\n",
    "        verbose=1)"
   ]
  },
  {
   "cell_type": "code",
   "execution_count": 20,
   "id": "7e53a920-a5cd-443a-b62e-af98ae9231a4",
   "metadata": {},
   "outputs": [],
   "source": [
    "pfn_latent_dropout_05.save(modelpath+'pfn_latent_dropout_05_v2.h5')"
   ]
  },
  {
   "cell_type": "code",
   "execution_count": 21,
   "id": "c86cafb6-5796-49df-8e35-32d668554561",
   "metadata": {
    "tags": []
   },
   "outputs": [
    {
     "name": "stdout",
     "output_type": "stream",
     "text": [
      "Epochs run:  50\n",
      "AUC: 0.9695463246954632\n"
     ]
    }
   ],
   "source": [
    "# get area under the ROC curve\n",
    "preds_latent_dropout_05 = pfn_latent_dropout_05.predict(X_test, batch_size=1000)\n",
    "auc_latent_dropout_05 = roc_auc_score(Y_test[:,1], preds_latent_dropout_05[:,1])\n",
    "print(\"Epochs run: \" , len(history_latent_dropout_05.history['loss']) )\n",
    "print('AUC:', auc_latent_dropout_05)"
   ]
  },
  {
   "cell_type": "code",
   "execution_count": 22,
   "id": "089cf6cb-5892-4734-8fcc-7923d302f69f",
   "metadata": {},
   "outputs": [],
   "source": [
    "##pfn_latent_dropout_05=tf.keras.models.load_model(modelpath+'pfn_latent_dropout_05.h5')"
   ]
  },
  {
   "cell_type": "code",
   "execution_count": 23,
   "id": "b3155d48-88f3-4f04-850f-c2b5e4653ba3",
   "metadata": {},
   "outputs": [],
   "source": [
    "#predictions_latent_dropout_05 = pfn_latent_dropout_05.predict(X_test, batch_size=1000)"
   ]
  },
  {
   "cell_type": "code",
   "execution_count": 24,
   "id": "2a11e449-f59b-4d7b-8588-1b2a093f4aa4",
   "metadata": {
    "tags": []
   },
   "outputs": [
    {
     "data": {
      "text/plain": [
       "<Figure size 432x288 with 0 Axes>"
      ]
     },
     "metadata": {},
     "output_type": "display_data"
    },
    {
     "data": {
      "image/png": "[encoded data removed]",
      "text/plain": [
       "<Figure size 432x288 with 1 Axes>"
      ]
     },
     "metadata": {},
     "output_type": "display_data"
    },
    {
     "data": {
      "image/png": "[encoded data removed]",
      "text/plain": [
       "<Figure size 432x288 with 1 Axes>"
      ]
     },
     "metadata": {},
     "output_type": "display_data"
    }
   ],
   "source": [
    "plt.cla(); plt.clf()\n",
    "fig = plt.figure()\n",
    "fig.patch.set_facecolor('white')\n",
    "\n",
    "plt.plot(history_latent_dropout_05.history['acc'])\n",
    "plt.plot(history_latent_dropout_05.history['val_acc'])\n",
    "plt.title('model accuracy')\n",
    "plt.ylabel('accuracy')\n",
    "plt.xlabel('epoch')\n",
    "plt.legend(['train', 'test'], loc='upper left')\n",
    "# plt.savefig('Plots/accuracy_' + layer + '.pdf')\n",
    "plt.show()\n",
    "\n",
    "\n",
    "# summarize history for loss\n",
    "fig = plt.figure()\n",
    "fig.patch.set_facecolor('white')\n",
    "plt.plot(history_latent_dropout_05.history['loss'])\n",
    "plt.plot(history_latent_dropout_05.history['val_loss'])\n",
    "plt.title('model loss')\n",
    "plt.ylabel('loss')\n",
    "plt.xlabel('epoch')\n",
    "plt.yscale('log')\n",
    "plt.legend(['train', 'test'], loc='upper left')\n",
    "# plt.savefig(plotpath + 'loss_' + layer + '.pdf')\n",
    "plt.show()"
   ]
  },
  {
   "cell_type": "markdown",
   "id": "bfb45e52-87bf-41dc-ad09-d81610d7e40e",
   "metadata": {},
   "source": [
    "* ### $L_2$ regulatization strengt"
   ]
  },
  {
   "cell_type": "markdown",
   "id": "696a5a28-1249-4c3a-8bd3-ad04fa4445eb",
   "metadata": {},
   "source": [
    "The most common type of regularization is L2, also called “weight decay,” with values often on a logarithmic scale between 0 and 0.1\n",
    "\n",
    "L2 weight regularization with very small regularization hyperparameters such as (e.g. 0.0005) may be a good starting point."
   ]
  },
  {
   "cell_type": "markdown",
   "id": "69ddf002-fd8b-4261-94b3-ecdc631acdfe",
   "metadata": {},
   "source": [
    "#### Phi_l2_regs=0 : {tuple, list} of float\n",
    "\n",
    "-$L_2$-regulatization strength for both the weights and biases of the layers in the $\\Phi$ network. A single float will apply the same L2 regulatization to all layers."
   ]
  },
  {
   "cell_type": "markdown",
   "id": "04120ecb-49ea-4492-9948-cac550fcdcae",
   "metadata": {},
   "source": [
    "* Phi_l2_regs = 0.0005"
   ]
  },
  {
   "cell_type": "code",
   "execution_count": 33,
   "id": "ef5b06b0-1e83-41ba-85e8-8d3f35e3dc7c",
   "metadata": {
    "collapsed": true,
    "jupyter": {
     "outputs_hidden": true
    },
    "tags": []
   },
   "outputs": [
    {
     "name": "stdout",
     "output_type": "stream",
     "text": [
      "Model: \"model_6\"\n",
      "__________________________________________________________________________________________________\n",
      "Layer (type)                    Output Shape         Param #     Connected to                     \n",
      "==================================================================================================\n",
      "input (InputLayer)              [(None, None, 4)]    0                                            \n",
      "__________________________________________________________________________________________________\n",
      "tdist_0 (TimeDistributed)       (None, None, 100)    500         input[0][0]                      \n",
      "__________________________________________________________________________________________________\n",
      "activation_42 (Activation)      (None, None, 100)    0           tdist_0[0][0]                    \n",
      "__________________________________________________________________________________________________\n",
      "tdist_1 (TimeDistributed)       (None, None, 100)    10100       activation_42[0][0]              \n",
      "__________________________________________________________________________________________________\n",
      "activation_43 (Activation)      (None, None, 100)    0           tdist_1[0][0]                    \n",
      "__________________________________________________________________________________________________\n",
      "tdist_2 (TimeDistributed)       (None, None, 128)    12928       activation_43[0][0]              \n",
      "__________________________________________________________________________________________________\n",
      "mask (Lambda)                   (None, None)         0           input[0][0]                      \n",
      "__________________________________________________________________________________________________\n",
      "activation_44 (Activation)      (None, None, 128)    0           tdist_2[0][0]                    \n",
      "__________________________________________________________________________________________________\n",
      "sum (Dot)                       (None, 128)          0           mask[0][0]                       \n",
      "                                                                 activation_44[0][0]              \n",
      "__________________________________________________________________________________________________\n",
      "dense_0 (Dense)                 (None, 100)          12900       sum[0][0]                        \n",
      "__________________________________________________________________________________________________\n",
      "activation_45 (Activation)      (None, 100)          0           dense_0[0][0]                    \n",
      "__________________________________________________________________________________________________\n",
      "dense_1 (Dense)                 (None, 100)          10100       activation_45[0][0]              \n",
      "__________________________________________________________________________________________________\n",
      "activation_46 (Activation)      (None, 100)          0           dense_1[0][0]                    \n",
      "__________________________________________________________________________________________________\n",
      "dense_2 (Dense)                 (None, 100)          10100       activation_46[0][0]              \n",
      "__________________________________________________________________________________________________\n",
      "activation_47 (Activation)      (None, 100)          0           dense_2[0][0]                    \n",
      "__________________________________________________________________________________________________\n",
      "output (Dense)                  (None, 2)            202         activation_47[0][0]              \n",
      "__________________________________________________________________________________________________\n",
      "activation_48 (Activation)      (None, 2)            0           output[0][0]                     \n",
      "==================================================================================================\n",
      "Total params: 56,830\n",
      "Trainable params: 56,830\n",
      "Non-trainable params: 0\n",
      "__________________________________________________________________________________________________\n"
     ]
    }
   ],
   "source": [
    "pfn_l2_regs0005 = PFN(input_dim=X.shape[-1], Phi_sizes=Phi_sizes, F_sizes=F_sizes, Phi_l2_regs=0.0005)"
   ]
  },
  {
   "cell_type": "code",
   "execution_count": 34,
   "id": "6b50843e-98d0-4df7-8aaa-00ce9c61349f",
   "metadata": {
    "collapsed": true,
    "jupyter": {
     "outputs_hidden": true
    },
    "tags": []
   },
   "outputs": [
    {
     "name": "stdout",
     "output_type": "stream",
     "text": [
      "Epoch 1/50\n",
      "260/260 [==============================] - 15s 55ms/step - loss: 9.2040 - acc: 0.6873 - val_loss: 1.0270 - val_acc: 0.7992\n",
      "Epoch 2/50\n",
      "260/260 [==============================] - 14s 53ms/step - loss: 1.1746 - acc: 0.7517 - val_loss: 1.2180 - val_acc: 0.6383\n",
      "Epoch 3/50\n",
      "260/260 [==============================] - 14s 53ms/step - loss: 0.8075 - acc: 0.7647 - val_loss: 1.4390 - val_acc: 0.7582\n",
      "Epoch 4/50\n",
      "260/260 [==============================] - 14s 53ms/step - loss: 0.9145 - acc: 0.7524 - val_loss: 0.7380 - val_acc: 0.7855\n",
      "Epoch 5/50\n",
      "260/260 [==============================] - 14s 53ms/step - loss: 0.7061 - acc: 0.7738 - val_loss: 0.6824 - val_acc: 0.7689\n",
      "Epoch 6/50\n",
      "260/260 [==============================] - 14s 53ms/step - loss: 0.8107 - acc: 0.7541 - val_loss: 0.6996 - val_acc: 0.7479\n",
      "Epoch 7/50\n",
      "260/260 [==============================] - 14s 53ms/step - loss: 0.6768 - acc: 0.7809 - val_loss: 0.6579 - val_acc: 0.7862\n",
      "Epoch 8/50\n",
      "260/260 [==============================] - 14s 53ms/step - loss: 0.6484 - acc: 0.7983 - val_loss: 0.6163 - val_acc: 0.8171\n",
      "Epoch 9/50\n",
      "260/260 [==============================] - 14s 53ms/step - loss: 0.6408 - acc: 0.8135 - val_loss: 0.6060 - val_acc: 0.8297\n",
      "Epoch 10/50\n",
      "260/260 [==============================] - 14s 54ms/step - loss: 0.6028 - acc: 0.8256 - val_loss: 0.5819 - val_acc: 0.8285\n",
      "Epoch 11/50\n",
      "260/260 [==============================] - 14s 53ms/step - loss: 0.5833 - acc: 0.8307 - val_loss: 0.6548 - val_acc: 0.8136\n",
      "Epoch 12/50\n",
      "260/260 [==============================] - 14s 53ms/step - loss: 0.5969 - acc: 0.8260 - val_loss: 0.5839 - val_acc: 0.8494\n",
      "Epoch 13/50\n",
      "260/260 [==============================] - 14s 54ms/step - loss: 0.5465 - acc: 0.8533 - val_loss: 0.5360 - val_acc: 0.8703\n",
      "Epoch 14/50\n",
      "260/260 [==============================] - 14s 53ms/step - loss: 0.5131 - acc: 0.8752 - val_loss: 0.4911 - val_acc: 0.8898\n",
      "Epoch 15/50\n",
      "260/260 [==============================] - 14s 53ms/step - loss: 0.5444 - acc: 0.8712 - val_loss: 0.6037 - val_acc: 0.7892\n",
      "Epoch 16/50\n",
      "260/260 [==============================] - 14s 54ms/step - loss: 0.5886 - acc: 0.8063 - val_loss: 0.5468 - val_acc: 0.8485\n",
      "Epoch 17/50\n",
      "260/260 [==============================] - 14s 53ms/step - loss: 0.5285 - acc: 0.8525 - val_loss: 0.5035 - val_acc: 0.8665\n",
      "Epoch 18/50\n",
      "260/260 [==============================] - 14s 53ms/step - loss: 0.4816 - acc: 0.8800 - val_loss: 0.4546 - val_acc: 0.8890\n",
      "Epoch 19/50\n",
      "260/260 [==============================] - 14s 53ms/step - loss: 0.4569 - acc: 0.8923 - val_loss: 0.4402 - val_acc: 0.9034\n",
      "Epoch 20/50\n",
      "260/260 [==============================] - 14s 53ms/step - loss: 0.4530 - acc: 0.8909 - val_loss: 0.4334 - val_acc: 0.8915\n",
      "Epoch 21/50\n",
      "260/260 [==============================] - 14s 53ms/step - loss: 0.4279 - acc: 0.9005 - val_loss: 0.4017 - val_acc: 0.9052\n",
      "Epoch 22/50\n",
      "260/260 [==============================] - 14s 53ms/step - loss: 0.4041 - acc: 0.9080 - val_loss: 0.3887 - val_acc: 0.9091\n",
      "Epoch 23/50\n",
      "260/260 [==============================] - 14s 53ms/step - loss: 0.3901 - acc: 0.9117 - val_loss: 0.4389 - val_acc: 0.8842\n",
      "Epoch 24/50\n",
      "260/260 [==============================] - 14s 53ms/step - loss: 0.3932 - acc: 0.9070 - val_loss: 0.4081 - val_acc: 0.8986\n",
      "Epoch 25/50\n",
      "260/260 [==============================] - 14s 53ms/step - loss: 0.3801 - acc: 0.9110 - val_loss: 0.3894 - val_acc: 0.9022\n",
      "Epoch 26/50\n",
      "260/260 [==============================] - 14s 53ms/step - loss: 0.3702 - acc: 0.9115 - val_loss: 0.3565 - val_acc: 0.9150\n",
      "Epoch 27/50\n",
      "260/260 [==============================] - 14s 54ms/step - loss: 0.3615 - acc: 0.9134 - val_loss: 0.3663 - val_acc: 0.9065\n",
      "Epoch 28/50\n",
      "260/260 [==============================] - 14s 54ms/step - loss: 0.3547 - acc: 0.9140 - val_loss: 0.3490 - val_acc: 0.9154\n",
      "Epoch 29/50\n",
      "260/260 [==============================] - 14s 54ms/step - loss: 0.3465 - acc: 0.9160 - val_loss: 0.3405 - val_acc: 0.9168\n",
      "Epoch 30/50\n",
      "260/260 [==============================] - 14s 54ms/step - loss: 0.3432 - acc: 0.9141 - val_loss: 0.3340 - val_acc: 0.9157\n",
      "Epoch 31/50\n",
      "260/260 [==============================] - 14s 54ms/step - loss: 0.3362 - acc: 0.9167 - val_loss: 0.3301 - val_acc: 0.9154\n",
      "Epoch 32/50\n",
      "260/260 [==============================] - 14s 55ms/step - loss: 0.3252 - acc: 0.9174 - val_loss: 0.3204 - val_acc: 0.9195\n",
      "Epoch 33/50\n",
      "260/260 [==============================] - 14s 55ms/step - loss: 0.3215 - acc: 0.9187 - val_loss: 0.3338 - val_acc: 0.9104\n",
      "Epoch 34/50\n",
      "260/260 [==============================] - 14s 54ms/step - loss: 0.3234 - acc: 0.9149 - val_loss: 0.3137 - val_acc: 0.9179\n",
      "Epoch 35/50\n",
      "260/260 [==============================] - 14s 53ms/step - loss: 0.3090 - acc: 0.9207 - val_loss: 0.3170 - val_acc: 0.9143\n",
      "Epoch 36/50\n",
      "260/260 [==============================] - 14s 54ms/step - loss: 0.3166 - acc: 0.9163 - val_loss: 0.3016 - val_acc: 0.9177\n",
      "Epoch 37/50\n",
      "260/260 [==============================] - 14s 53ms/step - loss: 0.3037 - acc: 0.9183 - val_loss: 0.3009 - val_acc: 0.9177\n",
      "Epoch 38/50\n",
      "260/260 [==============================] - 14s 54ms/step - loss: 0.2983 - acc: 0.9196 - val_loss: 0.2930 - val_acc: 0.9200\n",
      "Epoch 39/50\n",
      "260/260 [==============================] - 14s 53ms/step - loss: 0.2919 - acc: 0.9205 - val_loss: 0.2993 - val_acc: 0.9163\n",
      "Epoch 40/50\n",
      "260/260 [==============================] - 14s 54ms/step - loss: 0.2917 - acc: 0.9190 - val_loss: 0.2878 - val_acc: 0.9193\n",
      "Epoch 41/50\n",
      "260/260 [==============================] - 14s 55ms/step - loss: 0.2867 - acc: 0.9190 - val_loss: 0.2823 - val_acc: 0.9225\n",
      "Epoch 42/50\n",
      "260/260 [==============================] - 14s 54ms/step - loss: 0.2849 - acc: 0.9191 - val_loss: 0.2896 - val_acc: 0.9153\n",
      "Epoch 43/50\n",
      "260/260 [==============================] - 14s 54ms/step - loss: 0.2773 - acc: 0.9206 - val_loss: 0.2823 - val_acc: 0.9161\n",
      "Epoch 44/50\n",
      "260/260 [==============================] - 14s 53ms/step - loss: 0.2703 - acc: 0.9225 - val_loss: 0.2718 - val_acc: 0.9208\n",
      "Epoch 45/50\n",
      "260/260 [==============================] - 14s 53ms/step - loss: 0.2752 - acc: 0.9187 - val_loss: 0.2775 - val_acc: 0.9172\n",
      "Epoch 46/50\n",
      "260/260 [==============================] - 14s 54ms/step - loss: 0.2701 - acc: 0.9202 - val_loss: 0.2731 - val_acc: 0.9168\n",
      "Epoch 47/50\n",
      "260/260 [==============================] - 14s 54ms/step - loss: 0.2639 - acc: 0.9224 - val_loss: 0.2735 - val_acc: 0.9165\n",
      "Epoch 48/50\n",
      "260/260 [==============================] - 14s 54ms/step - loss: 0.2618 - acc: 0.9215 - val_loss: 0.2574 - val_acc: 0.9229\n",
      "Epoch 49/50\n",
      "260/260 [==============================] - 14s 53ms/step - loss: 0.2614 - acc: 0.9216 - val_loss: 0.2597 - val_acc: 0.9197\n",
      "Epoch 50/50\n",
      "260/260 [==============================] - 14s 55ms/step - loss: 0.2569 - acc: 0.9212 - val_loss: 0.2599 - val_acc: 0.9205\n"
     ]
    }
   ],
   "source": [
    "history_l2_regs0005 = pfn_l2_regs0005.fit(X_train, Y_train,\n",
    "        epochs=50,\n",
    "        batch_size=500,\n",
    "        validation_data=(X_val, Y_val),\n",
    "        verbose=1)"
   ]
  },
  {
   "cell_type": "code",
   "execution_count": 35,
   "id": "27b7b8f5-9209-4037-bf14-e51f3224f9d4",
   "metadata": {},
   "outputs": [],
   "source": [
    "pfn_l2_regs0005.save(modelpath+'pfn_l2_regs0005.h5')"
   ]
  },
  {
   "cell_type": "code",
   "execution_count": 37,
   "id": "ca077bff-1e81-46dc-a1cb-536f8bf74589",
   "metadata": {
    "tags": []
   },
   "outputs": [
    {
     "name": "stdout",
     "output_type": "stream",
     "text": [
      "Epochs run:  50\n",
      "AUC: 0.9717100047171001\n"
     ]
    }
   ],
   "source": [
    "# get area under the ROC curve\n",
    "preds_l2_regs0005= pfn_l2_regs0005.predict(X_test, batch_size=1000)\n",
    "auc_l2_regs0005 = roc_auc_score(Y_test[:,1], preds_l2_regs0005[:,1])\n",
    "print(\"Epochs run: \" , len(history_l2_regs0005.history['loss']) )\n",
    "print('AUC:', auc_l2_regs0005)"
   ]
  },
  {
   "cell_type": "code",
   "execution_count": 38,
   "id": "e747c535-ed48-453a-817b-e094898f067d",
   "metadata": {
    "tags": []
   },
   "outputs": [
    {
     "data": {
      "text/plain": [
       "<Figure size 432x288 with 0 Axes>"
      ]
     },
     "metadata": {},
     "output_type": "display_data"
    },
    {
     "data": {
      "image/png": "[encoded data removed]",
      "text/plain": [
       "<Figure size 432x288 with 1 Axes>"
      ]
     },
     "metadata": {},
     "output_type": "display_data"
    },
    {
     "data": {
      "image/png": "[encoded data removed]",
      "text/plain": [
       "<Figure size 432x288 with 1 Axes>"
      ]
     },
     "metadata": {},
     "output_type": "display_data"
    }
   ],
   "source": [
    "plt.cla(); plt.clf()\n",
    "fig = plt.figure()\n",
    "fig.patch.set_facecolor('white')\n",
    "\n",
    "plt.plot(history_l2_regs0005.history['acc'])\n",
    "plt.plot(history_l2_regs0005.history['val_acc'])\n",
    "plt.title('model accuracy')\n",
    "plt.ylabel('accuracy')\n",
    "plt.xlabel('epoch')\n",
    "plt.legend(['train', 'test'], loc='upper left')\n",
    "# plt.savefig('Plots/accuracy_' + layer + '.pdf')\n",
    "plt.show()\n",
    "\n",
    "\n",
    "# summarize history for loss\n",
    "fig = plt.figure()\n",
    "fig.patch.set_facecolor('white')\n",
    "plt.plot(history_l2_regs0005.history['loss'])\n",
    "plt.plot(history_l2_regs0005.history['val_loss'])\n",
    "plt.title('model loss')\n",
    "plt.ylabel('loss')\n",
    "plt.xlabel('epoch')\n",
    "plt.yscale('log')\n",
    "plt.legend(['train', 'test'], loc='upper left')\n",
    "# plt.savefig(plotpath + 'loss_' + layer + '.pdf')\n",
    "plt.show()"
   ]
  },
  {
   "cell_type": "markdown",
   "id": "7074bf67-3df8-4d3b-84bd-bd3c7a82a14a",
   "metadata": {},
   "source": [
    "* Phi_l2_regs = 0.001"
   ]
  },
  {
   "cell_type": "code",
   "execution_count": 40,
   "id": "03e2b32a-a0c3-4825-a26b-ad10753015d3",
   "metadata": {
    "collapsed": true,
    "jupyter": {
     "outputs_hidden": true
    },
    "tags": []
   },
   "outputs": [
    {
     "name": "stdout",
     "output_type": "stream",
     "text": [
      "Model: \"model_8\"\n",
      "__________________________________________________________________________________________________\n",
      "Layer (type)                    Output Shape         Param #     Connected to                     \n",
      "==================================================================================================\n",
      "input (InputLayer)              [(None, None, 4)]    0                                            \n",
      "__________________________________________________________________________________________________\n",
      "tdist_0 (TimeDistributed)       (None, None, 100)    500         input[0][0]                      \n",
      "__________________________________________________________________________________________________\n",
      "activation_56 (Activation)      (None, None, 100)    0           tdist_0[0][0]                    \n",
      "__________________________________________________________________________________________________\n",
      "tdist_1 (TimeDistributed)       (None, None, 100)    10100       activation_56[0][0]              \n",
      "__________________________________________________________________________________________________\n",
      "activation_57 (Activation)      (None, None, 100)    0           tdist_1[0][0]                    \n",
      "__________________________________________________________________________________________________\n",
      "tdist_2 (TimeDistributed)       (None, None, 128)    12928       activation_57[0][0]              \n",
      "__________________________________________________________________________________________________\n",
      "mask (Lambda)                   (None, None)         0           input[0][0]                      \n",
      "__________________________________________________________________________________________________\n",
      "activation_58 (Activation)      (None, None, 128)    0           tdist_2[0][0]                    \n",
      "__________________________________________________________________________________________________\n",
      "sum (Dot)                       (None, 128)          0           mask[0][0]                       \n",
      "                                                                 activation_58[0][0]              \n",
      "__________________________________________________________________________________________________\n",
      "dense_0 (Dense)                 (None, 100)          12900       sum[0][0]                        \n",
      "__________________________________________________________________________________________________\n",
      "activation_59 (Activation)      (None, 100)          0           dense_0[0][0]                    \n",
      "__________________________________________________________________________________________________\n",
      "dense_1 (Dense)                 (None, 100)          10100       activation_59[0][0]              \n",
      "__________________________________________________________________________________________________\n",
      "activation_60 (Activation)      (None, 100)          0           dense_1[0][0]                    \n",
      "__________________________________________________________________________________________________\n",
      "dense_2 (Dense)                 (None, 100)          10100       activation_60[0][0]              \n",
      "__________________________________________________________________________________________________\n",
      "activation_61 (Activation)      (None, 100)          0           dense_2[0][0]                    \n",
      "__________________________________________________________________________________________________\n",
      "output (Dense)                  (None, 2)            202         activation_61[0][0]              \n",
      "__________________________________________________________________________________________________\n",
      "activation_62 (Activation)      (None, 2)            0           output[0][0]                     \n",
      "==================================================================================================\n",
      "Total params: 56,830\n",
      "Trainable params: 56,830\n",
      "Non-trainable params: 0\n",
      "__________________________________________________________________________________________________\n"
     ]
    }
   ],
   "source": [
    "pfn_l2_regs001 = PFN(input_dim=X.shape[-1], Phi_sizes=Phi_sizes, F_sizes=F_sizes, Phi_l2_regs=0.001)"
   ]
  },
  {
   "cell_type": "code",
   "execution_count": 41,
   "id": "7fb7431e-fb6c-4ef7-add2-c2aa929942a5",
   "metadata": {
    "collapsed": true,
    "jupyter": {
     "outputs_hidden": true
    },
    "tags": []
   },
   "outputs": [
    {
     "name": "stdout",
     "output_type": "stream",
     "text": [
      "Epoch 1/50\n",
      "260/260 [==============================] - 15s 55ms/step - loss: 6.8444 - acc: 0.6816 - val_loss: 3.2316 - val_acc: 0.7203\n",
      "Epoch 2/50\n",
      "260/260 [==============================] - 14s 53ms/step - loss: 1.4937 - acc: 0.7409 - val_loss: 1.0762 - val_acc: 0.7158\n",
      "Epoch 3/50\n",
      "260/260 [==============================] - 14s 53ms/step - loss: 1.0192 - acc: 0.7617 - val_loss: 0.9123 - val_acc: 0.7853\n",
      "Epoch 4/50\n",
      "260/260 [==============================] - 14s 53ms/step - loss: 0.9017 - acc: 0.7805 - val_loss: 0.8776 - val_acc: 0.7817\n",
      "Epoch 5/50\n",
      "260/260 [==============================] - 14s 54ms/step - loss: 0.8821 - acc: 0.7677 - val_loss: 0.8348 - val_acc: 0.7848\n",
      "Epoch 6/50\n",
      "260/260 [==============================] - 14s 54ms/step - loss: 0.8290 - acc: 0.7886 - val_loss: 0.8267 - val_acc: 0.7829\n",
      "Epoch 7/50\n",
      "260/260 [==============================] - 14s 54ms/step - loss: 0.8171 - acc: 0.7878 - val_loss: 0.7820 - val_acc: 0.8192\n",
      "Epoch 8/50\n",
      "260/260 [==============================] - 14s 53ms/step - loss: 0.7784 - acc: 0.8118 - val_loss: 0.9274 - val_acc: 0.7181\n",
      "Epoch 9/50\n",
      "260/260 [==============================] - 14s 53ms/step - loss: 0.8304 - acc: 0.7914 - val_loss: 0.7586 - val_acc: 0.8242\n",
      "Epoch 10/50\n",
      "260/260 [==============================] - 14s 54ms/step - loss: 0.7370 - acc: 0.8229 - val_loss: 0.7234 - val_acc: 0.8305\n",
      "Epoch 11/50\n",
      "260/260 [==============================] - 14s 53ms/step - loss: 0.7103 - acc: 0.8313 - val_loss: 0.6913 - val_acc: 0.8389\n",
      "Epoch 12/50\n",
      "260/260 [==============================] - 14s 54ms/step - loss: 0.6956 - acc: 0.8346 - val_loss: 0.6742 - val_acc: 0.8374\n",
      "Epoch 13/50\n",
      "260/260 [==============================] - 14s 54ms/step - loss: 0.7074 - acc: 0.8262 - val_loss: 0.6746 - val_acc: 0.8315\n",
      "Epoch 14/50\n",
      "260/260 [==============================] - 14s 53ms/step - loss: 0.6555 - acc: 0.8429 - val_loss: 0.6260 - val_acc: 0.8613\n",
      "Epoch 15/50\n",
      "260/260 [==============================] - 14s 54ms/step - loss: 0.6353 - acc: 0.8504 - val_loss: 0.5983 - val_acc: 0.8778\n",
      "Epoch 16/50\n",
      "260/260 [==============================] - 14s 54ms/step - loss: 0.5922 - acc: 0.8718 - val_loss: 0.5868 - val_acc: 0.8759\n",
      "Epoch 17/50\n",
      "260/260 [==============================] - 14s 53ms/step - loss: 0.5615 - acc: 0.8834 - val_loss: 0.5651 - val_acc: 0.8839\n",
      "Epoch 18/50\n",
      "260/260 [==============================] - 14s 54ms/step - loss: 0.5317 - acc: 0.8940 - val_loss: 0.5330 - val_acc: 0.8819\n",
      "Epoch 19/50\n",
      "260/260 [==============================] - 14s 54ms/step - loss: 0.5063 - acc: 0.8995 - val_loss: 0.4863 - val_acc: 0.9065\n",
      "Epoch 20/50\n",
      "260/260 [==============================] - 14s 54ms/step - loss: 0.4875 - acc: 0.9033 - val_loss: 0.4853 - val_acc: 0.9024\n",
      "Epoch 21/50\n",
      "260/260 [==============================] - 14s 54ms/step - loss: 0.4745 - acc: 0.9055 - val_loss: 0.4599 - val_acc: 0.9090\n",
      "Epoch 22/50\n",
      "260/260 [==============================] - 14s 53ms/step - loss: 0.4577 - acc: 0.9084 - val_loss: 0.4604 - val_acc: 0.9043\n",
      "Epoch 23/50\n",
      "260/260 [==============================] - 14s 54ms/step - loss: 0.4538 - acc: 0.9054 - val_loss: 0.4502 - val_acc: 0.9013\n",
      "Epoch 24/50\n",
      "260/260 [==============================] - 14s 54ms/step - loss: 0.4354 - acc: 0.9098 - val_loss: 0.4215 - val_acc: 0.9128\n",
      "Epoch 25/50\n",
      "260/260 [==============================] - 14s 54ms/step - loss: 0.4212 - acc: 0.9116 - val_loss: 0.4146 - val_acc: 0.9088\n",
      "Epoch 26/50\n",
      "260/260 [==============================] - 14s 54ms/step - loss: 0.4100 - acc: 0.9127 - val_loss: 0.4150 - val_acc: 0.9110\n",
      "Epoch 27/50\n",
      "260/260 [==============================] - 14s 54ms/step - loss: 0.4100 - acc: 0.9105 - val_loss: 0.3985 - val_acc: 0.9127\n",
      "Epoch 28/50\n",
      "260/260 [==============================] - 14s 54ms/step - loss: 0.3901 - acc: 0.9144 - val_loss: 0.4070 - val_acc: 0.9036\n",
      "Epoch 29/50\n",
      "260/260 [==============================] - 14s 54ms/step - loss: 0.3843 - acc: 0.9135 - val_loss: 0.3752 - val_acc: 0.9167\n",
      "Epoch 30/50\n",
      "260/260 [==============================] - 14s 54ms/step - loss: 0.3753 - acc: 0.9153 - val_loss: 0.3596 - val_acc: 0.9200\n",
      "Epoch 31/50\n",
      "260/260 [==============================] - 14s 55ms/step - loss: 0.3659 - acc: 0.9153 - val_loss: 0.3676 - val_acc: 0.9165\n",
      "Epoch 32/50\n",
      "260/260 [==============================] - 14s 54ms/step - loss: 0.3564 - acc: 0.9170 - val_loss: 0.3480 - val_acc: 0.9180\n",
      "Epoch 33/50\n",
      "260/260 [==============================] - 14s 54ms/step - loss: 0.3493 - acc: 0.9165 - val_loss: 0.3423 - val_acc: 0.9158\n",
      "Epoch 34/50\n",
      "260/260 [==============================] - 14s 54ms/step - loss: 0.3420 - acc: 0.9164 - val_loss: 0.3348 - val_acc: 0.9196\n",
      "Epoch 35/50\n",
      "260/260 [==============================] - 14s 53ms/step - loss: 0.3353 - acc: 0.9186 - val_loss: 0.3314 - val_acc: 0.9194\n",
      "Epoch 36/50\n",
      "260/260 [==============================] - 14s 54ms/step - loss: 0.3296 - acc: 0.9174 - val_loss: 0.3188 - val_acc: 0.9185\n",
      "Epoch 37/50\n",
      "260/260 [==============================] - 14s 54ms/step - loss: 0.3256 - acc: 0.9172 - val_loss: 0.3159 - val_acc: 0.9180\n",
      "Epoch 38/50\n",
      "260/260 [==============================] - 14s 55ms/step - loss: 0.3182 - acc: 0.9183 - val_loss: 0.3158 - val_acc: 0.9185\n",
      "Epoch 39/50\n",
      "260/260 [==============================] - 14s 55ms/step - loss: 0.3145 - acc: 0.9172 - val_loss: 0.3118 - val_acc: 0.9152\n",
      "Epoch 40/50\n",
      "260/260 [==============================] - 14s 54ms/step - loss: 0.3049 - acc: 0.9187 - val_loss: 0.2951 - val_acc: 0.9203\n",
      "Epoch 41/50\n",
      "260/260 [==============================] - 14s 53ms/step - loss: 0.2977 - acc: 0.9206 - val_loss: 0.2927 - val_acc: 0.9213\n",
      "Epoch 42/50\n",
      "260/260 [==============================] - 14s 53ms/step - loss: 0.2973 - acc: 0.9188 - val_loss: 0.2918 - val_acc: 0.9195\n",
      "Epoch 43/50\n",
      "260/260 [==============================] - 14s 54ms/step - loss: 0.2929 - acc: 0.9190 - val_loss: 0.2827 - val_acc: 0.9214\n",
      "Epoch 44/50\n",
      "260/260 [==============================] - 14s 54ms/step - loss: 0.2852 - acc: 0.9200 - val_loss: 0.2822 - val_acc: 0.9175\n",
      "Epoch 45/50\n",
      "260/260 [==============================] - 14s 54ms/step - loss: 0.2807 - acc: 0.9200 - val_loss: 0.2778 - val_acc: 0.9192\n",
      "Epoch 46/50\n",
      "260/260 [==============================] - 14s 54ms/step - loss: 0.2789 - acc: 0.9190 - val_loss: 0.2716 - val_acc: 0.9202\n",
      "Epoch 47/50\n",
      "260/260 [==============================] - 14s 54ms/step - loss: 0.2747 - acc: 0.9205 - val_loss: 0.2774 - val_acc: 0.9161\n",
      "Epoch 48/50\n",
      "260/260 [==============================] - 14s 54ms/step - loss: 0.2709 - acc: 0.9204 - val_loss: 0.2673 - val_acc: 0.9199\n",
      "Epoch 49/50\n",
      "260/260 [==============================] - 14s 54ms/step - loss: 0.2649 - acc: 0.9213 - val_loss: 0.2664 - val_acc: 0.9182\n",
      "Epoch 50/50\n",
      "260/260 [==============================] - 14s 55ms/step - loss: 0.2674 - acc: 0.9189 - val_loss: 0.2619 - val_acc: 0.9199\n"
     ]
    }
   ],
   "source": [
    "history_l2_regs001 = pfn_l2_regs001.fit(X_train, Y_train,\n",
    "        epochs=50,\n",
    "        batch_size=500,\n",
    "        validation_data=(X_val, Y_val),\n",
    "        verbose=1)"
   ]
  },
  {
   "cell_type": "code",
   "execution_count": 42,
   "id": "4da1f948-f147-49ad-8660-b5fe48fb9781",
   "metadata": {},
   "outputs": [],
   "source": [
    "pfn_l2_regs001.save(modelpath+'pfn_l2_regs001.h5')"
   ]
  },
  {
   "cell_type": "code",
   "execution_count": 43,
   "id": "71d66e9f-3857-42c7-80f4-219d4590a8b4",
   "metadata": {
    "tags": []
   },
   "outputs": [
    {
     "name": "stdout",
     "output_type": "stream",
     "text": [
      "Epochs run:  50\n",
      "AUC: 0.9727258897272589\n"
     ]
    }
   ],
   "source": [
    "# get area under the ROC curve\n",
    "preds_l2_regs001= pfn_l2_regs001.predict(X_test, batch_size=1000)\n",
    "auc_l2_regs001 = roc_auc_score(Y_test[:,1], preds_l2_regs001[:,1])\n",
    "print(\"Epochs run: \" , len(history_l2_regs001.history['loss']) )\n",
    "print('AUC:', auc_l2_regs001)"
   ]
  },
  {
   "cell_type": "code",
   "execution_count": 44,
   "id": "ff138960-2f3a-4dea-b556-b9ea16ea49ea",
   "metadata": {
    "tags": []
   },
   "outputs": [
    {
     "data": {
      "text/plain": [
       "<Figure size 432x288 with 0 Axes>"
      ]
     },
     "metadata": {},
     "output_type": "display_data"
    },
    {
     "data": {
      "image/png": "[encoded data removed]",
      "text/plain": [
       "<Figure size 432x288 with 1 Axes>"
      ]
     },
     "metadata": {},
     "output_type": "display_data"
    },
    {
     "data": {
      "image/png": "[encoded data removed]",
      "text/plain": [
       "<Figure size 432x288 with 1 Axes>"
      ]
     },
     "metadata": {},
     "output_type": "display_data"
    }
   ],
   "source": [
    "plt.cla(); plt.clf()\n",
    "fig = plt.figure()\n",
    "fig.patch.set_facecolor('white')\n",
    "\n",
    "plt.plot(history_l2_regs001.history['acc'])\n",
    "plt.plot(history_l2_regs001.history['val_acc'])\n",
    "plt.title('model accuracy')\n",
    "plt.ylabel('accuracy')\n",
    "plt.xlabel('epoch')\n",
    "plt.legend(['train', 'test'], loc='upper left')\n",
    "# plt.savefig('Plots/accuracy_' + layer + '.pdf')\n",
    "plt.show()\n",
    "\n",
    "\n",
    "# summarize history for loss\n",
    "fig = plt.figure()\n",
    "fig.patch.set_facecolor('white')\n",
    "plt.plot(history_l2_regs001.history['loss'])\n",
    "plt.plot(history_l2_regs001.history['val_loss'])\n",
    "plt.title('model loss')\n",
    "plt.ylabel('loss')\n",
    "plt.xlabel('epoch')\n",
    "plt.yscale('log')\n",
    "plt.legend(['train', 'test'], loc='upper left')\n",
    "# plt.savefig(plotpath + 'loss_' + layer + '.pdf')\n",
    "plt.show()"
   ]
  },
  {
   "cell_type": "code",
   "execution_count": null,
   "id": "6a4bd81a-7d57-48f4-b8e8-49f158a6695f",
   "metadata": {},
   "outputs": [],
   "source": []
  },
  {
   "cell_type": "code",
   "execution_count": null,
   "id": "c7e2dbbf-1a42-4973-ac2c-576c58d8f854",
   "metadata": {},
   "outputs": [],
   "source": []
  },
  {
   "cell_type": "markdown",
   "id": "b25c096b-0350-4334-aba1-35f3703a5619",
   "metadata": {},
   "source": [
    "* Phi_l2_regs = 0.0005 & EarlyStopping val_loss"
   ]
  },
  {
   "cell_type": "code",
   "execution_count": 46,
   "id": "8dfe0018-9f01-4497-b6ca-7615e348259c",
   "metadata": {
    "collapsed": true,
    "jupyter": {
     "outputs_hidden": true
    },
    "tags": []
   },
   "outputs": [
    {
     "name": "stdout",
     "output_type": "stream",
     "text": [
      "Model: \"model_10\"\n",
      "__________________________________________________________________________________________________\n",
      "Layer (type)                    Output Shape         Param #     Connected to                     \n",
      "==================================================================================================\n",
      "input (InputLayer)              [(None, None, 4)]    0                                            \n",
      "__________________________________________________________________________________________________\n",
      "tdist_0 (TimeDistributed)       (None, None, 100)    500         input[0][0]                      \n",
      "__________________________________________________________________________________________________\n",
      "activation_70 (Activation)      (None, None, 100)    0           tdist_0[0][0]                    \n",
      "__________________________________________________________________________________________________\n",
      "tdist_1 (TimeDistributed)       (None, None, 100)    10100       activation_70[0][0]              \n",
      "__________________________________________________________________________________________________\n",
      "activation_71 (Activation)      (None, None, 100)    0           tdist_1[0][0]                    \n",
      "__________________________________________________________________________________________________\n",
      "tdist_2 (TimeDistributed)       (None, None, 128)    12928       activation_71[0][0]              \n",
      "__________________________________________________________________________________________________\n",
      "mask (Lambda)                   (None, None)         0           input[0][0]                      \n",
      "__________________________________________________________________________________________________\n",
      "activation_72 (Activation)      (None, None, 128)    0           tdist_2[0][0]                    \n",
      "__________________________________________________________________________________________________\n",
      "sum (Dot)                       (None, 128)          0           mask[0][0]                       \n",
      "                                                                 activation_72[0][0]              \n",
      "__________________________________________________________________________________________________\n",
      "dense_0 (Dense)                 (None, 100)          12900       sum[0][0]                        \n",
      "__________________________________________________________________________________________________\n",
      "activation_73 (Activation)      (None, 100)          0           dense_0[0][0]                    \n",
      "__________________________________________________________________________________________________\n",
      "dense_1 (Dense)                 (None, 100)          10100       activation_73[0][0]              \n",
      "__________________________________________________________________________________________________\n",
      "activation_74 (Activation)      (None, 100)          0           dense_1[0][0]                    \n",
      "__________________________________________________________________________________________________\n",
      "dense_2 (Dense)                 (None, 100)          10100       activation_74[0][0]              \n",
      "__________________________________________________________________________________________________\n",
      "activation_75 (Activation)      (None, 100)          0           dense_2[0][0]                    \n",
      "__________________________________________________________________________________________________\n",
      "output (Dense)                  (None, 2)            202         activation_75[0][0]              \n",
      "__________________________________________________________________________________________________\n",
      "activation_76 (Activation)      (None, 2)            0           output[0][0]                     \n",
      "==================================================================================================\n",
      "Total params: 56,830\n",
      "Trainable params: 56,830\n",
      "Non-trainable params: 0\n",
      "__________________________________________________________________________________________________\n"
     ]
    }
   ],
   "source": [
    "pfn_l2_regs0005_val_loss = PFN(input_dim=X.shape[-1], Phi_sizes=Phi_sizes, F_sizes=F_sizes, Phi_l2_regs=0.0005)"
   ]
  },
  {
   "cell_type": "code",
   "execution_count": 47,
   "id": "f54227ae-9698-4c6f-b22d-f634fd6e8f85",
   "metadata": {
    "collapsed": true,
    "jupyter": {
     "outputs_hidden": true
    },
    "tags": []
   },
   "outputs": [
    {
     "name": "stdout",
     "output_type": "stream",
     "text": [
      "Epoch 1/100\n",
      "260/260 [==============================] - 15s 55ms/step - loss: 8.5073 - acc: 0.6837 - val_loss: 0.7922 - val_acc: 0.7802\n",
      "Epoch 2/100\n",
      "260/260 [==============================] - 14s 53ms/step - loss: 1.0975 - acc: 0.7431 - val_loss: 0.7083 - val_acc: 0.7818\n",
      "Epoch 3/100\n",
      "260/260 [==============================] - 14s 53ms/step - loss: 0.7651 - acc: 0.7792 - val_loss: 0.6753 - val_acc: 0.7873\n",
      "Epoch 4/100\n",
      "260/260 [==============================] - 14s 53ms/step - loss: 0.6867 - acc: 0.7833 - val_loss: 0.6795 - val_acc: 0.7853\n",
      "Epoch 5/100\n",
      "260/260 [==============================] - 14s 53ms/step - loss: 0.6659 - acc: 0.7871 - val_loss: 0.6307 - val_acc: 0.8024\n",
      "Epoch 6/100\n",
      "260/260 [==============================] - 14s 53ms/step - loss: 0.6395 - acc: 0.7985 - val_loss: 0.6163 - val_acc: 0.8098\n",
      "Epoch 7/100\n",
      "260/260 [==============================] - 14s 53ms/step - loss: 0.6423 - acc: 0.7995 - val_loss: 0.5985 - val_acc: 0.8406\n",
      "Epoch 8/100\n",
      "260/260 [==============================] - 14s 53ms/step - loss: 0.9550 - acc: 0.7845 - val_loss: 0.6978 - val_acc: 0.7863\n",
      "Epoch 9/100\n",
      "260/260 [==============================] - 14s 53ms/step - loss: 0.6324 - acc: 0.7942 - val_loss: 0.6183 - val_acc: 0.8120\n",
      "Epoch 10/100\n",
      "260/260 [==============================] - 14s 53ms/step - loss: 0.5918 - acc: 0.8184 - val_loss: 0.5898 - val_acc: 0.8288\n",
      "Epoch 11/100\n",
      "260/260 [==============================] - 14s 53ms/step - loss: 0.5799 - acc: 0.8229 - val_loss: 0.5366 - val_acc: 0.8467\n",
      "Epoch 12/100\n",
      "260/260 [==============================] - 14s 53ms/step - loss: 0.5472 - acc: 0.8430 - val_loss: 0.5345 - val_acc: 0.8569\n",
      "Epoch 13/100\n",
      "260/260 [==============================] - 14s 53ms/step - loss: 0.5384 - acc: 0.8486 - val_loss: 0.5162 - val_acc: 0.8620\n",
      "Epoch 14/100\n",
      "260/260 [==============================] - 14s 53ms/step - loss: 0.5222 - acc: 0.8578 - val_loss: 0.5508 - val_acc: 0.8579\n",
      "Epoch 15/100\n",
      "260/260 [==============================] - 14s 53ms/step - loss: 0.5092 - acc: 0.8604 - val_loss: 0.5212 - val_acc: 0.8500\n",
      "Epoch 16/100\n",
      "260/260 [==============================] - 14s 53ms/step - loss: 0.4897 - acc: 0.8695 - val_loss: 0.4956 - val_acc: 0.8672\n",
      "Epoch 17/100\n",
      "260/260 [==============================] - 14s 54ms/step - loss: 0.4625 - acc: 0.8813 - val_loss: 0.4289 - val_acc: 0.8948\n",
      "Epoch 18/100\n",
      "260/260 [==============================] - 14s 53ms/step - loss: 0.4650 - acc: 0.8782 - val_loss: 0.4224 - val_acc: 0.9003\n",
      "Epoch 19/100\n",
      "260/260 [==============================] - 14s 53ms/step - loss: 0.4218 - acc: 0.8992 - val_loss: 0.4051 - val_acc: 0.9085\n",
      "Epoch 20/100\n",
      "260/260 [==============================] - 14s 54ms/step - loss: 0.3978 - acc: 0.9078 - val_loss: 0.3961 - val_acc: 0.9116\n",
      "Epoch 21/100\n",
      "260/260 [==============================] - 14s 54ms/step - loss: 0.3867 - acc: 0.9103 - val_loss: 0.3809 - val_acc: 0.9092\n",
      "Epoch 22/100\n",
      "260/260 [==============================] - 14s 54ms/step - loss: 0.3813 - acc: 0.9099 - val_loss: 0.3717 - val_acc: 0.9128\n",
      "Epoch 23/100\n",
      "260/260 [==============================] - 14s 55ms/step - loss: 0.3696 - acc: 0.9132 - val_loss: 0.3599 - val_acc: 0.9183\n",
      "Epoch 24/100\n",
      "260/260 [==============================] - 14s 54ms/step - loss: 0.3655 - acc: 0.9132 - val_loss: 0.3503 - val_acc: 0.9178\n",
      "Epoch 25/100\n",
      "260/260 [==============================] - 14s 54ms/step - loss: 0.3533 - acc: 0.9158 - val_loss: 0.3513 - val_acc: 0.9162\n",
      "Epoch 26/100\n",
      "260/260 [==============================] - 14s 54ms/step - loss: 0.3471 - acc: 0.9168 - val_loss: 0.3408 - val_acc: 0.9167\n",
      "Epoch 27/100\n",
      "260/260 [==============================] - 14s 55ms/step - loss: 0.3437 - acc: 0.9160 - val_loss: 0.3356 - val_acc: 0.9181\n",
      "Epoch 28/100\n",
      "260/260 [==============================] - 14s 55ms/step - loss: 0.3331 - acc: 0.9188 - val_loss: 0.3390 - val_acc: 0.9155\n",
      "Epoch 29/100\n",
      "260/260 [==============================] - 14s 54ms/step - loss: 0.3266 - acc: 0.9196 - val_loss: 0.3355 - val_acc: 0.9140\n",
      "Epoch 30/100\n",
      "260/260 [==============================] - 14s 54ms/step - loss: 0.3254 - acc: 0.9181 - val_loss: 0.3251 - val_acc: 0.9168\n",
      "Epoch 31/100\n",
      "260/260 [==============================] - 14s 53ms/step - loss: 0.3184 - acc: 0.9177 - val_loss: 0.3147 - val_acc: 0.9187\n",
      "Epoch 32/100\n",
      "260/260 [==============================] - 14s 53ms/step - loss: 0.3130 - acc: 0.9185 - val_loss: 0.3047 - val_acc: 0.9195\n",
      "Epoch 33/100\n",
      "260/260 [==============================] - 14s 54ms/step - loss: 0.3070 - acc: 0.9190 - val_loss: 0.2994 - val_acc: 0.9201\n",
      "Epoch 34/100\n",
      "260/260 [==============================] - 14s 53ms/step - loss: 0.3039 - acc: 0.9190 - val_loss: 0.2989 - val_acc: 0.9199\n",
      "Epoch 35/100\n",
      "260/260 [==============================] - 14s 54ms/step - loss: 0.3002 - acc: 0.9189 - val_loss: 0.3028 - val_acc: 0.9152\n",
      "Epoch 36/100\n",
      "260/260 [==============================] - 14s 54ms/step - loss: 0.2928 - acc: 0.9207 - val_loss: 0.2967 - val_acc: 0.9177\n",
      "Epoch 37/100\n",
      "260/260 [==============================] - 14s 54ms/step - loss: 0.2903 - acc: 0.9201 - val_loss: 0.2849 - val_acc: 0.9212\n",
      "Epoch 38/100\n",
      "260/260 [==============================] - 14s 54ms/step - loss: 0.2887 - acc: 0.9196 - val_loss: 0.2793 - val_acc: 0.9200\n",
      "Epoch 39/100\n",
      "260/260 [==============================] - 14s 54ms/step - loss: 0.2816 - acc: 0.9213 - val_loss: 0.2796 - val_acc: 0.9196\n",
      "Epoch 40/100\n",
      "260/260 [==============================] - 14s 54ms/step - loss: 0.2771 - acc: 0.9206 - val_loss: 0.2772 - val_acc: 0.9194\n",
      "Epoch 41/100\n",
      "260/260 [==============================] - 14s 54ms/step - loss: 0.2771 - acc: 0.9193 - val_loss: 0.2907 - val_acc: 0.9112\n",
      "Epoch 42/100\n",
      "260/260 [==============================] - 14s 55ms/step - loss: 0.2726 - acc: 0.9198 - val_loss: 0.2715 - val_acc: 0.9200\n",
      "Epoch 43/100\n",
      "260/260 [==============================] - 14s 54ms/step - loss: 0.2673 - acc: 0.9210 - val_loss: 0.2705 - val_acc: 0.9181\n",
      "Epoch 44/100\n",
      "260/260 [==============================] - 14s 54ms/step - loss: 0.2671 - acc: 0.9202 - val_loss: 0.2658 - val_acc: 0.9193\n",
      "Epoch 45/100\n",
      "260/260 [==============================] - 14s 54ms/step - loss: 0.2639 - acc: 0.9204 - val_loss: 0.2600 - val_acc: 0.9213\n",
      "Epoch 46/100\n",
      "260/260 [==============================] - 14s 54ms/step - loss: 0.2596 - acc: 0.9215 - val_loss: 0.2568 - val_acc: 0.9218\n",
      "Epoch 47/100\n",
      "260/260 [==============================] - 14s 54ms/step - loss: 0.2584 - acc: 0.9201 - val_loss: 0.2593 - val_acc: 0.9229\n",
      "Epoch 48/100\n",
      "260/260 [==============================] - 14s 54ms/step - loss: 0.2555 - acc: 0.9210 - val_loss: 0.2600 - val_acc: 0.9155\n",
      "Epoch 49/100\n",
      "260/260 [==============================] - 14s 54ms/step - loss: 0.2539 - acc: 0.9212 - val_loss: 0.2488 - val_acc: 0.9216\n",
      "Epoch 50/100\n",
      "260/260 [==============================] - 14s 54ms/step - loss: 0.2483 - acc: 0.9229 - val_loss: 0.2487 - val_acc: 0.9206\n",
      "Epoch 51/100\n",
      "260/260 [==============================] - 14s 54ms/step - loss: 0.2461 - acc: 0.9232 - val_loss: 0.2465 - val_acc: 0.9216\n",
      "Epoch 52/100\n",
      "260/260 [==============================] - 14s 53ms/step - loss: 0.2505 - acc: 0.9205 - val_loss: 0.2461 - val_acc: 0.9197\n",
      "Epoch 53/100\n",
      "260/260 [==============================] - 14s 53ms/step - loss: 0.2446 - acc: 0.9215 - val_loss: 0.2454 - val_acc: 0.9198\n",
      "Epoch 54/100\n",
      "260/260 [==============================] - 14s 54ms/step - loss: 0.2396 - acc: 0.9231 - val_loss: 0.2415 - val_acc: 0.9219\n",
      "Epoch 55/100\n",
      "260/260 [==============================] - 14s 54ms/step - loss: 0.2442 - acc: 0.9208 - val_loss: 0.2423 - val_acc: 0.9220\n",
      "Epoch 56/100\n",
      "260/260 [==============================] - 14s 54ms/step - loss: 0.2362 - acc: 0.9236 - val_loss: 0.2373 - val_acc: 0.9230\n",
      "Epoch 57/100\n",
      "260/260 [==============================] - 14s 54ms/step - loss: 0.2372 - acc: 0.9231 - val_loss: 0.2375 - val_acc: 0.9223\n",
      "Epoch 58/100\n",
      "260/260 [==============================] - 14s 54ms/step - loss: 0.2370 - acc: 0.9219 - val_loss: 0.2393 - val_acc: 0.9210\n",
      "Epoch 59/100\n",
      "260/260 [==============================] - 14s 54ms/step - loss: 0.2314 - acc: 0.9243 - val_loss: 0.2589 - val_acc: 0.9131\n"
     ]
    }
   ],
   "source": [
    "history_l2_regs0005_val_loss = pfn_l2_regs0005_val_loss.fit(X_train, Y_train,\n",
    "        epochs=100,\n",
    "        batch_size=500,\n",
    "        callbacks= [tf.keras.callbacks.EarlyStopping(monitor='val_loss', patience=3)],\n",
    "        validation_data=(X_val, Y_val),\n",
    "        verbose=1)"
   ]
  },
  {
   "cell_type": "code",
   "execution_count": 48,
   "id": "1d56b181-0ced-4222-9483-3b102abc10b6",
   "metadata": {},
   "outputs": [],
   "source": [
    "pfn_l2_regs0005_val_loss.save(modelpath+'pfn_l2_regs0005_val_loss.h5')"
   ]
  },
  {
   "cell_type": "code",
   "execution_count": 49,
   "id": "2a8c3ac7-55db-422b-b07b-5c95e17dee65",
   "metadata": {
    "tags": []
   },
   "outputs": [
    {
     "name": "stdout",
     "output_type": "stream",
     "text": [
      "Epochs run:  59\n",
      "AUC: 0.9698420609484206\n"
     ]
    }
   ],
   "source": [
    "# get area under the ROC curve\n",
    "preds_l2_regs0005_val_loss= pfn_l2_regs0005_val_loss.predict(X_test, batch_size=1000)\n",
    "auc_l2_regs0005_val_loss = roc_auc_score(Y_test[:,1], preds_l2_regs0005_val_loss[:,1])\n",
    "print(\"Epochs run: \" , len(history_l2_regs0005_val_loss.history['loss']) )\n",
    "print('AUC:', auc_l2_regs0005_val_loss)"
   ]
  },
  {
   "cell_type": "code",
   "execution_count": 50,
   "id": "5a09fb22-53e6-4b14-b00d-6492949f89cd",
   "metadata": {
    "tags": []
   },
   "outputs": [
    {
     "data": {
      "text/plain": [
       "<Figure size 432x288 with 0 Axes>"
      ]
     },
     "metadata": {},
     "output_type": "display_data"
    },
    {
     "data": {
      "image/png": "[encoded data removed]",
      "text/plain": [
       "<Figure size 432x288 with 1 Axes>"
      ]
     },
     "metadata": {},
     "output_type": "display_data"
    },
    {
     "data": {
      "image/png": "[encoded data removed]",
      "text/plain": [
       "<Figure size 432x288 with 1 Axes>"
      ]
     },
     "metadata": {},
     "output_type": "display_data"
    }
   ],
   "source": [
    "plt.cla(); plt.clf()\n",
    "fig = plt.figure()\n",
    "fig.patch.set_facecolor('white')\n",
    "\n",
    "plt.plot(history_l2_regs0005_val_loss.history['acc'])\n",
    "plt.plot(history_l2_regs0005_val_loss.history['val_acc'])\n",
    "plt.title('model accuracy')\n",
    "plt.ylabel('accuracy')\n",
    "plt.xlabel('epoch')\n",
    "plt.legend(['train', 'test'], loc='upper left')\n",
    "# plt.savefig('Plots/accuracy_' + layer + '.pdf')\n",
    "plt.show()\n",
    "\n",
    "\n",
    "# summarize history for loss\n",
    "fig = plt.figure()\n",
    "fig.patch.set_facecolor('white')\n",
    "plt.plot(history_l2_regs0005_val_loss.history['loss'])\n",
    "plt.plot(history_l2_regs0005_val_loss.history['val_loss'])\n",
    "plt.title('model loss')\n",
    "plt.ylabel('loss')\n",
    "plt.xlabel('epoch')\n",
    "plt.yscale('log')\n",
    "plt.legend(['train', 'test'], loc='upper left')\n",
    "# plt.savefig(plotpath + 'loss_' + layer + '.pdf')\n",
    "plt.show()"
   ]
  },
  {
   "cell_type": "code",
   "execution_count": null,
   "id": "0b17c7d9-30ec-468a-a428-d7ab575afc93",
   "metadata": {},
   "outputs": [],
   "source": []
  },
  {
   "cell_type": "markdown",
   "id": "42133890-af0a-4ed0-8dc6-724044bdef8c",
   "metadata": {
    "tags": []
   },
   "source": [
    "* Phi_l2_regs = 0.001 & EarlyStopping val_loss"
   ]
  },
  {
   "cell_type": "code",
   "execution_count": 51,
   "id": "8a82322d-f25b-435e-b9f8-1403cf0201ac",
   "metadata": {
    "collapsed": true,
    "jupyter": {
     "outputs_hidden": true
    },
    "tags": []
   },
   "outputs": [
    {
     "name": "stdout",
     "output_type": "stream",
     "text": [
      "Model: \"model_11\"\n",
      "__________________________________________________________________________________________________\n",
      "Layer (type)                    Output Shape         Param #     Connected to                     \n",
      "==================================================================================================\n",
      "input (InputLayer)              [(None, None, 4)]    0                                            \n",
      "__________________________________________________________________________________________________\n",
      "tdist_0 (TimeDistributed)       (None, None, 100)    500         input[0][0]                      \n",
      "__________________________________________________________________________________________________\n",
      "activation_77 (Activation)      (None, None, 100)    0           tdist_0[0][0]                    \n",
      "__________________________________________________________________________________________________\n",
      "tdist_1 (TimeDistributed)       (None, None, 100)    10100       activation_77[0][0]              \n",
      "__________________________________________________________________________________________________\n",
      "activation_78 (Activation)      (None, None, 100)    0           tdist_1[0][0]                    \n",
      "__________________________________________________________________________________________________\n",
      "tdist_2 (TimeDistributed)       (None, None, 128)    12928       activation_78[0][0]              \n",
      "__________________________________________________________________________________________________\n",
      "mask (Lambda)                   (None, None)         0           input[0][0]                      \n",
      "__________________________________________________________________________________________________\n",
      "activation_79 (Activation)      (None, None, 128)    0           tdist_2[0][0]                    \n",
      "__________________________________________________________________________________________________\n",
      "sum (Dot)                       (None, 128)          0           mask[0][0]                       \n",
      "                                                                 activation_79[0][0]              \n",
      "__________________________________________________________________________________________________\n",
      "dense_0 (Dense)                 (None, 100)          12900       sum[0][0]                        \n",
      "__________________________________________________________________________________________________\n",
      "activation_80 (Activation)      (None, 100)          0           dense_0[0][0]                    \n",
      "__________________________________________________________________________________________________\n",
      "dense_1 (Dense)                 (None, 100)          10100       activation_80[0][0]              \n",
      "__________________________________________________________________________________________________\n",
      "activation_81 (Activation)      (None, 100)          0           dense_1[0][0]                    \n",
      "__________________________________________________________________________________________________\n",
      "dense_2 (Dense)                 (None, 100)          10100       activation_81[0][0]              \n",
      "__________________________________________________________________________________________________\n",
      "activation_82 (Activation)      (None, 100)          0           dense_2[0][0]                    \n",
      "__________________________________________________________________________________________________\n",
      "output (Dense)                  (None, 2)            202         activation_82[0][0]              \n",
      "__________________________________________________________________________________________________\n",
      "activation_83 (Activation)      (None, 2)            0           output[0][0]                     \n",
      "==================================================================================================\n",
      "Total params: 56,830\n",
      "Trainable params: 56,830\n",
      "Non-trainable params: 0\n",
      "__________________________________________________________________________________________________\n"
     ]
    }
   ],
   "source": [
    "pfn_l2_regs001_val_loss = PFN(input_dim=X.shape[-1], Phi_sizes=Phi_sizes, F_sizes=F_sizes, Phi_l2_regs=0.001)"
   ]
  },
  {
   "cell_type": "code",
   "execution_count": 52,
   "id": "0619d991-57bd-4ce2-a501-d17e59de4cd9",
   "metadata": {
    "collapsed": true,
    "jupyter": {
     "outputs_hidden": true
    },
    "tags": []
   },
   "outputs": [
    {
     "name": "stdout",
     "output_type": "stream",
     "text": [
      "Epoch 1/100\n",
      "260/260 [==============================] - 15s 55ms/step - loss: 10.5919 - acc: 0.6950 - val_loss: 1.9657 - val_acc: 0.7697\n",
      "Epoch 2/100\n",
      "260/260 [==============================] - 14s 53ms/step - loss: 1.8796 - acc: 0.7342 - val_loss: 1.0373 - val_acc: 0.7845\n",
      "Epoch 3/100\n",
      "260/260 [==============================] - 14s 53ms/step - loss: 1.0371 - acc: 0.7708 - val_loss: 0.9332 - val_acc: 0.7409\n",
      "Epoch 4/100\n",
      "260/260 [==============================] - 14s 53ms/step - loss: 0.9761 - acc: 0.7658 - val_loss: 1.0173 - val_acc: 0.7813\n",
      "Epoch 5/100\n",
      "260/260 [==============================] - 14s 54ms/step - loss: 0.9165 - acc: 0.7878 - val_loss: 0.8629 - val_acc: 0.7911\n",
      "Epoch 6/100\n",
      "260/260 [==============================] - 14s 54ms/step - loss: 1.0024 - acc: 0.7641 - val_loss: 0.8682 - val_acc: 0.7849\n",
      "Epoch 7/100\n",
      "260/260 [==============================] - 14s 54ms/step - loss: 0.8503 - acc: 0.7796 - val_loss: 0.8482 - val_acc: 0.7801\n",
      "Epoch 8/100\n",
      "260/260 [==============================] - 14s 53ms/step - loss: 0.8291 - acc: 0.7851 - val_loss: 0.8248 - val_acc: 0.7689\n",
      "Epoch 9/100\n",
      "260/260 [==============================] - 14s 53ms/step - loss: 0.8164 - acc: 0.7826 - val_loss: 0.7849 - val_acc: 0.8016\n",
      "Epoch 10/100\n",
      "260/260 [==============================] - 14s 53ms/step - loss: 0.7801 - acc: 0.8052 - val_loss: 0.7699 - val_acc: 0.8286\n",
      "Epoch 11/100\n",
      "260/260 [==============================] - 14s 53ms/step - loss: 0.7525 - acc: 0.8256 - val_loss: 0.7972 - val_acc: 0.8268\n",
      "Epoch 12/100\n",
      "260/260 [==============================] - 14s 53ms/step - loss: 0.7546 - acc: 0.8158 - val_loss: 0.7206 - val_acc: 0.8293\n",
      "Epoch 13/100\n",
      "260/260 [==============================] - 14s 53ms/step - loss: 0.7261 - acc: 0.8229 - val_loss: 0.7026 - val_acc: 0.8211\n",
      "Epoch 14/100\n",
      "260/260 [==============================] - 14s 53ms/step - loss: 0.6885 - acc: 0.8376 - val_loss: 0.7030 - val_acc: 0.8418\n",
      "Epoch 15/100\n",
      "260/260 [==============================] - 14s 53ms/step - loss: 0.6747 - acc: 0.8401 - val_loss: 0.6923 - val_acc: 0.8325\n",
      "Epoch 16/100\n",
      "260/260 [==============================] - 14s 53ms/step - loss: 0.9605 - acc: 0.8250 - val_loss: 0.7258 - val_acc: 0.7949\n",
      "Epoch 17/100\n",
      "260/260 [==============================] - 14s 53ms/step - loss: 0.7046 - acc: 0.8054 - val_loss: 0.6534 - val_acc: 0.8282\n",
      "Epoch 18/100\n",
      "260/260 [==============================] - 14s 53ms/step - loss: 0.6504 - acc: 0.8369 - val_loss: 0.6219 - val_acc: 0.8490\n",
      "Epoch 19/100\n",
      "260/260 [==============================] - 14s 53ms/step - loss: 0.6222 - acc: 0.8516 - val_loss: 0.5878 - val_acc: 0.8672\n",
      "Epoch 20/100\n",
      "260/260 [==============================] - 14s 53ms/step - loss: 0.5877 - acc: 0.8658 - val_loss: 0.5551 - val_acc: 0.8863\n",
      "Epoch 21/100\n",
      "260/260 [==============================] - 14s 53ms/step - loss: 0.5586 - acc: 0.8791 - val_loss: 0.5556 - val_acc: 0.8811\n",
      "Epoch 22/100\n",
      "260/260 [==============================] - 14s 53ms/step - loss: 0.5404 - acc: 0.8853 - val_loss: 0.5130 - val_acc: 0.9002\n",
      "Epoch 23/100\n",
      "260/260 [==============================] - 14s 53ms/step - loss: 0.5148 - acc: 0.8943 - val_loss: 0.4901 - val_acc: 0.8994\n",
      "Epoch 24/100\n",
      "260/260 [==============================] - 14s 53ms/step - loss: 0.4938 - acc: 0.9012 - val_loss: 0.4773 - val_acc: 0.9022\n",
      "Epoch 25/100\n",
      "260/260 [==============================] - 14s 53ms/step - loss: 0.4764 - acc: 0.9042 - val_loss: 0.4557 - val_acc: 0.9077\n",
      "Epoch 26/100\n",
      "260/260 [==============================] - 14s 53ms/step - loss: 0.4595 - acc: 0.9078 - val_loss: 0.4483 - val_acc: 0.9093\n",
      "Epoch 27/100\n",
      "260/260 [==============================] - 14s 53ms/step - loss: 0.4450 - acc: 0.9094 - val_loss: 0.4419 - val_acc: 0.9064\n",
      "Epoch 28/100\n",
      "260/260 [==============================] - 14s 53ms/step - loss: 0.4373 - acc: 0.9092 - val_loss: 0.4382 - val_acc: 0.9062\n",
      "Epoch 29/100\n",
      "260/260 [==============================] - 14s 53ms/step - loss: 0.4269 - acc: 0.9099 - val_loss: 0.4116 - val_acc: 0.9131\n",
      "Epoch 30/100\n",
      "260/260 [==============================] - 14s 53ms/step - loss: 0.4159 - acc: 0.9111 - val_loss: 0.4156 - val_acc: 0.9078\n",
      "Epoch 31/100\n",
      "260/260 [==============================] - 14s 53ms/step - loss: 0.4102 - acc: 0.9102 - val_loss: 0.4177 - val_acc: 0.9053\n",
      "Epoch 32/100\n",
      "260/260 [==============================] - 14s 53ms/step - loss: 0.4016 - acc: 0.9114 - val_loss: 0.3871 - val_acc: 0.9141\n",
      "Epoch 33/100\n",
      "260/260 [==============================] - 14s 53ms/step - loss: 0.3933 - acc: 0.9131 - val_loss: 0.3828 - val_acc: 0.9133\n",
      "Epoch 34/100\n",
      "260/260 [==============================] - 14s 53ms/step - loss: 0.3773 - acc: 0.9151 - val_loss: 0.3805 - val_acc: 0.9095\n",
      "Epoch 35/100\n",
      "260/260 [==============================] - 14s 53ms/step - loss: 0.3799 - acc: 0.9118 - val_loss: 0.3986 - val_acc: 0.8956\n",
      "Epoch 36/100\n",
      "260/260 [==============================] - 14s 53ms/step - loss: 0.3695 - acc: 0.9130 - val_loss: 0.3643 - val_acc: 0.9098\n",
      "Epoch 37/100\n",
      "260/260 [==============================] - 14s 54ms/step - loss: 0.3603 - acc: 0.9140 - val_loss: 0.3466 - val_acc: 0.9175\n",
      "Epoch 38/100\n",
      "260/260 [==============================] - 14s 53ms/step - loss: 0.3534 - acc: 0.9147 - val_loss: 0.3435 - val_acc: 0.9184\n",
      "Epoch 39/100\n",
      "260/260 [==============================] - 14s 53ms/step - loss: 0.3407 - acc: 0.9176 - val_loss: 0.3372 - val_acc: 0.9180\n",
      "Epoch 40/100\n",
      "260/260 [==============================] - 14s 54ms/step - loss: 0.3330 - acc: 0.9171 - val_loss: 0.3251 - val_acc: 0.9182\n",
      "Epoch 41/100\n",
      "260/260 [==============================] - 14s 54ms/step - loss: 0.3280 - acc: 0.9172 - val_loss: 0.3315 - val_acc: 0.9151\n",
      "Epoch 42/100\n",
      "260/260 [==============================] - 14s 54ms/step - loss: 0.3250 - acc: 0.9173 - val_loss: 0.3217 - val_acc: 0.9157\n",
      "Epoch 43/100\n",
      "260/260 [==============================] - 14s 54ms/step - loss: 0.3193 - acc: 0.9182 - val_loss: 0.3085 - val_acc: 0.9184\n",
      "Epoch 44/100\n",
      "260/260 [==============================] - 14s 54ms/step - loss: 0.3082 - acc: 0.9201 - val_loss: 0.3039 - val_acc: 0.9204\n",
      "Epoch 45/100\n",
      "260/260 [==============================] - 14s 54ms/step - loss: 0.3063 - acc: 0.9182 - val_loss: 0.3137 - val_acc: 0.9135\n",
      "Epoch 46/100\n",
      "260/260 [==============================] - 14s 54ms/step - loss: 0.3019 - acc: 0.9187 - val_loss: 0.2993 - val_acc: 0.9185\n",
      "Epoch 47/100\n",
      "260/260 [==============================] - 14s 53ms/step - loss: 0.2942 - acc: 0.9199 - val_loss: 0.2984 - val_acc: 0.9137\n",
      "Epoch 48/100\n",
      "260/260 [==============================] - 14s 53ms/step - loss: 0.2943 - acc: 0.9182 - val_loss: 0.2891 - val_acc: 0.9184\n",
      "Epoch 49/100\n",
      "260/260 [==============================] - 14s 54ms/step - loss: 0.2871 - acc: 0.9200 - val_loss: 0.2899 - val_acc: 0.9170\n",
      "Epoch 50/100\n",
      "260/260 [==============================] - 14s 54ms/step - loss: 0.2824 - acc: 0.9208 - val_loss: 0.2749 - val_acc: 0.9218\n",
      "Epoch 51/100\n",
      "260/260 [==============================] - 14s 54ms/step - loss: 0.2803 - acc: 0.9196 - val_loss: 0.2767 - val_acc: 0.9191\n",
      "Epoch 52/100\n",
      "260/260 [==============================] - 14s 54ms/step - loss: 0.2743 - acc: 0.9220 - val_loss: 0.2723 - val_acc: 0.9213\n",
      "Epoch 53/100\n",
      "260/260 [==============================] - 14s 54ms/step - loss: 0.2740 - acc: 0.9205 - val_loss: 0.2672 - val_acc: 0.9218\n",
      "Epoch 54/100\n",
      "260/260 [==============================] - 14s 54ms/step - loss: 0.2703 - acc: 0.9207 - val_loss: 0.2730 - val_acc: 0.9197\n",
      "Epoch 55/100\n",
      "260/260 [==============================] - 14s 54ms/step - loss: 0.2628 - acc: 0.9229 - val_loss: 0.2657 - val_acc: 0.9190\n",
      "Epoch 56/100\n",
      "260/260 [==============================] - 14s 54ms/step - loss: 0.2651 - acc: 0.9220 - val_loss: 0.2583 - val_acc: 0.9229\n",
      "Epoch 57/100\n",
      "260/260 [==============================] - 14s 55ms/step - loss: 0.2568 - acc: 0.9237 - val_loss: 0.2522 - val_acc: 0.9238\n",
      "Epoch 58/100\n",
      "260/260 [==============================] - 14s 54ms/step - loss: 0.2589 - acc: 0.9220 - val_loss: 0.2582 - val_acc: 0.9213\n",
      "Epoch 59/100\n",
      "260/260 [==============================] - 14s 54ms/step - loss: 0.2514 - acc: 0.9244 - val_loss: 0.2630 - val_acc: 0.9168\n",
      "Epoch 60/100\n",
      "260/260 [==============================] - 14s 54ms/step - loss: 0.2541 - acc: 0.9222 - val_loss: 0.2515 - val_acc: 0.9205\n",
      "Epoch 61/100\n",
      "260/260 [==============================] - 14s 54ms/step - loss: 0.2477 - acc: 0.9237 - val_loss: 0.2474 - val_acc: 0.9213\n",
      "Epoch 62/100\n",
      "260/260 [==============================] - 14s 54ms/step - loss: 0.2472 - acc: 0.9245 - val_loss: 0.2492 - val_acc: 0.9221\n",
      "Epoch 63/100\n",
      "260/260 [==============================] - 14s 54ms/step - loss: 0.2444 - acc: 0.9251 - val_loss: 0.2440 - val_acc: 0.9227\n",
      "Epoch 64/100\n",
      "260/260 [==============================] - 14s 54ms/step - loss: 0.2447 - acc: 0.9235 - val_loss: 0.2503 - val_acc: 0.9180\n",
      "Epoch 65/100\n",
      "260/260 [==============================] - 14s 53ms/step - loss: 0.2434 - acc: 0.9238 - val_loss: 0.2419 - val_acc: 0.9232\n",
      "Epoch 66/100\n",
      "260/260 [==============================] - 14s 53ms/step - loss: 0.2401 - acc: 0.9247 - val_loss: 0.2463 - val_acc: 0.9219\n",
      "Epoch 67/100\n",
      "260/260 [==============================] - 14s 54ms/step - loss: 0.2386 - acc: 0.9239 - val_loss: 0.2373 - val_acc: 0.9245\n",
      "Epoch 68/100\n",
      "260/260 [==============================] - 14s 53ms/step - loss: 0.2353 - acc: 0.9262 - val_loss: 0.2403 - val_acc: 0.9231\n",
      "Epoch 69/100\n",
      "260/260 [==============================] - 14s 54ms/step - loss: 0.2343 - acc: 0.9263 - val_loss: 0.2354 - val_acc: 0.9249\n",
      "Epoch 70/100\n",
      "260/260 [==============================] - 14s 54ms/step - loss: 0.2336 - acc: 0.9261 - val_loss: 0.2346 - val_acc: 0.9246\n",
      "Epoch 71/100\n",
      "260/260 [==============================] - 14s 53ms/step - loss: 0.2338 - acc: 0.9255 - val_loss: 0.2303 - val_acc: 0.9250\n",
      "Epoch 72/100\n",
      "260/260 [==============================] - 14s 54ms/step - loss: 0.2315 - acc: 0.9260 - val_loss: 0.2364 - val_acc: 0.9229\n",
      "Epoch 73/100\n",
      "260/260 [==============================] - 14s 54ms/step - loss: 0.2300 - acc: 0.9259 - val_loss: 0.2333 - val_acc: 0.9239\n",
      "Epoch 74/100\n",
      "260/260 [==============================] - 14s 53ms/step - loss: 0.2305 - acc: 0.9258 - val_loss: 0.2311 - val_acc: 0.9245\n"
     ]
    }
   ],
   "source": [
    "history_l2_regs001_val_loss = pfn_l2_regs001_val_loss.fit(X_train, Y_train,\n",
    "        epochs=100,\n",
    "        batch_size=500,\n",
    "        callbacks= [tf.keras.callbacks.EarlyStopping(monitor='val_loss', patience=3)],\n",
    "        validation_data=(X_val, Y_val),\n",
    "        verbose=1)"
   ]
  },
  {
   "cell_type": "code",
   "execution_count": 53,
   "id": "5a5c77b2-1152-4f89-8638-2a55a4d66149",
   "metadata": {},
   "outputs": [],
   "source": [
    "pfn_l2_regs001_val_loss.save(modelpath+'pfn_l2_regs001_val_loss.h5')"
   ]
  },
  {
   "cell_type": "code",
   "execution_count": 54,
   "id": "07debae7-c2d8-466d-a462-0e61a03744d3",
   "metadata": {
    "tags": []
   },
   "outputs": [
    {
     "name": "stdout",
     "output_type": "stream",
     "text": [
      "Epochs run:  74\n",
      "AUC: 0.9752522685025227\n"
     ]
    }
   ],
   "source": [
    "# get area under the ROC curve\n",
    "preds_l2_regs001_val_loss= pfn_l2_regs001_val_loss.predict(X_test, batch_size=1000)\n",
    "auc_l2_regs001_val_loss = roc_auc_score(Y_test[:,1], preds_l2_regs001_val_loss[:,1])\n",
    "print(\"Epochs run: \" , len(history_l2_regs001_val_loss.history['loss']) )\n",
    "print('AUC:', auc_l2_regs001_val_loss)"
   ]
  },
  {
   "cell_type": "code",
   "execution_count": 55,
   "id": "0aa3880e-5b47-40af-afdb-1f1425a713f1",
   "metadata": {
    "tags": []
   },
   "outputs": [
    {
     "data": {
      "text/plain": [
       "<Figure size 432x288 with 0 Axes>"
      ]
     },
     "metadata": {},
     "output_type": "display_data"
    },
    {
     "data": {
      "image/png": "[encoded data removed]",
      "text/plain": [
       "<Figure size 432x288 with 1 Axes>"
      ]
     },
     "metadata": {},
     "output_type": "display_data"
    },
    {
     "data": {
      "image/png": "[encoded data removed]",
      "text/plain": [
       "<Figure size 432x288 with 1 Axes>"
      ]
     },
     "metadata": {},
     "output_type": "display_data"
    }
   ],
   "source": [
    "plt.cla(); plt.clf()\n",
    "fig = plt.figure()\n",
    "fig.patch.set_facecolor('white')\n",
    "\n",
    "plt.plot(history_l2_regs001_val_loss.history['acc'])\n",
    "plt.plot(history_l2_regs001_val_loss.history['val_acc'])\n",
    "plt.title('model accuracy')\n",
    "plt.ylabel('accuracy')\n",
    "plt.xlabel('epoch')\n",
    "plt.legend(['train', 'test'], loc='upper left')\n",
    "# plt.savefig('Plots/accuracy_' + layer + '.pdf')\n",
    "plt.show()\n",
    "\n",
    "\n",
    "# summarize history for loss\n",
    "fig = plt.figure()\n",
    "fig.patch.set_facecolor('white')\n",
    "plt.plot(history_l2_regs001_val_loss.history['loss'])\n",
    "plt.plot(history_l2_regs001_val_loss.history['val_loss'])\n",
    "plt.title('model loss')\n",
    "plt.ylabel('loss')\n",
    "plt.xlabel('epoch')\n",
    "plt.yscale('log')\n",
    "plt.legend(['train', 'test'], loc='upper left')\n",
    "# plt.savefig(plotpath + 'loss_' + layer + '.pdf')\n",
    "plt.show()"
   ]
  },
  {
   "cell_type": "code",
   "execution_count": null,
   "id": "182ad39f-71e8-4ac0-bffd-a6f04362c96c",
   "metadata": {},
   "outputs": [],
   "source": []
  },
  {
   "cell_type": "markdown",
   "id": "fb12eb36-b625-41f9-bd29-c3a5dfdf5323",
   "metadata": {
    "tags": []
   },
   "source": [
    "* Phi_l2_regs = 0.05 & EarlyStopping val_loss"
   ]
  },
  {
   "cell_type": "code",
   "execution_count": 56,
   "id": "4ed33a76-32f8-415e-9322-2a4ef1b9205a",
   "metadata": {
    "collapsed": true,
    "jupyter": {
     "outputs_hidden": true
    },
    "tags": []
   },
   "outputs": [
    {
     "name": "stdout",
     "output_type": "stream",
     "text": [
      "Model: \"model_12\"\n",
      "__________________________________________________________________________________________________\n",
      "Layer (type)                    Output Shape         Param #     Connected to                     \n",
      "==================================================================================================\n",
      "input (InputLayer)              [(None, None, 4)]    0                                            \n",
      "__________________________________________________________________________________________________\n",
      "tdist_0 (TimeDistributed)       (None, None, 100)    500         input[0][0]                      \n",
      "__________________________________________________________________________________________________\n",
      "activation_84 (Activation)      (None, None, 100)    0           tdist_0[0][0]                    \n",
      "__________________________________________________________________________________________________\n",
      "tdist_1 (TimeDistributed)       (None, None, 100)    10100       activation_84[0][0]              \n",
      "__________________________________________________________________________________________________\n",
      "activation_85 (Activation)      (None, None, 100)    0           tdist_1[0][0]                    \n",
      "__________________________________________________________________________________________________\n",
      "tdist_2 (TimeDistributed)       (None, None, 128)    12928       activation_85[0][0]              \n",
      "__________________________________________________________________________________________________\n",
      "mask (Lambda)                   (None, None)         0           input[0][0]                      \n",
      "__________________________________________________________________________________________________\n",
      "activation_86 (Activation)      (None, None, 128)    0           tdist_2[0][0]                    \n",
      "__________________________________________________________________________________________________\n",
      "sum (Dot)                       (None, 128)          0           mask[0][0]                       \n",
      "                                                                 activation_86[0][0]              \n",
      "__________________________________________________________________________________________________\n",
      "dense_0 (Dense)                 (None, 100)          12900       sum[0][0]                        \n",
      "__________________________________________________________________________________________________\n",
      "activation_87 (Activation)      (None, 100)          0           dense_0[0][0]                    \n",
      "__________________________________________________________________________________________________\n",
      "dense_1 (Dense)                 (None, 100)          10100       activation_87[0][0]              \n",
      "__________________________________________________________________________________________________\n",
      "activation_88 (Activation)      (None, 100)          0           dense_1[0][0]                    \n",
      "__________________________________________________________________________________________________\n",
      "dense_2 (Dense)                 (None, 100)          10100       activation_88[0][0]              \n",
      "__________________________________________________________________________________________________\n",
      "activation_89 (Activation)      (None, 100)          0           dense_2[0][0]                    \n",
      "__________________________________________________________________________________________________\n",
      "output (Dense)                  (None, 2)            202         activation_89[0][0]              \n",
      "__________________________________________________________________________________________________\n",
      "activation_90 (Activation)      (None, 2)            0           output[0][0]                     \n",
      "==================================================================================================\n",
      "Total params: 56,830\n",
      "Trainable params: 56,830\n",
      "Non-trainable params: 0\n",
      "__________________________________________________________________________________________________\n"
     ]
    }
   ],
   "source": [
    "pfn_l2_regs05_val_loss = PFN(input_dim=X.shape[-1], Phi_sizes=Phi_sizes, F_sizes=F_sizes, Phi_l2_regs=0.05)"
   ]
  },
  {
   "cell_type": "code",
   "execution_count": 57,
   "id": "a9f0d406-b0f5-4474-baa5-7992233aee71",
   "metadata": {
    "collapsed": true,
    "jupyter": {
     "outputs_hidden": true
    },
    "tags": []
   },
   "outputs": [
    {
     "name": "stdout",
     "output_type": "stream",
     "text": [
      "Epoch 1/100\n",
      "260/260 [==============================] - 15s 55ms/step - loss: 38.3740 - acc: 0.7003 - val_loss: 20.0612 - val_acc: 0.7190\n",
      "Epoch 2/100\n",
      "260/260 [==============================] - 13s 52ms/step - loss: 18.4716 - acc: 0.7449 - val_loss: 14.4595 - val_acc: 0.7797\n",
      "Epoch 3/100\n",
      "260/260 [==============================] - 14s 53ms/step - loss: 13.5948 - acc: 0.7591 - val_loss: 11.5384 - val_acc: 0.7626\n",
      "Epoch 4/100\n",
      "260/260 [==============================] - 14s 53ms/step - loss: 10.9446 - acc: 0.7382 - val_loss: 9.0192 - val_acc: 0.7785\n",
      "Epoch 5/100\n",
      "260/260 [==============================] - 14s 53ms/step - loss: 8.6028 - acc: 0.7878 - val_loss: 7.5073 - val_acc: 0.8053\n",
      "Epoch 6/100\n",
      "260/260 [==============================] - 14s 53ms/step - loss: 7.2138 - acc: 0.7999 - val_loss: 6.4194 - val_acc: 0.7968\n",
      "Epoch 7/100\n",
      "260/260 [==============================] - 14s 53ms/step - loss: 6.2197 - acc: 0.7933 - val_loss: 5.6236 - val_acc: 0.7940\n",
      "Epoch 8/100\n",
      "260/260 [==============================] - 14s 54ms/step - loss: 5.4377 - acc: 0.7999 - val_loss: 4.9599 - val_acc: 0.7988\n",
      "Epoch 9/100\n",
      "260/260 [==============================] - 14s 54ms/step - loss: 4.8202 - acc: 0.8022 - val_loss: 4.4263 - val_acc: 0.8018\n",
      "Epoch 10/100\n",
      "260/260 [==============================] - 14s 53ms/step - loss: 4.3105 - acc: 0.8016 - val_loss: 4.0047 - val_acc: 0.7905\n",
      "Epoch 11/100\n",
      "260/260 [==============================] - 14s 53ms/step - loss: 3.8900 - acc: 0.7917 - val_loss: 3.5889 - val_acc: 0.7998\n",
      "Epoch 12/100\n",
      "260/260 [==============================] - 14s 54ms/step - loss: 3.4938 - acc: 0.7975 - val_loss: 3.2201 - val_acc: 0.7980\n",
      "Epoch 13/100\n",
      "260/260 [==============================] - 14s 54ms/step - loss: 3.1299 - acc: 0.8010 - val_loss: 2.8810 - val_acc: 0.8044\n",
      "Epoch 14/100\n",
      "260/260 [==============================] - 14s 54ms/step - loss: 2.8033 - acc: 0.8036 - val_loss: 2.5941 - val_acc: 0.7896\n",
      "Epoch 15/100\n",
      "260/260 [==============================] - 14s 53ms/step - loss: 3.1643 - acc: 0.7091 - val_loss: 2.3481 - val_acc: 0.7961\n",
      "Epoch 16/100\n",
      "260/260 [==============================] - 14s 54ms/step - loss: 2.2786 - acc: 0.8043 - val_loss: 2.0995 - val_acc: 0.8064\n",
      "Epoch 17/100\n",
      "260/260 [==============================] - 14s 53ms/step - loss: 2.0397 - acc: 0.8097 - val_loss: 1.8812 - val_acc: 0.8213\n",
      "Epoch 18/100\n",
      "260/260 [==============================] - 14s 53ms/step - loss: 1.8271 - acc: 0.8146 - val_loss: 1.6825 - val_acc: 0.8104\n",
      "Epoch 19/100\n",
      "260/260 [==============================] - 14s 53ms/step - loss: 1.6385 - acc: 0.8164 - val_loss: 1.5057 - val_acc: 0.8287\n",
      "Epoch 20/100\n",
      "260/260 [==============================] - 14s 54ms/step - loss: 1.4576 - acc: 0.8246 - val_loss: 1.3271 - val_acc: 0.8264\n",
      "Epoch 21/100\n",
      "260/260 [==============================] - 14s 53ms/step - loss: 1.2956 - acc: 0.8290 - val_loss: 1.2017 - val_acc: 0.8142\n",
      "Epoch 22/100\n",
      "260/260 [==============================] - 14s 54ms/step - loss: 1.1574 - acc: 0.8310 - val_loss: 1.0501 - val_acc: 0.8317\n",
      "Epoch 23/100\n",
      "260/260 [==============================] - 14s 54ms/step - loss: 1.0373 - acc: 0.8318 - val_loss: 0.9410 - val_acc: 0.8438\n",
      "Epoch 24/100\n",
      "260/260 [==============================] - 14s 54ms/step - loss: 0.9165 - acc: 0.8394 - val_loss: 0.8397 - val_acc: 0.8416\n",
      "Epoch 25/100\n",
      "260/260 [==============================] - 14s 53ms/step - loss: 0.8211 - acc: 0.8425 - val_loss: 0.7678 - val_acc: 0.8328\n",
      "Epoch 26/100\n",
      "260/260 [==============================] - 14s 54ms/step - loss: 0.7395 - acc: 0.8451 - val_loss: 0.6998 - val_acc: 0.8323\n",
      "Epoch 27/100\n",
      "260/260 [==============================] - 14s 53ms/step - loss: 0.6797 - acc: 0.8444 - val_loss: 0.6274 - val_acc: 0.8510\n",
      "Epoch 28/100\n",
      "260/260 [==============================] - 14s 53ms/step - loss: 0.6203 - acc: 0.8491 - val_loss: 0.5824 - val_acc: 0.8488\n",
      "Epoch 29/100\n",
      "260/260 [==============================] - 14s 53ms/step - loss: 0.5785 - acc: 0.8474 - val_loss: 0.5469 - val_acc: 0.8505\n",
      "Epoch 30/100\n",
      "260/260 [==============================] - 14s 53ms/step - loss: 0.5352 - acc: 0.8568 - val_loss: 0.5124 - val_acc: 0.8495\n",
      "Epoch 31/100\n",
      "260/260 [==============================] - 14s 53ms/step - loss: 0.5036 - acc: 0.8610 - val_loss: 0.4980 - val_acc: 0.8599\n",
      "Epoch 32/100\n",
      "260/260 [==============================] - 14s 53ms/step - loss: 0.4704 - acc: 0.8693 - val_loss: 0.4718 - val_acc: 0.8579\n",
      "Epoch 33/100\n",
      "260/260 [==============================] - 14s 53ms/step - loss: 0.4444 - acc: 0.8736 - val_loss: 0.4156 - val_acc: 0.8858\n",
      "Epoch 34/100\n",
      "260/260 [==============================] - 14s 54ms/step - loss: 0.4283 - acc: 0.8779 - val_loss: 0.4142 - val_acc: 0.8850\n",
      "Epoch 35/100\n",
      "260/260 [==============================] - 14s 54ms/step - loss: 0.4157 - acc: 0.8819 - val_loss: 0.3866 - val_acc: 0.8888\n",
      "Epoch 36/100\n",
      "260/260 [==============================] - 14s 54ms/step - loss: 0.3912 - acc: 0.8892 - val_loss: 0.3728 - val_acc: 0.8935\n",
      "Epoch 37/100\n",
      "260/260 [==============================] - 14s 54ms/step - loss: 0.3838 - acc: 0.8890 - val_loss: 0.3578 - val_acc: 0.9032\n",
      "Epoch 38/100\n",
      "260/260 [==============================] - 14s 55ms/step - loss: 0.3650 - acc: 0.8943 - val_loss: 0.3496 - val_acc: 0.9038\n",
      "Epoch 39/100\n",
      "260/260 [==============================] - 14s 54ms/step - loss: 0.3738 - acc: 0.8897 - val_loss: 0.3498 - val_acc: 0.9021\n",
      "Epoch 40/100\n",
      "260/260 [==============================] - 14s 54ms/step - loss: 0.3638 - acc: 0.8923 - val_loss: 0.3327 - val_acc: 0.9042\n",
      "Epoch 41/100\n",
      "260/260 [==============================] - 14s 54ms/step - loss: 0.3428 - acc: 0.8999 - val_loss: 0.3384 - val_acc: 0.9054\n",
      "Epoch 42/100\n",
      "260/260 [==============================] - 14s 54ms/step - loss: 0.3454 - acc: 0.8967 - val_loss: 0.3248 - val_acc: 0.9079\n",
      "Epoch 43/100\n",
      "260/260 [==============================] - 14s 54ms/step - loss: 0.3316 - acc: 0.9019 - val_loss: 0.3384 - val_acc: 0.9011\n",
      "Epoch 44/100\n",
      "260/260 [==============================] - 14s 54ms/step - loss: 0.3312 - acc: 0.9009 - val_loss: 0.3147 - val_acc: 0.9019\n",
      "Epoch 45/100\n",
      "260/260 [==============================] - 14s 54ms/step - loss: 0.3382 - acc: 0.8946 - val_loss: 0.3161 - val_acc: 0.9048\n",
      "Epoch 46/100\n",
      "260/260 [==============================] - 14s 54ms/step - loss: 0.3323 - acc: 0.8972 - val_loss: 0.4283 - val_acc: 0.8677\n",
      "Epoch 47/100\n",
      "260/260 [==============================] - 14s 53ms/step - loss: 0.3338 - acc: 0.8947 - val_loss: 0.3241 - val_acc: 0.8975\n"
     ]
    }
   ],
   "source": [
    "history_l2_regs05_val_loss = pfn_l2_regs05_val_loss.fit(X_train, Y_train,\n",
    "        epochs=100,\n",
    "        batch_size=500,\n",
    "        callbacks= [tf.keras.callbacks.EarlyStopping(monitor='val_loss', patience=3)],\n",
    "        validation_data=(X_val, Y_val),\n",
    "        verbose=1)"
   ]
  },
  {
   "cell_type": "code",
   "execution_count": 58,
   "id": "fa630690-7b67-4551-ac80-71bb6f25e959",
   "metadata": {},
   "outputs": [],
   "source": [
    "pfn_l2_regs05_val_loss.save(modelpath+'pfn_l2_regs05_val_loss.h5')"
   ]
  },
  {
   "cell_type": "code",
   "execution_count": 59,
   "id": "e4379b9b-e42c-4d58-9859-a2def3c071c6",
   "metadata": {
    "tags": []
   },
   "outputs": [
    {
     "name": "stdout",
     "output_type": "stream",
     "text": [
      "Epochs run:  47\n",
      "AUC: 0.9613157371131574\n"
     ]
    }
   ],
   "source": [
    "# get area under the ROC curve\n",
    "preds_l2_regs05_val_loss= pfn_l2_regs05_val_loss.predict(X_test, batch_size=1000)\n",
    "auc_l2_regs05_val_loss = roc_auc_score(Y_test[:,1], preds_l2_regs05_val_loss[:,1])\n",
    "print(\"Epochs run: \" , len(history_l2_regs05_val_loss.history['loss']) )\n",
    "print('AUC:', auc_l2_regs05_val_loss)"
   ]
  },
  {
   "cell_type": "code",
   "execution_count": 60,
   "id": "ecb66aec-0247-47a5-85e5-e812416fb065",
   "metadata": {
    "tags": []
   },
   "outputs": [
    {
     "data": {
      "text/plain": [
       "<Figure size 432x288 with 0 Axes>"
      ]
     },
     "metadata": {},
     "output_type": "display_data"
    },
    {
     "data": {
      "image/png": "[encoded data removed]",
      "text/plain": [
       "<Figure size 432x288 with 1 Axes>"
      ]
     },
     "metadata": {},
     "output_type": "display_data"
    },
    {
     "data": {
      "image/png": "[encoded data removed]",
      "text/plain": [
       "<Figure size 432x288 with 1 Axes>"
      ]
     },
     "metadata": {},
     "output_type": "display_data"
    }
   ],
   "source": [
    "plt.cla(); plt.clf()\n",
    "fig = plt.figure()\n",
    "fig.patch.set_facecolor('white')\n",
    "\n",
    "plt.plot(history_l2_regs05_val_loss.history['acc'])\n",
    "plt.plot(history_l2_regs05_val_loss.history['val_acc'])\n",
    "plt.title('model accuracy')\n",
    "plt.ylabel('accuracy')\n",
    "plt.xlabel('epoch')\n",
    "plt.legend(['train', 'test'], loc='upper left')\n",
    "# plt.savefig('Plots/accuracy_' + layer + '.pdf')\n",
    "plt.show()\n",
    "\n",
    "\n",
    "# summarize history for loss\n",
    "fig = plt.figure()\n",
    "fig.patch.set_facecolor('white')\n",
    "plt.plot(history_l2_regs05_val_loss.history['loss'])\n",
    "plt.plot(history_l2_regs05_val_loss.history['val_loss'])\n",
    "plt.title('model loss')\n",
    "plt.ylabel('loss')\n",
    "plt.xlabel('epoch')\n",
    "plt.yscale('log')\n",
    "plt.legend(['train', 'test'], loc='upper left')\n",
    "# plt.savefig(plotpath + 'loss_' + layer + '.pdf')\n",
    "plt.show()"
   ]
  },
  {
   "cell_type": "markdown",
   "id": "642a9b15-0c02-49de-9152-20525632c623",
   "metadata": {},
   "source": [
    "#### F_l2_regs=0 : {tuple, list} of float\n",
    "\n",
    "-$L_2$-regulatization strength for both the weights and biases of the layers in the $F$ network. A single float will apply the same L2 regulatization to all layers."
   ]
  },
  {
   "cell_type": "markdown",
   "id": "cd2e57de-704c-4e78-b645-b63a1602366a",
   "metadata": {},
   "source": [
    "* F_l2_regs = 0.0005 & EarlyStopping val_loss"
   ]
  },
  {
   "cell_type": "code",
   "execution_count": 61,
   "id": "749cf2cd-6630-4bd9-afe8-4c0fbcecda70",
   "metadata": {
    "collapsed": true,
    "jupyter": {
     "outputs_hidden": true
    },
    "tags": []
   },
   "outputs": [
    {
     "name": "stdout",
     "output_type": "stream",
     "text": [
      "Model: \"model_13\"\n",
      "__________________________________________________________________________________________________\n",
      "Layer (type)                    Output Shape         Param #     Connected to                     \n",
      "==================================================================================================\n",
      "input (InputLayer)              [(None, None, 4)]    0                                            \n",
      "__________________________________________________________________________________________________\n",
      "tdist_0 (TimeDistributed)       (None, None, 100)    500         input[0][0]                      \n",
      "__________________________________________________________________________________________________\n",
      "activation_91 (Activation)      (None, None, 100)    0           tdist_0[0][0]                    \n",
      "__________________________________________________________________________________________________\n",
      "tdist_1 (TimeDistributed)       (None, None, 100)    10100       activation_91[0][0]              \n",
      "__________________________________________________________________________________________________\n",
      "activation_92 (Activation)      (None, None, 100)    0           tdist_1[0][0]                    \n",
      "__________________________________________________________________________________________________\n",
      "tdist_2 (TimeDistributed)       (None, None, 128)    12928       activation_92[0][0]              \n",
      "__________________________________________________________________________________________________\n",
      "mask (Lambda)                   (None, None)         0           input[0][0]                      \n",
      "__________________________________________________________________________________________________\n",
      "activation_93 (Activation)      (None, None, 128)    0           tdist_2[0][0]                    \n",
      "__________________________________________________________________________________________________\n",
      "sum (Dot)                       (None, 128)          0           mask[0][0]                       \n",
      "                                                                 activation_93[0][0]              \n",
      "__________________________________________________________________________________________________\n",
      "dense_0 (Dense)                 (None, 100)          12900       sum[0][0]                        \n",
      "__________________________________________________________________________________________________\n",
      "activation_94 (Activation)      (None, 100)          0           dense_0[0][0]                    \n",
      "__________________________________________________________________________________________________\n",
      "dense_1 (Dense)                 (None, 100)          10100       activation_94[0][0]              \n",
      "__________________________________________________________________________________________________\n",
      "activation_95 (Activation)      (None, 100)          0           dense_1[0][0]                    \n",
      "__________________________________________________________________________________________________\n",
      "dense_2 (Dense)                 (None, 100)          10100       activation_95[0][0]              \n",
      "__________________________________________________________________________________________________\n",
      "activation_96 (Activation)      (None, 100)          0           dense_2[0][0]                    \n",
      "__________________________________________________________________________________________________\n",
      "output (Dense)                  (None, 2)            202         activation_96[0][0]              \n",
      "__________________________________________________________________________________________________\n",
      "activation_97 (Activation)      (None, 2)            0           output[0][0]                     \n",
      "==================================================================================================\n",
      "Total params: 56,830\n",
      "Trainable params: 56,830\n",
      "Non-trainable params: 0\n",
      "__________________________________________________________________________________________________\n"
     ]
    }
   ],
   "source": [
    "pfn_Fl2_regs0005_val_loss = PFN(input_dim=X.shape[-1], Phi_sizes=Phi_sizes, F_sizes=F_sizes, F_l2_regs=0.0005)"
   ]
  },
  {
   "cell_type": "code",
   "execution_count": 62,
   "id": "a062b1e7-ab9b-414c-8e3b-c4db5a66198c",
   "metadata": {
    "collapsed": true,
    "jupyter": {
     "outputs_hidden": true
    },
    "tags": []
   },
   "outputs": [
    {
     "name": "stdout",
     "output_type": "stream",
     "text": [
      "Epoch 1/100\n",
      "260/260 [==============================] - 15s 55ms/step - loss: 9.6675 - acc: 0.6999 - val_loss: 0.7907 - val_acc: 0.7300\n",
      "Epoch 2/100\n",
      "260/260 [==============================] - 14s 53ms/step - loss: 0.9172 - acc: 0.7507 - val_loss: 1.1551 - val_acc: 0.7469\n",
      "Epoch 3/100\n",
      "260/260 [==============================] - 14s 53ms/step - loss: 0.9554 - acc: 0.7330 - val_loss: 0.5907 - val_acc: 0.7845\n",
      "Epoch 4/100\n",
      "260/260 [==============================] - 14s 53ms/step - loss: 0.5763 - acc: 0.7797 - val_loss: 0.5539 - val_acc: 0.7835\n",
      "Epoch 5/100\n",
      "260/260 [==============================] - 14s 54ms/step - loss: 0.5631 - acc: 0.7848 - val_loss: 0.5332 - val_acc: 0.7951\n",
      "Epoch 6/100\n",
      "260/260 [==============================] - 14s 53ms/step - loss: 0.5575 - acc: 0.7945 - val_loss: 0.5504 - val_acc: 0.7968\n",
      "Epoch 7/100\n",
      "260/260 [==============================] - 14s 53ms/step - loss: 0.5311 - acc: 0.7995 - val_loss: 0.5371 - val_acc: 0.7881\n",
      "Epoch 8/100\n",
      "260/260 [==============================] - 14s 54ms/step - loss: 0.5053 - acc: 0.8203 - val_loss: 0.4776 - val_acc: 0.8399\n",
      "Epoch 9/100\n",
      "260/260 [==============================] - 14s 54ms/step - loss: 0.4879 - acc: 0.8380 - val_loss: 0.4953 - val_acc: 0.8361\n",
      "Epoch 10/100\n",
      "260/260 [==============================] - 14s 54ms/step - loss: 0.4544 - acc: 0.8627 - val_loss: 0.4878 - val_acc: 0.8300\n",
      "Epoch 11/100\n",
      "260/260 [==============================] - 14s 54ms/step - loss: 0.4496 - acc: 0.8667 - val_loss: 0.4187 - val_acc: 0.8704\n",
      "Epoch 12/100\n",
      "260/260 [==============================] - 14s 54ms/step - loss: 0.4166 - acc: 0.8804 - val_loss: 0.3956 - val_acc: 0.8933\n",
      "Epoch 13/100\n",
      "260/260 [==============================] - 14s 54ms/step - loss: 0.3951 - acc: 0.8919 - val_loss: 0.3831 - val_acc: 0.8963\n",
      "Epoch 14/100\n",
      "260/260 [==============================] - 14s 54ms/step - loss: 0.3799 - acc: 0.8973 - val_loss: 0.3657 - val_acc: 0.9032\n",
      "Epoch 15/100\n",
      "260/260 [==============================] - 14s 53ms/step - loss: 0.3689 - acc: 0.9018 - val_loss: 0.3690 - val_acc: 0.9043\n",
      "Epoch 16/100\n",
      "260/260 [==============================] - 14s 54ms/step - loss: 0.3658 - acc: 0.9012 - val_loss: 0.3595 - val_acc: 0.9053\n",
      "Epoch 17/100\n",
      "260/260 [==============================] - 14s 54ms/step - loss: 0.3544 - acc: 0.9062 - val_loss: 0.3364 - val_acc: 0.9139\n",
      "Epoch 18/100\n",
      "260/260 [==============================] - 14s 54ms/step - loss: 0.3435 - acc: 0.9093 - val_loss: 0.3406 - val_acc: 0.9117\n",
      "Epoch 19/100\n",
      "260/260 [==============================] - 14s 54ms/step - loss: 0.3389 - acc: 0.9122 - val_loss: 0.3299 - val_acc: 0.9156\n",
      "Epoch 20/100\n",
      "260/260 [==============================] - 14s 54ms/step - loss: 0.3399 - acc: 0.9109 - val_loss: 0.3222 - val_acc: 0.9177\n",
      "Epoch 21/100\n",
      "260/260 [==============================] - 14s 54ms/step - loss: 0.3295 - acc: 0.9145 - val_loss: 0.3461 - val_acc: 0.9076\n",
      "Epoch 22/100\n",
      "260/260 [==============================] - 14s 53ms/step - loss: 0.3298 - acc: 0.9139 - val_loss: 0.3270 - val_acc: 0.9133\n",
      "Epoch 23/100\n",
      "260/260 [==============================] - 14s 53ms/step - loss: 0.3184 - acc: 0.9166 - val_loss: 0.3235 - val_acc: 0.9131\n"
     ]
    }
   ],
   "source": [
    "history_Fl2_regs0005_val_loss = pfn_Fl2_regs0005_val_loss.fit(X_train, Y_train,\n",
    "        epochs=100,\n",
    "        batch_size=500,\n",
    "        callbacks= [tf.keras.callbacks.EarlyStopping(monitor='val_loss', patience=3)],\n",
    "        validation_data=(X_val, Y_val),\n",
    "        verbose=1)"
   ]
  },
  {
   "cell_type": "code",
   "execution_count": 63,
   "id": "e185f9ac-828a-4708-9904-ccb5bd41c4a6",
   "metadata": {},
   "outputs": [],
   "source": [
    "pfn_Fl2_regs0005_val_loss.save(modelpath+'pfn_Fl2_regs0005_val_loss.h5')"
   ]
  },
  {
   "cell_type": "code",
   "execution_count": 64,
   "id": "a1d67e59-75b4-4333-af8b-29ea056dab6f",
   "metadata": {
    "tags": []
   },
   "outputs": [
    {
     "name": "stdout",
     "output_type": "stream",
     "text": [
      "Epochs run:  23\n",
      "AUC: 0.9700026334500264\n"
     ]
    }
   ],
   "source": [
    "# get area under the ROC curve\n",
    "preds_Fl2_regs0005_val_loss= pfn_Fl2_regs0005_val_loss.predict(X_test, batch_size=1000)\n",
    "auc_Fl2_regs0005_val_loss = roc_auc_score(Y_test[:,1], preds_Fl2_regs0005_val_loss[:,1])\n",
    "print(\"Epochs run: \" , len(history_Fl2_regs0005_val_loss.history['loss']) )\n",
    "print('AUC:', auc_Fl2_regs0005_val_loss)"
   ]
  },
  {
   "cell_type": "code",
   "execution_count": 65,
   "id": "5c7a2805-f32c-4b09-b51a-233d8a561c99",
   "metadata": {
    "tags": []
   },
   "outputs": [
    {
     "data": {
      "text/plain": [
       "<Figure size 432x288 with 0 Axes>"
      ]
     },
     "metadata": {},
     "output_type": "display_data"
    },
    {
     "data": {
      "image/png": "[encoded data removed]",
      "text/plain": [
       "<Figure size 432x288 with 1 Axes>"
      ]
     },
     "metadata": {},
     "output_type": "display_data"
    },
    {
     "data": {
      "image/png": "[encoded data removed]",
      "text/plain": [
       "<Figure size 432x288 with 1 Axes>"
      ]
     },
     "metadata": {},
     "output_type": "display_data"
    }
   ],
   "source": [
    "plt.cla(); plt.clf()\n",
    "fig = plt.figure()\n",
    "fig.patch.set_facecolor('white')\n",
    "\n",
    "plt.plot(history_Fl2_regs0005_val_loss.history['acc'])\n",
    "plt.plot(history_Fl2_regs0005_val_loss.history['val_acc'])\n",
    "plt.title('model accuracy')\n",
    "plt.ylabel('accuracy')\n",
    "plt.xlabel('epoch')\n",
    "plt.legend(['train', 'test'], loc='upper left')\n",
    "# plt.savefig('Plots/accuracy_' + layer + '.pdf')\n",
    "plt.show()\n",
    "\n",
    "\n",
    "# summarize history for loss\n",
    "fig = plt.figure()\n",
    "fig.patch.set_facecolor('white')\n",
    "plt.plot(history_Fl2_regs0005_val_loss.history['loss'])\n",
    "plt.plot(history_Fl2_regs0005_val_loss.history['val_loss'])\n",
    "plt.title('model loss')\n",
    "plt.ylabel('loss')\n",
    "plt.xlabel('epoch')\n",
    "plt.yscale('log')\n",
    "plt.legend(['train', 'test'], loc='upper left')\n",
    "# plt.savefig(plotpath + 'loss_' + layer + '.pdf')\n",
    "plt.show()"
   ]
  },
  {
   "cell_type": "markdown",
   "id": "ccee3750-230f-4ac5-910b-ee40e7a89ca6",
   "metadata": {},
   "source": [
    "* F_l2_regs = 0.001 & EarlyStopping val_loss"
   ]
  },
  {
   "cell_type": "code",
   "execution_count": 66,
   "id": "02b7177a-202b-4149-8491-33dad0b62623",
   "metadata": {
    "collapsed": true,
    "jupyter": {
     "outputs_hidden": true
    },
    "tags": []
   },
   "outputs": [
    {
     "name": "stdout",
     "output_type": "stream",
     "text": [
      "Model: \"model_14\"\n",
      "__________________________________________________________________________________________________\n",
      "Layer (type)                    Output Shape         Param #     Connected to                     \n",
      "==================================================================================================\n",
      "input (InputLayer)              [(None, None, 4)]    0                                            \n",
      "__________________________________________________________________________________________________\n",
      "tdist_0 (TimeDistributed)       (None, None, 100)    500         input[0][0]                      \n",
      "__________________________________________________________________________________________________\n",
      "activation_98 (Activation)      (None, None, 100)    0           tdist_0[0][0]                    \n",
      "__________________________________________________________________________________________________\n",
      "tdist_1 (TimeDistributed)       (None, None, 100)    10100       activation_98[0][0]              \n",
      "__________________________________________________________________________________________________\n",
      "activation_99 (Activation)      (None, None, 100)    0           tdist_1[0][0]                    \n",
      "__________________________________________________________________________________________________\n",
      "tdist_2 (TimeDistributed)       (None, None, 128)    12928       activation_99[0][0]              \n",
      "__________________________________________________________________________________________________\n",
      "mask (Lambda)                   (None, None)         0           input[0][0]                      \n",
      "__________________________________________________________________________________________________\n",
      "activation_100 (Activation)     (None, None, 128)    0           tdist_2[0][0]                    \n",
      "__________________________________________________________________________________________________\n",
      "sum (Dot)                       (None, 128)          0           mask[0][0]                       \n",
      "                                                                 activation_100[0][0]             \n",
      "__________________________________________________________________________________________________\n",
      "dense_0 (Dense)                 (None, 100)          12900       sum[0][0]                        \n",
      "__________________________________________________________________________________________________\n",
      "activation_101 (Activation)     (None, 100)          0           dense_0[0][0]                    \n",
      "__________________________________________________________________________________________________\n",
      "dense_1 (Dense)                 (None, 100)          10100       activation_101[0][0]             \n",
      "__________________________________________________________________________________________________\n",
      "activation_102 (Activation)     (None, 100)          0           dense_1[0][0]                    \n",
      "__________________________________________________________________________________________________\n",
      "dense_2 (Dense)                 (None, 100)          10100       activation_102[0][0]             \n",
      "__________________________________________________________________________________________________\n",
      "activation_103 (Activation)     (None, 100)          0           dense_2[0][0]                    \n",
      "__________________________________________________________________________________________________\n",
      "output (Dense)                  (None, 2)            202         activation_103[0][0]             \n",
      "__________________________________________________________________________________________________\n",
      "activation_104 (Activation)     (None, 2)            0           output[0][0]                     \n",
      "==================================================================================================\n",
      "Total params: 56,830\n",
      "Trainable params: 56,830\n",
      "Non-trainable params: 0\n",
      "__________________________________________________________________________________________________\n"
     ]
    }
   ],
   "source": [
    "pfn_Fl2_regs001_val_loss = PFN(input_dim=X.shape[-1], Phi_sizes=Phi_sizes, F_sizes=F_sizes, F_l2_regs=0.001)"
   ]
  },
  {
   "cell_type": "code",
   "execution_count": 67,
   "id": "60a6a03f-e81f-48f1-b1f1-f0a78d73d4a5",
   "metadata": {
    "tags": []
   },
   "outputs": [
    {
     "name": "stdout",
     "output_type": "stream",
     "text": [
      "Epoch 1/100\n",
      "260/260 [==============================] - 15s 55ms/step - loss: 20.2437 - acc: 0.6774 - val_loss: 1.0319 - val_acc: 0.7810\n",
      "Epoch 2/100\n",
      "260/260 [==============================] - 14s 53ms/step - loss: 1.3048 - acc: 0.7399 - val_loss: 0.8525 - val_acc: 0.7819\n",
      "Epoch 3/100\n",
      "260/260 [==============================] - 14s 52ms/step - loss: 0.9576 - acc: 0.7533 - val_loss: 0.9318 - val_acc: 0.7673\n",
      "Epoch 4/100\n",
      "260/260 [==============================] - 14s 52ms/step - loss: 0.9560 - acc: 0.7500 - val_loss: 0.7064 - val_acc: 0.7934\n",
      "Epoch 5/100\n",
      "260/260 [==============================] - 14s 54ms/step - loss: 0.7334 - acc: 0.7896 - val_loss: 0.7936 - val_acc: 0.7288\n",
      "Epoch 6/100\n",
      "260/260 [==============================] - 14s 53ms/step - loss: 0.7353 - acc: 0.7730 - val_loss: 0.7133 - val_acc: 0.7858\n",
      "Epoch 7/100\n",
      "260/260 [==============================] - 14s 53ms/step - loss: 0.7019 - acc: 0.7934 - val_loss: 0.6699 - val_acc: 0.8133\n",
      "Epoch 8/100\n",
      "260/260 [==============================] - 14s 54ms/step - loss: 0.6708 - acc: 0.8194 - val_loss: 0.6480 - val_acc: 0.8189\n",
      "Epoch 9/100\n",
      "260/260 [==============================] - 14s 54ms/step - loss: 0.6373 - acc: 0.8392 - val_loss: 0.6344 - val_acc: 0.8441\n",
      "Epoch 10/100\n",
      "260/260 [==============================] - 14s 54ms/step - loss: 0.6276 - acc: 0.8414 - val_loss: 0.7063 - val_acc: 0.8300\n",
      "Epoch 11/100\n",
      "260/260 [==============================] - 14s 54ms/step - loss: 0.7390 - acc: 0.8157 - val_loss: 0.7158 - val_acc: 0.7991\n",
      "Epoch 12/100\n",
      "260/260 [==============================] - 14s 54ms/step - loss: 0.6774 - acc: 0.7863 - val_loss: 0.6770 - val_acc: 0.8198\n"
     ]
    }
   ],
   "source": [
    "history_Fl2_regs001_val_loss = pfn_Fl2_regs001_val_loss.fit(X_train, Y_train,\n",
    "        epochs=100,\n",
    "        batch_size=500,\n",
    "        callbacks= [tf.keras.callbacks.EarlyStopping(monitor='val_loss', patience=3)],\n",
    "        validation_data=(X_val, Y_val),\n",
    "        verbose=1)"
   ]
  },
  {
   "cell_type": "code",
   "execution_count": 68,
   "id": "8df1f857-f88c-46bd-9e2e-635036f3095f",
   "metadata": {},
   "outputs": [],
   "source": [
    "pfn_Fl2_regs001_val_loss.save(modelpath+'pfn_Fl2_regs001_val_loss.h5')"
   ]
  },
  {
   "cell_type": "code",
   "execution_count": 69,
   "id": "6952f48f-abfa-4ccc-b168-8892252ea477",
   "metadata": {
    "tags": []
   },
   "outputs": [
    {
     "name": "stdout",
     "output_type": "stream",
     "text": [
      "Epochs run:  12\n",
      "AUC: 0.9109143878591438\n"
     ]
    }
   ],
   "source": [
    "# get area under the ROC curve\n",
    "preds_Fl2_regs001_val_loss= pfn_Fl2_regs001_val_loss.predict(X_test, batch_size=1000)\n",
    "auc_Fl2_regs001_val_loss = roc_auc_score(Y_test[:,1], preds_Fl2_regs001_val_loss[:,1])\n",
    "print(\"Epochs run: \" , len(history_Fl2_regs001_val_loss.history['loss']) )\n",
    "print('AUC:', auc_Fl2_regs001_val_loss)"
   ]
  },
  {
   "cell_type": "code",
   "execution_count": 70,
   "id": "f74a96e9-0df3-4d26-a6b0-b9571551cc68",
   "metadata": {
    "tags": []
   },
   "outputs": [
    {
     "data": {
      "text/plain": [
       "<Figure size 432x288 with 0 Axes>"
      ]
     },
     "metadata": {},
     "output_type": "display_data"
    },
    {
     "data": {
      "image/png": "[encoded data removed]",
      "text/plain": [
       "<Figure size 432x288 with 1 Axes>"
      ]
     },
     "metadata": {},
     "output_type": "display_data"
    },
    {
     "data": {
      "image/png": "[encoded data removed]",
      "text/plain": [
       "<Figure size 432x288 with 1 Axes>"
      ]
     },
     "metadata": {},
     "output_type": "display_data"
    }
   ],
   "source": [
    "plt.cla(); plt.clf()\n",
    "fig = plt.figure()\n",
    "fig.patch.set_facecolor('white')\n",
    "\n",
    "plt.plot(history_Fl2_regs001_val_loss.history['acc'])\n",
    "plt.plot(history_Fl2_regs001_val_loss.history['val_acc'])\n",
    "plt.title('model accuracy')\n",
    "plt.ylabel('accuracy')\n",
    "plt.xlabel('epoch')\n",
    "plt.legend(['train', 'test'], loc='upper left')\n",
    "# plt.savefig('Plots/accuracy_' + layer + '.pdf')\n",
    "plt.show()\n",
    "\n",
    "\n",
    "# summarize history for loss\n",
    "fig = plt.figure()\n",
    "fig.patch.set_facecolor('white')\n",
    "plt.plot(history_Fl2_regs001_val_loss.history['loss'])\n",
    "plt.plot(history_Fl2_regs001_val_loss.history['val_loss'])\n",
    "plt.title('model loss')\n",
    "plt.ylabel('loss')\n",
    "plt.xlabel('epoch')\n",
    "plt.yscale('log')\n",
    "plt.legend(['train', 'test'], loc='upper left')\n",
    "# plt.savefig(plotpath + 'loss_' + layer + '.pdf')\n",
    "plt.show()"
   ]
  },
  {
   "cell_type": "code",
   "execution_count": null,
   "id": "1e46e356-8380-42a4-81bc-913515ed1f24",
   "metadata": {},
   "outputs": [],
   "source": []
  },
  {
   "cell_type": "code",
   "execution_count": null,
   "id": "b001adaa-6b12-45c8-9280-e3978231dd22",
   "metadata": {},
   "outputs": [],
   "source": []
  },
  {
   "cell_type": "code",
   "execution_count": null,
   "id": "423fb6af-7066-48e0-8bdd-aba12024234d",
   "metadata": {},
   "outputs": [],
   "source": []
  }
 ],
 "metadata": {
  "kernelspec": {
   "display_name": "Python 3",
   "language": "python",
   "name": "python3"
  },
  "language_info": {
   "codemirror_mode": {
    "name": "ipython",
    "version": 3
   },
   "file_extension": ".py",
   "mimetype": "text/x-python",
   "name": "python",
   "nbconvert_exporter": "python",
   "pygments_lexer": "ipython3",
   "version": "3.8.5"
  }
 },
 "nbformat": 4,
 "nbformat_minor": 5
}
