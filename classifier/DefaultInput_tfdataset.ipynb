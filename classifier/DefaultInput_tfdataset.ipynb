{
 "cells": [
  {
   "cell_type": "code",
   "execution_count": 2,
   "id": "1d2939b3-4a7c-4538-b5ed-690bdec6afb3",
   "metadata": {
    "tags": []
   },
   "outputs": [],
   "source": [
    "import uproot as ur\n",
    "import awkward as ak\n",
    "import numpy as np"
   ]
  },
  {
   "cell_type": "code",
   "execution_count": 3,
   "id": "a35c7e96-39ad-4c20-8f4a-5480207f8ec2",
   "metadata": {
    "tags": []
   },
   "outputs": [],
   "source": [
    "import os\n",
    "os.environ['CUDA_VISIBLE_DEVICES'] = \"7\"\n",
    "os.environ['TF_FORCE_GPU_ALLOW_GROWTH'] = 'true'"
   ]
  },
  {
   "cell_type": "code",
   "execution_count": 4,
   "id": "1102cbc8-c749-4acf-9030-4e5ff6950e2c",
   "metadata": {},
   "outputs": [
    {
     "name": "stderr",
     "output_type": "stream",
     "text": [
      "2021-10-19 07:19:47.288973: I tensorflow/stream_executor/platform/default/dso_loader.cc:49] Successfully opened dynamic library libcudart.so.11.0\n"
     ]
    }
   ],
   "source": [
    "import tensorflow as tf\n",
    "\n",
    "# energyflow imports\n",
    "import energyflow as ef\n",
    "from energyflow.archs import PFN\n",
    "\n",
    "from sklearn.metrics import roc_auc_score, roc_curve, auc\n",
    "import matplotlib.pyplot as plt"
   ]
  },
  {
   "cell_type": "markdown",
   "id": "0d043917-b696-407d-b90d-5941b9576a4e",
   "metadata": {},
   "source": [
    "# DEFAULT OLD INPUT"
   ]
  },
  {
   "cell_type": "markdown",
   "id": "9ffd9bb2-bb69-4243-a0ef-bb65d9208636",
   "metadata": {},
   "source": [
    "## Read dataset trees for pi0 and pipm"
   ]
  },
  {
   "cell_type": "markdown",
   "id": "142aa359-ac8d-49e3-b3dd-cd46a7720755",
   "metadata": {},
   "source": [
    "Inputs consists of two components:\n",
    "- `X` : has X_pipm first and then X_pi0. It has shape `(num_clusters,max_num_cells,4)`  The cells are given as `(log(E),eta,phi,samplerID)` values\n",
    "- `Y` : a numpy array of quark/gluon jet labels (pipm=`1` and pi0=`0`). "
   ]
  },
  {
   "cell_type": "code",
   "execution_count": 5,
   "id": "272df8b7-150b-442c-8daf-a35d9612d373",
   "metadata": {},
   "outputs": [],
   "source": [
    "# my worspace and directories\n",
    "path_prefix = '/home/dportill/LCStudies/'\n",
    "plotpath = path_prefix+'classifier/Plots_EFN/'\n",
    "modelpath = path_prefix+'classifier/Models_EFN/'\n",
    "\n",
    "data_path = '/fast_scratch/atlas_images/v01-45/'"
   ]
  },
  {
   "cell_type": "code",
   "execution_count": 6,
   "id": "78ed0f8c-6709-4f8e-91f1-7302bf2818b5",
   "metadata": {},
   "outputs": [],
   "source": [
    "X = np.load(data_path+'X_4.npy')"
   ]
  },
  {
   "cell_type": "code",
   "execution_count": 8,
   "id": "8071c803-e683-43de-a383-8e664dc3f047",
   "metadata": {},
   "outputs": [],
   "source": [
    "Y = tf.keras.utils.to_categorical(np.concatenate((np.ones(90000), np.zeros(90000))))"
   ]
  },
  {
   "cell_type": "markdown",
   "id": "50c3a326-2270-4dfa-a94e-46de175d4100",
   "metadata": {},
   "source": [
    "## PFN parameters"
   ]
  },
  {
   "cell_type": "code",
   "execution_count": 7,
   "id": "4bbd99f4-8006-4ac0-8eaa-8fc8a389cdda",
   "metadata": {},
   "outputs": [],
   "source": [
    "from energyflow.utils import data_split\n",
    "\n",
    "# do train/val/test split \n",
    "(X_train, X_val, X_test,\n",
    " Y_train, Y_val, Y_test) = data_split(X, Y, val=10000, test=40000)"
   ]
  },
  {
   "cell_type": "code",
   "execution_count": null,
   "id": "22068028-d5cc-4e1f-8032-b09872808626",
   "metadata": {},
   "outputs": [],
   "source": []
  },
  {
   "cell_type": "code",
   "execution_count": 9,
   "id": "9517e21d-8de1-410c-934e-095b794a88a8",
   "metadata": {},
   "outputs": [],
   "source": [
    "Phi_sizes, F_sizes = (100, 100, 128), (100, 100, 100)"
   ]
  },
  {
   "cell_type": "code",
   "execution_count": 17,
   "id": "ff429f28-ed88-4b2a-96af-35ea4c71eec9",
   "metadata": {
    "tags": []
   },
   "outputs": [
    {
     "name": "stdout",
     "output_type": "stream",
     "text": [
      "Model: \"model_1\"\n",
      "__________________________________________________________________________________________________\n",
      "Layer (type)                    Output Shape         Param #     Connected to                     \n",
      "==================================================================================================\n",
      "input (InputLayer)              [(None, None, 4)]    0                                            \n",
      "__________________________________________________________________________________________________\n",
      "tdist_0 (TimeDistributed)       (None, None, 100)    500         input[0][0]                      \n",
      "__________________________________________________________________________________________________\n",
      "activation_7 (Activation)       (None, None, 100)    0           tdist_0[0][0]                    \n",
      "__________________________________________________________________________________________________\n",
      "tdist_1 (TimeDistributed)       (None, None, 100)    10100       activation_7[0][0]               \n",
      "__________________________________________________________________________________________________\n",
      "activation_8 (Activation)       (None, None, 100)    0           tdist_1[0][0]                    \n",
      "__________________________________________________________________________________________________\n",
      "tdist_2 (TimeDistributed)       (None, None, 128)    12928       activation_8[0][0]               \n",
      "__________________________________________________________________________________________________\n",
      "mask (Lambda)                   (None, None)         0           input[0][0]                      \n",
      "__________________________________________________________________________________________________\n",
      "activation_9 (Activation)       (None, None, 128)    0           tdist_2[0][0]                    \n",
      "__________________________________________________________________________________________________\n",
      "sum (Dot)                       (None, 128)          0           mask[0][0]                       \n",
      "                                                                 activation_9[0][0]               \n",
      "__________________________________________________________________________________________________\n",
      "dense_0 (Dense)                 (None, 100)          12900       sum[0][0]                        \n",
      "__________________________________________________________________________________________________\n",
      "activation_10 (Activation)      (None, 100)          0           dense_0[0][0]                    \n",
      "__________________________________________________________________________________________________\n",
      "dense_1 (Dense)                 (None, 100)          10100       activation_10[0][0]              \n",
      "__________________________________________________________________________________________________\n",
      "activation_11 (Activation)      (None, 100)          0           dense_1[0][0]                    \n",
      "__________________________________________________________________________________________________\n",
      "dense_2 (Dense)                 (None, 100)          10100       activation_11[0][0]              \n",
      "__________________________________________________________________________________________________\n",
      "activation_12 (Activation)      (None, 100)          0           dense_2[0][0]                    \n",
      "__________________________________________________________________________________________________\n",
      "output (Dense)                  (None, 2)            202         activation_12[0][0]              \n",
      "__________________________________________________________________________________________________\n",
      "activation_13 (Activation)      (None, 2)            0           output[0][0]                     \n",
      "==================================================================================================\n",
      "Total params: 56,830\n",
      "Trainable params: 56,830\n",
      "Non-trainable params: 0\n",
      "__________________________________________________________________________________________________\n"
     ]
    }
   ],
   "source": [
    "pfn_X_4 = PFN(input_dim=X.shape[-1], Phi_sizes=Phi_sizes, F_sizes=F_sizes)"
   ]
  },
  {
   "cell_type": "code",
   "execution_count": 18,
   "id": "3945dbc1-1a0a-47d0-a074-c635e26bb61d",
   "metadata": {
    "collapsed": true,
    "jupyter": {
     "outputs_hidden": true
    },
    "tags": []
   },
   "outputs": [
    {
     "name": "stdout",
     "output_type": "stream",
     "text": [
      "Epoch 1/100\n",
      "260/260 [==============================] - 58s 219ms/step - loss: 5.8582 - acc: 0.7094 - val_loss: 2.3175 - val_acc: 0.7390\n",
      "Epoch 2/100\n",
      "260/260 [==============================] - 16s 60ms/step - loss: 1.1531 - acc: 0.7413 - val_loss: 0.5526 - val_acc: 0.7458\n",
      "Epoch 3/100\n",
      "260/260 [==============================] - 14s 55ms/step - loss: 0.6353 - acc: 0.7468 - val_loss: 0.4139 - val_acc: 0.7945\n",
      "Epoch 4/100\n",
      "260/260 [==============================] - 14s 56ms/step - loss: 0.4137 - acc: 0.7867 - val_loss: 0.4287 - val_acc: 0.7985\n",
      "Epoch 5/100\n",
      "260/260 [==============================] - 15s 59ms/step - loss: 0.5923 - acc: 0.7597 - val_loss: 0.4100 - val_acc: 0.7955\n",
      "Epoch 6/100\n",
      "260/260 [==============================] - 15s 57ms/step - loss: 0.4110 - acc: 0.7869 - val_loss: 0.4035 - val_acc: 0.7996\n",
      "Epoch 7/100\n",
      "260/260 [==============================] - 15s 56ms/step - loss: 0.4088 - acc: 0.7958 - val_loss: 0.3898 - val_acc: 0.8033\n",
      "Epoch 8/100\n",
      "260/260 [==============================] - 15s 59ms/step - loss: 0.3960 - acc: 0.8008 - val_loss: 0.3947 - val_acc: 0.8018\n",
      "Epoch 9/100\n",
      "260/260 [==============================] - 15s 56ms/step - loss: 0.3782 - acc: 0.8160 - val_loss: 0.3650 - val_acc: 0.8478\n",
      "Epoch 10/100\n",
      "260/260 [==============================] - 15s 56ms/step - loss: 0.3502 - acc: 0.8477 - val_loss: 0.4377 - val_acc: 0.7877\n",
      "Epoch 11/100\n",
      "260/260 [==============================] - 15s 59ms/step - loss: 0.3823 - acc: 0.8372 - val_loss: 0.3158 - val_acc: 0.8774\n",
      "Epoch 12/100\n",
      "260/260 [==============================] - 15s 58ms/step - loss: 0.3033 - acc: 0.8803 - val_loss: 0.2924 - val_acc: 0.8870\n",
      "Epoch 13/100\n",
      "260/260 [==============================] - 15s 56ms/step - loss: 0.2844 - acc: 0.8894 - val_loss: 0.2549 - val_acc: 0.8985\n",
      "Epoch 14/100\n",
      "260/260 [==============================] - 15s 57ms/step - loss: 0.2653 - acc: 0.8973 - val_loss: 0.2989 - val_acc: 0.8880\n",
      "Epoch 15/100\n",
      "260/260 [==============================] - 15s 57ms/step - loss: 0.2652 - acc: 0.8985 - val_loss: 0.2392 - val_acc: 0.9146\n",
      "Epoch 16/100\n",
      "260/260 [==============================] - 15s 58ms/step - loss: 0.2425 - acc: 0.9076 - val_loss: 0.2552 - val_acc: 0.9049\n",
      "Epoch 17/100\n",
      "260/260 [==============================] - 15s 57ms/step - loss: 0.2397 - acc: 0.9091 - val_loss: 0.2287 - val_acc: 0.9091\n",
      "Epoch 18/100\n",
      "260/260 [==============================] - 14s 56ms/step - loss: 0.2426 - acc: 0.9068 - val_loss: 0.2286 - val_acc: 0.9175\n",
      "Epoch 19/100\n",
      "260/260 [==============================] - 15s 59ms/step - loss: 0.2253 - acc: 0.9153 - val_loss: 0.2474 - val_acc: 0.9102\n",
      "Epoch 20/100\n",
      "260/260 [==============================] - 15s 59ms/step - loss: 0.2274 - acc: 0.9141 - val_loss: 0.2471 - val_acc: 0.9059\n",
      "Epoch 21/100\n",
      "260/260 [==============================] - 15s 57ms/step - loss: 0.2329 - acc: 0.9122 - val_loss: 0.2260 - val_acc: 0.9179\n",
      "Epoch 22/100\n",
      "260/260 [==============================] - 15s 59ms/step - loss: 0.2385 - acc: 0.9098 - val_loss: 0.2145 - val_acc: 0.9212\n",
      "Epoch 23/100\n",
      "260/260 [==============================] - 15s 57ms/step - loss: 0.2186 - acc: 0.9175 - val_loss: 0.2074 - val_acc: 0.9216\n",
      "Epoch 24/100\n",
      "260/260 [==============================] - 15s 56ms/step - loss: 0.2244 - acc: 0.9153 - val_loss: 0.2085 - val_acc: 0.9249\n",
      "Epoch 25/100\n",
      "260/260 [==============================] - 15s 58ms/step - loss: 0.2196 - acc: 0.9172 - val_loss: 0.2218 - val_acc: 0.9198\n",
      "Epoch 26/100\n",
      "260/260 [==============================] - 15s 56ms/step - loss: 0.2165 - acc: 0.9189 - val_loss: 0.2100 - val_acc: 0.9229\n",
      "Epoch 27/100\n",
      "260/260 [==============================] - 15s 58ms/step - loss: 0.2107 - acc: 0.9208 - val_loss: 0.2112 - val_acc: 0.9220\n",
      "Epoch 28/100\n",
      "260/260 [==============================] - 15s 59ms/step - loss: 0.2144 - acc: 0.9189 - val_loss: 0.2091 - val_acc: 0.9246\n",
      "Epoch 29/100\n",
      "260/260 [==============================] - 15s 57ms/step - loss: 0.2091 - acc: 0.9212 - val_loss: 0.2187 - val_acc: 0.9196\n",
      "Epoch 30/100\n",
      "260/260 [==============================] - 15s 57ms/step - loss: 0.2218 - acc: 0.9170 - val_loss: 0.2145 - val_acc: 0.9227\n",
      "Epoch 31/100\n",
      "260/260 [==============================] - 15s 59ms/step - loss: 0.2097 - acc: 0.9219 - val_loss: 0.2087 - val_acc: 0.9230\n",
      "Epoch 32/100\n",
      "260/260 [==============================] - 15s 58ms/step - loss: 0.2084 - acc: 0.9220 - val_loss: 0.2027 - val_acc: 0.9256\n",
      "Epoch 33/100\n",
      "260/260 [==============================] - 15s 57ms/step - loss: 0.2063 - acc: 0.9222 - val_loss: 0.2026 - val_acc: 0.9252\n",
      "Epoch 34/100\n",
      "260/260 [==============================] - 15s 57ms/step - loss: 0.2057 - acc: 0.9236 - val_loss: 0.2115 - val_acc: 0.9211\n",
      "Epoch 35/100\n",
      "260/260 [==============================] - 15s 58ms/step - loss: 0.2073 - acc: 0.9222 - val_loss: 0.2079 - val_acc: 0.9239\n",
      "Epoch 36/100\n",
      "260/260 [==============================] - 15s 57ms/step - loss: 0.2072 - acc: 0.9229 - val_loss: 0.1992 - val_acc: 0.9283\n",
      "Epoch 37/100\n",
      "260/260 [==============================] - 15s 57ms/step - loss: 0.2023 - acc: 0.9243 - val_loss: 0.2104 - val_acc: 0.9225\n",
      "Epoch 38/100\n",
      "260/260 [==============================] - 15s 59ms/step - loss: 0.2016 - acc: 0.9256 - val_loss: 0.1949 - val_acc: 0.9282\n",
      "Epoch 39/100\n",
      "260/260 [==============================] - 15s 58ms/step - loss: 0.2054 - acc: 0.9217 - val_loss: 0.2218 - val_acc: 0.9185\n",
      "Epoch 40/100\n",
      "260/260 [==============================] - 15s 57ms/step - loss: 0.2043 - acc: 0.9240 - val_loss: 0.1951 - val_acc: 0.9284\n",
      "Epoch 41/100\n",
      "260/260 [==============================] - 15s 57ms/step - loss: 0.1996 - acc: 0.9250 - val_loss: 0.1957 - val_acc: 0.9285\n",
      "Epoch 42/100\n",
      "260/260 [==============================] - 15s 57ms/step - loss: 0.2017 - acc: 0.9247 - val_loss: 0.1943 - val_acc: 0.9283\n",
      "Epoch 43/100\n",
      "260/260 [==============================] - 15s 58ms/step - loss: 0.1997 - acc: 0.9261 - val_loss: 0.1998 - val_acc: 0.9260\n",
      "Epoch 44/100\n",
      "260/260 [==============================] - 15s 56ms/step - loss: 0.1977 - acc: 0.9261 - val_loss: 0.1988 - val_acc: 0.9273\n",
      "Epoch 45/100\n",
      "260/260 [==============================] - 15s 56ms/step - loss: 0.1950 - acc: 0.9274 - val_loss: 0.1985 - val_acc: 0.9265\n",
      "Epoch 46/100\n",
      "260/260 [==============================] - 15s 57ms/step - loss: 0.1998 - acc: 0.9254 - val_loss: 0.1939 - val_acc: 0.9301\n",
      "Epoch 47/100\n",
      "260/260 [==============================] - 15s 56ms/step - loss: 0.1927 - acc: 0.9293 - val_loss: 0.1981 - val_acc: 0.9272\n",
      "Epoch 48/100\n",
      "260/260 [==============================] - 15s 56ms/step - loss: 0.1971 - acc: 0.9267 - val_loss: 0.1960 - val_acc: 0.9287\n",
      "Epoch 49/100\n",
      "260/260 [==============================] - 15s 57ms/step - loss: 0.1961 - acc: 0.9270 - val_loss: 0.1931 - val_acc: 0.9290\n",
      "Epoch 50/100\n",
      "260/260 [==============================] - 15s 57ms/step - loss: 0.1925 - acc: 0.9275 - val_loss: 0.1952 - val_acc: 0.9295\n",
      "Epoch 51/100\n",
      "260/260 [==============================] - 15s 58ms/step - loss: 0.1906 - acc: 0.9289 - val_loss: 0.1981 - val_acc: 0.9259\n",
      "Epoch 52/100\n",
      "260/260 [==============================] - 15s 57ms/step - loss: 0.1912 - acc: 0.9282 - val_loss: 0.1947 - val_acc: 0.9289\n",
      "Epoch 53/100\n",
      "260/260 [==============================] - 15s 59ms/step - loss: 0.1938 - acc: 0.9271 - val_loss: 0.2043 - val_acc: 0.9252\n",
      "Epoch 54/100\n",
      "260/260 [==============================] - 15s 57ms/step - loss: 0.1955 - acc: 0.9274 - val_loss: 0.1903 - val_acc: 0.9294\n",
      "Epoch 55/100\n",
      "260/260 [==============================] - 15s 57ms/step - loss: 0.1914 - acc: 0.9284 - val_loss: 0.1873 - val_acc: 0.9317\n",
      "Epoch 56/100\n",
      "260/260 [==============================] - 15s 57ms/step - loss: 0.1898 - acc: 0.9291 - val_loss: 0.1904 - val_acc: 0.9287\n",
      "Epoch 57/100\n",
      "260/260 [==============================] - 15s 58ms/step - loss: 0.1893 - acc: 0.9293 - val_loss: 0.1933 - val_acc: 0.9299\n",
      "Epoch 58/100\n",
      "260/260 [==============================] - 15s 57ms/step - loss: 0.1927 - acc: 0.9276 - val_loss: 0.1913 - val_acc: 0.9293\n",
      "Epoch 59/100\n",
      "260/260 [==============================] - 15s 56ms/step - loss: 0.1903 - acc: 0.9288 - val_loss: 0.1929 - val_acc: 0.9290\n",
      "Epoch 60/100\n",
      "260/260 [==============================] - 15s 58ms/step - loss: 0.1901 - acc: 0.9294 - val_loss: 0.1944 - val_acc: 0.9301\n",
      "Epoch 61/100\n",
      "260/260 [==============================] - 15s 57ms/step - loss: 0.1889 - acc: 0.9296 - val_loss: 0.1910 - val_acc: 0.9312\n",
      "Epoch 62/100\n",
      "260/260 [==============================] - 15s 57ms/step - loss: 0.1908 - acc: 0.9291 - val_loss: 0.1926 - val_acc: 0.9296\n",
      "Epoch 63/100\n",
      "260/260 [==============================] - 15s 58ms/step - loss: 0.1887 - acc: 0.9301 - val_loss: 0.1934 - val_acc: 0.9309\n",
      "Epoch 64/100\n",
      "260/260 [==============================] - 15s 57ms/step - loss: 0.1876 - acc: 0.9298 - val_loss: 0.1855 - val_acc: 0.9320\n",
      "Epoch 65/100\n",
      "260/260 [==============================] - 15s 56ms/step - loss: 0.1885 - acc: 0.9294 - val_loss: 0.1916 - val_acc: 0.9288\n",
      "Epoch 66/100\n",
      "260/260 [==============================] - 15s 57ms/step - loss: 0.1882 - acc: 0.9300 - val_loss: 0.1875 - val_acc: 0.9317\n",
      "Epoch 67/100\n",
      "260/260 [==============================] - 15s 56ms/step - loss: 0.1874 - acc: 0.9297 - val_loss: 0.1892 - val_acc: 0.9290\n",
      "Epoch 68/100\n",
      "260/260 [==============================] - 15s 58ms/step - loss: 0.1871 - acc: 0.9305 - val_loss: 0.1886 - val_acc: 0.9326\n",
      "Epoch 69/100\n",
      "260/260 [==============================] - 15s 57ms/step - loss: 0.1860 - acc: 0.9309 - val_loss: 0.1915 - val_acc: 0.9301\n",
      "Epoch 70/100\n",
      "260/260 [==============================] - 15s 58ms/step - loss: 0.1894 - acc: 0.9292 - val_loss: 0.1942 - val_acc: 0.9293\n",
      "Epoch 71/100\n",
      "260/260 [==============================] - 15s 56ms/step - loss: 0.1866 - acc: 0.9298 - val_loss: 0.1866 - val_acc: 0.9320\n",
      "Epoch 72/100\n",
      "260/260 [==============================] - 15s 59ms/step - loss: 0.1858 - acc: 0.9310 - val_loss: 0.1919 - val_acc: 0.9297\n",
      "Epoch 73/100\n",
      "260/260 [==============================] - 15s 58ms/step - loss: 0.1863 - acc: 0.9303 - val_loss: 0.1858 - val_acc: 0.9318\n",
      "Epoch 74/100\n",
      "260/260 [==============================] - 15s 56ms/step - loss: 0.1849 - acc: 0.9324 - val_loss: 0.1893 - val_acc: 0.9313\n",
      "Epoch 75/100\n",
      "260/260 [==============================] - 14s 56ms/step - loss: 0.1811 - acc: 0.9319 - val_loss: 0.1951 - val_acc: 0.9305\n",
      "Epoch 76/100\n",
      "260/260 [==============================] - 14s 56ms/step - loss: 0.1853 - acc: 0.9308 - val_loss: 0.1872 - val_acc: 0.9320\n",
      "Epoch 77/100\n",
      "260/260 [==============================] - 15s 57ms/step - loss: 0.1870 - acc: 0.9291 - val_loss: 0.1806 - val_acc: 0.9347\n",
      "Epoch 78/100\n",
      "260/260 [==============================] - 15s 57ms/step - loss: 0.1813 - acc: 0.9322 - val_loss: 0.1906 - val_acc: 0.9324\n",
      "Epoch 79/100\n",
      "260/260 [==============================] - 15s 58ms/step - loss: 0.1810 - acc: 0.9324 - val_loss: 0.1884 - val_acc: 0.9322\n",
      "Epoch 80/100\n",
      "260/260 [==============================] - 15s 58ms/step - loss: 0.1811 - acc: 0.9335 - val_loss: 0.1862 - val_acc: 0.9326\n",
      "Epoch 81/100\n",
      "260/260 [==============================] - 15s 56ms/step - loss: 0.1807 - acc: 0.9327 - val_loss: 0.1846 - val_acc: 0.9329\n",
      "Epoch 82/100\n",
      "260/260 [==============================] - 15s 57ms/step - loss: 0.1774 - acc: 0.9344 - val_loss: 0.1877 - val_acc: 0.9331\n",
      "Epoch 83/100\n",
      "260/260 [==============================] - 15s 56ms/step - loss: 0.1808 - acc: 0.9332 - val_loss: 0.1812 - val_acc: 0.9350\n",
      "Epoch 84/100\n",
      "260/260 [==============================] - 15s 57ms/step - loss: 0.1784 - acc: 0.9340 - val_loss: 0.1852 - val_acc: 0.9337\n",
      "Epoch 85/100\n",
      "260/260 [==============================] - 15s 58ms/step - loss: 0.1781 - acc: 0.9338 - val_loss: 0.1827 - val_acc: 0.9353\n",
      "Epoch 86/100\n",
      "260/260 [==============================] - 15s 57ms/step - loss: 0.1822 - acc: 0.9333 - val_loss: 0.1864 - val_acc: 0.9342\n",
      "Epoch 87/100\n",
      "260/260 [==============================] - 15s 57ms/step - loss: 0.1801 - acc: 0.9333 - val_loss: 0.1802 - val_acc: 0.9350\n",
      "Epoch 88/100\n",
      "260/260 [==============================] - 14s 55ms/step - loss: 0.1774 - acc: 0.9341 - val_loss: 0.1819 - val_acc: 0.9352\n",
      "Epoch 89/100\n",
      "260/260 [==============================] - 15s 56ms/step - loss: 0.1800 - acc: 0.9327 - val_loss: 0.1841 - val_acc: 0.9331\n",
      "Epoch 90/100\n",
      "260/260 [==============================] - 15s 57ms/step - loss: 0.1757 - acc: 0.9350 - val_loss: 0.1856 - val_acc: 0.9331\n",
      "Epoch 91/100\n",
      "260/260 [==============================] - 15s 56ms/step - loss: 0.1763 - acc: 0.9342 - val_loss: 0.1807 - val_acc: 0.9355\n",
      "Epoch 92/100\n",
      "260/260 [==============================] - 14s 55ms/step - loss: 0.1741 - acc: 0.9356 - val_loss: 0.1810 - val_acc: 0.9354\n",
      "Epoch 93/100\n",
      "260/260 [==============================] - 15s 57ms/step - loss: 0.1746 - acc: 0.9352 - val_loss: 0.1837 - val_acc: 0.9339\n",
      "Epoch 94/100\n",
      "260/260 [==============================] - 15s 57ms/step - loss: 0.1769 - acc: 0.9337 - val_loss: 0.1862 - val_acc: 0.9324\n",
      "Epoch 95/100\n",
      "260/260 [==============================] - 15s 56ms/step - loss: 0.1760 - acc: 0.9345 - val_loss: 0.1814 - val_acc: 0.9360\n",
      "Epoch 96/100\n",
      "260/260 [==============================] - 15s 57ms/step - loss: 0.1757 - acc: 0.9347 - val_loss: 0.1830 - val_acc: 0.9347\n",
      "Epoch 97/100\n",
      "260/260 [==============================] - 15s 56ms/step - loss: 0.1751 - acc: 0.9344 - val_loss: 0.1811 - val_acc: 0.9344\n",
      "Epoch 98/100\n",
      "260/260 [==============================] - 14s 56ms/step - loss: 0.1735 - acc: 0.9354 - val_loss: 0.1817 - val_acc: 0.9332\n",
      "Epoch 99/100\n",
      "260/260 [==============================] - 15s 58ms/step - loss: 0.1715 - acc: 0.9371 - val_loss: 0.1816 - val_acc: 0.9353\n",
      "Epoch 100/100\n",
      "260/260 [==============================] - 15s 56ms/step - loss: 0.1748 - acc: 0.9352 - val_loss: 0.1810 - val_acc: 0.9342\n"
     ]
    }
   ],
   "source": [
    "# train model\n",
    "history_X_4 = pfn_X_4.fit(X_train, Y_train,\n",
    "        epochs=100,\n",
    "        batch_size=500,\n",
    "        validation_data=(X_val, Y_val),\n",
    "        verbose=1)"
   ]
  },
  {
   "cell_type": "code",
   "execution_count": 19,
   "id": "6427c23c-4454-4abc-b40c-416b30ca48a7",
   "metadata": {},
   "outputs": [],
   "source": [
    "pfn_X_4.save(modelpath+'pfn_X_4_defaultInput.h5')"
   ]
  },
  {
   "cell_type": "code",
   "execution_count": 21,
   "id": "83a40233-f6b7-48b3-8db5-28713121822c",
   "metadata": {},
   "outputs": [
    {
     "name": "stdout",
     "output_type": "stream",
     "text": [
      "AUC: 0.9773549509707842\n"
     ]
    }
   ],
   "source": [
    "# get area under the ROC curve\n",
    "preds_X_4 = pfn_X_4.predict(X_test, batch_size=1000)\n",
    "auc_X_4 = roc_auc_score(Y_test[:,1], preds_X_4[:,1])\n",
    "print('AUC:', auc_X_4)"
   ]
  },
  {
   "cell_type": "code",
   "execution_count": 22,
   "id": "0f2fa5a9-34f2-4a4b-b628-465ea03e4537",
   "metadata": {},
   "outputs": [
    {
     "data": {
      "image/png": "[encoded data removed]",
      "text/plain": [
       "<Figure size 432x432 with 1 Axes>"
      ]
     },
     "metadata": {
      "needs_background": "light"
     },
     "output_type": "display_data"
    }
   ],
   "source": [
    "# 40 files with netOpt2\n",
    "M = len(history_X_4.history['val_loss'])\n",
    "fig = plt.figure(figsize=(6,6))\n",
    "plt.plot(history_X_4.history['val_loss'], label=\"Validation\")\n",
    "plt.plot(history_X_4.history['loss'], label=\"Training\")\n",
    "plt.yscale('log')\n",
    "plt.ylim(.001,10)\n",
    "plt.yticks(fontsize=13)\n",
    "plt.xlim(0,M)\n",
    "plt.xticks(fontsize=13)\n",
    "plt.xlabel('Epochs', fontsize=14)\n",
    "plt.ylabel('Loss', fontsize=14)\n",
    "plt.legend(loc='upper right', ncol=1)\n",
    "# plt.tight_layout()\n",
    "#plt.savefig('./.png', format='png')\n",
    "plt.show()"
   ]
  },
  {
   "cell_type": "code",
   "execution_count": null,
   "id": "f7616f83-d1bc-4b7e-97fe-9cad49e9d513",
   "metadata": {},
   "outputs": [],
   "source": []
  },
  {
   "cell_type": "markdown",
   "id": "0f3e692e-1c97-4b86-b472-1b6567f8651d",
   "metadata": {},
   "source": [
    "# DEFAULT OLD INPUT with TF.DATASETS"
   ]
  },
  {
   "cell_type": "code",
   "execution_count": 10,
   "id": "7933d570-d875-42a8-bdb2-a2a092830553",
   "metadata": {},
   "outputs": [
    {
     "data": {
      "text/plain": [
       "(180000, 2000, 4)"
      ]
     },
     "execution_count": 10,
     "metadata": {},
     "output_type": "execute_result"
    }
   ],
   "source": [
    "X.shape"
   ]
  },
  {
   "cell_type": "code",
   "execution_count": 12,
   "id": "d7c55fac-250b-4038-aff5-b773273721f7",
   "metadata": {
    "tags": []
   },
   "outputs": [
    {
     "name": "stderr",
     "output_type": "stream",
     "text": [
      "2021-10-19 08:21:42.207559: I tensorflow/compiler/jit/xla_cpu_device.cc:41] Not creating XLA devices, tf_xla_enable_xla_devices not set\n",
      "2021-10-19 08:21:42.336366: I tensorflow/stream_executor/platform/default/dso_loader.cc:49] Successfully opened dynamic library libcuda.so.1\n",
      "2021-10-19 08:21:42.499778: I tensorflow/core/common_runtime/gpu/gpu_device.cc:1746] Found device 0 with properties: \n",
      "pciBusID: 0000:b2:00.0 name: NVIDIA GeForce RTX 2080 Ti computeCapability: 7.5\n",
      "coreClock: 1.545GHz coreCount: 68 deviceMemorySize: 10.76GiB deviceMemoryBandwidth: 573.69GiB/s\n",
      "2021-10-19 08:21:42.502953: I tensorflow/stream_executor/platform/default/dso_loader.cc:49] Successfully opened dynamic library libcudart.so.11.0\n",
      "2021-10-19 08:21:42.594448: I tensorflow/stream_executor/platform/default/dso_loader.cc:49] Successfully opened dynamic library libcublas.so.11\n",
      "2021-10-19 08:21:42.594576: I tensorflow/stream_executor/platform/default/dso_loader.cc:49] Successfully opened dynamic library libcublasLt.so.11\n",
      "2021-10-19 08:21:42.635185: I tensorflow/stream_executor/platform/default/dso_loader.cc:49] Successfully opened dynamic library libcufft.so.10\n",
      "2021-10-19 08:21:42.658413: I tensorflow/stream_executor/platform/default/dso_loader.cc:49] Successfully opened dynamic library libcurand.so.10\n",
      "2021-10-19 08:21:42.676677: I tensorflow/stream_executor/platform/default/dso_loader.cc:49] Successfully opened dynamic library libcusolver.so.11\n",
      "2021-10-19 08:21:42.694689: I tensorflow/stream_executor/platform/default/dso_loader.cc:49] Successfully opened dynamic library libcusparse.so.11\n",
      "2021-10-19 08:21:42.701929: I tensorflow/stream_executor/platform/default/dso_loader.cc:49] Successfully opened dynamic library libcudnn.so.8\n",
      "2021-10-19 08:21:42.730489: I tensorflow/core/common_runtime/gpu/gpu_device.cc:1888] Adding visible gpu devices: 0\n",
      "2021-10-19 08:21:42.782186: I tensorflow/compiler/jit/xla_gpu_device.cc:99] Not creating XLA devices, tf_xla_enable_xla_devices not set\n",
      "2021-10-19 08:21:42.787620: I tensorflow/core/common_runtime/gpu/gpu_device.cc:1746] Found device 0 with properties: \n",
      "pciBusID: 0000:b2:00.0 name: NVIDIA GeForce RTX 2080 Ti computeCapability: 7.5\n",
      "coreClock: 1.545GHz coreCount: 68 deviceMemorySize: 10.76GiB deviceMemoryBandwidth: 573.69GiB/s\n",
      "2021-10-19 08:21:42.787690: I tensorflow/stream_executor/platform/default/dso_loader.cc:49] Successfully opened dynamic library libcudart.so.11.0\n",
      "2021-10-19 08:21:42.787741: I tensorflow/stream_executor/platform/default/dso_loader.cc:49] Successfully opened dynamic library libcublas.so.11\n",
      "2021-10-19 08:21:42.787758: I tensorflow/stream_executor/platform/default/dso_loader.cc:49] Successfully opened dynamic library libcublasLt.so.11\n",
      "2021-10-19 08:21:42.787775: I tensorflow/stream_executor/platform/default/dso_loader.cc:49] Successfully opened dynamic library libcufft.so.10\n",
      "2021-10-19 08:21:42.787791: I tensorflow/stream_executor/platform/default/dso_loader.cc:49] Successfully opened dynamic library libcurand.so.10\n",
      "2021-10-19 08:21:42.787807: I tensorflow/stream_executor/platform/default/dso_loader.cc:49] Successfully opened dynamic library libcusolver.so.11\n",
      "2021-10-19 08:21:42.787824: I tensorflow/stream_executor/platform/default/dso_loader.cc:49] Successfully opened dynamic library libcusparse.so.11\n",
      "2021-10-19 08:21:42.787840: I tensorflow/stream_executor/platform/default/dso_loader.cc:49] Successfully opened dynamic library libcudnn.so.8\n",
      "2021-10-19 08:21:42.790776: I tensorflow/core/common_runtime/gpu/gpu_device.cc:1888] Adding visible gpu devices: 0\n",
      "2021-10-19 08:21:42.794938: I tensorflow/stream_executor/platform/default/dso_loader.cc:49] Successfully opened dynamic library libcudart.so.11.0\n",
      "2021-10-19 08:21:49.676015: I tensorflow/core/common_runtime/gpu/gpu_device.cc:1287] Device interconnect StreamExecutor with strength 1 edge matrix:\n",
      "2021-10-19 08:21:49.676058: I tensorflow/core/common_runtime/gpu/gpu_device.cc:1293]      0 \n",
      "2021-10-19 08:21:49.678465: I tensorflow/core/common_runtime/gpu/gpu_device.cc:1306] 0:   N \n",
      "2021-10-19 08:21:49.696785: W tensorflow/core/common_runtime/gpu/gpu_bfc_allocator.cc:39] Overriding allow_growth setting because the TF_FORCE_GPU_ALLOW_GROWTH environment variable is set. Original config value was 0.\n",
      "2021-10-19 08:21:49.696850: I tensorflow/core/common_runtime/gpu/gpu_device.cc:1432] Created TensorFlow device (/job:localhost/replica:0/task:0/device:GPU:0 with 9668 MB memory) -> physical GPU (device: 0, name: NVIDIA GeForce RTX 2080 Ti, pci bus id: 0000:b2:00.0, compute capability: 7.5)\n",
      "2021-10-19 08:21:49.780766: W tensorflow/core/framework/cpu_allocator_impl.cc:80] Allocation of 11520000000 exceeds 10% of free system memory.\n"
     ]
    }
   ],
   "source": [
    "deepSets = tf.data.Dataset.from_tensor_slices((X, Y))"
   ]
  },
  {
   "cell_type": "code",
   "execution_count": 13,
   "id": "3ae6cb9c-d155-4673-b5d6-afa9f74a0d1e",
   "metadata": {},
   "outputs": [
    {
     "data": {
      "text/plain": [
       "<TensorSliceDataset shapes: ((2000, 4), (2,)), types: (tf.float64, tf.float32)>"
      ]
     },
     "execution_count": 13,
     "metadata": {},
     "output_type": "execute_result"
    }
   ],
   "source": [
    "deepSets\n"
   ]
  },
  {
   "cell_type": "code",
   "execution_count": 14,
   "id": "f80a4e11-8bda-492e-9726-a3547e44d4d8",
   "metadata": {},
   "outputs": [
    {
     "name": "stdout",
     "output_type": "stream",
     "text": [
      "Total Number of  CLUSTERS (point clouds?):  180000\n"
     ]
    }
   ],
   "source": [
    "Total = deepSets.cardinality().numpy()\n",
    "print(\"Total Number of  CLUSTERS (point clouds?): \", Total)"
   ]
  },
  {
   "cell_type": "code",
   "execution_count": 15,
   "id": "9be5e63c-7e49-40e1-85c4-89ac83d47294",
   "metadata": {},
   "outputs": [],
   "source": [
    "val= int(Total*0.15)\n",
    "test= int(Total*0.15)\n",
    "train=Total-test-val"
   ]
  },
  {
   "cell_type": "code",
   "execution_count": 16,
   "id": "b52f8084-f82b-4cfd-ac54-75fbcd57219c",
   "metadata": {},
   "outputs": [
    {
     "name": "stdout",
     "output_type": "stream",
     "text": [
      "train: 126000\n",
      "test: 27000\n",
      "val: 27000\n"
     ]
    }
   ],
   "source": [
    "print(\"train:\", train)\n",
    "print(\"test:\" ,test)\n",
    "print(\"val:\" ,val)"
   ]
  },
  {
   "cell_type": "code",
   "execution_count": 17,
   "id": "97a9d64c-ea8a-44ae-87f1-dc872810a06d",
   "metadata": {},
   "outputs": [],
   "source": [
    "##val=10000, test=40000"
   ]
  },
  {
   "cell_type": "code",
   "execution_count": 18,
   "id": "bbb09867-c2de-48ee-89a8-e22d7f9a2a3c",
   "metadata": {},
   "outputs": [],
   "source": [
    "ds_train = deepSets.skip(val+test)"
   ]
  },
  {
   "cell_type": "code",
   "execution_count": null,
   "id": "cba54429-df57-479d-a7b8-e354131fe44b",
   "metadata": {},
   "outputs": [],
   "source": []
  },
  {
   "cell_type": "code",
   "execution_count": 19,
   "id": "b5e23740-acb3-4ba6-9369-096bf9043006",
   "metadata": {},
   "outputs": [],
   "source": [
    "ds_test = deepSets.take(test+val)\n",
    "ds_val = ds_test.skip(test)\n",
    "ds_test = ds_test.take(test)"
   ]
  },
  {
   "cell_type": "code",
   "execution_count": 20,
   "id": "3508b6d5-0e2f-4203-af3f-7e2edd652948",
   "metadata": {},
   "outputs": [
    {
     "name": "stdout",
     "output_type": "stream",
     "text": [
      "tf.Tensor(126000, shape=(), dtype=int64)\n",
      "tf.Tensor(27000, shape=(), dtype=int64)\n",
      "tf.Tensor(27000, shape=(), dtype=int64)\n"
     ]
    }
   ],
   "source": [
    "print(ds_train.cardinality())\n",
    "print(ds_val.cardinality())\n",
    "print(ds_test.cardinality())"
   ]
  },
  {
   "cell_type": "code",
   "execution_count": null,
   "id": "5b896b26-d9a1-4c02-9e04-a44ec1ebf6b5",
   "metadata": {},
   "outputs": [],
   "source": []
  },
  {
   "cell_type": "markdown",
   "id": "a4cdb02c-b64a-43a7-b661-ca923cbfa79d",
   "metadata": {},
   "source": [
    "## Determine number of batches"
   ]
  },
  {
   "cell_type": "code",
   "execution_count": 21,
   "id": "5412f6e3-85ba-4f0f-9421-3fa3601fdffa",
   "metadata": {},
   "outputs": [
    {
     "name": "stdout",
     "output_type": "stream",
     "text": [
      "len X  180000\n",
      "len Y  180000\n"
     ]
    }
   ],
   "source": [
    "print(\"len X \", len(X))\n",
    "print(\"len Y \", len(Y))"
   ]
  },
  {
   "cell_type": "code",
   "execution_count": null,
   "id": "4012b650-23ae-46a0-9405-26c351ed4194",
   "metadata": {},
   "outputs": [],
   "source": []
  },
  {
   "cell_type": "code",
   "execution_count": 22,
   "id": "cf9c5b20-275b-490a-947d-5278c6991669",
   "metadata": {},
   "outputs": [
    {
     "name": "stdout",
     "output_type": "stream",
     "text": [
      "180\n"
     ]
    }
   ],
   "source": [
    "batch_size = 1000 \n",
    "\n",
    "Nevts = len(X)\n",
    "Nbatches = int(np.floor(Nevts/batch_size))\n",
    "print(Nbatches)\n"
   ]
  },
  {
   "cell_type": "code",
   "execution_count": null,
   "id": "30aedab5-aa78-494a-8eb4-4da1c5d32c3f",
   "metadata": {},
   "outputs": [],
   "source": []
  },
  {
   "cell_type": "code",
   "execution_count": 23,
   "id": "888f9688-6a4a-4089-ae74-bd93d2fd17be",
   "metadata": {},
   "outputs": [],
   "source": [
    "ds_train = ds_train.batch(Nbatches, drop_remainder=True)\n",
    "ds_val = ds_val.batch(Nbatches, drop_remainder=True)\n",
    "ds_test = ds_test.batch(Nbatches, drop_remainder=True)"
   ]
  },
  {
   "cell_type": "code",
   "execution_count": null,
   "id": "44f3dce4-79e6-4c6e-9309-bb6d9bd628bc",
   "metadata": {},
   "outputs": [],
   "source": []
  },
  {
   "cell_type": "markdown",
   "id": "1b2b7250-8d83-4436-b456-487851a1f94c",
   "metadata": {},
   "source": [
    "## PFN parameters"
   ]
  },
  {
   "cell_type": "code",
   "execution_count": 26,
   "id": "02a96cc6-60f5-42ab-a5d3-8a6bf0eb4f95",
   "metadata": {},
   "outputs": [],
   "source": [
    "Phi_sizes, F_sizes = (100, 100, 128), (100, 100, 100)"
   ]
  },
  {
   "cell_type": "code",
   "execution_count": 27,
   "id": "bd92c944-b0d7-49e9-a6b5-b88b942af6be",
   "metadata": {
    "tags": []
   },
   "outputs": [
    {
     "name": "stdout",
     "output_type": "stream",
     "text": [
      "Model: \"model\"\n",
      "__________________________________________________________________________________________________\n",
      "Layer (type)                    Output Shape         Param #     Connected to                     \n",
      "==================================================================================================\n",
      "input (InputLayer)              [(None, None, 4)]    0                                            \n",
      "__________________________________________________________________________________________________\n",
      "tdist_0 (TimeDistributed)       (None, None, 100)    500         input[0][0]                      \n",
      "__________________________________________________________________________________________________\n",
      "activation (Activation)         (None, None, 100)    0           tdist_0[0][0]                    \n",
      "__________________________________________________________________________________________________\n",
      "tdist_1 (TimeDistributed)       (None, None, 100)    10100       activation[0][0]                 \n",
      "__________________________________________________________________________________________________\n",
      "activation_1 (Activation)       (None, None, 100)    0           tdist_1[0][0]                    \n",
      "__________________________________________________________________________________________________\n",
      "tdist_2 (TimeDistributed)       (None, None, 128)    12928       activation_1[0][0]               \n",
      "__________________________________________________________________________________________________\n",
      "mask (Lambda)                   (None, None)         0           input[0][0]                      \n",
      "__________________________________________________________________________________________________\n",
      "activation_2 (Activation)       (None, None, 128)    0           tdist_2[0][0]                    \n",
      "__________________________________________________________________________________________________\n",
      "sum (Dot)                       (None, 128)          0           mask[0][0]                       \n",
      "                                                                 activation_2[0][0]               \n",
      "__________________________________________________________________________________________________\n",
      "dense_0 (Dense)                 (None, 100)          12900       sum[0][0]                        \n",
      "__________________________________________________________________________________________________\n",
      "activation_3 (Activation)       (None, 100)          0           dense_0[0][0]                    \n",
      "__________________________________________________________________________________________________\n",
      "dense_1 (Dense)                 (None, 100)          10100       activation_3[0][0]               \n",
      "__________________________________________________________________________________________________\n",
      "activation_4 (Activation)       (None, 100)          0           dense_1[0][0]                    \n",
      "__________________________________________________________________________________________________\n",
      "dense_2 (Dense)                 (None, 100)          10100       activation_4[0][0]               \n",
      "__________________________________________________________________________________________________\n",
      "activation_5 (Activation)       (None, 100)          0           dense_2[0][0]                    \n",
      "__________________________________________________________________________________________________\n",
      "output (Dense)                  (None, 2)            202         activation_5[0][0]               \n",
      "__________________________________________________________________________________________________\n",
      "activation_6 (Activation)       (None, 2)            0           output[0][0]                     \n",
      "==================================================================================================\n",
      "Total params: 56,830\n",
      "Trainable params: 56,830\n",
      "Non-trainable params: 0\n",
      "__________________________________________________________________________________________________\n"
     ]
    }
   ],
   "source": [
    "pfn_X_4_tfd = PFN(input_dim=X.shape[-1], Phi_sizes=Phi_sizes, F_sizes=F_sizes)"
   ]
  },
  {
   "cell_type": "code",
   "execution_count": 29,
   "id": "5045a020-6078-4c52-8e2e-e7425ce2a6bb",
   "metadata": {
    "collapsed": true,
    "jupyter": {
     "outputs_hidden": true
    },
    "tags": []
   },
   "outputs": [
    {
     "name": "stdout",
     "output_type": "stream",
     "text": [
      "Epoch 1/100\n",
      "700/700 [==============================] - 55s 75ms/step - loss: 18.1162 - acc: 0.9768 - val_loss: 578.9963 - val_acc: 0.0000e+00\n",
      "Epoch 2/100\n",
      "700/700 [==============================] - 53s 74ms/step - loss: 34.7860 - acc: 0.9705 - val_loss: 718.0536 - val_acc: 0.0000e+00\n",
      "Epoch 3/100\n",
      "700/700 [==============================] - 55s 75ms/step - loss: 3.6447 - acc: 0.9801 - val_loss: 1152.3438 - val_acc: 2.2222e-04\n",
      "Epoch 4/100\n",
      "700/700 [==============================] - 50s 71ms/step - loss: 5.2503 - acc: 0.9798 - val_loss: 189.4378 - val_acc: 0.0017\n",
      "Epoch 5/100\n",
      "700/700 [==============================] - 53s 73ms/step - loss: 0.9364 - acc: 0.9851 - val_loss: 86.1987 - val_acc: 0.0031\n",
      "Epoch 6/100\n",
      "700/700 [==============================] - 55s 75ms/step - loss: 1.1486 - acc: 0.9813 - val_loss: 95.3430 - val_acc: 0.0026\n",
      "Epoch 7/100\n",
      "700/700 [==============================] - 51s 72ms/step - loss: 1.1876 - acc: 0.9816 - val_loss: 29.2191 - val_acc: 6.2963e-04\n",
      "Epoch 8/100\n",
      "700/700 [==============================] - 50s 70ms/step - loss: 0.3558 - acc: 0.9777 - val_loss: 79.0320 - val_acc: 0.0000e+00\n",
      "Epoch 9/100\n",
      "700/700 [==============================] - 52s 71ms/step - loss: 1.1943 - acc: 0.9844 - val_loss: 354.9821 - val_acc: 0.0000e+00\n",
      "Epoch 10/100\n",
      "700/700 [==============================] - 52s 72ms/step - loss: 1.6383 - acc: 0.9812 - val_loss: 174.6445 - val_acc: 0.0000e+00\n",
      "Epoch 11/100\n",
      "700/700 [==============================] - 51s 72ms/step - loss: 0.7932 - acc: 0.9564 - val_loss: 104.2117 - val_acc: 0.0010\n",
      "Epoch 12/100\n",
      "700/700 [==============================] - 51s 73ms/step - loss: 0.7833 - acc: 0.9799 - val_loss: 126.6447 - val_acc: 0.0031\n",
      "Epoch 13/100\n",
      "700/700 [==============================] - 51s 73ms/step - loss: 2.1536 - acc: 0.9770 - val_loss: 49.1111 - val_acc: 7.4074e-05\n",
      "Epoch 14/100\n",
      "700/700 [==============================] - 49s 69ms/step - loss: 0.5793 - acc: 0.8957 - val_loss: 42.6124 - val_acc: 0.0000e+00\n",
      "Epoch 15/100\n",
      "700/700 [==============================] - 49s 69ms/step - loss: 1.2205 - acc: 0.9273 - val_loss: 75.7869 - val_acc: 0.0000e+00\n",
      "Epoch 16/100\n",
      "700/700 [==============================] - 52s 73ms/step - loss: 0.5953 - acc: 0.9436 - val_loss: 38.5399 - val_acc: 4.8148e-04\n",
      "Epoch 17/100\n",
      "700/700 [==============================] - 53s 75ms/step - loss: 0.5376 - acc: 0.9727 - val_loss: 166.0477 - val_acc: 8.5185e-04\n",
      "Epoch 18/100\n",
      "700/700 [==============================] - 49s 69ms/step - loss: 0.9063 - acc: 0.9702 - val_loss: 109.4045 - val_acc: 0.0017\n",
      "Epoch 19/100\n",
      "700/700 [==============================] - 50s 70ms/step - loss: 0.7427 - acc: 0.9629 - val_loss: 123.8626 - val_acc: 0.0031\n",
      "Epoch 20/100\n",
      "700/700 [==============================] - 51s 70ms/step - loss: 0.9671 - acc: 0.9674 - val_loss: 48.0769 - val_acc: 0.0031\n",
      "Epoch 21/100\n",
      "700/700 [==============================] - 50s 71ms/step - loss: 0.7032 - acc: 0.9741 - val_loss: 115.5286 - val_acc: 0.0031\n",
      "Epoch 22/100\n",
      "700/700 [==============================] - 51s 72ms/step - loss: 1.3341 - acc: 0.9814 - val_loss: 133.0394 - val_acc: 0.0000e+00\n",
      "Epoch 23/100\n",
      "700/700 [==============================] - 50s 69ms/step - loss: 1.4213 - acc: 0.9744 - val_loss: 76.9163 - val_acc: 0.0000e+00\n",
      "Epoch 24/100\n",
      "700/700 [==============================] - 51s 72ms/step - loss: 1.2878 - acc: 0.9695 - val_loss: 22.2411 - val_acc: 9.6296e-04\n",
      "Epoch 25/100\n",
      "700/700 [==============================] - 52s 74ms/step - loss: 0.7945 - acc: 0.6350 - val_loss: 1.0478 - val_acc: 0.0000e+00\n",
      "Epoch 26/100\n",
      "700/700 [==============================] - 52s 72ms/step - loss: 0.5919 - acc: 0.7147 - val_loss: 1.2678 - val_acc: 0.0000e+00\n",
      "Epoch 27/100\n",
      "700/700 [==============================] - 51s 72ms/step - loss: 3.1134 - acc: 0.8396 - val_loss: 69.1251 - val_acc: 0.0000e+00\n",
      "Epoch 28/100\n",
      "700/700 [==============================] - 49s 69ms/step - loss: 1.7723 - acc: 0.9679 - val_loss: 104.6963 - val_acc: 0.0000e+00\n",
      "Epoch 29/100\n",
      "700/700 [==============================] - 46s 65ms/step - loss: 1.5886 - acc: 0.9603 - val_loss: 150.8931 - val_acc: 0.0000e+00\n",
      "Epoch 30/100\n",
      "700/700 [==============================] - 51s 72ms/step - loss: 1.4762 - acc: 0.9353 - val_loss: 83.7351 - val_acc: 0.0000e+00\n",
      "Epoch 31/100\n",
      "700/700 [==============================] - 47s 67ms/step - loss: 0.8213 - acc: 0.9413 - val_loss: 83.9248 - val_acc: 0.0000e+00\n",
      "Epoch 32/100\n",
      "700/700 [==============================] - 50s 70ms/step - loss: 1.4995 - acc: 0.9357 - val_loss: 217.7932 - val_acc: 0.0000e+00\n",
      "Epoch 33/100\n",
      "700/700 [==============================] - 51s 73ms/step - loss: 2.1572 - acc: 0.9651 - val_loss: 57.1877 - val_acc: 7.4074e-05\n",
      "Epoch 34/100\n",
      "700/700 [==============================] - 52s 73ms/step - loss: 0.8972 - acc: 0.9772 - val_loss: 70.1642 - val_acc: 3.7037e-05\n",
      "Epoch 35/100\n",
      "700/700 [==============================] - 53s 75ms/step - loss: 2.1699 - acc: 0.9699 - val_loss: 63.6707 - val_acc: 0.0000e+00\n",
      "Epoch 36/100\n",
      "700/700 [==============================] - 51s 73ms/step - loss: 1.0146 - acc: 0.6374 - val_loss: 1.0479 - val_acc: 0.0000e+00\n",
      "Epoch 37/100\n",
      "700/700 [==============================] - 53s 75ms/step - loss: 0.5922 - acc: 0.7145 - val_loss: 1.2688 - val_acc: 0.0000e+00\n",
      "Epoch 38/100\n",
      "700/700 [==============================] - 52s 73ms/step - loss: 0.5926 - acc: 0.7146 - val_loss: 1.3725 - val_acc: 0.0000e+00\n",
      "Epoch 39/100\n",
      "700/700 [==============================] - 52s 73ms/step - loss: 0.5962 - acc: 0.7148 - val_loss: 1.4319 - val_acc: 0.0000e+00\n",
      "Epoch 40/100\n",
      "700/700 [==============================] - 50s 71ms/step - loss: 0.5989 - acc: 0.7149 - val_loss: 1.4534 - val_acc: 0.0031\n",
      "Epoch 41/100\n",
      "700/700 [==============================] - 54s 76ms/step - loss: 0.6003 - acc: 0.7151 - val_loss: 1.4693 - val_acc: 0.0000e+00\n",
      "Epoch 42/100\n",
      "700/700 [==============================] - 52s 73ms/step - loss: 1.7742 - acc: 0.8790 - val_loss: 53.3670 - val_acc: 0.0000e+00\n",
      "Epoch 43/100\n",
      "700/700 [==============================] - 54s 76ms/step - loss: 0.8714 - acc: 0.7143 - val_loss: 1.3879 - val_acc: 0.0000e+00\n",
      "Epoch 44/100\n",
      "700/700 [==============================] - 53s 73ms/step - loss: 0.5972 - acc: 0.7143 - val_loss: 1.4357 - val_acc: 0.0000e+00\n",
      "Epoch 45/100\n",
      "700/700 [==============================] - 52s 74ms/step - loss: 0.5998 - acc: 0.7143 - val_loss: 1.4600 - val_acc: 0.0000e+00\n",
      "Epoch 46/100\n",
      "700/700 [==============================] - 51s 72ms/step - loss: 0.6013 - acc: 0.7143 - val_loss: 1.4728 - val_acc: 0.0000e+00\n",
      "Epoch 47/100\n",
      "700/700 [==============================] - 52s 73ms/step - loss: 0.6021 - acc: 0.7143 - val_loss: 1.4796 - val_acc: 0.0000e+00\n",
      "Epoch 48/100\n",
      "700/700 [==============================] - 53s 74ms/step - loss: 0.6025 - acc: 0.7143 - val_loss: 1.4832 - val_acc: 0.0000e+00\n",
      "Epoch 49/100\n",
      "700/700 [==============================] - 54s 76ms/step - loss: 0.6028 - acc: 0.7143 - val_loss: 1.4852 - val_acc: 0.0000e+00\n",
      "Epoch 50/100\n",
      "700/700 [==============================] - 52s 73ms/step - loss: 0.6029 - acc: 0.7143 - val_loss: 1.4862 - val_acc: 0.0000e+00\n",
      "Epoch 51/100\n",
      "700/700 [==============================] - 51s 72ms/step - loss: 0.6030 - acc: 0.7143 - val_loss: 1.4868 - val_acc: 0.0000e+00\n",
      "Epoch 52/100\n",
      "700/700 [==============================] - 52s 73ms/step - loss: 0.6030 - acc: 0.7143 - val_loss: 1.4871 - val_acc: 0.0000e+00\n",
      "Epoch 53/100\n",
      "700/700 [==============================] - 52s 74ms/step - loss: 0.6030 - acc: 0.7143 - val_loss: 1.4872 - val_acc: 0.0000e+00\n",
      "Epoch 54/100\n",
      "700/700 [==============================] - 51s 71ms/step - loss: 0.6031 - acc: 0.7143 - val_loss: 1.4873 - val_acc: 0.0000e+00\n",
      "Epoch 55/100\n",
      "700/700 [==============================] - 50s 70ms/step - loss: 0.6031 - acc: 0.7143 - val_loss: 1.4874 - val_acc: 0.0000e+00\n",
      "Epoch 56/100\n",
      "700/700 [==============================] - 49s 69ms/step - loss: 0.6031 - acc: 0.7143 - val_loss: 1.4874 - val_acc: 0.0000e+00\n",
      "Epoch 57/100\n",
      "700/700 [==============================] - 50s 70ms/step - loss: 0.6031 - acc: 0.7143 - val_loss: 1.4874 - val_acc: 0.0000e+00\n",
      "Epoch 58/100\n",
      "700/700 [==============================] - 52s 73ms/step - loss: 0.6031 - acc: 0.7143 - val_loss: 1.4874 - val_acc: 0.0000e+00\n",
      "Epoch 59/100\n",
      "700/700 [==============================] - 50s 70ms/step - loss: 0.6031 - acc: 0.7143 - val_loss: 1.4874 - val_acc: 0.0000e+00\n",
      "Epoch 60/100\n",
      "700/700 [==============================] - 50s 71ms/step - loss: 0.6031 - acc: 0.7143 - val_loss: 1.4874 - val_acc: 0.0000e+00\n",
      "Epoch 61/100\n",
      "700/700 [==============================] - 51s 72ms/step - loss: 0.6031 - acc: 0.7143 - val_loss: 1.4874 - val_acc: 0.0000e+00\n",
      "Epoch 62/100\n",
      "700/700 [==============================] - 53s 75ms/step - loss: 0.6031 - acc: 0.7143 - val_loss: 1.4874 - val_acc: 0.0000e+00\n",
      "Epoch 63/100\n",
      "700/700 [==============================] - 52s 73ms/step - loss: 0.6031 - acc: 0.7143 - val_loss: 1.4874 - val_acc: 0.0000e+00\n",
      "Epoch 64/100\n",
      "700/700 [==============================] - 51s 72ms/step - loss: 0.6031 - acc: 0.7143 - val_loss: 1.4874 - val_acc: 0.0000e+00\n",
      "Epoch 65/100\n",
      "700/700 [==============================] - 51s 72ms/step - loss: 0.6031 - acc: 0.7143 - val_loss: 1.4874 - val_acc: 0.0000e+00\n",
      "Epoch 66/100\n",
      "700/700 [==============================] - 52s 73ms/step - loss: 0.6031 - acc: 0.7143 - val_loss: 1.4874 - val_acc: 0.0000e+00\n",
      "Epoch 67/100\n",
      "700/700 [==============================] - 53s 75ms/step - loss: 0.6031 - acc: 0.7143 - val_loss: 1.4874 - val_acc: 0.0000e+00\n",
      "Epoch 68/100\n",
      "700/700 [==============================] - 53s 74ms/step - loss: 0.6031 - acc: 0.7143 - val_loss: 1.4874 - val_acc: 0.0000e+00\n",
      "Epoch 69/100\n",
      "700/700 [==============================] - 49s 70ms/step - loss: 0.6031 - acc: 0.7143 - val_loss: 1.4874 - val_acc: 0.0000e+00\n",
      "Epoch 70/100\n",
      "700/700 [==============================] - 52s 74ms/step - loss: 0.6031 - acc: 0.7143 - val_loss: 1.4874 - val_acc: 0.0000e+00\n",
      "Epoch 71/100\n",
      "700/700 [==============================] - 51s 71ms/step - loss: 0.6031 - acc: 0.7143 - val_loss: 1.4874 - val_acc: 0.0000e+00\n",
      "Epoch 72/100\n",
      "700/700 [==============================] - 51s 72ms/step - loss: 0.6031 - acc: 0.7143 - val_loss: 1.4874 - val_acc: 0.0000e+00\n",
      "Epoch 73/100\n",
      "700/700 [==============================] - 51s 73ms/step - loss: 0.6031 - acc: 0.7143 - val_loss: 1.4874 - val_acc: 0.0000e+00\n",
      "Epoch 74/100\n",
      "700/700 [==============================] - 51s 72ms/step - loss: 0.6031 - acc: 0.7143 - val_loss: 1.4874 - val_acc: 0.0000e+00\n",
      "Epoch 75/100\n",
      "700/700 [==============================] - 53s 75ms/step - loss: 0.6031 - acc: 0.7143 - val_loss: 1.4874 - val_acc: 0.0000e+00\n",
      "Epoch 76/100\n",
      "700/700 [==============================] - 51s 71ms/step - loss: 0.6031 - acc: 0.7143 - val_loss: 1.4874 - val_acc: 0.0000e+00\n",
      "Epoch 77/100\n",
      "700/700 [==============================] - 53s 74ms/step - loss: 0.6031 - acc: 0.7143 - val_loss: 1.4874 - val_acc: 0.0000e+00\n",
      "Epoch 78/100\n",
      "700/700 [==============================] - 53s 74ms/step - loss: 0.6031 - acc: 0.7143 - val_loss: 1.4874 - val_acc: 0.0000e+00\n",
      "Epoch 79/100\n",
      "700/700 [==============================] - 51s 72ms/step - loss: 0.6031 - acc: 0.7143 - val_loss: 1.4874 - val_acc: 0.0000e+00\n",
      "Epoch 80/100\n",
      "700/700 [==============================] - 52s 73ms/step - loss: 0.6031 - acc: 0.7143 - val_loss: 1.4874 - val_acc: 0.0000e+00\n",
      "Epoch 81/100\n",
      "700/700 [==============================] - 51s 72ms/step - loss: 0.6031 - acc: 0.7143 - val_loss: 1.4874 - val_acc: 0.0000e+00\n",
      "Epoch 82/100\n",
      "700/700 [==============================] - 51s 72ms/step - loss: 0.6031 - acc: 0.7143 - val_loss: 1.4874 - val_acc: 0.0000e+00\n",
      "Epoch 83/100\n",
      "700/700 [==============================] - 51s 73ms/step - loss: 0.6031 - acc: 0.7143 - val_loss: 1.4874 - val_acc: 0.0000e+00\n",
      "Epoch 84/100\n",
      "700/700 [==============================] - 52s 73ms/step - loss: 0.6031 - acc: 0.7143 - val_loss: 1.4874 - val_acc: 0.0000e+00\n",
      "Epoch 85/100\n",
      "700/700 [==============================] - 52s 73ms/step - loss: 0.6031 - acc: 0.7143 - val_loss: 1.4874 - val_acc: 0.0000e+00\n",
      "Epoch 86/100\n",
      "700/700 [==============================] - 52s 73ms/step - loss: 0.6031 - acc: 0.7143 - val_loss: 1.4874 - val_acc: 0.0000e+00\n",
      "Epoch 87/100\n",
      "700/700 [==============================] - 53s 75ms/step - loss: 0.6031 - acc: 0.7143 - val_loss: 1.4874 - val_acc: 0.0000e+00\n",
      "Epoch 88/100\n",
      "700/700 [==============================] - 52s 74ms/step - loss: 0.6031 - acc: 0.7143 - val_loss: 1.4874 - val_acc: 0.0000e+00\n",
      "Epoch 89/100\n",
      "700/700 [==============================] - 52s 73ms/step - loss: 0.6031 - acc: 0.7143 - val_loss: 1.4874 - val_acc: 0.0000e+00\n",
      "Epoch 90/100\n",
      "700/700 [==============================] - 55s 77ms/step - loss: 0.6031 - acc: 0.7143 - val_loss: 1.4874 - val_acc: 0.0000e+00\n",
      "Epoch 91/100\n",
      "700/700 [==============================] - 52s 74ms/step - loss: 0.6031 - acc: 0.7143 - val_loss: 1.4874 - val_acc: 0.0000e+00\n",
      "Epoch 92/100\n",
      "700/700 [==============================] - 53s 74ms/step - loss: 0.6031 - acc: 0.7143 - val_loss: 1.4874 - val_acc: 0.0000e+00\n",
      "Epoch 93/100\n",
      "700/700 [==============================] - 49s 69ms/step - loss: 0.6031 - acc: 0.7143 - val_loss: 1.4874 - val_acc: 0.0000e+00\n",
      "Epoch 94/100\n",
      "700/700 [==============================] - 53s 75ms/step - loss: 0.6031 - acc: 0.7143 - val_loss: 1.4874 - val_acc: 0.0000e+00\n",
      "Epoch 95/100\n",
      "700/700 [==============================] - 51s 72ms/step - loss: 0.6031 - acc: 0.7143 - val_loss: 1.4874 - val_acc: 0.0000e+00\n",
      "Epoch 96/100\n",
      "700/700 [==============================] - 47s 67ms/step - loss: 0.6031 - acc: 0.7143 - val_loss: 1.4874 - val_acc: 0.0000e+00\n",
      "Epoch 97/100\n",
      "700/700 [==============================] - 49s 69ms/step - loss: 0.6031 - acc: 0.7143 - val_loss: 1.4874 - val_acc: 0.0000e+00\n",
      "Epoch 98/100\n",
      "700/700 [==============================] - 50s 71ms/step - loss: 0.6031 - acc: 0.7143 - val_loss: 1.4874 - val_acc: 0.0000e+00\n",
      "Epoch 99/100\n",
      "700/700 [==============================] - 49s 69ms/step - loss: 0.6031 - acc: 0.7143 - val_loss: 1.4874 - val_acc: 0.0000e+00\n",
      "Epoch 100/100\n",
      "700/700 [==============================] - 49s 70ms/step - loss: 0.6031 - acc: 0.7143 - val_loss: 1.4874 - val_acc: 0.0000e+00\n"
     ]
    }
   ],
   "source": [
    "history2 = pfn_X_4_tfd.fit(ds_train,\n",
    "        epochs=100,\n",
    "        validation_data=ds_val,\n",
    "        verbose=1)"
   ]
  },
  {
   "cell_type": "code",
   "execution_count": null,
   "id": "c6ee5971-02b0-41e5-bbd7-d2bd38e4fc7c",
   "metadata": {},
   "outputs": [],
   "source": []
  },
  {
   "cell_type": "code",
   "execution_count": 33,
   "id": "3d29890b-a07d-4eb1-8d23-59468471c8c6",
   "metadata": {},
   "outputs": [],
   "source": [
    "pfn_X_4_tfd.save(modelpath+'pfn_X_4_tfd_defaultInput.h5')"
   ]
  },
  {
   "cell_type": "code",
   "execution_count": null,
   "id": "d2a805bd-24c1-485c-ba16-fff8ed91e31f",
   "metadata": {},
   "outputs": [],
   "source": [
    "# get area under the ROC curve\n",
    "#preds_X_4_tfd = pfn_X_4_tfd.predict(X_test, batch_size=1000)\n",
    "#auc_X_4_tfd = roc_auc_score(Y_test[:,1], preds_X_4[:,1])\n",
    "#print('AUC:', auc_X_4)"
   ]
  },
  {
   "cell_type": "code",
   "execution_count": 32,
   "id": "197b57bd-a110-4184-8839-1cdf167ea15c",
   "metadata": {},
   "outputs": [
    {
     "data": {
      "image/png": "[encoded data removed]",
      "text/plain": [
       "<Figure size 432x432 with 1 Axes>"
      ]
     },
     "metadata": {
      "needs_background": "light"
     },
     "output_type": "display_data"
    }
   ],
   "source": [
    "# 40 files with netOpt2\n",
    "M = len(history2.history['val_loss'])\n",
    "fig = plt.figure(figsize=(6,6))\n",
    "plt.plot(history2.history['val_loss'], label=\"Validation\")\n",
    "plt.plot(history2.history['loss'], label=\"Training\")\n",
    "plt.yscale('log')\n",
    "plt.ylim(.001,10)\n",
    "plt.yticks(fontsize=13)\n",
    "plt.xlim(0,M)\n",
    "plt.xticks(fontsize=13)\n",
    "plt.xlabel('Epochs', fontsize=14)\n",
    "plt.ylabel('Loss', fontsize=14)\n",
    "plt.legend(loc='upper right', ncol=1)\n",
    "# plt.tight_layout()\n",
    "#plt.savefig('./.png', format='png')\n",
    "plt.show()"
   ]
  },
  {
   "cell_type": "code",
   "execution_count": null,
   "id": "c1ec2810-d396-40bd-89e3-f137cbade54a",
   "metadata": {},
   "outputs": [],
   "source": []
  }
 ],
 "metadata": {
  "kernelspec": {
   "display_name": "Python 3 (ipykernel)",
   "language": "python",
   "name": "python3"
  },
  "language_info": {
   "codemirror_mode": {
    "name": "ipython",
    "version": 3
   },
   "file_extension": ".py",
   "mimetype": "text/x-python",
   "name": "python",
   "nbconvert_exporter": "python",
   "pygments_lexer": "ipython3",
   "version": "3.8.10"
  }
 },
 "nbformat": 4,
 "nbformat_minor": 5
}
