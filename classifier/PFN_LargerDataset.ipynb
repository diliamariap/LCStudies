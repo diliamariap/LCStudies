{
 "cells": [
  {
   "cell_type": "markdown",
   "id": "bb37e85d-5703-426e-9a9a-611e89a04197",
   "metadata": {
    "tags": []
   },
   "source": [
    "# Particle Flow Network Classification with tf Dataset"
   ]
  },
  {
   "cell_type": "code",
   "execution_count": null,
   "id": "e2107331-b098-471d-a90d-a47698754f63",
   "metadata": {},
   "outputs": [],
   "source": []
  },
  {
   "cell_type": "code",
   "execution_count": 1,
   "id": "14270aa3-eb27-4fa8-8214-320b94249489",
   "metadata": {},
   "outputs": [],
   "source": [
    "import uproot as ur\n",
    "import awkward as ak\n",
    "import numpy as np"
   ]
  },
  {
   "cell_type": "code",
   "execution_count": 2,
   "id": "3e15d995-b66d-42a0-ae97-1f862d5f945b",
   "metadata": {},
   "outputs": [],
   "source": [
    "import os\n",
    "os.environ['CUDA_VISIBLE_DEVICES'] = \"7\"\n",
    "os.environ['TF_FORCE_GPU_ALLOW_GROWTH'] = 'true'"
   ]
  },
  {
   "cell_type": "code",
   "execution_count": 3,
   "id": "f661b9b0-5abf-42be-9a1c-90e70c9df027",
   "metadata": {
    "tags": []
   },
   "outputs": [
    {
     "name": "stderr",
     "output_type": "stream",
     "text": [
      "2021-09-28 03:49:39.046894: I tensorflow/stream_executor/platform/default/dso_loader.cc:49] Successfully opened dynamic library libcudart.so.11.0\n"
     ]
    }
   ],
   "source": [
    "import tensorflow as tf\n",
    "\n",
    "# energyflow imports\n",
    "import energyflow as ef\n",
    "from energyflow.archs import PFN\n",
    "from tensorflow.keras.utils import to_categorical"
   ]
  },
  {
   "cell_type": "code",
   "execution_count": 4,
   "id": "5626f2a8-c8f5-4ea0-93f8-169477b233b9",
   "metadata": {
    "tags": []
   },
   "outputs": [],
   "source": [
    "import sys\n",
    "sys.path.append('/home/dportill/LCStudies')\n",
    "from  util import graph_util as gu"
   ]
  },
  {
   "cell_type": "code",
   "execution_count": 5,
   "id": "749dd3e5-c4b4-46c3-80ca-a39fdc384d11",
   "metadata": {},
   "outputs": [],
   "source": [
    "# my worspace and directories\n",
    "path_prefix = '/home/dportill/LCStudies/'\n",
    "plotpath = path_prefix+'classifier/Plots_EFN/'\n",
    "modelpath = path_prefix+'classifier/Models_EFN/'"
   ]
  },
  {
   "cell_type": "code",
   "execution_count": 6,
   "id": "7c3f7a23-947a-40cc-8a4d-945d99c310bb",
   "metadata": {},
   "outputs": [],
   "source": [
    "import time as t"
   ]
  },
  {
   "cell_type": "code",
   "execution_count": 7,
   "id": "b19b9d5a-bc46-4221-b45a-3354f784f4ed",
   "metadata": {
    "tags": []
   },
   "outputs": [],
   "source": [
    "import matplotlib.pyplot as plt"
   ]
  },
  {
   "cell_type": "code",
   "execution_count": null,
   "id": "03f748a3-a1ed-434c-bafd-4be56725d6a7",
   "metadata": {},
   "outputs": [],
   "source": []
  },
  {
   "cell_type": "markdown",
   "id": "0820be4d-a9c9-4f40-b0c1-2a83a6bc201a",
   "metadata": {},
   "source": [
    "# Load Data"
   ]
  },
  {
   "cell_type": "markdown",
   "id": "75f7cb0a-1396-48e1-9c7d-88ba7c17d322",
   "metadata": {},
   "source": [
    "## X"
   ]
  },
  {
   "cell_type": "code",
   "execution_count": 8,
   "id": "50ec9a37-2a87-4e07-b226-3564fd07d763",
   "metadata": {
    "tags": []
   },
   "outputs": [],
   "source": [
    "Xraw = np.load('/data/atlas/dportill/X_20_files.npy', mmap_mode='r')"
   ]
  },
  {
   "cell_type": "code",
   "execution_count": 11,
   "id": "7c683765-aba1-4a72-9ca4-268c9ece9260",
   "metadata": {},
   "outputs": [
    {
     "data": {
      "text/plain": [
       "(114485, 743, 6)"
      ]
     },
     "execution_count": 11,
     "metadata": {},
     "output_type": "execute_result"
    }
   ],
   "source": [
    "# shape: (total number of clusters, total number of cells, [log(E),eta,phi,sampleID,rperp])\n",
    "Xraw.shape"
   ]
  },
  {
   "cell_type": "markdown",
   "id": "66465615-97f2-4faa-8555-2b7dab324127",
   "metadata": {},
   "source": [
    "Read first 4 cell features:  [log(E),eta,phi,sampleID]"
   ]
  },
  {
   "cell_type": "code",
   "execution_count": 15,
   "id": "bf2d8e39-8d88-4581-8518-f09904c2a100",
   "metadata": {},
   "outputs": [],
   "source": [
    "X = np.lib.format.open_memmap('/data/atlas/dportill/X_STSC_notebook.npy',\n",
    "                             mode='w+', dtype=np.float64, shape=(Xraw.shape[0], Xraw.shape[1], 4))\n",
    "np.copyto(dst=X, src=Xraw[:,:,:4], casting='same_kind', where=True)"
   ]
  },
  {
   "cell_type": "markdown",
   "id": "d0e5f9f1-23a3-4f46-b9e1-7b937d734cab",
   "metadata": {},
   "source": [
    "## Y"
   ]
  },
  {
   "cell_type": "code",
   "execution_count": 17,
   "id": "d807cfb9-70c0-4fb9-97dc-4c352497ae93",
   "metadata": {},
   "outputs": [],
   "source": [
    "Yraw = np.load('/data/atlas/dportill/Y_20_files.npy', mmap_mode='r')"
   ]
  },
  {
   "cell_type": "code",
   "execution_count": 18,
   "id": "f01f1b7c-c7eb-442f-a25a-313659bd0bda",
   "metadata": {},
   "outputs": [
    {
     "data": {
      "text/plain": [
       "(114485, 2)"
      ]
     },
     "execution_count": 18,
     "metadata": {},
     "output_type": "execute_result"
    }
   ],
   "source": [
    "# shape: (total number of events, 1) \n",
    "Yraw.shape"
   ]
  },
  {
   "cell_type": "code",
   "execution_count": 19,
   "id": "ed2ebf29-07c4-4dd3-8d92-a107bd6153f3",
   "metadata": {},
   "outputs": [
    {
     "data": {
      "text/plain": [
       "memmap([[0., 1.],\n",
       "        [0., 1.],\n",
       "        [0., 1.],\n",
       "        ...,\n",
       "        [1., 1.],\n",
       "        [1., 1.],\n",
       "        [1., 1.]])"
      ]
     },
     "execution_count": 19,
     "metadata": {},
     "output_type": "execute_result"
    }
   ],
   "source": [
    "Yraw"
   ]
  },
  {
   "cell_type": "code",
   "execution_count": 20,
   "id": "bce52eb5-6dca-4535-8510-4d649faf6fb5",
   "metadata": {},
   "outputs": [],
   "source": [
    "#Y = np.lib.format.open_memmap('/data/atlas/dportill/Y_STSC_notebook.npy',\n",
    "#                             mode='w+', dtype=np.float64, shape=(Yraw.shape))\n",
    "#np.copyto(dst=Y, src=Yraw[:,:], casting='same_kind', where=True)"
   ]
  },
  {
   "cell_type": "markdown",
   "id": "cb8c173f-e9e3-4104-8013-31d43f8c9a4d",
   "metadata": {},
   "source": [
    "## Checks "
   ]
  },
  {
   "cell_type": "markdown",
   "id": "65f4a549-f7c8-4f4e-8526-22307e484f25",
   "metadata": {},
   "source": [
    "Categorical not working for pi0"
   ]
  },
  {
   "cell_type": "code",
   "execution_count": 23,
   "id": "891a25d2-a722-4414-b6ae-bc9fa9b6eda3",
   "metadata": {
    "tags": []
   },
   "outputs": [],
   "source": [
    "Y_list = Y.tolist()"
   ]
  },
  {
   "cell_type": "code",
   "execution_count": 28,
   "id": "1a86e336-d374-4b93-a576-5acd4a10b6ff",
   "metadata": {},
   "outputs": [
    {
     "data": {
      "text/plain": [
       "114485"
      ]
     },
     "execution_count": 28,
     "metadata": {},
     "output_type": "execute_result"
    }
   ],
   "source": [
    "len(Y_list)"
   ]
  },
  {
   "cell_type": "code",
   "execution_count": 33,
   "id": "35b43980-7708-4bad-adaa-463233472685",
   "metadata": {},
   "outputs": [
    {
     "name": "stdout",
     "output_type": "stream",
     "text": [
      "pipm events  68113\n",
      "pi0 events   0\n",
      "pi0_count2   46372\n"
     ]
    }
   ],
   "source": [
    "pipm_count = Y_list.count([0.0, 1.0])   # pipm label =1 \n",
    "pi0_count = Y_list.count([1.0, 0.0])    #pi0 label = 0\n",
    "pi0_count2 = Y_list.count([1.0, 1.0])    #pi0 label = 0\n",
    "print('pipm events ', pipm_count)\n",
    "print('pi0 events  ', pi0_count)\n",
    "print('pi0_count2  ', pi0_count2)"
   ]
  },
  {
   "cell_type": "code",
   "execution_count": 35,
   "id": "cc4a4052-2b6a-441d-b31d-475e82751b59",
   "metadata": {},
   "outputs": [],
   "source": [
    "Y_test = to_categorical(np.ones( pi0_count2) * 0)"
   ]
  },
  {
   "cell_type": "code",
   "execution_count": 36,
   "id": "cb2d8ce5-9b62-49cc-8957-d7262fe6a4e3",
   "metadata": {},
   "outputs": [
    {
     "data": {
      "text/plain": [
       "array([[1.],\n",
       "       [1.],\n",
       "       [1.],\n",
       "       ...,\n",
       "       [1.],\n",
       "       [1.],\n",
       "       [1.]], dtype=float32)"
      ]
     },
     "execution_count": 36,
     "metadata": {},
     "output_type": "execute_result"
    }
   ],
   "source": [
    "Y_test"
   ]
  },
  {
   "cell_type": "code",
   "execution_count": 37,
   "id": "6105eb1d-841f-4c56-b419-0d744bafbbe2",
   "metadata": {},
   "outputs": [],
   "source": [
    "\n",
    "Y_test = tf.keras.utils.to_categorical(np.concatenate((np.ones(pipm_count), np.zeros(pi0_count2))))"
   ]
  },
  {
   "cell_type": "code",
   "execution_count": 38,
   "id": "71d6badb-8f24-4a4e-a24b-3ea8eee0b18d",
   "metadata": {},
   "outputs": [
    {
     "data": {
      "text/plain": [
       "array([[0., 1.],\n",
       "       [0., 1.],\n",
       "       [0., 1.],\n",
       "       ...,\n",
       "       [1., 0.],\n",
       "       [1., 0.],\n",
       "       [1., 0.]], dtype=float32)"
      ]
     },
     "execution_count": 38,
     "metadata": {},
     "output_type": "execute_result"
    }
   ],
   "source": [
    "Y_test"
   ]
  },
  {
   "cell_type": "code",
   "execution_count": 42,
   "id": "818e14d5-c2b9-42fc-873b-4f56eadad61b",
   "metadata": {},
   "outputs": [
    {
     "data": {
      "text/plain": [
       "(114485, 2)"
      ]
     },
     "execution_count": 42,
     "metadata": {},
     "output_type": "execute_result"
    }
   ],
   "source": [
    "Y_test.shape"
   ]
  },
  {
   "cell_type": "code",
   "execution_count": null,
   "id": "b93841d4-201d-4779-88a0-7bdc6b6f9e49",
   "metadata": {},
   "outputs": [],
   "source": []
  },
  {
   "cell_type": "markdown",
   "id": "e7314472-9c37-42c3-bfaa-1806f657d3eb",
   "metadata": {},
   "source": [
    "## Y again"
   ]
  },
  {
   "cell_type": "code",
   "execution_count": 44,
   "id": "cc86579d-f518-4941-934e-0908a124ef01",
   "metadata": {},
   "outputs": [],
   "source": [
    "Y = np.lib.format.open_memmap('/data/atlas/dportill/Y_STSC_notebook.npy',\n",
    "                             mode='w+', dtype=np.float64, shape=(Y_test.shape))\n",
    "np.copyto(dst=Y, src=Y_test[:,:], casting='same_kind', where=True)"
   ]
  },
  {
   "cell_type": "code",
   "execution_count": 46,
   "id": "47976ab4-847d-4144-b057-4da84fa35071",
   "metadata": {},
   "outputs": [
    {
     "data": {
      "text/plain": [
       "memmap([[0., 1.],\n",
       "        [0., 1.],\n",
       "        [0., 1.],\n",
       "        ...,\n",
       "        [1., 0.],\n",
       "        [1., 0.],\n",
       "        [1., 0.]])"
      ]
     },
     "execution_count": 46,
     "metadata": {},
     "output_type": "execute_result"
    }
   ],
   "source": [
    "Y"
   ]
  },
  {
   "cell_type": "code",
   "execution_count": 50,
   "id": "8b410000-301a-435f-bcba-e564dcd109d0",
   "metadata": {},
   "outputs": [
    {
     "name": "stdout",
     "output_type": "stream",
     "text": [
      "X shape (114485, 743, 4)\n",
      "Y shape (114485, 2)\n"
     ]
    }
   ],
   "source": [
    "print(\"X shape\", X.shape)\n",
    "print(\"Y shape\", Y.shape)"
   ]
  },
  {
   "cell_type": "markdown",
   "id": "44d77a64-ed87-413a-bc7d-0e0bf5932b29",
   "metadata": {},
   "source": [
    "## tf Dataset"
   ]
  },
  {
   "cell_type": "code",
   "execution_count": 48,
   "id": "a1ee9ac9-fd0b-448b-9d43-c875c116962c",
   "metadata": {
    "tags": []
   },
   "outputs": [
    {
     "name": "stderr",
     "output_type": "stream",
     "text": [
      "2021-09-28 04:36:13.943054: I tensorflow/compiler/jit/xla_cpu_device.cc:41] Not creating XLA devices, tf_xla_enable_xla_devices not set\n",
      "2021-09-28 04:36:13.999263: I tensorflow/stream_executor/platform/default/dso_loader.cc:49] Successfully opened dynamic library libcuda.so.1\n",
      "2021-09-28 04:36:14.140129: I tensorflow/core/common_runtime/gpu/gpu_device.cc:1746] Found device 0 with properties: \n",
      "pciBusID: 0000:b2:00.0 name: GeForce RTX 2080 Ti computeCapability: 7.5\n",
      "coreClock: 1.545GHz coreCount: 68 deviceMemorySize: 10.76GiB deviceMemoryBandwidth: 573.69GiB/s\n",
      "2021-09-28 04:36:14.141756: I tensorflow/stream_executor/platform/default/dso_loader.cc:49] Successfully opened dynamic library libcudart.so.11.0\n",
      "2021-09-28 04:36:14.197168: I tensorflow/stream_executor/platform/default/dso_loader.cc:49] Successfully opened dynamic library libcublas.so.11\n",
      "2021-09-28 04:36:14.197353: I tensorflow/stream_executor/platform/default/dso_loader.cc:49] Successfully opened dynamic library libcublasLt.so.11\n",
      "2021-09-28 04:36:14.233533: I tensorflow/stream_executor/platform/default/dso_loader.cc:49] Successfully opened dynamic library libcufft.so.10\n",
      "2021-09-28 04:36:14.248156: I tensorflow/stream_executor/platform/default/dso_loader.cc:49] Successfully opened dynamic library libcurand.so.10\n",
      "2021-09-28 04:36:14.258719: I tensorflow/stream_executor/platform/default/dso_loader.cc:49] Successfully opened dynamic library libcusolver.so.11\n",
      "2021-09-28 04:36:14.272101: I tensorflow/stream_executor/platform/default/dso_loader.cc:49] Successfully opened dynamic library libcusparse.so.11\n",
      "2021-09-28 04:36:14.275804: I tensorflow/stream_executor/platform/default/dso_loader.cc:49] Successfully opened dynamic library libcudnn.so.8\n",
      "2021-09-28 04:36:14.280818: I tensorflow/core/common_runtime/gpu/gpu_device.cc:1888] Adding visible gpu devices: 0\n",
      "2021-09-28 04:36:14.319108: I tensorflow/compiler/jit/xla_gpu_device.cc:99] Not creating XLA devices, tf_xla_enable_xla_devices not set\n",
      "2021-09-28 04:36:14.320638: I tensorflow/core/common_runtime/gpu/gpu_device.cc:1746] Found device 0 with properties: \n",
      "pciBusID: 0000:b2:00.0 name: GeForce RTX 2080 Ti computeCapability: 7.5\n",
      "coreClock: 1.545GHz coreCount: 68 deviceMemorySize: 10.76GiB deviceMemoryBandwidth: 573.69GiB/s\n",
      "2021-09-28 04:36:14.320684: I tensorflow/stream_executor/platform/default/dso_loader.cc:49] Successfully opened dynamic library libcudart.so.11.0\n",
      "2021-09-28 04:36:14.320716: I tensorflow/stream_executor/platform/default/dso_loader.cc:49] Successfully opened dynamic library libcublas.so.11\n",
      "2021-09-28 04:36:14.320728: I tensorflow/stream_executor/platform/default/dso_loader.cc:49] Successfully opened dynamic library libcublasLt.so.11\n",
      "2021-09-28 04:36:14.320739: I tensorflow/stream_executor/platform/default/dso_loader.cc:49] Successfully opened dynamic library libcufft.so.10\n",
      "2021-09-28 04:36:14.320750: I tensorflow/stream_executor/platform/default/dso_loader.cc:49] Successfully opened dynamic library libcurand.so.10\n",
      "2021-09-28 04:36:14.320761: I tensorflow/stream_executor/platform/default/dso_loader.cc:49] Successfully opened dynamic library libcusolver.so.11\n",
      "2021-09-28 04:36:14.320771: I tensorflow/stream_executor/platform/default/dso_loader.cc:49] Successfully opened dynamic library libcusparse.so.11\n",
      "2021-09-28 04:36:14.320782: I tensorflow/stream_executor/platform/default/dso_loader.cc:49] Successfully opened dynamic library libcudnn.so.8\n",
      "2021-09-28 04:36:14.323081: I tensorflow/core/common_runtime/gpu/gpu_device.cc:1888] Adding visible gpu devices: 0\n",
      "2021-09-28 04:36:14.324997: I tensorflow/stream_executor/platform/default/dso_loader.cc:49] Successfully opened dynamic library libcudart.so.11.0\n",
      "2021-09-28 04:36:20.980378: I tensorflow/core/common_runtime/gpu/gpu_device.cc:1287] Device interconnect StreamExecutor with strength 1 edge matrix:\n",
      "2021-09-28 04:36:20.980436: I tensorflow/core/common_runtime/gpu/gpu_device.cc:1293]      0 \n",
      "2021-09-28 04:36:20.982463: I tensorflow/core/common_runtime/gpu/gpu_device.cc:1306] 0:   N \n",
      "2021-09-28 04:36:20.998742: W tensorflow/core/common_runtime/gpu/gpu_bfc_allocator.cc:39] Overriding allow_growth setting because the TF_FORCE_GPU_ALLOW_GROWTH environment variable is set. Original config value was 0.\n",
      "2021-09-28 04:36:20.998832: I tensorflow/core/common_runtime/gpu/gpu_device.cc:1432] Created TensorFlow device (/job:localhost/replica:0/task:0/device:GPU:0 with 9666 MB memory) -> physical GPU (device: 0, name: GeForce RTX 2080 Ti, pci bus id: 0000:b2:00.0, compute capability: 7.5)\n"
     ]
    }
   ],
   "source": [
    "deepSets = tf.data.Dataset.from_tensor_slices((X, Y))"
   ]
  },
  {
   "cell_type": "code",
   "execution_count": 49,
   "id": "8a9d98ab-153b-46c5-b5eb-3813567e5a49",
   "metadata": {},
   "outputs": [
    {
     "data": {
      "text/plain": [
       "<TensorSliceDataset shapes: ((743, 4), (2,)), types: (tf.float64, tf.float64)>"
      ]
     },
     "execution_count": 49,
     "metadata": {},
     "output_type": "execute_result"
    }
   ],
   "source": [
    "deepSets"
   ]
  },
  {
   "cell_type": "code",
   "execution_count": 53,
   "id": "32afa1a1-fa83-4a13-a721-2f71f9b2937e",
   "metadata": {},
   "outputs": [
    {
     "name": "stdout",
     "output_type": "stream",
     "text": [
      "Total Number of  CLUSTERS (point clouds?):  114485\n"
     ]
    }
   ],
   "source": [
    "Total = deepSets.cardinality().numpy()\n",
    "print(\"Total Number of  CLUSTERS (point clouds?): \", Total)"
   ]
  },
  {
   "cell_type": "code",
   "execution_count": 54,
   "id": "f60e285b-bc22-451a-8581-f6e6845ce0fb",
   "metadata": {},
   "outputs": [],
   "source": [
    "val= int(Total*0.15)\n",
    "test= int(Total*0.15)\n",
    "train=Total-test-val"
   ]
  },
  {
   "cell_type": "code",
   "execution_count": 55,
   "id": "47621f87-3795-4e95-82cf-f25e0c5fe26f",
   "metadata": {},
   "outputs": [
    {
     "name": "stdout",
     "output_type": "stream",
     "text": [
      "train: 80141\n",
      "test: 17172\n",
      "val: 17172\n"
     ]
    }
   ],
   "source": [
    "print(\"train:\", train)\n",
    "print(\"test:\" ,test)\n",
    "print(\"val:\" ,val)"
   ]
  },
  {
   "cell_type": "code",
   "execution_count": 56,
   "id": "7359a7a8-16d3-4977-ace5-15572a52f4ac",
   "metadata": {},
   "outputs": [],
   "source": [
    "ds_train = deepSets.skip(val+test)"
   ]
  },
  {
   "cell_type": "code",
   "execution_count": 57,
   "id": "b7507c9f-5651-4089-8d4b-76d393d4492d",
   "metadata": {},
   "outputs": [],
   "source": [
    "ds_test = deepSets.take(test+val)\n",
    "ds_val = ds_test.skip(test)\n",
    "ds_test = ds_test.take(test)"
   ]
  },
  {
   "cell_type": "code",
   "execution_count": 58,
   "id": "775b9cc5-c405-4029-9f1d-e47c65104780",
   "metadata": {},
   "outputs": [
    {
     "name": "stdout",
     "output_type": "stream",
     "text": [
      "tf.Tensor(80141, shape=(), dtype=int64)\n",
      "tf.Tensor(17172, shape=(), dtype=int64)\n",
      "tf.Tensor(17172, shape=(), dtype=int64)\n"
     ]
    }
   ],
   "source": [
    "print(ds_train.cardinality())\n",
    "print(ds_val.cardinality())\n",
    "print(ds_test.cardinality())"
   ]
  },
  {
   "cell_type": "code",
   "execution_count": null,
   "id": "88969185-e9f3-44c7-ab7e-26521fbbe081",
   "metadata": {},
   "outputs": [],
   "source": []
  },
  {
   "cell_type": "markdown",
   "id": "3b79b26a-fa95-4e2e-bdc4-4d1950f1d7e2",
   "metadata": {},
   "source": [
    "## Determine number of batches"
   ]
  },
  {
   "cell_type": "code",
   "execution_count": 60,
   "id": "9eb5fb94-8cca-428e-a30d-c045a162e92b",
   "metadata": {},
   "outputs": [
    {
     "name": "stdout",
     "output_type": "stream",
     "text": [
      "len X  114485\n",
      "len Y  114485\n"
     ]
    }
   ],
   "source": [
    "print(\"len X \", len(X))\n",
    "print(\"len Y \", len(Y))"
   ]
  },
  {
   "cell_type": "code",
   "execution_count": 61,
   "id": "57605c0b-e2bf-4e4d-8425-d8960962a8a4",
   "metadata": {},
   "outputs": [
    {
     "data": {
      "text/plain": [
       "114485"
      ]
     },
     "execution_count": 61,
     "metadata": {},
     "output_type": "execute_result"
    }
   ],
   "source": [
    "80141+17172+17172"
   ]
  },
  {
   "cell_type": "code",
   "execution_count": null,
   "id": "33b1d7cd-e61b-4e39-8406-2dd9ef0e8075",
   "metadata": {},
   "outputs": [],
   "source": []
  },
  {
   "cell_type": "code",
   "execution_count": 62,
   "id": "b8174693-4a1f-47d1-ab8e-521079a8b07c",
   "metadata": {},
   "outputs": [
    {
     "name": "stdout",
     "output_type": "stream",
     "text": [
      "114\n"
     ]
    }
   ],
   "source": [
    "batch_size = 1000 #3000 ?\n",
    "\n",
    "Nevts = len(X)\n",
    "Nbatches = int(np.floor(Nevts/batch_size))\n",
    "print(Nbatches)\n"
   ]
  },
  {
   "cell_type": "code",
   "execution_count": 63,
   "id": "8430fb81-2b34-4b61-b19b-1a2efc6f2315",
   "metadata": {},
   "outputs": [],
   "source": [
    "ds_train = ds_train.batch(Nbatches, drop_remainder=True)\n",
    "ds_val = ds_val.batch(Nbatches, drop_remainder=True)\n",
    "ds_test = ds_test.batch(Nbatches, drop_remainder=True)"
   ]
  },
  {
   "cell_type": "code",
   "execution_count": null,
   "id": "8b3dd192-4fd0-4ab8-974c-586f1e1f80f3",
   "metadata": {},
   "outputs": [],
   "source": []
  },
  {
   "cell_type": "markdown",
   "id": "ca647bb4-0ca8-4b60-ac1c-878026023377",
   "metadata": {},
   "source": [
    "# The PFN Model "
   ]
  },
  {
   "cell_type": "code",
   "execution_count": 64,
   "id": "8356239e-3a27-4d2d-9de8-c930789aa6fb",
   "metadata": {},
   "outputs": [],
   "source": [
    "# network architecture parameters\n",
    "Phi_sizes, F_sizes = (100, 100, 128), (100, 100, 100)"
   ]
  },
  {
   "cell_type": "code",
   "execution_count": 65,
   "id": "0624ac31-b386-47ab-af5c-05079dde141c",
   "metadata": {},
   "outputs": [
    {
     "data": {
      "text/plain": [
       "4"
      ]
     },
     "execution_count": 65,
     "metadata": {},
     "output_type": "execute_result"
    }
   ],
   "source": [
    "X.shape[-1]"
   ]
  },
  {
   "cell_type": "code",
   "execution_count": null,
   "id": "280d1141-02a4-4ad3-a0f9-fac5a2a87756",
   "metadata": {},
   "outputs": [],
   "source": []
  },
  {
   "cell_type": "markdown",
   "id": "242ad96b-ee02-418a-b5fc-1f6dd68e32b1",
   "metadata": {
    "jupyter": {
     "source_hidden": true
    },
    "tags": []
   },
   "source": [
    "## Russel's PFN Model "
   ]
  },
  {
   "cell_type": "code",
   "execution_count": 66,
   "id": "e62572c1-8f8a-47f7-a396-147cf40d41d2",
   "metadata": {},
   "outputs": [],
   "source": [
    "# network architecture parameters\n",
    "netOpt2 = tf.keras.optimizers.Adam(\n",
    "    learning_rate=.005,\n",
    "    beta_1=0.9,\n",
    "    beta_2=0.999,\n",
    "    epsilon=1e-09,\n",
    "    amsgrad=False)"
   ]
  },
  {
   "cell_type": "code",
   "execution_count": 67,
   "id": "4caae4b1-9321-4f27-b33a-93137e433816",
   "metadata": {
    "tags": []
   },
   "outputs": [
    {
     "name": "stdout",
     "output_type": "stream",
     "text": [
      "Model: \"model\"\n",
      "__________________________________________________________________________________________________\n",
      "Layer (type)                    Output Shape         Param #     Connected to                     \n",
      "==================================================================================================\n",
      "input (InputLayer)              [(None, None, 4)]    0                                            \n",
      "__________________________________________________________________________________________________\n",
      "tdist_0 (TimeDistributed)       (None, None, 100)    500         input[0][0]                      \n",
      "__________________________________________________________________________________________________\n",
      "activation (Activation)         (None, None, 100)    0           tdist_0[0][0]                    \n",
      "__________________________________________________________________________________________________\n",
      "tdist_1 (TimeDistributed)       (None, None, 100)    10100       activation[0][0]                 \n",
      "__________________________________________________________________________________________________\n",
      "activation_1 (Activation)       (None, None, 100)    0           tdist_1[0][0]                    \n",
      "__________________________________________________________________________________________________\n",
      "tdist_2 (TimeDistributed)       (None, None, 128)    12928       activation_1[0][0]               \n",
      "__________________________________________________________________________________________________\n",
      "mask (Lambda)                   (None, None)         0           input[0][0]                      \n",
      "__________________________________________________________________________________________________\n",
      "activation_2 (Activation)       (None, None, 128)    0           tdist_2[0][0]                    \n",
      "__________________________________________________________________________________________________\n",
      "sum (Dot)                       (None, 128)          0           mask[0][0]                       \n",
      "                                                                 activation_2[0][0]               \n",
      "__________________________________________________________________________________________________\n",
      "dense_0 (Dense)                 (None, 100)          12900       sum[0][0]                        \n",
      "__________________________________________________________________________________________________\n",
      "activation_3 (Activation)       (None, 100)          0           dense_0[0][0]                    \n",
      "__________________________________________________________________________________________________\n",
      "dense_1 (Dense)                 (None, 100)          10100       activation_3[0][0]               \n",
      "__________________________________________________________________________________________________\n",
      "activation_4 (Activation)       (None, 100)          0           dense_1[0][0]                    \n",
      "__________________________________________________________________________________________________\n",
      "dense_2 (Dense)                 (None, 100)          10100       activation_4[0][0]               \n",
      "__________________________________________________________________________________________________\n",
      "activation_5 (Activation)       (None, 100)          0           dense_2[0][0]                    \n",
      "__________________________________________________________________________________________________\n",
      "output (Dense)                  (None, 2)            202         activation_5[0][0]               \n",
      "__________________________________________________________________________________________________\n",
      "activation_6 (Activation)       (None, 2)            0           output[0][0]                     \n",
      "==================================================================================================\n",
      "Total params: 56,830\n",
      "Trainable params: 56,830\n",
      "Non-trainable params: 0\n",
      "__________________________________________________________________________________________________\n"
     ]
    }
   ],
   "source": [
    "pfn2 = PFN(input_dim=X.shape[-1], Phi_sizes=Phi_sizes, F_sizes=F_sizes, \n",
    "          optimizer=netOpt2, metrics=[])"
   ]
  },
  {
   "cell_type": "code",
   "execution_count": null,
   "id": "2c3d6723-6931-472a-9057-608b24a7e55b",
   "metadata": {
    "collapsed": true,
    "jupyter": {
     "outputs_hidden": true
    },
    "tags": []
   },
   "outputs": [
    {
     "name": "stdout",
     "output_type": "stream",
     "text": [
      "Epoch 1/100\n",
      "702/702 [==============================] - 11s 15ms/step - loss: 28.0165 - val_loss: 812.0226\n",
      "Epoch 2/100\n",
      "702/702 [==============================] - 11s 16ms/step - loss: 24.5373 - val_loss: 1221.6089\n",
      "Epoch 3/100\n",
      "702/702 [==============================] - 10s 14ms/step - loss: 7.8954 - val_loss: 103.9546\n",
      "Epoch 4/100\n",
      "702/702 [==============================] - 11s 15ms/step - loss: 1.0876 - val_loss: 221.4636\n",
      "Epoch 5/100\n",
      "702/702 [==============================] - 11s 16ms/step - loss: 6.2060 - val_loss: 411.8862\n",
      "Epoch 6/100\n",
      "702/702 [==============================] - 10s 14ms/step - loss: 1.5968 - val_loss: 189.8811\n",
      "Epoch 7/100\n",
      "702/702 [==============================] - 10s 14ms/step - loss: 1.2121 - val_loss: 59.7183\n",
      "Epoch 8/100\n",
      "702/702 [==============================] - 10s 14ms/step - loss: 0.4135 - val_loss: 18.5954\n",
      "Epoch 9/100\n",
      "702/702 [==============================] - 10s 14ms/step - loss: 0.5209 - val_loss: 14.3511\n",
      "Epoch 10/100\n",
      "702/702 [==============================] - 10s 14ms/step - loss: 0.4817 - val_loss: 2.4155\n",
      "Epoch 11/100\n",
      "702/702 [==============================] - 10s 14ms/step - loss: 0.6088 - val_loss: 2.1565\n",
      "Epoch 12/100\n",
      "702/702 [==============================] - 10s 15ms/step - loss: 0.6205 - val_loss: 2.0500\n",
      "Epoch 13/100\n",
      "702/702 [==============================] - 10s 14ms/step - loss: 0.6239 - val_loss: 2.0025\n",
      "Epoch 14/100\n",
      "702/702 [==============================] - 10s 14ms/step - loss: 0.6256 - val_loss: 1.9795\n",
      "Epoch 15/100\n",
      "702/702 [==============================] - 10s 14ms/step - loss: 0.6264 - val_loss: 1.9678\n",
      "Epoch 16/100\n",
      "702/702 [==============================] - 10s 14ms/step - loss: 0.6268 - val_loss: 1.9618\n",
      "Epoch 17/100\n",
      "702/702 [==============================] - 10s 14ms/step - loss: 0.6270 - val_loss: 1.9587\n",
      "Epoch 18/100\n",
      "702/702 [==============================] - 10s 14ms/step - loss: 0.6272 - val_loss: 1.9571\n",
      "Epoch 19/100\n",
      "702/702 [==============================] - 10s 14ms/step - loss: 0.6272 - val_loss: 1.9562\n",
      "Epoch 20/100\n",
      "702/702 [==============================] - 10s 14ms/step - loss: 0.6273 - val_loss: 1.9558\n",
      "Epoch 21/100\n",
      "702/702 [==============================] - 10s 14ms/step - loss: 0.6273 - val_loss: 1.9555\n",
      "Epoch 22/100\n",
      "702/702 [==============================] - 11s 16ms/step - loss: 0.6273 - val_loss: 1.9554\n",
      "Epoch 23/100\n",
      "702/702 [==============================] - 10s 14ms/step - loss: 0.6273 - val_loss: 1.9553\n",
      "Epoch 24/100\n",
      "702/702 [==============================] - 10s 14ms/step - loss: 0.6273 - val_loss: 1.9553\n",
      "Epoch 25/100\n",
      "702/702 [==============================] - 10s 14ms/step - loss: 0.6273 - val_loss: 1.9553\n",
      "Epoch 26/100\n",
      "702/702 [==============================] - 10s 14ms/step - loss: 0.6273 - val_loss: 1.9553\n",
      "Epoch 27/100\n",
      "702/702 [==============================] - 11s 15ms/step - loss: 0.6273 - val_loss: 1.9553\n",
      "Epoch 28/100\n",
      "702/702 [==============================] - 10s 14ms/step - loss: 0.6273 - val_loss: 1.9553\n",
      "Epoch 29/100\n",
      "702/702 [==============================] - 10s 14ms/step - loss: 0.6273 - val_loss: 1.9553\n",
      "Epoch 30/100\n",
      "702/702 [==============================] - 11s 15ms/step - loss: 0.6273 - val_loss: 1.9553\n",
      "Epoch 31/100\n",
      "702/702 [==============================] - 10s 14ms/step - loss: 0.6273 - val_loss: 1.9553\n",
      "Epoch 32/100\n",
      "702/702 [==============================] - 10s 15ms/step - loss: 0.6273 - val_loss: 1.9553\n",
      "Epoch 33/100\n",
      "702/702 [==============================] - 10s 14ms/step - loss: 0.6273 - val_loss: 1.9553\n",
      "Epoch 34/100\n",
      "702/702 [==============================] - 10s 15ms/step - loss: 0.6273 - val_loss: 1.9553\n",
      "Epoch 35/100\n",
      "702/702 [==============================] - 10s 14ms/step - loss: 0.6273 - val_loss: 1.9553\n",
      "Epoch 36/100\n",
      "702/702 [==============================] - 10s 14ms/step - loss: 0.6273 - val_loss: 1.9553\n",
      "Epoch 37/100\n",
      "702/702 [==============================] - 11s 15ms/step - loss: 0.6273 - val_loss: 1.9553\n",
      "Epoch 38/100\n",
      "702/702 [==============================] - 10s 14ms/step - loss: 0.6273 - val_loss: 1.9553\n",
      "Epoch 39/100\n",
      "702/702 [==============================] - 10s 14ms/step - loss: 0.6273 - val_loss: 1.9553\n",
      "Epoch 40/100\n",
      "702/702 [==============================] - 10s 14ms/step - loss: 0.6273 - val_loss: 1.9553\n",
      "Epoch 41/100\n",
      "702/702 [==============================] - 11s 16ms/step - loss: 0.6273 - val_loss: 1.9553\n",
      "Epoch 42/100\n",
      "702/702 [==============================] - 10s 14ms/step - loss: 0.6273 - val_loss: 1.9553\n",
      "Epoch 43/100\n",
      "702/702 [==============================] - 10s 14ms/step - loss: 0.6273 - val_loss: 1.9553\n",
      "Epoch 44/100\n",
      "702/702 [==============================] - 10s 14ms/step - loss: 0.6273 - val_loss: 1.9553\n",
      "Epoch 45/100\n",
      "702/702 [==============================] - 11s 15ms/step - loss: 0.6273 - val_loss: 1.9553\n",
      "Epoch 46/100\n",
      "702/702 [==============================] - 10s 14ms/step - loss: 0.6273 - val_loss: 1.9553\n",
      "Epoch 47/100\n",
      "702/702 [==============================] - 10s 14ms/step - loss: 0.6273 - val_loss: 1.9553\n",
      "Epoch 48/100\n",
      "702/702 [==============================] - 10s 15ms/step - loss: 0.6273 - val_loss: 1.9553\n",
      "Epoch 49/100\n",
      "702/702 [==============================] - 10s 14ms/step - loss: 0.6273 - val_loss: 1.9553\n",
      "Epoch 50/100\n",
      "702/702 [==============================] - 10s 14ms/step - loss: 0.6273 - val_loss: 1.9553\n",
      "Epoch 51/100\n",
      "702/702 [==============================] - 10s 14ms/step - loss: 0.6273 - val_loss: 1.9553\n",
      "Epoch 52/100\n",
      "702/702 [==============================] - 10s 15ms/step - loss: 0.6273 - val_loss: 1.9553\n",
      "Epoch 53/100\n",
      "702/702 [==============================] - 10s 14ms/step - loss: 0.6273 - val_loss: 1.9553\n",
      "Epoch 54/100\n",
      "702/702 [==============================] - 10s 14ms/step - loss: 0.6273 - val_loss: 1.9553\n",
      "Epoch 55/100\n",
      "702/702 [==============================] - 10s 14ms/step - loss: 0.6273 - val_loss: 1.9553\n",
      "Epoch 56/100\n",
      "702/702 [==============================] - 10s 14ms/step - loss: 0.6273 - val_loss: 1.9553\n",
      "Epoch 57/100\n",
      "702/702 [==============================] - 10s 15ms/step - loss: 0.6273 - val_loss: 1.9553\n",
      "Epoch 58/100\n",
      "702/702 [==============================] - 10s 14ms/step - loss: 0.6273 - val_loss: 1.9553\n",
      "Epoch 59/100\n",
      "702/702 [==============================] - 10s 15ms/step - loss: 0.6273 - val_loss: 1.9553\n",
      "Epoch 60/100\n",
      "702/702 [==============================] - 11s 15ms/step - loss: 0.6273 - val_loss: 1.9553\n",
      "Epoch 61/100\n",
      "702/702 [==============================] - 10s 14ms/step - loss: 0.6273 - val_loss: 1.9553\n",
      "Epoch 62/100\n",
      "702/702 [==============================] - 11s 16ms/step - loss: 0.6273 - val_loss: 1.9553\n",
      "Epoch 63/100\n",
      "702/702 [==============================] - 11s 15ms/step - loss: 0.6273 - val_loss: 1.9553\n",
      "Epoch 64/100\n",
      "702/702 [==============================] - 10s 14ms/step - loss: 0.6273 - val_loss: 1.9553\n",
      "Epoch 65/100\n",
      "702/702 [==============================] - 10s 14ms/step - loss: 0.6273 - val_loss: 1.9553\n",
      "Epoch 66/100\n",
      "702/702 [==============================] - 11s 15ms/step - loss: 0.6273 - val_loss: 1.9553\n",
      "Epoch 67/100\n",
      "506/702 [====================>.........] - ETA: 1s - loss: 0.7830"
     ]
    }
   ],
   "source": [
    "t0 = t.time()\n",
    "history2 = pfn2.fit(ds_train,\n",
    "        epochs=100,\n",
    "        validation_data=ds_val,\n",
    "        verbose=1)\n",
    "t1 = t.time()"
   ]
  },
  {
   "cell_type": "code",
   "execution_count": 75,
   "id": "73ca8e79-6e5f-4564-a138-a94e79468b25",
   "metadata": {},
   "outputs": [],
   "source": [
    "pfn2.save(modelpath+'pfn_tfdataset_test_clust_20Files_100ep.h5')"
   ]
  },
  {
   "cell_type": "code",
   "execution_count": 74,
   "id": "d5501e44-9bb8-4741-8402-eea3a7f6d40c",
   "metadata": {
    "tags": []
   },
   "outputs": [
    {
     "name": "stdout",
     "output_type": "stream",
     "text": [
      "Time to train: 1237.170426607132 (s)\n",
      "20.619507110118867 (min)\n",
      "0.34365845183531446 (hour)\n"
     ]
    }
   ],
   "source": [
    "print('Time to train: '+str(t1-t0)+' (s)')\n",
    "print(str((t1-t0)/60)+' (min)')\n",
    "print(str((t1-t0)/3600)+' (hour)')"
   ]
  },
  {
   "cell_type": "code",
   "execution_count": 73,
   "id": "b6ae63db-1c69-4f3e-b9f4-16d2f6316ebc",
   "metadata": {
    "tags": []
   },
   "outputs": [
    {
     "data": {
      "image/png": "[encoded data removed]",
      "text/plain": [
       "<Figure size 432x432 with 1 Axes>"
      ]
     },
     "metadata": {
      "needs_background": "light"
     },
     "output_type": "display_data"
    }
   ],
   "source": [
    "# 40 files with netOpt2\n",
    "M = len(history2.history['val_loss'])\n",
    "fig = plt.figure(figsize=(6,6))\n",
    "plt.plot(history2.history['val_loss'], label=\"Validation\")\n",
    "plt.plot(history2.history['loss'], label=\"Training\")\n",
    "plt.yscale('log')\n",
    "plt.ylim(.001,10)\n",
    "plt.yticks(fontsize=13)\n",
    "plt.xlim(0,M)\n",
    "plt.xticks(fontsize=13)\n",
    "plt.xlabel('Epochs', fontsize=14)\n",
    "plt.ylabel('Loss', fontsize=14)\n",
    "plt.legend(loc='upper right', ncol=1)\n",
    "# plt.tight_layout()\n",
    "#plt.savefig('./.png', format='png')\n",
    "plt.show()"
   ]
  },
  {
   "cell_type": "code",
   "execution_count": null,
   "id": "ce9ffb80-b64a-460e-a15d-fbc99d676225",
   "metadata": {},
   "outputs": [],
   "source": []
  },
  {
   "cell_type": "markdown",
   "id": "1cd80454-043d-4a03-97a1-9ce949da4601",
   "metadata": {},
   "source": [
    "## PFN Model "
   ]
  },
  {
   "cell_type": "code",
   "execution_count": 76,
   "id": "2b8aaed7-d4ab-4d7d-8856-74575dc669e6",
   "metadata": {
    "tags": []
   },
   "outputs": [
    {
     "name": "stdout",
     "output_type": "stream",
     "text": [
      "Model: \"model_1\"\n",
      "__________________________________________________________________________________________________\n",
      "Layer (type)                    Output Shape         Param #     Connected to                     \n",
      "==================================================================================================\n",
      "input (InputLayer)              [(None, None, 4)]    0                                            \n",
      "__________________________________________________________________________________________________\n",
      "tdist_0 (TimeDistributed)       (None, None, 100)    500         input[0][0]                      \n",
      "__________________________________________________________________________________________________\n",
      "activation_7 (Activation)       (None, None, 100)    0           tdist_0[0][0]                    \n",
      "__________________________________________________________________________________________________\n",
      "tdist_1 (TimeDistributed)       (None, None, 100)    10100       activation_7[0][0]               \n",
      "__________________________________________________________________________________________________\n",
      "activation_8 (Activation)       (None, None, 100)    0           tdist_1[0][0]                    \n",
      "__________________________________________________________________________________________________\n",
      "tdist_2 (TimeDistributed)       (None, None, 128)    12928       activation_8[0][0]               \n",
      "__________________________________________________________________________________________________\n",
      "mask (Lambda)                   (None, None)         0           input[0][0]                      \n",
      "__________________________________________________________________________________________________\n",
      "activation_9 (Activation)       (None, None, 128)    0           tdist_2[0][0]                    \n",
      "__________________________________________________________________________________________________\n",
      "sum (Dot)                       (None, 128)          0           mask[0][0]                       \n",
      "                                                                 activation_9[0][0]               \n",
      "__________________________________________________________________________________________________\n",
      "dense_0 (Dense)                 (None, 100)          12900       sum[0][0]                        \n",
      "__________________________________________________________________________________________________\n",
      "activation_10 (Activation)      (None, 100)          0           dense_0[0][0]                    \n",
      "__________________________________________________________________________________________________\n",
      "dense_1 (Dense)                 (None, 100)          10100       activation_10[0][0]              \n",
      "__________________________________________________________________________________________________\n",
      "activation_11 (Activation)      (None, 100)          0           dense_1[0][0]                    \n",
      "__________________________________________________________________________________________________\n",
      "dense_2 (Dense)                 (None, 100)          10100       activation_11[0][0]              \n",
      "__________________________________________________________________________________________________\n",
      "activation_12 (Activation)      (None, 100)          0           dense_2[0][0]                    \n",
      "__________________________________________________________________________________________________\n",
      "output (Dense)                  (None, 2)            202         activation_12[0][0]              \n",
      "__________________________________________________________________________________________________\n",
      "activation_13 (Activation)      (None, 2)            0           output[0][0]                     \n",
      "==================================================================================================\n",
      "Total params: 56,830\n",
      "Trainable params: 56,830\n",
      "Non-trainable params: 0\n",
      "__________________________________________________________________________________________________\n"
     ]
    }
   ],
   "source": [
    "pfn = PFN(input_dim=X.shape[-1], Phi_sizes=Phi_sizes, F_sizes=F_sizes )"
   ]
  },
  {
   "cell_type": "code",
   "execution_count": 77,
   "id": "d1807916-97de-4cbc-b8f4-70ba9cf0631e",
   "metadata": {
    "collapsed": true,
    "jupyter": {
     "outputs_hidden": true
    },
    "tags": []
   },
   "outputs": [
    {
     "name": "stdout",
     "output_type": "stream",
     "text": [
      "Epoch 1/100\n",
      "702/702 [==============================] - 11s 15ms/step - loss: 23.1283 - acc: 0.9941 - val_loss: 5636.9458 - val_acc: 0.0000e+00\n",
      "Epoch 2/100\n",
      "702/702 [==============================] - 10s 14ms/step - loss: 160.0243 - acc: 0.9278 - val_loss: 1201.0864 - val_acc: 0.0000e+00\n",
      "Epoch 3/100\n",
      "702/702 [==============================] - 10s 14ms/step - loss: 42.3166 - acc: 0.9023 - val_loss: 81.1210 - val_acc: 0.0000e+00\n",
      "Epoch 4/100\n",
      "702/702 [==============================] - 10s 14ms/step - loss: 3.7873 - acc: 0.9247 - val_loss: 28.6458 - val_acc: 0.0000e+00\n",
      "Epoch 5/100\n",
      "702/702 [==============================] - 10s 14ms/step - loss: 1.2009 - acc: 0.9193 - val_loss: 157.7557 - val_acc: 4.0936e-04\n",
      "Epoch 6/100\n",
      "702/702 [==============================] - 11s 15ms/step - loss: 3.9641 - acc: 0.9511 - val_loss: 48.0152 - val_acc: 0.0026\n",
      "Epoch 7/100\n",
      "702/702 [==============================] - 10s 14ms/step - loss: 1.3417 - acc: 0.9333 - val_loss: 39.4518 - val_acc: 0.0046\n",
      "Epoch 8/100\n",
      "702/702 [==============================] - 10s 14ms/step - loss: 1.6341 - acc: 0.9303 - val_loss: 39.5692 - val_acc: 0.0044\n",
      "Epoch 9/100\n",
      "702/702 [==============================] - 10s 14ms/step - loss: 1.5587 - acc: 0.9266 - val_loss: 80.5912 - val_acc: 2.9240e-04\n",
      "Epoch 10/100\n",
      "702/702 [==============================] - 10s 14ms/step - loss: 2.1748 - acc: 0.9406 - val_loss: 97.3786 - val_acc: 0.0021\n",
      "Epoch 11/100\n",
      "702/702 [==============================] - 11s 15ms/step - loss: 2.3778 - acc: 0.9278 - val_loss: 47.4135 - val_acc: 6.4327e-04\n",
      "Epoch 12/100\n",
      "702/702 [==============================] - 10s 14ms/step - loss: 1.4342 - acc: 0.9230 - val_loss: 17.9770 - val_acc: 0.0000e+00\n",
      "Epoch 13/100\n",
      "702/702 [==============================] - 10s 15ms/step - loss: 1.1232 - acc: 0.8598 - val_loss: 83.7076 - val_acc: 0.0017\n",
      "Epoch 14/100\n",
      "702/702 [==============================] - 10s 15ms/step - loss: 2.4789 - acc: 0.9228 - val_loss: 236.1515 - val_acc: 0.0000e+00\n",
      "Epoch 15/100\n",
      "702/702 [==============================] - 11s 15ms/step - loss: 10.0005 - acc: 0.9266 - val_loss: 154.6770 - val_acc: 0.0000e+00\n",
      "Epoch 16/100\n",
      "702/702 [==============================] - 11s 15ms/step - loss: 3.7622 - acc: 0.9484 - val_loss: 175.2917 - val_acc: 0.0000e+00\n",
      "Epoch 17/100\n",
      "702/702 [==============================] - 10s 15ms/step - loss: 5.5595 - acc: 0.9204 - val_loss: 455.9374 - val_acc: 0.0035\n",
      "Epoch 18/100\n",
      "702/702 [==============================] - 11s 15ms/step - loss: 11.7838 - acc: 0.7043 - val_loss: 0.6895 - val_acc: 0.9957\n",
      "Epoch 19/100\n",
      "702/702 [==============================] - 10s 15ms/step - loss: 0.6514 - acc: 0.8165 - val_loss: 0.8817 - val_acc: 0.0000e+00\n",
      "Epoch 20/100\n",
      "702/702 [==============================] - 11s 15ms/step - loss: 0.7515 - acc: 0.3035 - val_loss: 0.9760 - val_acc: 0.0000e+00\n",
      "Epoch 21/100\n",
      "702/702 [==============================] - 10s 14ms/step - loss: 0.8033 - acc: 0.2244 - val_loss: 1.0228 - val_acc: 0.0000e+00\n",
      "Epoch 22/100\n",
      "702/702 [==============================] - 10s 14ms/step - loss: 0.8295 - acc: 0.2027 - val_loss: 1.0462 - val_acc: 0.0000e+00\n",
      "Epoch 23/100\n",
      "702/702 [==============================] - 11s 16ms/step - loss: 0.7391 - acc: 0.4889 - val_loss: 573.3563 - val_acc: 0.0000e+00\n",
      "Epoch 24/100\n",
      "702/702 [==============================] - 11s 15ms/step - loss: 17.0293 - acc: 0.9252 - val_loss: 125.6115 - val_acc: 0.0000e+00\n",
      "Epoch 25/100\n",
      "702/702 [==============================] - 11s 15ms/step - loss: 3.7558 - acc: 0.8993 - val_loss: 224.8885 - val_acc: 0.0000e+00\n",
      "Epoch 26/100\n",
      "702/702 [==============================] - 11s 15ms/step - loss: 7.8610 - acc: 0.9164 - val_loss: 158.4660 - val_acc: 0.0000e+00\n",
      "Epoch 27/100\n",
      "702/702 [==============================] - 11s 15ms/step - loss: 5.0460 - acc: 0.9014 - val_loss: 159.8393 - val_acc: 0.0000e+00\n",
      "Epoch 28/100\n",
      "702/702 [==============================] - 10s 14ms/step - loss: 4.8466 - acc: 0.9090 - val_loss: 61.6862 - val_acc: 0.0000e+00\n",
      "Epoch 29/100\n",
      "702/702 [==============================] - 10s 15ms/step - loss: 2.8665 - acc: 0.7582 - val_loss: 225.0662 - val_acc: 0.0000e+00\n",
      "Epoch 30/100\n",
      "702/702 [==============================] - 11s 15ms/step - loss: 7.2042 - acc: 0.8964 - val_loss: 35.0353 - val_acc: 0.0000e+00\n",
      "Epoch 31/100\n",
      "702/702 [==============================] - 11s 15ms/step - loss: 1.9255 - acc: 0.7194 - val_loss: 0.8294 - val_acc: 0.0000e+00\n",
      "Epoch 32/100\n",
      "702/702 [==============================] - 11s 15ms/step - loss: 0.7177 - acc: 0.3979 - val_loss: 0.9554 - val_acc: 0.0042\n",
      "Epoch 33/100\n",
      "702/702 [==============================] - 11s 15ms/step - loss: 1.9794 - acc: 0.5074 - val_loss: 35.0606 - val_acc: 0.0000e+00\n",
      "Epoch 34/100\n",
      "702/702 [==============================] - 11s 15ms/step - loss: 2.1306 - acc: 0.7729 - val_loss: 49.1071 - val_acc: 0.0000e+00\n",
      "Epoch 35/100\n",
      "702/702 [==============================] - 11s 15ms/step - loss: 2.1410 - acc: 0.9314 - val_loss: 213.1495 - val_acc: 0.0000e+00\n",
      "Epoch 36/100\n",
      "702/702 [==============================] - 10s 15ms/step - loss: 4.5904 - acc: 0.9304 - val_loss: 397.2619 - val_acc: 1.7544e-04\n",
      "Epoch 37/100\n",
      "702/702 [==============================] - 11s 15ms/step - loss: 11.0288 - acc: 0.7196 - val_loss: 0.8450 - val_acc: 0.0000e+00\n",
      "Epoch 38/100\n",
      "702/702 [==============================] - 11s 15ms/step - loss: 0.7262 - acc: 0.3773 - val_loss: 0.9635 - val_acc: 0.0000e+00\n",
      "Epoch 39/100\n",
      "702/702 [==============================] - 11s 15ms/step - loss: 0.7935 - acc: 0.2413 - val_loss: 1.0178 - val_acc: 0.0000e+00\n",
      "Epoch 40/100\n",
      "702/702 [==============================] - 10s 15ms/step - loss: 2.0939 - acc: 0.6635 - val_loss: 89.0760 - val_acc: 0.0000e+00\n",
      "Epoch 41/100\n",
      "702/702 [==============================] - 10s 15ms/step - loss: 3.3338 - acc: 0.8897 - val_loss: 85.2724 - val_acc: 0.0000e+00\n",
      "Epoch 42/100\n",
      "702/702 [==============================] - 11s 15ms/step - loss: 3.6485 - acc: 0.8492 - val_loss: 182.1803 - val_acc: 0.0000e+00\n",
      "Epoch 43/100\n",
      "702/702 [==============================] - 11s 15ms/step - loss: 7.0777 - acc: 0.8688 - val_loss: 333.0019 - val_acc: 0.0000e+00\n",
      "Epoch 44/100\n",
      "702/702 [==============================] - 11s 16ms/step - loss: 7.9925 - acc: 0.8856 - val_loss: 139.8540 - val_acc: 0.0000e+00\n",
      "Epoch 45/100\n",
      "702/702 [==============================] - 11s 15ms/step - loss: 6.6532 - acc: 0.9227 - val_loss: 38.8097 - val_acc: 0.0000e+00\n",
      "Epoch 46/100\n",
      "702/702 [==============================] - 11s 15ms/step - loss: 2.0726 - acc: 0.8670 - val_loss: 51.2403 - val_acc: 0.0000e+00\n",
      "Epoch 47/100\n",
      "702/702 [==============================] - 11s 15ms/step - loss: 2.7471 - acc: 0.9398 - val_loss: 58.7015 - val_acc: 0.0000e+00\n",
      "Epoch 48/100\n",
      "702/702 [==============================] - 11s 15ms/step - loss: 2.7729 - acc: 0.7346 - val_loss: 279.6619 - val_acc: 0.0000e+00\n",
      "Epoch 49/100\n",
      "702/702 [==============================] - 11s 15ms/step - loss: 10.5312 - acc: 0.9048 - val_loss: 102.5466 - val_acc: 0.0000e+00\n",
      "Epoch 50/100\n",
      "702/702 [==============================] - 11s 16ms/step - loss: 4.8639 - acc: 0.8974 - val_loss: 179.0561 - val_acc: 0.0000e+00\n",
      "Epoch 51/100\n",
      "702/702 [==============================] - 10s 15ms/step - loss: 5.8249 - acc: 0.8891 - val_loss: 57.0854 - val_acc: 0.0000e+00\n",
      "Epoch 52/100\n",
      "702/702 [==============================] - 11s 15ms/step - loss: 2.4317 - acc: 0.8707 - val_loss: 43.9953 - val_acc: 0.0000e+00\n",
      "Epoch 53/100\n",
      "702/702 [==============================] - 11s 16ms/step - loss: 1.8830 - acc: 0.9147 - val_loss: 24.2124 - val_acc: 0.0000e+00\n",
      "Epoch 54/100\n",
      "702/702 [==============================] - 10s 15ms/step - loss: 1.2653 - acc: 0.9156 - val_loss: 77.3846 - val_acc: 1.7544e-04\n",
      "Epoch 55/100\n",
      "702/702 [==============================] - 11s 15ms/step - loss: 2.9864 - acc: 0.8192 - val_loss: 15.2548 - val_acc: 0.0047\n",
      "Epoch 56/100\n",
      "702/702 [==============================] - 10s 14ms/step - loss: 1.2387 - acc: 0.8906 - val_loss: 36.9764 - val_acc: 0.0053\n",
      "Epoch 57/100\n",
      "702/702 [==============================] - 10s 14ms/step - loss: 1.3422 - acc: 0.8091 - val_loss: 95.8218 - val_acc: 0.0000e+00\n",
      "Epoch 58/100\n",
      "702/702 [==============================] - 10s 14ms/step - loss: 3.7837 - acc: 0.8927 - val_loss: 88.0026 - val_acc: 0.0000e+00\n",
      "Epoch 59/100\n",
      "702/702 [==============================] - 10s 14ms/step - loss: 3.4948 - acc: 0.9017 - val_loss: 16.9253 - val_acc: 0.0129\n",
      "Epoch 60/100\n",
      "702/702 [==============================] - 10s 14ms/step - loss: 1.1982 - acc: 0.8835 - val_loss: 38.4835 - val_acc: 0.0045\n",
      "Epoch 61/100\n",
      "702/702 [==============================] - 10s 14ms/step - loss: 2.2561 - acc: 0.8932 - val_loss: 36.0134 - val_acc: 0.0000e+00\n",
      "Epoch 62/100\n",
      "702/702 [==============================] - 10s 14ms/step - loss: 2.7068 - acc: 0.9083 - val_loss: 129.1317 - val_acc: 0.0046\n",
      "Epoch 63/100\n",
      "702/702 [==============================] - 10s 14ms/step - loss: 3.4683 - acc: 0.9052 - val_loss: 20.5814 - val_acc: 0.0000e+00\n",
      "Epoch 64/100\n",
      "702/702 [==============================] - 10s 14ms/step - loss: 1.4300 - acc: 0.8536 - val_loss: 201.0701 - val_acc: 0.0000e+00\n",
      "Epoch 65/100\n",
      "702/702 [==============================] - 11s 15ms/step - loss: 6.0074 - acc: 0.8996 - val_loss: 59.3060 - val_acc: 0.0000e+00\n",
      "Epoch 66/100\n",
      "702/702 [==============================] - 10s 14ms/step - loss: 2.4427 - acc: 0.8851 - val_loss: 6.6691 - val_acc: 0.0000e+00\n",
      "Epoch 67/100\n",
      "702/702 [==============================] - 10s 14ms/step - loss: 0.9242 - acc: 0.8165 - val_loss: 34.1338 - val_acc: 0.0000e+00\n",
      "Epoch 68/100\n",
      "702/702 [==============================] - 10s 14ms/step - loss: 1.4570 - acc: 0.8796 - val_loss: 55.2752 - val_acc: 5.8480e-05\n",
      "Epoch 69/100\n",
      "702/702 [==============================] - 10s 14ms/step - loss: 1.8162 - acc: 0.8819 - val_loss: 41.6987 - val_acc: 0.0000e+00\n",
      "Epoch 70/100\n",
      "702/702 [==============================] - 10s 14ms/step - loss: 1.7401 - acc: 0.8787 - val_loss: 6.1979 - val_acc: 0.0000e+00\n",
      "Epoch 71/100\n",
      "702/702 [==============================] - 10s 14ms/step - loss: 0.6741 - acc: 0.8341 - val_loss: 125.2729 - val_acc: 0.0000e+00\n",
      "Epoch 72/100\n",
      "702/702 [==============================] - 10s 14ms/step - loss: 4.1769 - acc: 0.9158 - val_loss: 17.1793 - val_acc: 0.0000e+00\n",
      "Epoch 73/100\n",
      "702/702 [==============================] - 10s 14ms/step - loss: 1.3230 - acc: 0.8668 - val_loss: 120.9867 - val_acc: 0.0000e+00\n",
      "Epoch 74/100\n",
      "702/702 [==============================] - 11s 15ms/step - loss: 3.4232 - acc: 0.9317 - val_loss: 110.2094 - val_acc: 0.0000e+00\n",
      "Epoch 75/100\n",
      "702/702 [==============================] - 10s 14ms/step - loss: 4.6141 - acc: 0.9327 - val_loss: 31.9404 - val_acc: 4.0936e-04\n",
      "Epoch 76/100\n",
      "702/702 [==============================] - 10s 14ms/step - loss: 1.5273 - acc: 0.8383 - val_loss: 51.8716 - val_acc: 0.0000e+00\n",
      "Epoch 77/100\n",
      "702/702 [==============================] - 10s 14ms/step - loss: 1.6904 - acc: 0.8499 - val_loss: 6.5836 - val_acc: 0.0000e+00\n",
      "Epoch 78/100\n",
      "702/702 [==============================] - 10s 14ms/step - loss: 0.7839 - acc: 0.7758 - val_loss: 4.9914 - val_acc: 0.0000e+00\n",
      "Epoch 79/100\n",
      "702/702 [==============================] - 10s 14ms/step - loss: 0.7472 - acc: 0.7645 - val_loss: 5.5519 - val_acc: 0.0000e+00\n",
      "Epoch 80/100\n",
      "702/702 [==============================] - 10s 14ms/step - loss: 0.7404 - acc: 0.7917 - val_loss: 4.6866 - val_acc: 0.0000e+00\n",
      "Epoch 81/100\n",
      "702/702 [==============================] - 10s 15ms/step - loss: 0.7706 - acc: 0.7571 - val_loss: 4.5396 - val_acc: 0.0000e+00\n",
      "Epoch 82/100\n",
      "702/702 [==============================] - 10s 14ms/step - loss: 0.7953 - acc: 0.7796 - val_loss: 69.6352 - val_acc: 0.0000e+00\n",
      "Epoch 83/100\n",
      "702/702 [==============================] - 10s 14ms/step - loss: 2.6199 - acc: 0.9021 - val_loss: 34.1564 - val_acc: 0.0000e+00\n",
      "Epoch 84/100\n",
      "702/702 [==============================] - 10s 14ms/step - loss: 1.7517 - acc: 0.8777 - val_loss: 172.6183 - val_acc: 0.0000e+00\n",
      "Epoch 85/100\n",
      "702/702 [==============================] - 10s 14ms/step - loss: 3.4604 - acc: 0.9085 - val_loss: 89.4422 - val_acc: 1.7544e-04\n",
      "Epoch 86/100\n",
      "702/702 [==============================] - 10s 14ms/step - loss: 3.6820 - acc: 0.9165 - val_loss: 96.9449 - val_acc: 4.6784e-04\n",
      "Epoch 87/100\n",
      "702/702 [==============================] - 10s 14ms/step - loss: 3.4019 - acc: 0.8960 - val_loss: 82.6083 - val_acc: 0.0000e+00\n",
      "Epoch 88/100\n",
      "702/702 [==============================] - 10s 14ms/step - loss: 2.6381 - acc: 0.8560 - val_loss: 51.8758 - val_acc: 0.0000e+00\n",
      "Epoch 89/100\n",
      "702/702 [==============================] - 10s 14ms/step - loss: 2.2262 - acc: 0.9210 - val_loss: 74.9570 - val_acc: 0.0000e+00\n",
      "Epoch 90/100\n",
      "702/702 [==============================] - 10s 14ms/step - loss: 3.5924 - acc: 0.8887 - val_loss: 66.4263 - val_acc: 0.0000e+00\n",
      "Epoch 91/100\n",
      "702/702 [==============================] - 10s 14ms/step - loss: 3.4181 - acc: 0.8619 - val_loss: 59.3243 - val_acc: 5.8480e-05\n",
      "Epoch 92/100\n",
      "702/702 [==============================] - 10s 15ms/step - loss: 2.0054 - acc: 0.9246 - val_loss: 90.8408 - val_acc: 0.0054\n",
      "Epoch 93/100\n",
      "702/702 [==============================] - 10s 14ms/step - loss: 3.1556 - acc: 0.9240 - val_loss: 134.6629 - val_acc: 5.2632e-04\n",
      "Epoch 94/100\n",
      "702/702 [==============================] - 11s 15ms/step - loss: 4.8417 - acc: 0.8800 - val_loss: 6.9458 - val_acc: 0.0000e+00\n",
      "Epoch 95/100\n",
      "702/702 [==============================] - 10s 14ms/step - loss: 0.5078 - acc: 0.9130 - val_loss: 28.2448 - val_acc: 0.0000e+00\n",
      "Epoch 96/100\n",
      "702/702 [==============================] - 10s 14ms/step - loss: 1.2637 - acc: 0.8080 - val_loss: 5.4834 - val_acc: 0.0044\n",
      "Epoch 97/100\n",
      "702/702 [==============================] - 10s 14ms/step - loss: 0.7476 - acc: 0.7728 - val_loss: 4.8126 - val_acc: 0.0073\n",
      "Epoch 98/100\n",
      "702/702 [==============================] - 10s 14ms/step - loss: 0.7245 - acc: 0.7623 - val_loss: 4.4745 - val_acc: 0.0120\n",
      "Epoch 99/100\n",
      "702/702 [==============================] - 10s 14ms/step - loss: 0.7224 - acc: 0.7554 - val_loss: 50.4405 - val_acc: 1.1696e-04\n",
      "Epoch 100/100\n",
      "702/702 [==============================] - 10s 14ms/step - loss: 1.8468 - acc: 0.8687 - val_loss: 5.0850 - val_acc: 0.0000e+00\n"
     ]
    }
   ],
   "source": [
    "t0 = t.time()\n",
    "history = pfn.fit(ds_train,\n",
    "        epochs=100,\n",
    "        validation_data=ds_val,\n",
    "        verbose=1)\n",
    "t1 = t.time()"
   ]
  },
  {
   "cell_type": "code",
   "execution_count": 78,
   "id": "87ddcbdc-3e67-4b01-b1a7-efbaac8ea8fc",
   "metadata": {},
   "outputs": [],
   "source": [
    "pfn.save(modelpath+'pfn_tfdataset_test_clust_20Files_100ep_noopt.h5')"
   ]
  },
  {
   "cell_type": "code",
   "execution_count": 79,
   "id": "4255d40b-67c8-4488-957c-cf66ca3eba94",
   "metadata": {},
   "outputs": [
    {
     "name": "stdout",
     "output_type": "stream",
     "text": [
      "Time to train: 1218.3118824958801 (s)\n",
      "20.305198041598 (min)\n",
      "0.3384199673599667 (hour)\n"
     ]
    }
   ],
   "source": [
    "print('Time to train: '+str(t1-t0)+' (s)')\n",
    "print(str((t1-t0)/60)+' (min)')\n",
    "print(str((t1-t0)/3600)+' (hour)')"
   ]
  },
  {
   "cell_type": "code",
   "execution_count": 80,
   "id": "ac67772e-0d7b-4bdf-a786-8574947b5bc6",
   "metadata": {},
   "outputs": [
    {
     "data": {
      "image/png": "[encoded data removed]",
      "text/plain": [
       "<Figure size 432x432 with 1 Axes>"
      ]
     },
     "metadata": {
      "needs_background": "light"
     },
     "output_type": "display_data"
    }
   ],
   "source": [
    "# NO netOpt2\n",
    "M = len(history.history['val_loss'])\n",
    "fig = plt.figure(figsize=(6,6))\n",
    "plt.plot(history.history['val_loss'], label=\"Validation\")\n",
    "plt.plot(history.history['loss'], label=\"Training\")\n",
    "plt.yscale('log')\n",
    "plt.ylim(.001,10)\n",
    "plt.yticks(fontsize=13)\n",
    "plt.xlim(0,M)\n",
    "plt.xticks(fontsize=13)\n",
    "plt.xlabel('Epochs', fontsize=14)\n",
    "plt.ylabel('Loss', fontsize=14)\n",
    "plt.legend(loc='upper right', ncol=1)\n",
    "# plt.tight_layout()\n",
    "#plt.savefig('./.png', format='png')\n",
    "plt.show()"
   ]
  },
  {
   "cell_type": "code",
   "execution_count": null,
   "id": "d66cf240-a091-437f-9bab-2ddf24ff5403",
   "metadata": {},
   "outputs": [],
   "source": []
  }
 ],
 "metadata": {
  "kernelspec": {
   "display_name": "Python 3 (ipykernel)",
   "language": "python",
   "name": "python3"
  },
  "language_info": {
   "codemirror_mode": {
    "name": "ipython",
    "version": 3
   },
   "file_extension": ".py",
   "mimetype": "text/x-python",
   "name": "python",
   "nbconvert_exporter": "python",
   "pygments_lexer": "ipython3",
   "version": "3.8.10"
  }
 },
 "nbformat": 4,
 "nbformat_minor": 5
}
