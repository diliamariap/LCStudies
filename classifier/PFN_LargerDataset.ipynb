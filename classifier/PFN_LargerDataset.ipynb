{
 "cells": [
  {
   "cell_type": "markdown",
   "id": "980f9946-b0d0-4f40-b37d-5c623adb7efc",
   "metadata": {
    "tags": []
   },
   "source": [
    "# Particle Flow Network Classification with tf Dataset"
   ]
  },
  {
   "cell_type": "code",
   "execution_count": null,
   "id": "a4549091-3ffe-4624-b87f-e5aa7807804f",
   "metadata": {},
   "outputs": [],
   "source": []
  },
  {
   "cell_type": "code",
   "execution_count": 1,
   "id": "a2c58246-6116-45df-af1d-f6238b871a09",
   "metadata": {},
   "outputs": [],
   "source": [
    "import uproot as ur\n",
    "import awkward as ak\n",
    "import numpy as np"
   ]
  },
  {
   "cell_type": "code",
   "execution_count": 2,
   "id": "923f6146-6aa5-4763-b9e2-980a0ec9d492",
   "metadata": {},
   "outputs": [],
   "source": [
    "import os\n",
    "os.environ['CUDA_VISIBLE_DEVICES'] = \"7\"\n",
    "os.environ['TF_FORCE_GPU_ALLOW_GROWTH'] = 'true'"
   ]
  },
  {
   "cell_type": "code",
   "execution_count": 3,
   "id": "77c88402-9e7f-4d65-ad47-dba5f735bccc",
   "metadata": {},
   "outputs": [
    {
     "name": "stderr",
     "output_type": "stream",
     "text": [
      "2021-08-12 06:31:11.530833: I tensorflow/stream_executor/platform/default/dso_loader.cc:49] Successfully opened dynamic library libcudart.so.11.0\n"
     ]
    }
   ],
   "source": [
    "import tensorflow as tf\n",
    "\n",
    "# energyflow imports\n",
    "import energyflow as ef\n",
    "from energyflow.archs import PFN"
   ]
  },
  {
   "cell_type": "code",
   "execution_count": 4,
   "id": "81e7bbc0-2120-413b-9c74-6261c5f7bb7c",
   "metadata": {},
   "outputs": [],
   "source": [
    "import sys\n",
    "sys.path.append('/home/dportill/LCStudies')\n",
    "from  util import graph_util as gu"
   ]
  },
  {
   "cell_type": "code",
   "execution_count": 5,
   "id": "61c2ef04-bc84-45b4-8a24-ef02022db03f",
   "metadata": {},
   "outputs": [],
   "source": [
    "# my worspace and directories\n",
    "path_prefix = '/home/dportill/LCStudies/'\n",
    "plotpath = path_prefix+'classifier/Plots_EFN/'\n",
    "modelpath = path_prefix+'classifier/Models_EFN/'"
   ]
  },
  {
   "cell_type": "markdown",
   "id": "2fc5118a-4ba7-48a9-8fd8-f0ff7a005abd",
   "metadata": {},
   "source": [
    "# Load Data"
   ]
  },
  {
   "cell_type": "markdown",
   "id": "5910c1e6-d35b-4ca2-ae51-4af1a7ebc92c",
   "metadata": {},
   "source": [
    "## X"
   ]
  },
  {
   "cell_type": "code",
   "execution_count": 14,
   "id": "430132c6-204f-4101-b563-fed5aaa37af8",
   "metadata": {
    "tags": []
   },
   "outputs": [],
   "source": [
    "Xraw = np.load('/data/atlas/dportill/X_test2_files.npy', mmap_mode='r')"
   ]
  },
  {
   "cell_type": "code",
   "execution_count": 15,
   "id": "8054c3c8-6f2a-4cad-83a4-7cd827e2a4be",
   "metadata": {},
   "outputs": [
    {
     "data": {
      "text/plain": [
       "(7478, 942, 6)"
      ]
     },
     "execution_count": 15,
     "metadata": {},
     "output_type": "execute_result"
    }
   ],
   "source": [
    "# shape: (total number of events, total number of cells, [log(E),eta,phi,rperp,sampleID])\n",
    "Xraw.shape"
   ]
  },
  {
   "cell_type": "code",
   "execution_count": 20,
   "id": "097d1994-e522-4fd8-903a-7a728a45b335",
   "metadata": {},
   "outputs": [],
   "source": [
    "X = np.lib.format.open_memmap('/data/atlas/dportill/X_STSC_notebook.npy',\n",
    "                             mode='w+', dtype=np.float64, shape=(Xraw.shape[0], Xraw.shape[1], 5))\n",
    "np.copyto(dst=X, src=Xraw[:,:,:5], casting='same_kind', where=True)"
   ]
  },
  {
   "cell_type": "markdown",
   "id": "b3fbeece-48bd-4d81-b9ed-da2a9091df7e",
   "metadata": {},
   "source": [
    "## Y"
   ]
  },
  {
   "cell_type": "code",
   "execution_count": 7,
   "id": "e8bdfc1f-eb6d-421d-bb1c-86886006b83b",
   "metadata": {},
   "outputs": [],
   "source": [
    "Yraw = np.load('/data/atlas/dportill/Y_test2_files.npy', mmap_mode='r')"
   ]
  },
  {
   "cell_type": "code",
   "execution_count": 35,
   "id": "a12df81d-cf7b-4a76-b3ac-2d972a8022f9",
   "metadata": {},
   "outputs": [
    {
     "data": {
      "text/plain": [
       "(7478, 1)"
      ]
     },
     "execution_count": 35,
     "metadata": {},
     "output_type": "execute_result"
    }
   ],
   "source": [
    "# shape: (total number of events, 1) \n",
    "Yraw.shape"
   ]
  },
  {
   "cell_type": "code",
   "execution_count": 36,
   "id": "a7c46c22-e258-41c7-b12a-5f274b3a7b7f",
   "metadata": {},
   "outputs": [
    {
     "data": {
      "text/plain": [
       "memmap([[1.],\n",
       "        [1.],\n",
       "        [1.],\n",
       "        ...,\n",
       "        [0.],\n",
       "        [0.],\n",
       "        [0.]])"
      ]
     },
     "execution_count": 36,
     "metadata": {},
     "output_type": "execute_result"
    }
   ],
   "source": [
    "Yraw"
   ]
  },
  {
   "cell_type": "code",
   "execution_count": 38,
   "id": "e5aeebcd-0dd0-4466-ab60-0cd896412e03",
   "metadata": {},
   "outputs": [
    {
     "data": {
      "text/plain": [
       "memmap([1., 1., 1., ..., 0., 0., 0.])"
      ]
     },
     "execution_count": 38,
     "metadata": {},
     "output_type": "execute_result"
    }
   ],
   "source": [
    "# 1 for pipm and 0 for pi0. First all pipm events, and then for pi0 in a single array\n",
    "Yraw[:,0]"
   ]
  },
  {
   "cell_type": "code",
   "execution_count": 39,
   "id": "54f05291-a391-446a-87ec-daf40402f95f",
   "metadata": {},
   "outputs": [],
   "source": [
    "Y = np.lib.format.open_memmap('/data/atlas/dportill/Y_STSC_notebook.npy',\n",
    "                             mode='w+', dtype=np.float64, shape=(Yraw.shape[0]))\n",
    "np.copyto(dst=Y, src=Yraw[:,0], casting='same_kind', where=True)"
   ]
  },
  {
   "cell_type": "code",
   "execution_count": 40,
   "id": "a1a77657-757f-4fc7-9e8c-e34dbd97c941",
   "metadata": {},
   "outputs": [
    {
     "data": {
      "text/plain": [
       "(7478,)"
      ]
     },
     "execution_count": 40,
     "metadata": {},
     "output_type": "execute_result"
    }
   ],
   "source": [
    "Y.shape"
   ]
  },
  {
   "cell_type": "markdown",
   "id": "fa049dc8-dddc-48e9-8b97-03c2fa510579",
   "metadata": {},
   "source": [
    "* Convert Y to categorical"
   ]
  },
  {
   "cell_type": "code",
   "execution_count": 41,
   "id": "827a5bdb-f355-40d7-9230-425fc166e194",
   "metadata": {},
   "outputs": [
    {
     "data": {
      "text/plain": [
       "memmap([1., 1., 1., ..., 0., 0., 0.])"
      ]
     },
     "execution_count": 41,
     "metadata": {},
     "output_type": "execute_result"
    }
   ],
   "source": [
    "Y"
   ]
  },
  {
   "cell_type": "code",
   "execution_count": 42,
   "id": "c7d2c78f-b2db-4c6c-ad0d-81245b668c41",
   "metadata": {},
   "outputs": [],
   "source": [
    "from tensorflow.keras.utils import to_categorical"
   ]
  },
  {
   "cell_type": "code",
   "execution_count": 43,
   "id": "d2673fa2-3423-42d4-a12e-9e47f6158eb9",
   "metadata": {},
   "outputs": [],
   "source": [
    "Y_label = to_categorical(Y)"
   ]
  },
  {
   "cell_type": "code",
   "execution_count": 44,
   "id": "cc2b8ed4-d6e5-4c01-b5b1-e703af33a491",
   "metadata": {},
   "outputs": [
    {
     "data": {
      "text/plain": [
       "array([[0., 1.],\n",
       "       [0., 1.],\n",
       "       [0., 1.],\n",
       "       ...,\n",
       "       [1., 0.],\n",
       "       [1., 0.],\n",
       "       [1., 0.]], dtype=float32)"
      ]
     },
     "execution_count": 44,
     "metadata": {},
     "output_type": "execute_result"
    }
   ],
   "source": [
    "Y_label"
   ]
  },
  {
   "cell_type": "markdown",
   "id": "67334b19-e04b-4068-9def-3678d47fa9a0",
   "metadata": {},
   "source": [
    "* Constructing Y \"by hand\"  with a label per event and a then a label per cell for testing"
   ]
  },
  {
   "cell_type": "code",
   "execution_count": 45,
   "id": "51d1682c-2447-4a07-88c4-a280a2fc83ae",
   "metadata": {},
   "outputs": [],
   "source": [
    "Y_list = Y.tolist()"
   ]
  },
  {
   "cell_type": "code",
   "execution_count": 50,
   "id": "e2ad337f-7965-4321-9f51-6b71e5e215aa",
   "metadata": {},
   "outputs": [
    {
     "data": {
      "text/plain": [
       "7478"
      ]
     },
     "execution_count": 50,
     "metadata": {},
     "output_type": "execute_result"
    }
   ],
   "source": [
    "len(Y_list)"
   ]
  },
  {
   "cell_type": "code",
   "execution_count": 52,
   "id": "e7e38f68-1f13-4770-b93b-405edf61f50e",
   "metadata": {},
   "outputs": [
    {
     "name": "stdout",
     "output_type": "stream",
     "text": [
      "pipm events  3722\n"
     ]
    }
   ],
   "source": [
    "pipm_count = Y_list.count(1)\n",
    "print('pipm events ', pipm_count)"
   ]
  },
  {
   "cell_type": "code",
   "execution_count": 54,
   "id": "b818d6e7-75b9-404a-944f-8bfdbbede08f",
   "metadata": {},
   "outputs": [
    {
     "name": "stdout",
     "output_type": "stream",
     "text": [
      "pi0 events   3756\n"
     ]
    }
   ],
   "source": [
    "pi0_count = Y_list.count(0)\n",
    "print('pi0 events  ', pi0_count)"
   ]
  },
  {
   "cell_type": "code",
   "execution_count": 56,
   "id": "6afb4c6d-7c69-47f9-b92d-31c4675c559a",
   "metadata": {},
   "outputs": [],
   "source": [
    "Y_label_contructed = tf.keras.utils.to_categorical(np.concatenate((np.ones(pipm_count), np.zeros(pi0_count))))"
   ]
  },
  {
   "cell_type": "code",
   "execution_count": 57,
   "id": "eecd1fc8-1d54-4d88-ae3a-259124d382fb",
   "metadata": {},
   "outputs": [
    {
     "data": {
      "text/plain": [
       "array([[0., 1.],\n",
       "       [0., 1.],\n",
       "       [0., 1.],\n",
       "       ...,\n",
       "       [1., 0.],\n",
       "       [1., 0.],\n",
       "       [1., 0.]], dtype=float32)"
      ]
     },
     "execution_count": 57,
     "metadata": {},
     "output_type": "execute_result"
    }
   ],
   "source": [
    "Y_label_contructed"
   ]
  },
  {
   "cell_type": "code",
   "execution_count": 59,
   "id": "3fa3568f-b4bf-4c65-91e6-ee13a0a0ecba",
   "metadata": {},
   "outputs": [
    {
     "data": {
      "text/plain": [
       "(7478, 2)"
      ]
     },
     "execution_count": 59,
     "metadata": {},
     "output_type": "execute_result"
    }
   ],
   "source": [
    "Y_label.shape"
   ]
  },
  {
   "cell_type": "code",
   "execution_count": 58,
   "id": "2451cc26-f11e-4545-b1e4-785f48ee6505",
   "metadata": {},
   "outputs": [
    {
     "data": {
      "text/plain": [
       "(7478, 2)"
      ]
     },
     "execution_count": 58,
     "metadata": {},
     "output_type": "execute_result"
    }
   ],
   "source": [
    "Y_label_contructed.shape"
   ]
  },
  {
   "cell_type": "code",
   "execution_count": 60,
   "id": "9ef6bac1-9569-436b-bccd-6dd03aebfd63",
   "metadata": {},
   "outputs": [
    {
     "data": {
      "text/plain": [
       "array([[0., 1.],\n",
       "       [0., 1.],\n",
       "       [0., 1.],\n",
       "       ...,\n",
       "       [1., 0.],\n",
       "       [1., 0.],\n",
       "       [1., 0.]], dtype=float32)"
      ]
     },
     "execution_count": 60,
     "metadata": {},
     "output_type": "execute_result"
    }
   ],
   "source": [
    "Y_label"
   ]
  },
  {
   "cell_type": "code",
   "execution_count": null,
   "id": "528bbfb6-d8b4-4e0d-975b-d616c8bf1944",
   "metadata": {},
   "outputs": [],
   "source": []
  },
  {
   "cell_type": "markdown",
   "id": "d0e5016d-a560-4285-a8fe-8ca25b6818ed",
   "metadata": {},
   "source": [
    "## tf Dataset"
   ]
  },
  {
   "cell_type": "code",
   "execution_count": 61,
   "id": "61bc8236-1822-432d-bc2c-ec90e090039b",
   "metadata": {
    "collapsed": true,
    "jupyter": {
     "outputs_hidden": true
    },
    "tags": []
   },
   "outputs": [
    {
     "name": "stderr",
     "output_type": "stream",
     "text": [
      "2021-08-12 08:25:55.329743: I tensorflow/compiler/jit/xla_cpu_device.cc:41] Not creating XLA devices, tf_xla_enable_xla_devices not set\n",
      "2021-08-12 08:25:55.331548: I tensorflow/stream_executor/platform/default/dso_loader.cc:49] Successfully opened dynamic library libcuda.so.1\n",
      "2021-08-12 08:25:55.480733: I tensorflow/core/common_runtime/gpu/gpu_device.cc:1746] Found device 0 with properties: \n",
      "pciBusID: 0000:b2:00.0 name: GeForce RTX 2080 Ti computeCapability: 7.5\n",
      "coreClock: 1.545GHz coreCount: 68 deviceMemorySize: 10.76GiB deviceMemoryBandwidth: 573.69GiB/s\n",
      "2021-08-12 08:25:55.480806: I tensorflow/stream_executor/platform/default/dso_loader.cc:49] Successfully opened dynamic library libcudart.so.11.0\n",
      "2021-08-12 08:25:55.488314: I tensorflow/stream_executor/platform/default/dso_loader.cc:49] Successfully opened dynamic library libcublas.so.11\n",
      "2021-08-12 08:25:55.488468: I tensorflow/stream_executor/platform/default/dso_loader.cc:49] Successfully opened dynamic library libcublasLt.so.11\n",
      "2021-08-12 08:25:55.490826: I tensorflow/stream_executor/platform/default/dso_loader.cc:49] Successfully opened dynamic library libcufft.so.10\n",
      "2021-08-12 08:25:55.491445: I tensorflow/stream_executor/platform/default/dso_loader.cc:49] Successfully opened dynamic library libcurand.so.10\n",
      "2021-08-12 08:25:55.493088: I tensorflow/stream_executor/platform/default/dso_loader.cc:49] Successfully opened dynamic library libcusolver.so.11\n",
      "2021-08-12 08:25:55.494424: I tensorflow/stream_executor/platform/default/dso_loader.cc:49] Successfully opened dynamic library libcusparse.so.11\n",
      "2021-08-12 08:25:55.494677: I tensorflow/stream_executor/platform/default/dso_loader.cc:49] Successfully opened dynamic library libcudnn.so.8\n",
      "2021-08-12 08:25:55.498049: I tensorflow/core/common_runtime/gpu/gpu_device.cc:1888] Adding visible gpu devices: 0\n",
      "2021-08-12 08:25:55.510828: I tensorflow/compiler/jit/xla_gpu_device.cc:99] Not creating XLA devices, tf_xla_enable_xla_devices not set\n",
      "2021-08-12 08:25:55.513530: I tensorflow/core/common_runtime/gpu/gpu_device.cc:1746] Found device 0 with properties: \n",
      "pciBusID: 0000:b2:00.0 name: GeForce RTX 2080 Ti computeCapability: 7.5\n",
      "coreClock: 1.545GHz coreCount: 68 deviceMemorySize: 10.76GiB deviceMemoryBandwidth: 573.69GiB/s\n",
      "2021-08-12 08:25:55.513584: I tensorflow/stream_executor/platform/default/dso_loader.cc:49] Successfully opened dynamic library libcudart.so.11.0\n",
      "2021-08-12 08:25:55.513630: I tensorflow/stream_executor/platform/default/dso_loader.cc:49] Successfully opened dynamic library libcublas.so.11\n",
      "2021-08-12 08:25:55.513658: I tensorflow/stream_executor/platform/default/dso_loader.cc:49] Successfully opened dynamic library libcublasLt.so.11\n",
      "2021-08-12 08:25:55.513684: I tensorflow/stream_executor/platform/default/dso_loader.cc:49] Successfully opened dynamic library libcufft.so.10\n",
      "2021-08-12 08:25:55.513710: I tensorflow/stream_executor/platform/default/dso_loader.cc:49] Successfully opened dynamic library libcurand.so.10\n",
      "2021-08-12 08:25:55.513736: I tensorflow/stream_executor/platform/default/dso_loader.cc:49] Successfully opened dynamic library libcusolver.so.11\n",
      "2021-08-12 08:25:55.513762: I tensorflow/stream_executor/platform/default/dso_loader.cc:49] Successfully opened dynamic library libcusparse.so.11\n",
      "2021-08-12 08:25:55.513789: I tensorflow/stream_executor/platform/default/dso_loader.cc:49] Successfully opened dynamic library libcudnn.so.8\n",
      "2021-08-12 08:25:55.518550: I tensorflow/core/common_runtime/gpu/gpu_device.cc:1888] Adding visible gpu devices: 0\n",
      "2021-08-12 08:25:55.518627: I tensorflow/stream_executor/platform/default/dso_loader.cc:49] Successfully opened dynamic library libcudart.so.11.0\n",
      "2021-08-12 08:25:56.426113: I tensorflow/core/common_runtime/gpu/gpu_device.cc:1287] Device interconnect StreamExecutor with strength 1 edge matrix:\n",
      "2021-08-12 08:25:56.426179: I tensorflow/core/common_runtime/gpu/gpu_device.cc:1293]      0 \n",
      "2021-08-12 08:25:56.426187: I tensorflow/core/common_runtime/gpu/gpu_device.cc:1306] 0:   N \n",
      "2021-08-12 08:25:56.430514: W tensorflow/core/common_runtime/gpu/gpu_bfc_allocator.cc:39] Overriding allow_growth setting because the TF_FORCE_GPU_ALLOW_GROWTH environment variable is set. Original config value was 0.\n",
      "2021-08-12 08:25:56.430559: I tensorflow/core/common_runtime/gpu/gpu_device.cc:1432] Created TensorFlow device (/job:localhost/replica:0/task:0/device:GPU:0 with 9666 MB memory) -> physical GPU (device: 0, name: GeForce RTX 2080 Ti, pci bus id: 0000:b2:00.0, compute capability: 7.5)\n"
     ]
    }
   ],
   "source": [
    "deepSets = tf.data.Dataset.from_tensor_slices((X, Y_label))"
   ]
  },
  {
   "cell_type": "code",
   "execution_count": 62,
   "id": "741f5755-eea1-4ce4-b756-3eef7f34d436",
   "metadata": {},
   "outputs": [
    {
     "data": {
      "text/plain": [
       "<TensorSliceDataset shapes: ((942, 5), (2,)), types: (tf.float64, tf.float32)>"
      ]
     },
     "execution_count": 62,
     "metadata": {},
     "output_type": "execute_result"
    }
   ],
   "source": [
    "deepSets"
   ]
  },
  {
   "cell_type": "code",
   "execution_count": 63,
   "id": "17fa7c06-f29b-4c4d-8fdf-131cb5e86421",
   "metadata": {},
   "outputs": [
    {
     "name": "stdout",
     "output_type": "stream",
     "text": [
      "Number of point clouds?:  7478\n"
     ]
    }
   ],
   "source": [
    "Total = deepSets.cardinality().numpy()\n",
    "print(\"Number of point clouds?: \", Total)"
   ]
  },
  {
   "cell_type": "code",
   "execution_count": 64,
   "id": "63902ba2-220e-45d9-915f-4dcd5bf9f3e7",
   "metadata": {},
   "outputs": [],
   "source": [
    "val= int(Total*0.15)\n",
    "test= int(Total*0.15)\n",
    "train=Total-test-val"
   ]
  },
  {
   "cell_type": "code",
   "execution_count": 65,
   "id": "41597973-811c-46cd-ab92-d9a06a0fb196",
   "metadata": {},
   "outputs": [
    {
     "name": "stdout",
     "output_type": "stream",
     "text": [
      "train: 5236\n",
      "test: 1121\n",
      "val: 1121\n"
     ]
    }
   ],
   "source": [
    "print(\"train:\", train)\n",
    "print(\"test:\" ,test)\n",
    "print(\"val:\" ,val)"
   ]
  },
  {
   "cell_type": "code",
   "execution_count": null,
   "id": "9682f279-b342-422a-87e4-e98174ae6ef6",
   "metadata": {},
   "outputs": [],
   "source": []
  },
  {
   "cell_type": "code",
   "execution_count": 66,
   "id": "de8865ba-1bb4-47e1-8981-bf5ef905e36e",
   "metadata": {},
   "outputs": [],
   "source": [
    "ds_train = deepSets.skip(val+test)"
   ]
  },
  {
   "cell_type": "code",
   "execution_count": 67,
   "id": "61f0be84-1375-457d-baeb-e4a958faf188",
   "metadata": {},
   "outputs": [],
   "source": [
    "ds_test = deepSets.take(test+val)\n",
    "ds_val = ds_test.skip(test)\n",
    "ds_test = ds_test.take(test)"
   ]
  },
  {
   "cell_type": "code",
   "execution_count": 68,
   "id": "b9ada7e8-b9ae-43f8-a2b5-b195f9bf9395",
   "metadata": {},
   "outputs": [
    {
     "name": "stdout",
     "output_type": "stream",
     "text": [
      "tf.Tensor(5236, shape=(), dtype=int64)\n",
      "tf.Tensor(1121, shape=(), dtype=int64)\n",
      "tf.Tensor(1121, shape=(), dtype=int64)\n"
     ]
    }
   ],
   "source": [
    "print(ds_train.cardinality())\n",
    "print(ds_val.cardinality())\n",
    "print(ds_test.cardinality())"
   ]
  },
  {
   "cell_type": "code",
   "execution_count": null,
   "id": "ddeb4d75-f140-45e7-8390-8986eb056c4f",
   "metadata": {},
   "outputs": [],
   "source": []
  },
  {
   "cell_type": "markdown",
   "id": "d6630d94-4bf8-4066-b6d5-c48ed976bcca",
   "metadata": {},
   "source": [
    "## Determine number of batches"
   ]
  },
  {
   "cell_type": "code",
   "execution_count": 69,
   "id": "124a1980-5275-4d23-a6da-46b1e4638e3d",
   "metadata": {},
   "outputs": [
    {
     "name": "stdout",
     "output_type": "stream",
     "text": [
      "7\n"
     ]
    }
   ],
   "source": [
    "batch_size = 1000\n",
    "\n",
    "Nevts = len(X)\n",
    "Nbatches = int(np.floor(Nevts/batch_size))\n",
    "print(Nbatches)\n"
   ]
  },
  {
   "cell_type": "code",
   "execution_count": 70,
   "id": "9c4c1688-a99e-43c0-a8a0-79780c67fbc2",
   "metadata": {},
   "outputs": [],
   "source": [
    "ds_train = ds_train.batch(Nbatches, drop_remainder=True)\n",
    "ds_val = ds_val.batch(Nbatches, drop_remainder=True)\n",
    "ds_test = ds_test.batch(Nbatches, drop_remainder=True)"
   ]
  },
  {
   "cell_type": "markdown",
   "id": "9b95151a-cdf6-44d0-8e17-36b2edca206a",
   "metadata": {},
   "source": [
    "## The PFN Model "
   ]
  },
  {
   "cell_type": "code",
   "execution_count": 71,
   "id": "b39046dd-f029-4490-b1a9-a895a78ec19d",
   "metadata": {},
   "outputs": [],
   "source": [
    "# network architecture parameters\n",
    "Phi_sizes, F_sizes = (100, 100, 128), (100, 100, 100)"
   ]
  },
  {
   "cell_type": "code",
   "execution_count": 72,
   "id": "e60eec33-5766-4a54-8e16-f0790a394536",
   "metadata": {},
   "outputs": [
    {
     "data": {
      "text/plain": [
       "5"
      ]
     },
     "execution_count": 72,
     "metadata": {},
     "output_type": "execute_result"
    }
   ],
   "source": [
    "X.shape[-1]"
   ]
  },
  {
   "cell_type": "code",
   "execution_count": 73,
   "id": "34f577eb-02f7-44cd-a3cb-6cd23c386a3a",
   "metadata": {
    "tags": []
   },
   "outputs": [
    {
     "name": "stdout",
     "output_type": "stream",
     "text": [
      "Model: \"model\"\n",
      "__________________________________________________________________________________________________\n",
      "Layer (type)                    Output Shape         Param #     Connected to                     \n",
      "==================================================================================================\n",
      "input (InputLayer)              [(None, None, 5)]    0                                            \n",
      "__________________________________________________________________________________________________\n",
      "tdist_0 (TimeDistributed)       (None, None, 100)    600         input[0][0]                      \n",
      "__________________________________________________________________________________________________\n",
      "activation (Activation)         (None, None, 100)    0           tdist_0[0][0]                    \n",
      "__________________________________________________________________________________________________\n",
      "tdist_1 (TimeDistributed)       (None, None, 100)    10100       activation[0][0]                 \n",
      "__________________________________________________________________________________________________\n",
      "activation_1 (Activation)       (None, None, 100)    0           tdist_1[0][0]                    \n",
      "__________________________________________________________________________________________________\n",
      "tdist_2 (TimeDistributed)       (None, None, 128)    12928       activation_1[0][0]               \n",
      "__________________________________________________________________________________________________\n",
      "mask (Lambda)                   (None, None)         0           input[0][0]                      \n",
      "__________________________________________________________________________________________________\n",
      "activation_2 (Activation)       (None, None, 128)    0           tdist_2[0][0]                    \n",
      "__________________________________________________________________________________________________\n",
      "sum (Dot)                       (None, 128)          0           mask[0][0]                       \n",
      "                                                                 activation_2[0][0]               \n",
      "__________________________________________________________________________________________________\n",
      "dense_0 (Dense)                 (None, 100)          12900       sum[0][0]                        \n",
      "__________________________________________________________________________________________________\n",
      "activation_3 (Activation)       (None, 100)          0           dense_0[0][0]                    \n",
      "__________________________________________________________________________________________________\n",
      "dense_1 (Dense)                 (None, 100)          10100       activation_3[0][0]               \n",
      "__________________________________________________________________________________________________\n",
      "activation_4 (Activation)       (None, 100)          0           dense_1[0][0]                    \n",
      "__________________________________________________________________________________________________\n",
      "dense_2 (Dense)                 (None, 100)          10100       activation_4[0][0]               \n",
      "__________________________________________________________________________________________________\n",
      "activation_5 (Activation)       (None, 100)          0           dense_2[0][0]                    \n",
      "__________________________________________________________________________________________________\n",
      "output (Dense)                  (None, 2)            202         activation_5[0][0]               \n",
      "__________________________________________________________________________________________________\n",
      "activation_6 (Activation)       (None, 2)            0           output[0][0]                     \n",
      "==================================================================================================\n",
      "Total params: 56,930\n",
      "Trainable params: 56,930\n",
      "Non-trainable params: 0\n",
      "__________________________________________________________________________________________________\n"
     ]
    }
   ],
   "source": [
    "pfn = PFN(input_dim=X.shape[-1], Phi_sizes=Phi_sizes, F_sizes=F_sizes)"
   ]
  },
  {
   "cell_type": "code",
   "execution_count": null,
   "id": "8d2e4454-6e13-4439-9e43-44c778cac50f",
   "metadata": {},
   "outputs": [],
   "source": []
  },
  {
   "cell_type": "markdown",
   "id": "5b6a5da7-7ed2-4e16-b951-45aef0f65829",
   "metadata": {},
   "source": [
    "## TRAIN"
   ]
  },
  {
   "cell_type": "code",
   "execution_count": 74,
   "id": "98efa025-fe41-4ea6-8f59-089be9fe1cf8",
   "metadata": {},
   "outputs": [],
   "source": [
    "import time as t"
   ]
  },
  {
   "cell_type": "code",
   "execution_count": 75,
   "id": "c2bf439d-bf20-402a-a47f-5bb352923db5",
   "metadata": {
    "tags": []
   },
   "outputs": [
    {
     "name": "stdout",
     "output_type": "stream",
     "text": [
      "Epoch 1/100\n"
     ]
    },
    {
     "name": "stderr",
     "output_type": "stream",
     "text": [
      "2021-08-12 08:27:12.834039: I tensorflow/compiler/mlir/mlir_graph_optimization_pass.cc:116] None of the MLIR optimization passes are enabled (registered 2)\n",
      "2021-08-12 08:27:12.859938: I tensorflow/core/platform/profile_utils/cpu_utils.cc:112] CPU Frequency: 2100000000 Hz\n",
      "2021-08-12 08:27:12.934579: I tensorflow/stream_executor/platform/default/dso_loader.cc:49] Successfully opened dynamic library libcublas.so.11\n"
     ]
    },
    {
     "name": "stdout",
     "output_type": "stream",
     "text": [
      " 45/748 [>.............................] - ETA: 2s - loss: 0.0000e+00 - acc: 1.0000 "
     ]
    },
    {
     "name": "stderr",
     "output_type": "stream",
     "text": [
      "2021-08-12 08:27:13.427247: I tensorflow/stream_executor/platform/default/dso_loader.cc:49] Successfully opened dynamic library libcublasLt.so.11\n"
     ]
    },
    {
     "name": "stdout",
     "output_type": "stream",
     "text": [
      "748/748 [==============================] - 5s 5ms/step - loss: 190.1428 - acc: 0.9990 - val_loss: 843391.0000 - val_acc: 0.0000e+00\n",
      "Epoch 2/100\n",
      "748/748 [==============================] - 4s 5ms/step - loss: 12998.7932 - acc: 0.9761 - val_loss: 568344.1250 - val_acc: 0.0000e+00\n",
      "Epoch 3/100\n",
      "748/748 [==============================] - 3s 4ms/step - loss: 9100.0843 - acc: 0.9685 - val_loss: 113216.8750 - val_acc: 0.0000e+00\n",
      "Epoch 4/100\n",
      "748/748 [==============================] - 3s 5ms/step - loss: 2366.9539 - acc: 0.9670 - val_loss: 7039.4243 - val_acc: 0.0000e+00\n",
      "Epoch 5/100\n",
      "748/748 [==============================] - 3s 4ms/step - loss: 115.1819 - acc: 0.9093 - val_loss: 45.5980 - val_acc: 0.0000e+00\n",
      "Epoch 6/100\n",
      "748/748 [==============================] - 3s 5ms/step - loss: 3.1417 - acc: 0.7827 - val_loss: 5.5590 - val_acc: 0.0000e+00\n",
      "Epoch 7/100\n",
      "748/748 [==============================] - 3s 5ms/step - loss: 1.0233 - acc: 0.6395 - val_loss: 3.1253 - val_acc: 0.0000e+00\n",
      "Epoch 8/100\n",
      "748/748 [==============================] - 3s 4ms/step - loss: 1.1558 - acc: 0.3873 - val_loss: 2.7086 - val_acc: 0.0000e+00\n",
      "Epoch 9/100\n",
      "748/748 [==============================] - 3s 4ms/step - loss: 1.1427 - acc: 0.3348 - val_loss: 2.2162 - val_acc: 0.0000e+00\n",
      "Epoch 10/100\n",
      "748/748 [==============================] - 3s 4ms/step - loss: 1.0365 - acc: 0.3407 - val_loss: 2.2037 - val_acc: 0.0000e+00\n",
      "Epoch 11/100\n",
      "748/748 [==============================] - 3s 4ms/step - loss: 1.0565 - acc: 0.3352 - val_loss: 2.1769 - val_acc: 0.0000e+00\n",
      "Epoch 12/100\n",
      "748/748 [==============================] - 3s 4ms/step - loss: 1.0565 - acc: 0.3612 - val_loss: 2.0606 - val_acc: 0.0000e+00\n",
      "Epoch 13/100\n",
      "748/748 [==============================] - 3s 4ms/step - loss: 1.0478 - acc: 0.3612 - val_loss: 2.0524 - val_acc: 0.0000e+00\n",
      "Epoch 14/100\n",
      "748/748 [==============================] - 4s 5ms/step - loss: 1.0497 - acc: 0.3612 - val_loss: 2.0358 - val_acc: 0.0000e+00\n",
      "Epoch 15/100\n",
      "748/748 [==============================] - 3s 5ms/step - loss: 1.0485 - acc: 0.3612 - val_loss: 2.0156 - val_acc: 0.0000e+00\n",
      "Epoch 16/100\n",
      "748/748 [==============================] - 3s 4ms/step - loss: 1.0465 - acc: 0.3612 - val_loss: 1.9956 - val_acc: 0.0000e+00\n",
      "Epoch 17/100\n",
      "748/748 [==============================] - 3s 5ms/step - loss: 1.0445 - acc: 0.3612 - val_loss: 1.9780 - val_acc: 0.0000e+00\n",
      "Epoch 18/100\n",
      "748/748 [==============================] - 4s 5ms/step - loss: 1.0420 - acc: 0.3612 - val_loss: 1.9694 - val_acc: 0.0000e+00\n",
      "Epoch 19/100\n",
      "748/748 [==============================] - 3s 5ms/step - loss: 1.0425 - acc: 0.3612 - val_loss: 1.9594 - val_acc: 0.0000e+00\n",
      "Epoch 20/100\n",
      "748/748 [==============================] - 3s 5ms/step - loss: 1.0399 - acc: 0.3612 - val_loss: 1.9654 - val_acc: 0.0000e+00\n",
      "Epoch 21/100\n",
      "748/748 [==============================] - 3s 4ms/step - loss: 1.0391 - acc: 0.3612 - val_loss: 1.9885 - val_acc: 0.0000e+00\n",
      "Epoch 22/100\n",
      "748/748 [==============================] - 3s 4ms/step - loss: 1.0396 - acc: 0.3612 - val_loss: 2.0361 - val_acc: 0.0000e+00\n",
      "Epoch 23/100\n",
      "748/748 [==============================] - 3s 5ms/step - loss: 1.0417 - acc: 0.3612 - val_loss: 2.1145 - val_acc: 0.0000e+00\n",
      "Epoch 24/100\n",
      "748/748 [==============================] - 3s 4ms/step - loss: 1.0454 - acc: 0.3352 - val_loss: 2.2216 - val_acc: 0.0000e+00\n",
      "Epoch 25/100\n",
      "748/748 [==============================] - 3s 5ms/step - loss: 1.0502 - acc: 0.3422 - val_loss: 2.3391 - val_acc: 0.0000e+00\n",
      "Epoch 26/100\n",
      "748/748 [==============================] - 4s 5ms/step - loss: 1.0556 - acc: 0.3553 - val_loss: 2.4357 - val_acc: 0.0000e+00\n",
      "Epoch 27/100\n",
      "748/748 [==============================] - 3s 5ms/step - loss: 1.0607 - acc: 0.3658 - val_loss: 2.4938 - val_acc: 0.0000e+00\n",
      "Epoch 28/100\n",
      "748/748 [==============================] - 3s 4ms/step - loss: 1.0646 - acc: 0.3717 - val_loss: 2.5213 - val_acc: 0.0000e+00\n",
      "Epoch 29/100\n",
      "748/748 [==============================] - 3s 4ms/step - loss: 1.0669 - acc: 0.3744 - val_loss: 2.5375 - val_acc: 0.0000e+00\n",
      "Epoch 30/100\n",
      "748/748 [==============================] - 3s 5ms/step - loss: 1.0685 - acc: 0.3764 - val_loss: 2.5153 - val_acc: 0.0000e+00\n",
      "Epoch 31/100\n",
      "748/748 [==============================] - 3s 4ms/step - loss: 1.0686 - acc: 0.3758 - val_loss: 2.4930 - val_acc: 0.0000e+00\n",
      "Epoch 32/100\n",
      "748/748 [==============================] - 3s 5ms/step - loss: 1.0696 - acc: 0.3710 - val_loss: 2.4495 - val_acc: 0.0000e+00\n",
      "Epoch 33/100\n",
      "748/748 [==============================] - 3s 5ms/step - loss: 1.0499 - acc: 0.3638 - val_loss: 4.1720 - val_acc: 0.0000e+00\n",
      "Epoch 34/100\n",
      "748/748 [==============================] - 3s 5ms/step - loss: 1.2778 - acc: 0.4699 - val_loss: 2.7393 - val_acc: 0.0000e+00\n",
      "Epoch 35/100\n",
      "748/748 [==============================] - 3s 4ms/step - loss: 1.0796 - acc: 0.4541 - val_loss: 2.6648 - val_acc: 0.0000e+00\n",
      "Epoch 36/100\n",
      "748/748 [==============================] - 3s 5ms/step - loss: 1.0781 - acc: 0.4411 - val_loss: 2.6113 - val_acc: 0.0000e+00\n",
      "Epoch 37/100\n",
      "748/748 [==============================] - 3s 4ms/step - loss: 1.0789 - acc: 0.4317 - val_loss: 2.5594 - val_acc: 0.0000e+00\n",
      "Epoch 38/100\n",
      "748/748 [==============================] - 3s 4ms/step - loss: 1.0798 - acc: 0.4215 - val_loss: 2.5088 - val_acc: 0.0000e+00\n",
      "Epoch 39/100\n",
      "748/748 [==============================] - 3s 4ms/step - loss: 1.0803 - acc: 0.4125 - val_loss: 2.4634 - val_acc: 0.0000e+00\n",
      "Epoch 40/100\n",
      "748/748 [==============================] - 4s 5ms/step - loss: 1.0803 - acc: 0.4028 - val_loss: 2.4267 - val_acc: 0.0000e+00\n",
      "Epoch 41/100\n",
      "748/748 [==============================] - 3s 4ms/step - loss: 1.0798 - acc: 0.3976 - val_loss: 2.4209 - val_acc: 0.0000e+00\n",
      "Epoch 42/100\n",
      "748/748 [==============================] - 3s 4ms/step - loss: 1.0794 - acc: 0.3933 - val_loss: 2.4068 - val_acc: 0.0000e+00\n",
      "Epoch 43/100\n",
      "748/748 [==============================] - 3s 4ms/step - loss: 1.0802 - acc: 0.3883 - val_loss: 2.3630 - val_acc: 0.0000e+00\n",
      "Epoch 44/100\n",
      "748/748 [==============================] - 3s 4ms/step - loss: 1.0765 - acc: 0.3855 - val_loss: 2.4572 - val_acc: 0.0000e+00\n",
      "Epoch 45/100\n",
      "748/748 [==============================] - 3s 5ms/step - loss: 1.0832 - acc: 0.3848 - val_loss: 2.3048 - val_acc: 0.0000e+00\n",
      "Epoch 46/100\n",
      "748/748 [==============================] - 3s 4ms/step - loss: 1.0771 - acc: 0.3750 - val_loss: 2.2556 - val_acc: 0.0000e+00\n",
      "Epoch 47/100\n",
      "748/748 [==============================] - 3s 4ms/step - loss: 1.0735 - acc: 0.3709 - val_loss: 2.2822 - val_acc: 0.0000e+00\n",
      "Epoch 48/100\n",
      "748/748 [==============================] - 3s 4ms/step - loss: 1.0762 - acc: 0.3709 - val_loss: 2.2185 - val_acc: 0.0000e+00\n",
      "Epoch 49/100\n",
      "748/748 [==============================] - 3s 5ms/step - loss: 1.0722 - acc: 0.3662 - val_loss: 2.2018 - val_acc: 0.0000e+00\n",
      "Epoch 50/100\n",
      "748/748 [==============================] - 3s 5ms/step - loss: 1.0715 - acc: 0.3656 - val_loss: 2.1924 - val_acc: 0.0000e+00\n",
      "Epoch 51/100\n",
      "748/748 [==============================] - 3s 4ms/step - loss: 1.0709 - acc: 0.3636 - val_loss: 2.1848 - val_acc: 0.0000e+00\n",
      "Epoch 52/100\n",
      "748/748 [==============================] - 4s 5ms/step - loss: 1.0705 - acc: 0.3616 - val_loss: 2.1784 - val_acc: 0.0000e+00\n",
      "Epoch 53/100\n",
      "748/748 [==============================] - 3s 4ms/step - loss: 1.0701 - acc: 0.3610 - val_loss: 2.1727 - val_acc: 0.0000e+00\n",
      "Epoch 54/100\n",
      "748/748 [==============================] - 3s 4ms/step - loss: 1.0698 - acc: 0.3590 - val_loss: 2.1678 - val_acc: 0.0000e+00\n",
      "Epoch 55/100\n",
      "748/748 [==============================] - 3s 5ms/step - loss: 1.0694 - acc: 0.3590 - val_loss: 2.1645 - val_acc: 0.0000e+00\n",
      "Epoch 56/100\n",
      "748/748 [==============================] - 3s 4ms/step - loss: 1.0691 - acc: 0.3584 - val_loss: 2.1660 - val_acc: 0.0000e+00\n",
      "Epoch 57/100\n",
      "748/748 [==============================] - 4s 5ms/step - loss: 1.0688 - acc: 0.3604 - val_loss: 2.2172 - val_acc: 0.0000e+00\n",
      "Epoch 58/100\n",
      "748/748 [==============================] - 4s 5ms/step - loss: 1.0714 - acc: 0.3630 - val_loss: 2.1688 - val_acc: 0.0000e+00\n",
      "Epoch 59/100\n",
      "748/748 [==============================] - 3s 4ms/step - loss: 1.0697 - acc: 0.3590 - val_loss: 2.1596 - val_acc: 0.0000e+00\n",
      "Epoch 60/100\n",
      "748/748 [==============================] - 4s 5ms/step - loss: 1.0691 - acc: 0.3584 - val_loss: 2.1565 - val_acc: 0.0000e+00\n",
      "Epoch 61/100\n",
      "748/748 [==============================] - 3s 5ms/step - loss: 1.0688 - acc: 0.3584 - val_loss: 2.1553 - val_acc: 0.0000e+00\n",
      "Epoch 62/100\n",
      "748/748 [==============================] - 3s 5ms/step - loss: 1.0686 - acc: 0.3570 - val_loss: 2.1549 - val_acc: 0.0000e+00\n",
      "Epoch 63/100\n",
      "748/748 [==============================] - 3s 4ms/step - loss: 1.0685 - acc: 0.3570 - val_loss: 2.1552 - val_acc: 0.0000e+00\n",
      "Epoch 64/100\n",
      "748/748 [==============================] - 4s 5ms/step - loss: 1.0686 - acc: 0.3570 - val_loss: 2.1556 - val_acc: 0.0000e+00\n",
      "Epoch 65/100\n",
      "748/748 [==============================] - 3s 5ms/step - loss: 1.0686 - acc: 0.3570 - val_loss: 2.1559 - val_acc: 0.0000e+00\n",
      "Epoch 66/100\n",
      "748/748 [==============================] - 3s 4ms/step - loss: 1.0686 - acc: 0.3570 - val_loss: 2.1563 - val_acc: 0.0000e+00\n",
      "Epoch 67/100\n",
      "748/748 [==============================] - 3s 4ms/step - loss: 1.0686 - acc: 0.3570 - val_loss: 2.1566 - val_acc: 0.0000e+00\n",
      "Epoch 68/100\n",
      "748/748 [==============================] - 3s 4ms/step - loss: 1.0686 - acc: 0.3570 - val_loss: 2.1570 - val_acc: 0.0000e+00\n",
      "Epoch 69/100\n",
      "748/748 [==============================] - 3s 4ms/step - loss: 1.0686 - acc: 0.3570 - val_loss: 2.1573 - val_acc: 0.0000e+00\n",
      "Epoch 70/100\n",
      "748/748 [==============================] - 3s 4ms/step - loss: 1.0687 - acc: 0.3570 - val_loss: 2.1577 - val_acc: 0.0000e+00\n",
      "Epoch 71/100\n",
      "748/748 [==============================] - 3s 4ms/step - loss: 1.0687 - acc: 0.3570 - val_loss: 2.1581 - val_acc: 0.0000e+00\n",
      "Epoch 72/100\n",
      "748/748 [==============================] - 3s 4ms/step - loss: 1.0687 - acc: 0.3590 - val_loss: 2.1584 - val_acc: 0.0000e+00\n",
      "Epoch 73/100\n",
      "748/748 [==============================] - 3s 4ms/step - loss: 1.0687 - acc: 0.3590 - val_loss: 2.1588 - val_acc: 0.0000e+00\n",
      "Epoch 74/100\n",
      "748/748 [==============================] - 3s 4ms/step - loss: 1.0687 - acc: 0.3590 - val_loss: 2.1592 - val_acc: 0.0000e+00\n",
      "Epoch 75/100\n",
      "748/748 [==============================] - 3s 4ms/step - loss: 1.0688 - acc: 0.3590 - val_loss: 2.1595 - val_acc: 0.0000e+00\n",
      "Epoch 76/100\n",
      "748/748 [==============================] - 3s 5ms/step - loss: 1.0688 - acc: 0.3590 - val_loss: 2.1599 - val_acc: 0.0000e+00\n",
      "Epoch 77/100\n",
      "748/748 [==============================] - 3s 4ms/step - loss: 1.0688 - acc: 0.3590 - val_loss: 2.1602 - val_acc: 0.0000e+00\n",
      "Epoch 78/100\n",
      "748/748 [==============================] - 4s 5ms/step - loss: 1.0688 - acc: 0.3590 - val_loss: 2.1606 - val_acc: 0.0000e+00\n",
      "Epoch 79/100\n",
      "748/748 [==============================] - 3s 4ms/step - loss: 1.0688 - acc: 0.3590 - val_loss: 2.1610 - val_acc: 0.0000e+00\n",
      "Epoch 80/100\n",
      "748/748 [==============================] - 3s 4ms/step - loss: 1.0689 - acc: 0.3590 - val_loss: 2.1613 - val_acc: 0.0000e+00\n",
      "Epoch 81/100\n",
      "748/748 [==============================] - 3s 4ms/step - loss: 1.0689 - acc: 0.3590 - val_loss: 2.1617 - val_acc: 0.0000e+00\n",
      "Epoch 82/100\n",
      "748/748 [==============================] - 3s 4ms/step - loss: 1.0689 - acc: 0.3590 - val_loss: 2.1621 - val_acc: 0.0000e+00\n",
      "Epoch 83/100\n",
      "748/748 [==============================] - 3s 5ms/step - loss: 1.0689 - acc: 0.3590 - val_loss: 2.1624 - val_acc: 0.0000e+00\n",
      "Epoch 84/100\n",
      "748/748 [==============================] - 3s 4ms/step - loss: 1.0689 - acc: 0.3590 - val_loss: 2.1628 - val_acc: 0.0000e+00\n",
      "Epoch 85/100\n",
      "748/748 [==============================] - 3s 4ms/step - loss: 1.0690 - acc: 0.3590 - val_loss: 2.1632 - val_acc: 0.0000e+00\n",
      "Epoch 86/100\n",
      "748/748 [==============================] - 3s 4ms/step - loss: 1.0690 - acc: 0.3590 - val_loss: 2.1635 - val_acc: 0.0000e+00\n",
      "Epoch 87/100\n",
      "748/748 [==============================] - 3s 4ms/step - loss: 1.0690 - acc: 0.3590 - val_loss: 2.1639 - val_acc: 0.0000e+00\n",
      "Epoch 88/100\n",
      "748/748 [==============================] - 3s 4ms/step - loss: 1.0690 - acc: 0.3590 - val_loss: 2.1642 - val_acc: 0.0000e+00\n",
      "Epoch 89/100\n",
      "748/748 [==============================] - 3s 5ms/step - loss: 1.0690 - acc: 0.3590 - val_loss: 2.1646 - val_acc: 0.0000e+00\n",
      "Epoch 90/100\n",
      "748/748 [==============================] - 3s 4ms/step - loss: 1.0691 - acc: 0.3590 - val_loss: 2.1650 - val_acc: 0.0000e+00\n",
      "Epoch 91/100\n",
      "748/748 [==============================] - 3s 5ms/step - loss: 1.0691 - acc: 0.3590 - val_loss: 2.1653 - val_acc: 0.0000e+00\n",
      "Epoch 92/100\n",
      "748/748 [==============================] - 3s 5ms/step - loss: 1.0691 - acc: 0.3590 - val_loss: 2.1657 - val_acc: 0.0000e+00\n",
      "Epoch 93/100\n",
      "748/748 [==============================] - 3s 5ms/step - loss: 1.0691 - acc: 0.3610 - val_loss: 2.1661 - val_acc: 0.0000e+00\n",
      "Epoch 94/100\n",
      "748/748 [==============================] - 3s 5ms/step - loss: 1.0691 - acc: 0.3610 - val_loss: 2.1664 - val_acc: 0.0000e+00\n",
      "Epoch 95/100\n",
      "748/748 [==============================] - 3s 4ms/step - loss: 1.0691 - acc: 0.3610 - val_loss: 2.1668 - val_acc: 0.0000e+00\n",
      "Epoch 96/100\n",
      "748/748 [==============================] - 3s 4ms/step - loss: 1.0692 - acc: 0.3610 - val_loss: 2.1672 - val_acc: 0.0000e+00\n",
      "Epoch 97/100\n",
      "748/748 [==============================] - 3s 5ms/step - loss: 1.0692 - acc: 0.3596 - val_loss: 2.1675 - val_acc: 0.0000e+00\n",
      "Epoch 98/100\n",
      "748/748 [==============================] - 3s 4ms/step - loss: 1.0692 - acc: 0.3596 - val_loss: 2.1679 - val_acc: 0.0000e+00\n",
      "Epoch 99/100\n",
      "748/748 [==============================] - 3s 4ms/step - loss: 1.0692 - acc: 0.3596 - val_loss: 2.1682 - val_acc: 0.0000e+00\n",
      "Epoch 100/100\n",
      "748/748 [==============================] - 3s 4ms/step - loss: 1.0692 - acc: 0.3596 - val_loss: 2.1686 - val_acc: 0.0000e+00\n"
     ]
    }
   ],
   "source": [
    "t0 = t.time()\n",
    "history = pfn.fit(ds_train,\n",
    "        epochs=100,\n",
    "        validation_data=ds_val,\n",
    "        verbose=1)\n",
    "t1 = t.time()"
   ]
  },
  {
   "cell_type": "code",
   "execution_count": 76,
   "id": "272a6206-a6bd-4ac0-b6a9-7c9c0b37329d",
   "metadata": {},
   "outputs": [
    {
     "name": "stdout",
     "output_type": "stream",
     "text": [
      "Time to train: 366.43888330459595 (s)\n",
      "6.107314721743266 (min)\n",
      "0.1017885786957211 (hour)\n"
     ]
    }
   ],
   "source": [
    "print('Time to train: '+str(t1-t0)+' (s)')\n",
    "print(str((t1-t0)/60)+' (min)')\n",
    "print(str((t1-t0)/3600)+' (hour)')"
   ]
  },
  {
   "cell_type": "code",
   "execution_count": 77,
   "id": "ab437572-f81a-4300-a951-a8612021475d",
   "metadata": {},
   "outputs": [],
   "source": [
    "pfn.save(modelpath+'pfn_tfdataset_test_100ep.h5')"
   ]
  },
  {
   "cell_type": "code",
   "execution_count": 78,
   "id": "0c5be357-b453-4cdb-888f-b59df5dc0baa",
   "metadata": {
    "tags": []
   },
   "outputs": [],
   "source": [
    "import matplotlib.pyplot as plt"
   ]
  },
  {
   "cell_type": "code",
   "execution_count": 79,
   "id": "a53b730b-f060-452a-8f0b-a24a719d9efe",
   "metadata": {},
   "outputs": [
    {
     "data": {
      "image/png": "[encoded data removed]",
      "text/plain": [
       "<Figure size 432x432 with 1 Axes>"
      ]
     },
     "metadata": {
      "needs_background": "light"
     },
     "output_type": "display_data"
    }
   ],
   "source": [
    "\n",
    "M = len(history.history['val_loss'])\n",
    "fig = plt.figure(figsize=(6,6))\n",
    "plt.plot(history.history['val_loss'], label=\"Validation\")\n",
    "plt.plot(history.history['loss'], label=\"Training\")\n",
    "plt.yscale('log')\n",
    "plt.ylim(.001,10)\n",
    "plt.yticks(fontsize=13)\n",
    "plt.xlim(0,M)\n",
    "plt.xticks(fontsize=13)\n",
    "plt.xlabel('Epochs', fontsize=14)\n",
    "plt.ylabel('Loss', fontsize=14)\n",
    "plt.legend(loc='upper right', ncol=1)\n",
    "# plt.tight_layout()\n",
    "#plt.savefig('./.png', format='png')\n",
    "plt.show()"
   ]
  },
  {
   "cell_type": "code",
   "execution_count": null,
   "id": "18e0eea1-4ebe-46ed-9486-129645be8828",
   "metadata": {},
   "outputs": [],
   "source": []
  },
  {
   "cell_type": "code",
   "execution_count": null,
   "id": "d596a129-d035-419d-94ab-e69e5675f8b1",
   "metadata": {},
   "outputs": [],
   "source": []
  },
  {
   "cell_type": "code",
   "execution_count": null,
   "id": "f066d90e-b84d-4a7b-abe3-2253690faec2",
   "metadata": {},
   "outputs": [],
   "source": []
  },
  {
   "cell_type": "code",
   "execution_count": 40,
   "id": "048594de-7b60-4338-b7d0-73e9f98a8d03",
   "metadata": {
    "tags": []
   },
   "outputs": [],
   "source": [
    "# get area under the ROC curve\n",
    "preds2 = pfn.predict(ds_test).flatten()"
   ]
  },
  {
   "cell_type": "code",
   "execution_count": 41,
   "id": "40c2198b-9cb6-4e47-ae1c-fc4e67c3e575",
   "metadata": {},
   "outputs": [
    {
     "data": {
      "text/plain": [
       "array([0.8878934 , 0.11210662, 0.8878934 , ..., 0.11210662, 0.8878934 ,\n",
       "       0.11210662], dtype=float32)"
      ]
     },
     "execution_count": 41,
     "metadata": {},
     "output_type": "execute_result"
    }
   ],
   "source": [
    "preds2"
   ]
  },
  {
   "cell_type": "code",
   "execution_count": 42,
   "id": "f3de5983-b009-4f63-8d42-9f098349139b",
   "metadata": {},
   "outputs": [],
   "source": [
    "ds_test = ds_test.unbatch()"
   ]
  },
  {
   "cell_type": "code",
   "execution_count": 50,
   "id": "0c3f6411-4832-4991-b185-584537ef7b0e",
   "metadata": {},
   "outputs": [
    {
     "name": "stdout",
     "output_type": "stream",
     "text": [
      "1120\n"
     ]
    }
   ],
   "source": [
    "Npts = len(ds_test)\n",
    "print(Npts)\n",
    "Ytest = np.empty(Npts)"
   ]
  },
  {
   "cell_type": "code",
   "execution_count": 51,
   "id": "4424a124-ac8a-4d97-92eb-a7998158960c",
   "metadata": {},
   "outputs": [
    {
     "data": {
      "text/plain": [
       "array([6.90310128e-310, 6.90310128e-310, 4.48208212e-315, ...,\n",
       "       0.00000000e+000, 0.00000000e+000, 0.00000000e+000])"
      ]
     },
     "execution_count": 51,
     "metadata": {},
     "output_type": "execute_result"
    }
   ],
   "source": [
    "Ytest"
   ]
  },
  {
   "cell_type": "code",
   "execution_count": 44,
   "id": "18e36a63-2c1a-4e28-bc41-f81984f9883e",
   "metadata": {},
   "outputs": [],
   "source": [
    "Ytest = np.empty((Npts,2))"
   ]
  },
  {
   "cell_type": "code",
   "execution_count": 80,
   "id": "086a8557-8229-4249-9dc7-09ab0b087158",
   "metadata": {},
   "outputs": [],
   "source": [
    "i = 0\n",
    "for element in ds_test:\n",
    "    Xi, Yi = element\n",
    "    #print(Yi)\n",
    "    #Ytest[i,:] = Yi[:]\n",
    "    i += 1"
   ]
  },
  {
   "cell_type": "code",
   "execution_count": 46,
   "id": "06132b53-319f-4842-b39d-bdf7de085ddf",
   "metadata": {},
   "outputs": [
    {
     "data": {
      "text/plain": [
       "array([[0., 1.],\n",
       "       [0., 1.],\n",
       "       [0., 1.],\n",
       "       ...,\n",
       "       [0., 1.],\n",
       "       [0., 1.],\n",
       "       [0., 1.]])"
      ]
     },
     "execution_count": 46,
     "metadata": {},
     "output_type": "execute_result"
    }
   ],
   "source": [
    "Ytest"
   ]
  },
  {
   "cell_type": "code",
   "execution_count": 48,
   "id": "cfc661f8-f181-4af0-b6c5-24cb3ff3fdde",
   "metadata": {
    "tags": []
   },
   "outputs": [
    {
     "ename": "ValueError",
     "evalue": "multilabel-indicator format is not supported",
     "output_type": "error",
     "traceback": [
      "\u001b[0;31m---------------------------------------------------------------------------\u001b[0m",
      "\u001b[0;31mValueError\u001b[0m                                Traceback (most recent call last)",
      "\u001b[0;32m/tmp/ipykernel_9410/532998587.py\u001b[0m in \u001b[0;36m<module>\u001b[0;34m\u001b[0m\n\u001b[1;32m      1\u001b[0m \u001b[0;32mfrom\u001b[0m \u001b[0msklearn\u001b[0m\u001b[0;34m.\u001b[0m\u001b[0mmetrics\u001b[0m \u001b[0;32mimport\u001b[0m \u001b[0mroc_auc_score\u001b[0m\u001b[0;34m,\u001b[0m \u001b[0mroc_curve\u001b[0m\u001b[0;34m,\u001b[0m \u001b[0mauc\u001b[0m\u001b[0;34m\u001b[0m\u001b[0;34m\u001b[0m\u001b[0m\n\u001b[0;32m----> 2\u001b[0;31m \u001b[0mpfn_fp_F90\u001b[0m\u001b[0;34m,\u001b[0m \u001b[0mpfn_tp_F90\u001b[0m\u001b[0;34m,\u001b[0m \u001b[0mthreshs_F90\u001b[0m \u001b[0;34m=\u001b[0m \u001b[0mroc_curve\u001b[0m\u001b[0;34m(\u001b[0m\u001b[0mYtest\u001b[0m\u001b[0;34m,\u001b[0m \u001b[0mpreds2\u001b[0m\u001b[0;34m)\u001b[0m\u001b[0;34m\u001b[0m\u001b[0;34m\u001b[0m\u001b[0m\n\u001b[0m",
      "\u001b[0;32m/usr/local/lib/python3.8/dist-packages/sklearn/utils/validation.py\u001b[0m in \u001b[0;36minner_f\u001b[0;34m(*args, **kwargs)\u001b[0m\n\u001b[1;32m     61\u001b[0m             \u001b[0mextra_args\u001b[0m \u001b[0;34m=\u001b[0m \u001b[0mlen\u001b[0m\u001b[0;34m(\u001b[0m\u001b[0margs\u001b[0m\u001b[0;34m)\u001b[0m \u001b[0;34m-\u001b[0m \u001b[0mlen\u001b[0m\u001b[0;34m(\u001b[0m\u001b[0mall_args\u001b[0m\u001b[0;34m)\u001b[0m\u001b[0;34m\u001b[0m\u001b[0;34m\u001b[0m\u001b[0m\n\u001b[1;32m     62\u001b[0m             \u001b[0;32mif\u001b[0m \u001b[0mextra_args\u001b[0m \u001b[0;34m<=\u001b[0m \u001b[0;36m0\u001b[0m\u001b[0;34m:\u001b[0m\u001b[0;34m\u001b[0m\u001b[0;34m\u001b[0m\u001b[0m\n\u001b[0;32m---> 63\u001b[0;31m                 \u001b[0;32mreturn\u001b[0m \u001b[0mf\u001b[0m\u001b[0;34m(\u001b[0m\u001b[0;34m*\u001b[0m\u001b[0margs\u001b[0m\u001b[0;34m,\u001b[0m \u001b[0;34m**\u001b[0m\u001b[0mkwargs\u001b[0m\u001b[0;34m)\u001b[0m\u001b[0;34m\u001b[0m\u001b[0;34m\u001b[0m\u001b[0m\n\u001b[0m\u001b[1;32m     64\u001b[0m \u001b[0;34m\u001b[0m\u001b[0m\n\u001b[1;32m     65\u001b[0m             \u001b[0;31m# extra_args > 0\u001b[0m\u001b[0;34m\u001b[0m\u001b[0;34m\u001b[0m\u001b[0;34m\u001b[0m\u001b[0m\n",
      "\u001b[0;32m/usr/local/lib/python3.8/dist-packages/sklearn/metrics/_ranking.py\u001b[0m in \u001b[0;36mroc_curve\u001b[0;34m(y_true, y_score, pos_label, sample_weight, drop_intermediate)\u001b[0m\n\u001b[1;32m    911\u001b[0m \u001b[0;34m\u001b[0m\u001b[0m\n\u001b[1;32m    912\u001b[0m     \"\"\"\n\u001b[0;32m--> 913\u001b[0;31m     fps, tps, thresholds = _binary_clf_curve(\n\u001b[0m\u001b[1;32m    914\u001b[0m         y_true, y_score, pos_label=pos_label, sample_weight=sample_weight)\n\u001b[1;32m    915\u001b[0m \u001b[0;34m\u001b[0m\u001b[0m\n",
      "\u001b[0;32m/usr/local/lib/python3.8/dist-packages/sklearn/metrics/_ranking.py\u001b[0m in \u001b[0;36m_binary_clf_curve\u001b[0;34m(y_true, y_score, pos_label, sample_weight)\u001b[0m\n\u001b[1;32m    689\u001b[0m     if not (y_type == \"binary\" or\n\u001b[1;32m    690\u001b[0m             (y_type == \"multiclass\" and pos_label is not None)):\n\u001b[0;32m--> 691\u001b[0;31m         \u001b[0;32mraise\u001b[0m \u001b[0mValueError\u001b[0m\u001b[0;34m(\u001b[0m\u001b[0;34m\"{0} format is not supported\"\u001b[0m\u001b[0;34m.\u001b[0m\u001b[0mformat\u001b[0m\u001b[0;34m(\u001b[0m\u001b[0my_type\u001b[0m\u001b[0;34m)\u001b[0m\u001b[0;34m)\u001b[0m\u001b[0;34m\u001b[0m\u001b[0;34m\u001b[0m\u001b[0m\n\u001b[0m\u001b[1;32m    692\u001b[0m \u001b[0;34m\u001b[0m\u001b[0m\n\u001b[1;32m    693\u001b[0m     \u001b[0mcheck_consistent_length\u001b[0m\u001b[0;34m(\u001b[0m\u001b[0my_true\u001b[0m\u001b[0;34m,\u001b[0m \u001b[0my_score\u001b[0m\u001b[0;34m,\u001b[0m \u001b[0msample_weight\u001b[0m\u001b[0;34m)\u001b[0m\u001b[0;34m\u001b[0m\u001b[0;34m\u001b[0m\u001b[0m\n",
      "\u001b[0;31mValueError\u001b[0m: multilabel-indicator format is not supported"
     ]
    }
   ],
   "source": [
    "from sklearn.metrics import roc_auc_score, roc_curve, auc\n",
    "pfn_fp_F90, pfn_tp_F90, threshs_F90 = roc_curve(Ytest, preds2)"
   ]
  },
  {
   "cell_type": "code",
   "execution_count": null,
   "id": "528e426b-24ff-41fc-8af1-e29931e4239d",
   "metadata": {},
   "outputs": [],
   "source": []
  },
  {
   "cell_type": "code",
   "execution_count": null,
   "id": "6240b524-8fb2-49e4-9de5-e72fa81d0592",
   "metadata": {},
   "outputs": [],
   "source": []
  },
  {
   "cell_type": "code",
   "execution_count": null,
   "id": "884b710b-0387-4a3f-b575-fe0ed2ab2711",
   "metadata": {},
   "outputs": [],
   "source": []
  },
  {
   "cell_type": "code",
   "execution_count": null,
   "id": "7149e65e-5a3b-4eba-8138-908aa3d99185",
   "metadata": {},
   "outputs": [],
   "source": []
  },
  {
   "cell_type": "code",
   "execution_count": 79,
   "id": "159009c5-fd21-497e-baf4-167c2e663a1d",
   "metadata": {
    "tags": []
   },
   "outputs": [],
   "source": [
    "import matplotlib.pyplot as plt"
   ]
  },
  {
   "cell_type": "code",
   "execution_count": 82,
   "id": "86ae6697-4bdd-4cea-815a-ab5c617cda10",
   "metadata": {},
   "outputs": [
    {
     "data": {
      "image/png": "[encoded data removed]",
      "text/plain": [
       "<Figure size 432x432 with 1 Axes>"
      ]
     },
     "metadata": {
      "needs_background": "light"
     },
     "output_type": "display_data"
    }
   ],
   "source": [
    "\n",
    "M = len(history.history['val_loss'])\n",
    "fig = plt.figure(figsize=(6,6))\n",
    "plt.plot(history.history['val_loss'], label=\"Validation\")\n",
    "plt.plot(history.history['loss'], label=\"Training\")\n",
    "plt.yscale('log')\n",
    "plt.ylim(.001,10)\n",
    "plt.yticks(fontsize=13)\n",
    "plt.xlim(0,M)\n",
    "plt.xticks(fontsize=13)\n",
    "plt.xlabel('Epochs', fontsize=14)\n",
    "plt.ylabel('Loss', fontsize=14)\n",
    "plt.legend(loc='upper right', ncol=1)\n",
    "# plt.tight_layout()\n",
    "#plt.savefig('./.png', format='png')\n",
    "plt.show()"
   ]
  },
  {
   "cell_type": "code",
   "execution_count": null,
   "id": "8565d22a-a57b-419c-b4b5-fdd4b85184e6",
   "metadata": {},
   "outputs": [],
   "source": []
  }
 ],
 "metadata": {
  "kernelspec": {
   "display_name": "Python 3 (ipykernel)",
   "language": "python",
   "name": "python3"
  },
  "language_info": {
   "codemirror_mode": {
    "name": "ipython",
    "version": 3
   },
   "file_extension": ".py",
   "mimetype": "text/x-python",
   "name": "python",
   "nbconvert_exporter": "python",
   "pygments_lexer": "ipython3",
   "version": "3.8.10"
  }
 },
 "nbformat": 4,
 "nbformat_minor": 5
}
