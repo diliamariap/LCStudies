{
 "cells": [
  {
   "cell_type": "code",
   "execution_count": null,
   "id": "aa6a5e52-00de-4701-8964-b21700324b79",
   "metadata": {},
   "outputs": [],
   "source": []
  },
  {
   "cell_type": "markdown",
   "id": "1f4a09ee-da57-40ed-9ccc-507dc0380716",
   "metadata": {},
   "source": [
    "# PFN with global features"
   ]
  },
  {
   "cell_type": "markdown",
   "id": "bfeb656c-eb86-459c-bdfd-1515b9e63357",
   "metadata": {},
   "source": [
    "## Read Input X with cell level features"
   ]
  },
  {
   "cell_type": "code",
   "execution_count": 1,
   "id": "a66ec205-825c-4afb-9e90-fa9b532e9a0d",
   "metadata": {},
   "outputs": [],
   "source": [
    "import uproot as ur\n",
    "import awkward as ak\n",
    "import numpy as np"
   ]
  },
  {
   "cell_type": "code",
   "execution_count": 2,
   "id": "f7a12f0a-6b32-49b7-a394-04db0852aa82",
   "metadata": {},
   "outputs": [],
   "source": [
    "\n",
    "import os\n",
    "os.environ['CUDA_VISIBLE_DEVICES'] = \"7\"\n",
    "os.environ['TF_FORCE_GPU_ALLOW_GROWTH'] = 'true'"
   ]
  },
  {
   "cell_type": "code",
   "execution_count": 3,
   "id": "75295290-aa8f-45e9-b807-ee99217a6ec4",
   "metadata": {},
   "outputs": [],
   "source": [
    "import tensorflow as tf\n",
    "\n",
    "# energyflow imports\n",
    "import energyflow as ef\n",
    "from energyflow.archs import PFN\n",
    "\n",
    "from sklearn.metrics import roc_auc_score, roc_curve, auc\n",
    "import matplotlib.pyplot as plt\n",
    "\n",
    "from energyflow.utils import data_split"
   ]
  },
  {
   "cell_type": "code",
   "execution_count": 4,
   "id": "1b12d0da-2cb8-41e1-bd0c-90d3419039f4",
   "metadata": {},
   "outputs": [],
   "source": [
    "# my worspace and directories\n",
    "path_prefix = '/home/dportill/LCStudies/'\n",
    "plotpath = path_prefix+'classifier/Plots_EFN/'\n",
    "modelpath = path_prefix+'classifier/Models_EFN/'\n",
    "\n",
    "\n",
    "data_path = '/fast_scratch/atlas_images/v01-45/'"
   ]
  },
  {
   "cell_type": "code",
   "execution_count": 5,
   "id": "4be5c105-369f-4a53-937c-01ab0c654b8e",
   "metadata": {},
   "outputs": [],
   "source": [
    "# import graph utilities\n",
    "import sys\n",
    "sys.path.append(path_prefix)\n",
    "from  util import graph_util as gu\n",
    "from  util import plot_util as pu"
   ]
  },
  {
   "cell_type": "code",
   "execution_count": 6,
   "id": "d3f9cbfd-e650-43c0-a3b4-94aa99969809",
   "metadata": {},
   "outputs": [],
   "source": [
    "#X = np.load(data_path+'X_4.npy')\n",
    "X = np.load(path_prefix+'X_added.npy')"
   ]
  },
  {
   "cell_type": "code",
   "execution_count": 7,
   "id": "d75b75a7-0652-470c-b7dd-727848d2ccf0",
   "metadata": {},
   "outputs": [],
   "source": [
    "Y = tf.keras.utils.to_categorical(np.concatenate((np.ones(90000), np.zeros(90000))))"
   ]
  },
  {
   "cell_type": "code",
   "execution_count": null,
   "id": "d97af078-20d4-433a-b26e-1a5378005e76",
   "metadata": {},
   "outputs": [],
   "source": []
  },
  {
   "cell_type": "markdown",
   "id": "baeaaa05-3221-4910-883d-6f0c71e4bbca",
   "metadata": {},
   "source": [
    "## Add global Energy and EMProb"
   ]
  },
  {
   "cell_type": "code",
   "execution_count": null,
   "id": "1810c979-9326-4d1b-9d4c-623448d10f33",
   "metadata": {},
   "outputs": [],
   "source": []
  },
  {
   "cell_type": "code",
   "execution_count": 9,
   "id": "f3e6f739-138d-450f-b42b-7845e10f8da2",
   "metadata": {},
   "outputs": [],
   "source": [
    "path_pipm = data_path + 'pipm_medium.root'\n",
    "path_pi0  = data_path + 'pi0_medium.root'"
   ]
  },
  {
   "cell_type": "code",
   "execution_count": 10,
   "id": "944976fd-8063-4a0f-99a1-151aad02624c",
   "metadata": {},
   "outputs": [],
   "source": [
    "tree_pipm = ur.open(path_pipm)['EventTree']\n",
    "tree_pi0  = ur.open(path_pi0)['EventTree']"
   ]
  },
  {
   "cell_type": "code",
   "execution_count": 12,
   "id": "9b812662-4498-42a1-a631-05a6cba1aac9",
   "metadata": {},
   "outputs": [
    {
     "data": {
      "text/plain": [
       "['cluster_E',\n",
       " 'cluster_E_LCCalib',\n",
       " 'cluster_Pt',\n",
       " 'cluster_Eta',\n",
       " 'cluster_Phi',\n",
       " 'cluster_nCells',\n",
       " 'cluster_ENG_CALIB_TOT',\n",
       " 'cluster_ENG_CALIB_OUT_T',\n",
       " 'cluster_ENG_CALIB_DEAD_TOT',\n",
       " 'cluster_EM_PROBABILITY',\n",
       " 'cluster_HAD_WEIGHT',\n",
       " 'cluster_OOC_WEIGHT',\n",
       " 'cluster_DM_WEIGHT',\n",
       " 'cluster_CENTER_MAG',\n",
       " 'cluster_FIRST_ENG_DENS',\n",
       " 'cluster_CENTER_LAMBDA',\n",
       " 'cluster_ISOLATION',\n",
       " 'cluster_ENERGY_DigiHSTruth',\n",
       " 'cluster_cell_ID',\n",
       " 'cluster_cell_E',\n",
       " 'cluster_hitsTruthIndex',\n",
       " 'cluster_hitsTruthE']"
      ]
     },
     "execution_count": 12,
     "metadata": {},
     "output_type": "execute_result"
    }
   ],
   "source": [
    "## Cluster branches\n",
    "tree_pi0.keys(\"cluster_*\")"
   ]
  },
  {
   "cell_type": "markdown",
   "id": "35a0fbc9-512c-4921-8bbb-b8d6e7349cf9",
   "metadata": {},
   "source": [
    "### Cluster level quantities "
   ]
  },
  {
   "cell_type": "markdown",
   "id": "f7d84569-4b93-49a8-9393-3b303b49f1d4",
   "metadata": {},
   "source": [
    "* loadVectorBranchFlat(branchName, tree): \n",
    "\n",
    " converts to numpy a flatten array for the desired branch (no event index). "
   ]
  },
  {
   "cell_type": "code",
   "execution_count": 13,
   "id": "5f7957b3-728a-4250-80c9-eb7321cc8cf2",
   "metadata": {},
   "outputs": [],
   "source": [
    "clus_eta_pipm = gu.loadVectorBranchFlat('cluster_Eta', tree_pipm)\n",
    "clus_E_pipm = gu.loadVectorBranchFlat('cluster_E', tree_pipm)\n",
    "clus_phi_pipm = gu.loadVectorBranchFlat('cluster_Phi', tree_pipm)\n",
    "clus_EM_PROB_pipm = gu.loadVectorBranchFlat('cluster_EM_PROBABILITY', tree_pipm)"
   ]
  },
  {
   "cell_type": "code",
   "execution_count": 15,
   "id": "9260f202-5cd3-4968-81c5-52ee09776b20",
   "metadata": {},
   "outputs": [],
   "source": [
    "clus_eta_pi0 = gu.loadVectorBranchFlat('cluster_Eta', tree_pi0)\n",
    "clus_E_pi0 = gu.loadVectorBranchFlat('cluster_E', tree_pi0)\n",
    "clus_phi_pi0  = gu.loadVectorBranchFlat('cluster_Phi', tree_pi0)\n",
    "clus_EM_PROB_pi0  = gu.loadVectorBranchFlat('cluster_EM_PROBABILITY', tree_pi0)"
   ]
  },
  {
   "cell_type": "code",
   "execution_count": 30,
   "id": "d44a7209-dbb4-41ab-a1f0-067b48746675",
   "metadata": {},
   "outputs": [
    {
     "name": "stdout",
     "output_type": "stream",
     "text": [
      "total number of pi0 clusters: 421481\n",
      "total number of pipm clusters: 672281\n",
      "total number of clusters: 1093762\n"
     ]
    }
   ],
   "source": [
    "print( \"total number of pi0 clusters:\", len(clus_EM_PROB_pi0))\n",
    "print( \"total number of pipm clusters:\", len(clus_EM_PROB_pipm))\n",
    "print( \"total number of clusters:\", len(clus_EM_PROB_pi0)+len(clus_EM_PROB_pipm))"
   ]
  },
  {
   "cell_type": "markdown",
   "id": "643985b5-cb1f-4600-bfc5-c0a1f657448d",
   "metadata": {},
   "source": [
    "* Filter Events  $|\\eta|<0.7$  and E>0.5 GeV"
   ]
  },
  {
   "cell_type": "code",
   "execution_count": 17,
   "id": "cc30f3c5-079b-449e-9ef9-4a39fb863251",
   "metadata": {},
   "outputs": [],
   "source": [
    "#Central Clusters\n",
    "eta_mask_pipm = abs(clus_eta_pipm) < 0.7\n",
    "eta_mask_pi0  = abs(clus_eta_pi0) < 0.7\n",
    "\n",
    "#High energy clusters\n",
    "energy_mask_pipm = clus_E_pipm > 0.5\n",
    "energy_mask_pi0 = clus_E_pi0 > 0.5"
   ]
  },
  {
   "cell_type": "code",
   "execution_count": 18,
   "id": "1886cf56-faf4-463b-91f4-da3a71861ed0",
   "metadata": {},
   "outputs": [],
   "source": [
    "selection_pipm = eta_mask_pipm & energy_mask_pipm\n",
    "selection_pi0 = eta_mask_pi0 & energy_mask_pi0"
   ]
  },
  {
   "cell_type": "code",
   "execution_count": 32,
   "id": "f5daaf42-6c3d-4912-9101-6cd055839c2d",
   "metadata": {},
   "outputs": [],
   "source": [
    "X_glob_E_pipm = clus_E_pipm[selection_pipm]\n",
    "X_glob_E_pi0 = clus_E_pi0[selection_pi0]\n",
    "\n",
    "X_glob_EM_PROB_pipm = clus_EM_PROB_pipm[selection_pipm]\n",
    "X_glob_EM_PROB_pi0 = clus_EM_PROB_pi0[selection_pi0]"
   ]
  },
  {
   "cell_type": "code",
   "execution_count": 33,
   "id": "6f0d1e86-83d7-4c72-8e95-14f44ec9b66e",
   "metadata": {},
   "outputs": [
    {
     "name": "stdout",
     "output_type": "stream",
     "text": [
      "SELECTED total number of pi0 clusters: 92413\n",
      "SELECTED total number of pipm clusters: 122850\n",
      "SELECTED total number of clusters: 215263\n"
     ]
    }
   ],
   "source": [
    "print( \"SELECTED total number of pi0 clusters:\", len(X_glob_EM_PROB_pi0))\n",
    "print( \"SELECTED total number of pipm clusters:\", len(X_glob_EM_PROB_pipm))\n",
    "print( \"SELECTED total number of clusters:\", len(X_glob_EM_PROB_pi0)+len(X_glob_EM_PROB_pipm))"
   ]
  },
  {
   "cell_type": "code",
   "execution_count": null,
   "id": "e9c0c515-04f4-4547-97a2-0bf86b9018c6",
   "metadata": {},
   "outputs": [],
   "source": []
  },
  {
   "cell_type": "markdown",
   "id": "7590689b-ca14-4cb7-96b1-1a1ccc26903c",
   "metadata": {},
   "source": [
    "* Create global feature "
   ]
  },
  {
   "cell_type": "code",
   "execution_count": 34,
   "id": "0dc340ff-6988-4186-9e72-263358eea5ff",
   "metadata": {},
   "outputs": [],
   "source": [
    "X_glob_EM_PROB = np.concatenate( (X_glob_EM_PROB_pipm[:90000], X_glob_EM_PROB_pi0[:90000]) )\n",
    "X_glob_E       = np.concatenate( (X_glob_E_pipm[:90000], X_glob_E_pi0[:90000]) )"
   ]
  },
  {
   "cell_type": "code",
   "execution_count": null,
   "id": "fe656024-6346-4aed-991f-ae070c301494",
   "metadata": {},
   "outputs": [],
   "source": []
  },
  {
   "cell_type": "markdown",
   "id": "5f838d2f-753c-425e-a4a4-dfca059bf2d5",
   "metadata": {},
   "source": [
    "* The len should be the same"
   ]
  },
  {
   "cell_type": "code",
   "execution_count": 36,
   "id": "9d85b41b-bde4-4f71-9337-d87e2c26abac",
   "metadata": {},
   "outputs": [
    {
     "name": "stdout",
     "output_type": "stream",
     "text": [
      "clusters in X_glob_EM_PROB 180000\n",
      "clusters in X_glob_E 180000\n",
      "clusters in X 180000\n"
     ]
    }
   ],
   "source": [
    "print(\"clusters in X_glob_EM_PROB\", len(X_glob_EM_PROB))\n",
    "print(\"clusters in X_glob_E\", len(X_glob_E))\n",
    "print(\"clusters in X\", len(X))"
   ]
  },
  {
   "cell_type": "code",
   "execution_count": null,
   "id": "663f3e23-150c-489d-8601-7b4ba612c5f3",
   "metadata": {},
   "outputs": [],
   "source": []
  },
  {
   "cell_type": "markdown",
   "id": "17961b84-53d1-4e60-95ef-b29f4a62927e",
   "metadata": {},
   "source": [
    "## Train with global EMProb"
   ]
  },
  {
   "cell_type": "markdown",
   "id": "e1b8ef4e-2340-4a67-a513-69e1efa858db",
   "metadata": {
    "tags": []
   },
   "source": [
    "## PFN with dimension 4 inputs: (log(E),eta,phi,samplerID)"
   ]
  },
  {
   "cell_type": "code",
   "execution_count": 44,
   "id": "89517ac4-f0b0-43a2-ab4a-0f9b243a703e",
   "metadata": {},
   "outputs": [],
   "source": [
    "# ignore cellSignificance, cellVolume information \n",
    "X_4D=X[:,:,:4]"
   ]
  },
  {
   "cell_type": "code",
   "execution_count": 45,
   "id": "45af2c66-f24e-4b54-b94e-194b6f5bdece",
   "metadata": {},
   "outputs": [
    {
     "data": {
      "text/plain": [
       "4"
      ]
     },
     "execution_count": 45,
     "metadata": {},
     "output_type": "execute_result"
    }
   ],
   "source": [
    "X_4D.shape[-1]"
   ]
  },
  {
   "cell_type": "markdown",
   "id": "750b805e-b5e6-47a4-8ee6-064fc5b2488a",
   "metadata": {},
   "source": [
    "* Split data in train, val, test"
   ]
  },
  {
   "cell_type": "code",
   "execution_count": 37,
   "id": "870a58db-72d1-4cef-95aa-beb4ca14092f",
   "metadata": {},
   "outputs": [],
   "source": [
    "from energyflow.utils import data_split"
   ]
  },
  {
   "cell_type": "code",
   "execution_count": 38,
   "id": "304dfbd8-630d-49b1-b006-eb20b2d0f82b",
   "metadata": {},
   "outputs": [],
   "source": [
    "#### With no global feature:\n",
    "\n",
    "# do train/val/test split \n",
    "#(X_train, X_val, X_test,\n",
    "# Y_train, Y_val, Y_test) = data_split(X, Y, val=10000, test=40000)"
   ]
  },
  {
   "cell_type": "code",
   "execution_count": 47,
   "id": "a7ef0eb8-be23-4441-9fae-a869e028195e",
   "metadata": {},
   "outputs": [],
   "source": [
    "(X_train, X_val, X_test, \n",
    " Y_train, Y_val, Y_test, \n",
    " X_glob_train, X_glob_val, X_glob_test) = data_split(X_4D, Y, X_glob_EM_PROB, val=10000, test=40000)"
   ]
  },
  {
   "cell_type": "code",
   "execution_count": 48,
   "id": "fabee433-b6d9-4774-bc89-e4840e4c7113",
   "metadata": {},
   "outputs": [
    {
     "name": "stdout",
     "output_type": "stream",
     "text": [
      "Train sample:  130000\n",
      "Validation sample:  10000\n",
      "Test sample:  40000\n",
      "GLOBAL Train sample:  130000\n",
      "GLOBAL Validation sample:  10000\n",
      "GLOBAL Test sample:  40000\n"
     ]
    }
   ],
   "source": [
    "print(\"Train sample: \", len(X_train))\n",
    "print(\"Validation sample: \", len(X_val))\n",
    "print(\"Test sample: \", len(X_test))\n",
    "\n",
    "print(\"GLOBAL Train sample: \", len(X_glob_train))\n",
    "print(\"GLOBAL Validation sample: \", len(X_glob_val))\n",
    "print(\"GLOBAL Test sample: \", len(X_glob_test))"
   ]
  },
  {
   "cell_type": "markdown",
   "id": "c036b4e1-913d-454a-a296-7bb7f35b896f",
   "metadata": {},
   "source": [
    "* NETWORK CONFIGURATION"
   ]
  },
  {
   "cell_type": "code",
   "execution_count": null,
   "id": "f06b58bc-f345-4858-a628-843822cb7bad",
   "metadata": {},
   "outputs": [],
   "source": []
  },
  {
   "cell_type": "code",
   "execution_count": 41,
   "id": "5108ca99-d2da-419b-9571-6d4af5b746cc",
   "metadata": {},
   "outputs": [],
   "source": [
    "Phi_sizes, F_sizes = (100, 100, 128), (100, 100, 100)"
   ]
  },
  {
   "cell_type": "code",
   "execution_count": 49,
   "id": "df725a6b-e06b-49fe-817d-cd828b8148a0",
   "metadata": {},
   "outputs": [],
   "source": [
    "#concatenate the Xs (needed for global features):\n",
    "X_tr = [X_train, X_glob_train] \n",
    "X_vali = [X_val, X_glob_val]\n",
    "X_te = [X_test, X_glob_test]"
   ]
  },
  {
   "cell_type": "code",
   "execution_count": 58,
   "id": "8d3788f8-491b-4721-91c1-6246374c018f",
   "metadata": {
    "collapsed": true,
    "jupyter": {
     "outputs_hidden": true
    },
    "tags": []
   },
   "outputs": [
    {
     "name": "stdout",
     "output_type": "stream",
     "text": [
      "Model: \"model\"\n",
      "__________________________________________________________________________________________________\n",
      "Layer (type)                    Output Shape         Param #     Connected to                     \n",
      "==================================================================================================\n",
      "input (InputLayer)              [(None, None, 4)]    0                                            \n",
      "__________________________________________________________________________________________________\n",
      "tdist_0 (TimeDistributed)       (None, None, 100)    500         input[0][0]                      \n",
      "__________________________________________________________________________________________________\n",
      "activation (Activation)         (None, None, 100)    0           tdist_0[0][0]                    \n",
      "__________________________________________________________________________________________________\n",
      "tdist_1 (TimeDistributed)       (None, None, 100)    10100       activation[0][0]                 \n",
      "__________________________________________________________________________________________________\n",
      "activation_1 (Activation)       (None, None, 100)    0           tdist_1[0][0]                    \n",
      "__________________________________________________________________________________________________\n",
      "tdist_2 (TimeDistributed)       (None, None, 128)    12928       activation_1[0][0]               \n",
      "__________________________________________________________________________________________________\n",
      "mask (Lambda)                   (None, None)         0           input[0][0]                      \n",
      "__________________________________________________________________________________________________\n",
      "activation_2 (Activation)       (None, None, 128)    0           tdist_2[0][0]                    \n",
      "__________________________________________________________________________________________________\n",
      "sum (Dot)                       (None, 128)          0           mask[0][0]                       \n",
      "                                                                 activation_2[0][0]               \n",
      "__________________________________________________________________________________________________\n",
      "num_global_features (InputLayer [(None, 1)]          0                                            \n",
      "__________________________________________________________________________________________________\n",
      "concat (Concatenate)            (None, 129)          0           sum[0][0]                        \n",
      "                                                                 num_global_features[0][0]        \n",
      "__________________________________________________________________________________________________\n",
      "dense_0 (Dense)                 (None, 100)          13000       concat[0][0]                     \n",
      "__________________________________________________________________________________________________\n",
      "activation_3 (Activation)       (None, 100)          0           dense_0[0][0]                    \n",
      "__________________________________________________________________________________________________\n",
      "dense_1 (Dense)                 (None, 100)          10100       activation_3[0][0]               \n",
      "__________________________________________________________________________________________________\n",
      "activation_4 (Activation)       (None, 100)          0           dense_1[0][0]                    \n",
      "__________________________________________________________________________________________________\n",
      "dense_2 (Dense)                 (None, 100)          10100       activation_4[0][0]               \n",
      "__________________________________________________________________________________________________\n",
      "activation_5 (Activation)       (None, 100)          0           dense_2[0][0]                    \n",
      "__________________________________________________________________________________________________\n",
      "output (Dense)                  (None, 2)            202         activation_5[0][0]               \n",
      "__________________________________________________________________________________________________\n",
      "activation_6 (Activation)       (None, 2)            0           output[0][0]                     \n",
      "==================================================================================================\n",
      "Total params: 56,930\n",
      "Trainable params: 56,930\n",
      "Non-trainable params: 0\n",
      "__________________________________________________________________________________________________\n"
     ]
    }
   ],
   "source": [
    "#make the model:\n",
    "pfn_EMProb = PFN(input_dim=X_train.shape[-1], Phi_sizes=Phi_sizes, F_sizes=F_sizes, num_global_features =1)"
   ]
  },
  {
   "cell_type": "code",
   "execution_count": 60,
   "id": "998b27d7-e9b5-4045-9267-e64169ac7199",
   "metadata": {
    "collapsed": true,
    "jupyter": {
     "outputs_hidden": true
    },
    "tags": []
   },
   "outputs": [
    {
     "name": "stdout",
     "output_type": "stream",
     "text": [
      "Epoch 1/100\n",
      "260/260 [==============================] - 16s 60ms/step - loss: 0.9041 - acc: 0.7571 - val_loss: 0.6310 - val_acc: 0.6864\n",
      "Epoch 2/100\n",
      "260/260 [==============================] - 16s 61ms/step - loss: 0.5909 - acc: 0.7740 - val_loss: 0.4139 - val_acc: 0.8227\n",
      "Epoch 3/100\n",
      "260/260 [==============================] - 15s 57ms/step - loss: 0.5101 - acc: 0.7844 - val_loss: 0.4022 - val_acc: 0.8147\n",
      "Epoch 4/100\n",
      "260/260 [==============================] - 15s 56ms/step - loss: 0.4137 - acc: 0.8119 - val_loss: 0.3836 - val_acc: 0.8628\n",
      "Epoch 5/100\n",
      "260/260 [==============================] - 15s 58ms/step - loss: 0.3866 - acc: 0.8232 - val_loss: 0.3862 - val_acc: 0.8057\n",
      "Epoch 6/100\n",
      "260/260 [==============================] - 14s 56ms/step - loss: 0.3747 - acc: 0.8374 - val_loss: 0.3443 - val_acc: 0.8666\n",
      "Epoch 7/100\n",
      "260/260 [==============================] - 14s 55ms/step - loss: 0.4827 - acc: 0.8385 - val_loss: 2.8050 - val_acc: 0.7225\n",
      "Epoch 8/100\n",
      "260/260 [==============================] - 15s 56ms/step - loss: 0.6006 - acc: 0.8204 - val_loss: 0.3465 - val_acc: 0.8569\n",
      "Epoch 9/100\n",
      "260/260 [==============================] - 15s 58ms/step - loss: 0.3435 - acc: 0.8684 - val_loss: 0.3217 - val_acc: 0.8822\n",
      "Epoch 10/100\n",
      "260/260 [==============================] - 15s 59ms/step - loss: 0.3059 - acc: 0.8847 - val_loss: 0.2728 - val_acc: 0.8967\n",
      "Epoch 11/100\n",
      "260/260 [==============================] - 15s 57ms/step - loss: 0.2936 - acc: 0.8873 - val_loss: 0.2703 - val_acc: 0.8982\n",
      "Epoch 12/100\n",
      "260/260 [==============================] - 15s 57ms/step - loss: 0.2770 - acc: 0.8929 - val_loss: 0.2648 - val_acc: 0.9004\n",
      "Epoch 13/100\n",
      "260/260 [==============================] - 15s 57ms/step - loss: 0.2621 - acc: 0.8985 - val_loss: 0.2607 - val_acc: 0.8967\n",
      "Epoch 14/100\n",
      "260/260 [==============================] - 15s 56ms/step - loss: 0.2599 - acc: 0.8996 - val_loss: 0.2508 - val_acc: 0.9017\n",
      "Epoch 15/100\n",
      "260/260 [==============================] - 15s 56ms/step - loss: 0.2566 - acc: 0.9003 - val_loss: 0.2501 - val_acc: 0.9070\n",
      "Epoch 16/100\n",
      "260/260 [==============================] - 14s 55ms/step - loss: 0.2512 - acc: 0.9034 - val_loss: 0.2603 - val_acc: 0.9010\n",
      "Epoch 17/100\n",
      "260/260 [==============================] - 14s 54ms/step - loss: 0.2463 - acc: 0.9043 - val_loss: 0.2624 - val_acc: 0.8983\n",
      "Epoch 18/100\n",
      "260/260 [==============================] - 14s 53ms/step - loss: 0.2407 - acc: 0.9070 - val_loss: 0.2744 - val_acc: 0.8941\n",
      "Epoch 19/100\n",
      "260/260 [==============================] - 14s 54ms/step - loss: 0.2648 - acc: 0.8996 - val_loss: 0.2635 - val_acc: 0.8987\n",
      "Epoch 20/100\n",
      "260/260 [==============================] - 14s 54ms/step - loss: 0.2387 - acc: 0.9087 - val_loss: 0.2360 - val_acc: 0.9102\n",
      "Epoch 21/100\n",
      "260/260 [==============================] - 14s 55ms/step - loss: 0.2388 - acc: 0.9087 - val_loss: 0.2427 - val_acc: 0.9063\n",
      "Epoch 22/100\n",
      "260/260 [==============================] - 14s 55ms/step - loss: 0.2320 - acc: 0.9109 - val_loss: 0.2420 - val_acc: 0.9050\n",
      "Epoch 23/100\n",
      "260/260 [==============================] - 14s 55ms/step - loss: 0.2330 - acc: 0.9108 - val_loss: 0.2413 - val_acc: 0.9074\n",
      "Epoch 24/100\n",
      "260/260 [==============================] - 14s 54ms/step - loss: 0.2275 - acc: 0.9129 - val_loss: 0.2252 - val_acc: 0.9125\n",
      "Epoch 25/100\n",
      "260/260 [==============================] - 14s 54ms/step - loss: 0.2252 - acc: 0.9142 - val_loss: 0.2248 - val_acc: 0.9155\n",
      "Epoch 26/100\n",
      "260/260 [==============================] - 14s 55ms/step - loss: 0.2227 - acc: 0.9151 - val_loss: 0.2170 - val_acc: 0.9174\n",
      "Epoch 27/100\n",
      "260/260 [==============================] - 14s 55ms/step - loss: 0.2223 - acc: 0.9152 - val_loss: 0.2213 - val_acc: 0.9161\n",
      "Epoch 28/100\n",
      "260/260 [==============================] - 14s 55ms/step - loss: 0.2217 - acc: 0.9156 - val_loss: 0.2288 - val_acc: 0.9129\n",
      "Epoch 29/100\n",
      "260/260 [==============================] - 14s 55ms/step - loss: 0.2234 - acc: 0.9151 - val_loss: 0.2325 - val_acc: 0.9121\n",
      "Epoch 30/100\n",
      "260/260 [==============================] - 14s 53ms/step - loss: 0.2191 - acc: 0.9165 - val_loss: 0.2395 - val_acc: 0.9087\n",
      "Epoch 31/100\n",
      "260/260 [==============================] - 14s 54ms/step - loss: 0.2150 - acc: 0.9178 - val_loss: 0.2156 - val_acc: 0.9188\n",
      "Epoch 32/100\n",
      "260/260 [==============================] - 14s 54ms/step - loss: 0.2114 - acc: 0.9197 - val_loss: 0.2073 - val_acc: 0.9205\n",
      "Epoch 33/100\n",
      "260/260 [==============================] - 14s 53ms/step - loss: 0.2134 - acc: 0.9189 - val_loss: 0.2199 - val_acc: 0.9157\n",
      "Epoch 34/100\n",
      "260/260 [==============================] - 14s 55ms/step - loss: 0.2128 - acc: 0.9193 - val_loss: 0.2091 - val_acc: 0.9201\n",
      "Epoch 35/100\n",
      "260/260 [==============================] - 14s 55ms/step - loss: 0.2104 - acc: 0.9203 - val_loss: 0.2066 - val_acc: 0.9207\n",
      "Epoch 36/100\n",
      "260/260 [==============================] - 14s 55ms/step - loss: 0.2118 - acc: 0.9200 - val_loss: 0.2121 - val_acc: 0.9213\n",
      "Epoch 37/100\n",
      "260/260 [==============================] - 14s 55ms/step - loss: 0.2109 - acc: 0.9205 - val_loss: 0.2056 - val_acc: 0.9233\n",
      "Epoch 38/100\n",
      "260/260 [==============================] - 14s 55ms/step - loss: 0.2083 - acc: 0.9212 - val_loss: 0.2079 - val_acc: 0.9217\n",
      "Epoch 39/100\n",
      "260/260 [==============================] - 14s 53ms/step - loss: 0.2060 - acc: 0.9223 - val_loss: 0.2004 - val_acc: 0.9259\n",
      "Epoch 40/100\n",
      "260/260 [==============================] - 14s 55ms/step - loss: 0.2042 - acc: 0.9234 - val_loss: 0.2074 - val_acc: 0.9217\n",
      "Epoch 41/100\n",
      "260/260 [==============================] - 14s 55ms/step - loss: 0.2081 - acc: 0.9215 - val_loss: 0.2077 - val_acc: 0.9248\n",
      "Epoch 42/100\n",
      "260/260 [==============================] - 14s 53ms/step - loss: 0.2041 - acc: 0.9237 - val_loss: 0.2058 - val_acc: 0.9224\n",
      "Epoch 43/100\n",
      "260/260 [==============================] - 14s 55ms/step - loss: 0.2019 - acc: 0.9244 - val_loss: 0.2092 - val_acc: 0.9215\n",
      "Epoch 44/100\n",
      "260/260 [==============================] - 14s 54ms/step - loss: 0.2015 - acc: 0.9245 - val_loss: 0.2057 - val_acc: 0.9252\n",
      "Epoch 45/100\n",
      "260/260 [==============================] - 14s 54ms/step - loss: 0.2019 - acc: 0.9248 - val_loss: 0.1994 - val_acc: 0.9262\n",
      "Epoch 46/100\n",
      "260/260 [==============================] - 14s 53ms/step - loss: 0.2004 - acc: 0.9253 - val_loss: 0.1996 - val_acc: 0.9247\n",
      "Epoch 47/100\n",
      "260/260 [==============================] - 14s 55ms/step - loss: 0.2009 - acc: 0.9251 - val_loss: 0.1973 - val_acc: 0.9281\n",
      "Epoch 48/100\n",
      "260/260 [==============================] - 14s 53ms/step - loss: 0.1986 - acc: 0.9261 - val_loss: 0.2082 - val_acc: 0.9225\n",
      "Epoch 49/100\n",
      "260/260 [==============================] - 14s 53ms/step - loss: 0.1983 - acc: 0.9265 - val_loss: 0.2013 - val_acc: 0.9267\n",
      "Epoch 50/100\n",
      "260/260 [==============================] - 14s 53ms/step - loss: 0.1983 - acc: 0.9256 - val_loss: 0.1928 - val_acc: 0.9269\n",
      "Epoch 51/100\n",
      "260/260 [==============================] - 14s 53ms/step - loss: 0.1967 - acc: 0.9261 - val_loss: 0.1964 - val_acc: 0.9281\n",
      "Epoch 52/100\n",
      "260/260 [==============================] - 14s 54ms/step - loss: 0.1954 - acc: 0.9273 - val_loss: 0.2088 - val_acc: 0.9203\n",
      "Epoch 53/100\n",
      "260/260 [==============================] - 14s 54ms/step - loss: 0.1948 - acc: 0.9271 - val_loss: 0.2013 - val_acc: 0.9238\n",
      "Epoch 54/100\n",
      "260/260 [==============================] - 14s 54ms/step - loss: 0.1945 - acc: 0.9273 - val_loss: 0.1929 - val_acc: 0.9305\n",
      "Epoch 55/100\n",
      "260/260 [==============================] - 14s 56ms/step - loss: 0.1962 - acc: 0.9265 - val_loss: 0.1968 - val_acc: 0.9284\n",
      "Epoch 56/100\n",
      "260/260 [==============================] - 14s 55ms/step - loss: 0.1952 - acc: 0.9266 - val_loss: 0.1970 - val_acc: 0.9251\n",
      "Epoch 57/100\n",
      "260/260 [==============================] - 15s 56ms/step - loss: 0.1932 - acc: 0.9278 - val_loss: 0.1991 - val_acc: 0.9247\n",
      "Epoch 58/100\n",
      "260/260 [==============================] - 15s 58ms/step - loss: 0.1925 - acc: 0.9278 - val_loss: 0.1887 - val_acc: 0.9314\n",
      "Epoch 59/100\n",
      "260/260 [==============================] - 15s 56ms/step - loss: 0.1923 - acc: 0.9281 - val_loss: 0.1917 - val_acc: 0.9321\n",
      "Epoch 60/100\n",
      "260/260 [==============================] - 14s 54ms/step - loss: 0.1909 - acc: 0.9292 - val_loss: 0.1916 - val_acc: 0.9306\n",
      "Epoch 61/100\n",
      "260/260 [==============================] - 14s 56ms/step - loss: 0.1915 - acc: 0.9290 - val_loss: 0.1912 - val_acc: 0.9296\n",
      "Epoch 62/100\n",
      "260/260 [==============================] - 14s 56ms/step - loss: 0.1913 - acc: 0.9287 - val_loss: 0.1973 - val_acc: 0.9271\n",
      "Epoch 63/100\n",
      "260/260 [==============================] - 15s 57ms/step - loss: 0.1898 - acc: 0.9292 - val_loss: 0.1960 - val_acc: 0.9287\n",
      "Epoch 64/100\n",
      "260/260 [==============================] - 14s 56ms/step - loss: 0.1888 - acc: 0.9300 - val_loss: 0.1910 - val_acc: 0.9293\n",
      "Epoch 65/100\n",
      "260/260 [==============================] - 15s 56ms/step - loss: 0.1911 - acc: 0.9288 - val_loss: 0.1944 - val_acc: 0.9295\n",
      "Epoch 66/100\n",
      "260/260 [==============================] - 14s 55ms/step - loss: 0.1884 - acc: 0.9300 - val_loss: 0.1885 - val_acc: 0.9305\n",
      "Epoch 67/100\n",
      "260/260 [==============================] - 14s 54ms/step - loss: 0.1878 - acc: 0.9301 - val_loss: 0.1875 - val_acc: 0.9318\n",
      "Epoch 68/100\n",
      "260/260 [==============================] - 14s 54ms/step - loss: 0.1864 - acc: 0.9305 - val_loss: 0.1875 - val_acc: 0.9317\n",
      "Epoch 69/100\n",
      "260/260 [==============================] - 15s 56ms/step - loss: 0.1867 - acc: 0.9306 - val_loss: 0.1903 - val_acc: 0.9311\n",
      "Epoch 70/100\n",
      "260/260 [==============================] - 15s 57ms/step - loss: 0.1866 - acc: 0.9308 - val_loss: 0.1852 - val_acc: 0.9331\n",
      "Epoch 71/100\n",
      "260/260 [==============================] - 14s 53ms/step - loss: 0.1853 - acc: 0.9314 - val_loss: 0.1883 - val_acc: 0.9302\n",
      "Epoch 72/100\n",
      "260/260 [==============================] - 14s 53ms/step - loss: 0.1852 - acc: 0.9312 - val_loss: 0.1874 - val_acc: 0.9324\n",
      "Epoch 73/100\n",
      "260/260 [==============================] - 14s 56ms/step - loss: 0.1850 - acc: 0.9313 - val_loss: 0.1918 - val_acc: 0.9317\n",
      "Epoch 74/100\n",
      "260/260 [==============================] - 14s 53ms/step - loss: 0.1846 - acc: 0.9317 - val_loss: 0.1873 - val_acc: 0.9333\n",
      "Epoch 75/100\n",
      "260/260 [==============================] - 14s 53ms/step - loss: 0.1833 - acc: 0.9321 - val_loss: 0.1928 - val_acc: 0.9303\n",
      "Epoch 76/100\n",
      "260/260 [==============================] - 14s 55ms/step - loss: 0.1838 - acc: 0.9315 - val_loss: 0.1895 - val_acc: 0.9320\n",
      "Epoch 77/100\n",
      "260/260 [==============================] - 14s 56ms/step - loss: 0.1821 - acc: 0.9330 - val_loss: 0.1912 - val_acc: 0.9327\n",
      "Epoch 78/100\n",
      "260/260 [==============================] - 14s 53ms/step - loss: 0.1830 - acc: 0.9324 - val_loss: 0.1890 - val_acc: 0.9321\n",
      "Epoch 79/100\n",
      "260/260 [==============================] - 14s 56ms/step - loss: 0.1825 - acc: 0.9325 - val_loss: 0.1976 - val_acc: 0.9255\n",
      "Epoch 80/100\n",
      "260/260 [==============================] - 14s 56ms/step - loss: 0.1820 - acc: 0.9327 - val_loss: 0.1854 - val_acc: 0.9328\n",
      "Epoch 81/100\n",
      "260/260 [==============================] - 14s 53ms/step - loss: 0.1809 - acc: 0.9332 - val_loss: 0.1986 - val_acc: 0.9317\n",
      "Epoch 82/100\n",
      "260/260 [==============================] - 14s 53ms/step - loss: 0.1820 - acc: 0.9329 - val_loss: 0.1929 - val_acc: 0.9315\n",
      "Epoch 83/100\n",
      "260/260 [==============================] - 14s 53ms/step - loss: 0.1803 - acc: 0.9334 - val_loss: 0.1843 - val_acc: 0.9331\n",
      "Epoch 84/100\n",
      "260/260 [==============================] - 14s 53ms/step - loss: 0.1808 - acc: 0.9333 - val_loss: 0.1857 - val_acc: 0.9328\n",
      "Epoch 85/100\n",
      "260/260 [==============================] - 14s 53ms/step - loss: 0.1790 - acc: 0.9339 - val_loss: 0.1871 - val_acc: 0.9334\n",
      "Epoch 86/100\n",
      "260/260 [==============================] - 14s 53ms/step - loss: 0.1798 - acc: 0.9338 - val_loss: 0.1850 - val_acc: 0.9341\n",
      "Epoch 87/100\n",
      "260/260 [==============================] - 14s 55ms/step - loss: 0.1775 - acc: 0.9344 - val_loss: 0.1870 - val_acc: 0.9320\n",
      "Epoch 88/100\n",
      "260/260 [==============================] - 14s 53ms/step - loss: 0.1772 - acc: 0.9348 - val_loss: 0.1864 - val_acc: 0.9336\n",
      "Epoch 89/100\n",
      "260/260 [==============================] - 14s 54ms/step - loss: 0.1774 - acc: 0.9347 - val_loss: 0.1928 - val_acc: 0.9347\n",
      "Epoch 90/100\n",
      "260/260 [==============================] - 14s 55ms/step - loss: 0.1780 - acc: 0.9341 - val_loss: 0.1971 - val_acc: 0.9307\n",
      "Epoch 91/100\n",
      "260/260 [==============================] - 14s 55ms/step - loss: 0.1762 - acc: 0.9354 - val_loss: 0.1932 - val_acc: 0.9316\n",
      "Epoch 92/100\n",
      "260/260 [==============================] - 14s 53ms/step - loss: 0.1758 - acc: 0.9345 - val_loss: 0.1920 - val_acc: 0.9331\n",
      "Epoch 93/100\n",
      "260/260 [==============================] - 15s 56ms/step - loss: 0.1760 - acc: 0.9349 - val_loss: 0.2089 - val_acc: 0.9332\n",
      "Epoch 94/100\n",
      "260/260 [==============================] - 15s 57ms/step - loss: 0.1753 - acc: 0.9357 - val_loss: 0.1826 - val_acc: 0.9347\n",
      "Epoch 95/100\n",
      "260/260 [==============================] - 14s 56ms/step - loss: 0.1750 - acc: 0.9356 - val_loss: 0.2045 - val_acc: 0.9305\n",
      "Epoch 96/100\n",
      "260/260 [==============================] - 14s 54ms/step - loss: 0.1746 - acc: 0.9356 - val_loss: 0.1921 - val_acc: 0.9359\n",
      "Epoch 97/100\n",
      "260/260 [==============================] - 14s 54ms/step - loss: 0.1742 - acc: 0.9354 - val_loss: 0.1913 - val_acc: 0.9314\n",
      "Epoch 98/100\n",
      "260/260 [==============================] - 14s 54ms/step - loss: 0.1744 - acc: 0.9357 - val_loss: 0.1863 - val_acc: 0.9354\n",
      "Epoch 99/100\n",
      "260/260 [==============================] - 15s 56ms/step - loss: 0.1731 - acc: 0.9367 - val_loss: 0.1836 - val_acc: 0.9342\n",
      "Epoch 100/100\n",
      "260/260 [==============================] - 14s 53ms/step - loss: 0.1743 - acc: 0.9358 - val_loss: 0.1851 - val_acc: 0.9330\n"
     ]
    }
   ],
   "source": [
    "# train model\n",
    "history_EMProb = pfn_EMProb.fit(X_tr, Y_train,\n",
    "        epochs=100,\n",
    "        batch_size=500,\n",
    "        validation_data=(X_vali, Y_val),\n",
    "        verbose=1)"
   ]
  },
  {
   "cell_type": "code",
   "execution_count": 62,
   "id": "8cb3f05b-0d1c-435f-801c-17005b677038",
   "metadata": {},
   "outputs": [],
   "source": [
    "pfn_EMProb.save(modelpath+'pfn_EMProb.h5')"
   ]
  },
  {
   "cell_type": "code",
   "execution_count": 63,
   "id": "dade77d9-0c3d-457a-abf1-916153a863fd",
   "metadata": {},
   "outputs": [
    {
     "name": "stdout",
     "output_type": "stream",
     "text": [
      "AUC: 0.9779076324186918\n"
     ]
    }
   ],
   "source": [
    "# get area under the ROC curve\n",
    "preds_EMProb = pfn_EMProb.predict(X_te, batch_size=1000)\n",
    "auc_EMProb = roc_auc_score(Y_test[:,1], preds_EMProb[:,1])\n",
    "print('AUC:', auc_EMProb)"
   ]
  },
  {
   "cell_type": "code",
   "execution_count": 65,
   "id": "de1c31b0-881b-4402-a596-2854aefc7416",
   "metadata": {},
   "outputs": [
    {
     "name": "stdout",
     "output_type": "stream",
     "text": [
      "High efficiency AUC: 0.2260840556798819\n",
      "Rejection at 95% efficiency: 7.9823859087269815\n",
      "at efficiency: 0.9500498504486541\n",
      "AUC: inf\n"
     ]
    },
    {
     "name": "stderr",
     "output_type": "stream",
     "text": [
      "<ipython-input-65-bcb3f130a62a>:3: RuntimeWarning: divide by zero encountered in true_divide\n",
      "  Rej_EMProb=1./pfn_fp_EMProb\n"
     ]
    }
   ],
   "source": [
    "### get ROC curve\n",
    "pfn_fp_EMProb, pfn_tp_EMProb, threshs_EMProb = roc_curve(Y_test[:,1], preds_EMProb[:,1])\n",
    "Rej_EMProb=1./pfn_fp_EMProb\n",
    "highEff=pfn_tp_EMProb>0.95\n",
    "pfn_tp_highEff_EMProb = pfn_tp_EMProb[highEff]\n",
    "Rej_highEff_EMProb=Rej_EMProb[highEff]\n",
    "print(\"High efficiency AUC:\",auc(pfn_tp_highEff_EMProb,Rej_highEff_EMProb))\n",
    "print(\"Rejection at 95% efficiency:\", Rej_highEff_EMProb[0])\n",
    "\n",
    "print(\"at efficiency:\", pfn_tp_highEff_EMProb[0])\n",
    "print(\"AUC:\",auc(pfn_tp_EMProb,Rej_EMProb))"
   ]
  },
  {
   "cell_type": "code",
   "execution_count": 67,
   "id": "0cb1d5cf-8e97-4d8b-8357-2f40075f821b",
   "metadata": {},
   "outputs": [
    {
     "name": "stderr",
     "output_type": "stream",
     "text": [
      "<ipython-input-67-a5684adc464f>:9: RuntimeWarning: divide by zero encountered in true_divide\n",
      "  axes.plot(pfn_tp_EMProb, 1./(pfn_fp_EMProb), '-', color='red', label='PFN')\n",
      "<ipython-input-67-a5684adc464f>:17: UserWarning: Attempted to set non-positive bottom ylim on a log-scaled axis.\n",
      "Invalid limit will be ignored.\n",
      "  axes.set_ylim(-1, 1000)\n"
     ]
    },
    {
     "data": {
      "image/png": "[encoded data removed]",
      "text/plain": [
       "<Figure size 360x360 with 1 Axes>"
      ]
     },
     "metadata": {},
     "output_type": "display_data"
    }
   ],
   "source": [
    "plt.rcParams['font.family'] = 'serif'\n",
    "plt.rcParams['figure.autolayout'] = True\n",
    "\n",
    "fig, axes = plt.subplots(1, 1, figsize=(5,5))\n",
    "\n",
    "plt.yscale('log')\n",
    "\n",
    "# plot the ROC curves\n",
    "axes.plot(pfn_tp_EMProb, 1./(pfn_fp_EMProb), '-', color='red', label='PFN')\n",
    "\n",
    "# axes labels\n",
    "axes.set_xlabel('$\\pi^{+}$ Efficiency')\n",
    "axes.set_ylabel('$\\pi^{0}$ Rejection')\n",
    "\n",
    "# axes limits\n",
    "axes.set_xlim(0.5, 1)\n",
    "axes.set_ylim(-1, 1000)\n",
    "\n",
    "# make legend and show plot\n",
    "axes.legend(loc='lower left', frameon=False)\n",
    "\n",
    "plt.show()"
   ]
  },
  {
   "cell_type": "code",
   "execution_count": 68,
   "id": "2338e8ae-0305-4b13-85eb-27e696df6146",
   "metadata": {},
   "outputs": [],
   "source": [
    "pfn_4dim=tf.keras.models.load_model(modelpath+'pfn_4dim.h5')"
   ]
  },
  {
   "cell_type": "code",
   "execution_count": 71,
   "id": "73f3a1cc-4a63-4d79-9e14-2a6036818bff",
   "metadata": {},
   "outputs": [
    {
     "name": "stdout",
     "output_type": "stream",
     "text": [
      "AUC: 0.9812221697495277\n"
     ]
    }
   ],
   "source": [
    "# get area under the ROC curve\n",
    "preds_4dim = pfn_4dim.predict(X_test, batch_size=1000)\n",
    "auc_4dim = roc_auc_score(Y_test[:,1], preds_4dim[:,1])\n",
    "print('AUC:', auc_4dim)\n"
   ]
  },
  {
   "cell_type": "code",
   "execution_count": 72,
   "id": "04233270-4a9b-4784-ba7c-54ec4096da74",
   "metadata": {},
   "outputs": [
    {
     "name": "stdout",
     "output_type": "stream",
     "text": [
      "High efficiency AUC: 0.25369759220712235\n",
      "Rejection at 95% efficiency: 9.348335677449601\n",
      "at efficiency: 0.9500498504486541\n",
      "AUC: inf\n"
     ]
    },
    {
     "name": "stderr",
     "output_type": "stream",
     "text": [
      "<ipython-input-72-c80103d6af57>:3: RuntimeWarning: divide by zero encountered in true_divide\n",
      "  Rej_4dim=1./pfn_fp_4dim\n"
     ]
    }
   ],
   "source": [
    "### get ROC curve\n",
    "pfn_fp_4dim, pfn_tp_4dim, threshs_4dim = roc_curve(Y_test[:,1], preds_4dim[:,1])\n",
    "Rej_4dim=1./pfn_fp_4dim\n",
    "highEff=pfn_tp_4dim>0.95\n",
    "pfn_tp_highEff_4dim = pfn_tp_4dim[highEff]\n",
    "Rej_highEff_4dim=Rej_4dim[highEff]\n",
    "print(\"High efficiency AUC:\",auc(pfn_tp_highEff_4dim,Rej_highEff_4dim))\n",
    "print(\"Rejection at 95% efficiency:\", Rej_highEff_4dim[0])\n",
    "\n",
    "print(\"at efficiency:\", pfn_tp_highEff_4dim[0])\n",
    "print(\"AUC:\",auc(pfn_tp_4dim,Rej_4dim))"
   ]
  },
  {
   "cell_type": "code",
   "execution_count": 75,
   "id": "b1f68b64-9068-45a8-80d5-7976ee1864a5",
   "metadata": {},
   "outputs": [
    {
     "name": "stderr",
     "output_type": "stream",
     "text": [
      "<ipython-input-75-dbb09d51a904>:11: RuntimeWarning: divide by zero encountered in true_divide\n",
      "  axes.plot(pfn_tp_4dim, 1./(pfn_fp_4dim), '-', color='blue', label='3D+samplerID')\n",
      "<ipython-input-75-dbb09d51a904>:12: RuntimeWarning: divide by zero encountered in true_divide\n",
      "  axes.plot(pfn_tp_EMProb, 1./(pfn_fp_EMProb), '-', color='red', label='3D+samplerID+EMProb')\n",
      "<ipython-input-75-dbb09d51a904>:21: UserWarning: Attempted to set non-positive bottom ylim on a log-scaled axis.\n",
      "Invalid limit will be ignored.\n",
      "  axes.set_ylim(-1, 1000)\n"
     ]
    },
    {
     "data": {
      "image/png": "[encoded data removed]",
      "text/plain": [
       "<Figure size 360x360 with 1 Axes>"
      ]
     },
     "metadata": {},
     "output_type": "display_data"
    }
   ],
   "source": [
    "plt.rcParams['font.family'] = 'serif'\n",
    "plt.rcParams['figure.autolayout'] = True\n",
    "\n",
    "fig, axes = plt.subplots(1, 1, figsize=(5,5))\n",
    "\n",
    "######################### ROC Curve Plot #########################\n",
    "\n",
    "plt.yscale('log')\n",
    "\n",
    "\n",
    "axes.plot(pfn_tp_4dim, 1./(pfn_fp_4dim), '-', color='blue', label='3D+samplerID')\n",
    "axes.plot(pfn_tp_EMProb, 1./(pfn_fp_EMProb), '-', color='red', label='3D+samplerID+EMProb')\n",
    "#axes.plot(pfn_tp_l200, 1./(pfn_fp_l200), '-', color='green', label='l=200')\n",
    "\n",
    "# axes labels\n",
    "axes.set_xlabel('$\\pi^{+}$ Efficiency')\n",
    "axes.set_ylabel('$\\pi^{0}$ Rejection')\n",
    "\n",
    "# axes limits\n",
    "axes.set_xlim(0.5, 1)\n",
    "axes.set_ylim(-1, 1000)\n",
    "\n",
    "# make legend and show plot\n",
    "axes.legend(loc='lower left', frameon=False)\n",
    "\n",
    "plt.savefig('/home/dportill/EMProb.pdf')\n",
    "\n",
    "plt.show()"
   ]
  },
  {
   "cell_type": "code",
   "execution_count": null,
   "id": "352610bf-9efe-42a9-a53a-1465f405285b",
   "metadata": {},
   "outputs": [],
   "source": []
  }
 ],
 "metadata": {
  "kernelspec": {
   "display_name": "Python 3",
   "language": "python",
   "name": "python3"
  },
  "language_info": {
   "codemirror_mode": {
    "name": "ipython",
    "version": 3
   },
   "file_extension": ".py",
   "mimetype": "text/x-python",
   "name": "python",
   "nbconvert_exporter": "python",
   "pygments_lexer": "ipython3",
   "version": "3.8.5"
  }
 },
 "nbformat": 4,
 "nbformat_minor": 5
}
