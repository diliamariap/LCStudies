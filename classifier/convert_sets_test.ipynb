{
 "cells": [
  {
   "cell_type": "code",
   "execution_count": 1,
   "id": "3e5bbcb5-33a5-4a2c-bcd3-540eedb12507",
   "metadata": {},
   "outputs": [],
   "source": [
    "import matplotlib.pyplot as plt"
   ]
  },
  {
   "cell_type": "code",
   "execution_count": 2,
   "id": "ba43c9f1-97cb-4b3a-a5e6-55e725848c33",
   "metadata": {},
   "outputs": [
    {
     "name": "stdout",
     "output_type": "stream",
     "text": [
      "Awkward version: 1.4.0\n",
      "Uproot version: 4.0.11\n"
     ]
    }
   ],
   "source": [
    "#====================\n",
    "# Load Utils ========\n",
    "#====================\n",
    "\n",
    "import numpy as np\n",
    "import uproot as ur\n",
    "import awkward as ak\n",
    "import time as t\n",
    "import os\n",
    "print(\"Awkward version: \"+str(ak.__version__))\n",
    "print(\"Uproot version: \"+str(ur.__version__))"
   ]
  },
  {
   "cell_type": "code",
   "execution_count": 3,
   "id": "7d5f02d1-9c47-42cc-a8b1-b2327b5ddf19",
   "metadata": {},
   "outputs": [],
   "source": [
    "#====================\n",
    "# Metadata ==========\n",
    "#====================\n",
    "track_branches = ['trackEta_EMB1', 'trackPhi_EMB1', 'trackEta_EMB2', 'trackPhi_EMB2', 'trackEta_EMB3', 'trackPhi_EMB3',\n",
    "                  'trackEta_TileBar0', 'trackPhi_TileBar0', 'trackEta_TileBar1', 'trackPhi_TileBar1',\n",
    "                  'trackEta_TileBar2', 'trackPhi_TileBar2']\n",
    "\n",
    "event_branches = [\"cluster_nCells\", \"cluster_cell_ID\", \"cluster_cell_E\", 'cluster_nCells', \"nCluster\", \"eventNumber\",\n",
    "                  \"nTrack\", \"nTruthPart\", \"truthPartPdgId\", \"cluster_Eta\", \"cluster_Phi\", 'trackPt', 'trackP',\n",
    "                  'trackMass', 'trackEta', 'trackPhi', 'truthPartE', 'cluster_ENG_CALIB_TOT', \"cluster_E\", 'truthPartPt']\n",
    "\n",
    "ak_event_branches = [\"cluster_nCells\", \"cluster_cell_ID\", \"cluster_cell_E\", \"cluster_nCells\",\n",
    "                  \"nTruthPart\", \"truthPartPdgId\", \"cluster_Eta\", \"cluster_Phi\", \"trackPt\", \"trackP\",\n",
    "                  \"trackMass\", \"trackEta\", \"trackPhi\", \"truthPartE\", \"cluster_ENG_CALIB_TOT\", \"cluster_E\", \"truthPartPt\"]\n",
    "\n",
    "np_event_branches = [\"nCluster\", \"eventNumber\", \"nTrack\", \"nTruthPart\"]\n",
    "\n",
    "geo_branches = [\"cell_geo_ID\", \"cell_geo_eta\", \"cell_geo_phi\", \"cell_geo_rPerp\", \"cell_geo_sampling\"]\n"
   ]
  },
  {
   "cell_type": "markdown",
   "id": "c64b228d-8e2e-493d-aab6-743c4119ebb8",
   "metadata": {},
   "source": [
    "# The functions"
   ]
  },
  {
   "cell_type": "code",
   "execution_count": 4,
   "id": "5f6d4edc-5583-46de-8d86-8643ebe3560c",
   "metadata": {},
   "outputs": [],
   "source": [
    "def dict_from_tree(tree, branches=None, np_branches=None):\n",
    "    ''' Loads branches as default awkward arrays and np_branches as numpy arrays. '''\n",
    "    dictionary = dict()\n",
    "    if branches is not None:\n",
    "        for key in branches:\n",
    "            branch = tree.arrays()[key]\n",
    "            dictionary[key] = branch\n",
    "            \n",
    "    if np_branches is not None:\n",
    "        for np_key in np_branches:\n",
    "            np_branch = np.ndarray.flatten(tree.arrays()[np_key].to_numpy())\n",
    "            dictionary[np_key] = np_branch\n",
    "    \n",
    "    if branches is None and np_branches is None:\n",
    "        raise ValueError(\"No branches passed to function.\")\n",
    "        \n",
    "    return dictionary"
   ]
  },
  {
   "cell_type": "code",
   "execution_count": 5,
   "id": "ee12f6b4-71b0-49ff-afc3-16c8d871c325",
   "metadata": {},
   "outputs": [],
   "source": [
    "def find_max_dim_tuple(events, event_dict):\n",
    "    nEvents = len(events)\n",
    "    max_clust = 0\n",
    "    \n",
    "    for i in range(nEvents):\n",
    "        event = events[i,0]\n",
    "        track_nums = events[i,1]\n",
    "        clust_nums = events[i,2]\n",
    "        \n",
    "        clust_num_total = 0\n",
    "        # set this to six for now to handle single track events, change later\n",
    "        track_num_total = 6\n",
    "        \n",
    "        # Check if there are clusters, None type object may be associated with it\n",
    "        if clust_nums is not None:\n",
    "            # Search through cluster indices\n",
    "            for clst_idx in clust_nums:\n",
    "                nInClust = len(event_dict['cluster_cell_ID'][event][clst_idx])\n",
    "                # add the number in each cluster to the total\n",
    "                clust_num_total += nInClust\n",
    "\n",
    "        total_size = clust_num_total + track_num_total\n",
    "        if total_size > max_clust:\n",
    "            max_clust = total_size\n",
    "    \n",
    "    # 6 for energy, eta, phi, rperp, track flag, sample layer\n",
    "    return (nEvents, max_clust, 6)"
   ]
  },
  {
   "cell_type": "code",
   "execution_count": 6,
   "id": "8ae11e1a-4665-4a97-9727-1f3b41e74bb1",
   "metadata": {},
   "outputs": [],
   "source": [
    "def find_index_1D(values, dictionary):\n",
    "    ''' Use a for loop and a dictionary. values are the IDs to search for. dict must be in format \n",
    "    (cell IDs: index) '''\n",
    "    idx_vec = np.zeros(len(values), dtype=np.int32)\n",
    "    for i in range(len(values)):\n",
    "        idx_vec[i] = dictionary[values[i]]\n",
    "    return idx_vec"
   ]
  },
  {
   "cell_type": "markdown",
   "id": "ac17402f-df40-4e5e-8b1a-6871d0dd96c3",
   "metadata": {},
   "source": [
    "# The data files"
   ]
  },
  {
   "cell_type": "code",
   "execution_count": 7,
   "id": "e01cefe4-c64d-4848-908f-e6817cdc869a",
   "metadata": {},
   "outputs": [],
   "source": [
    "#====================\n",
    "# File setup ========\n",
    "#====================\n",
    "# user.angerami.24559744.OutputStream._000001.root\n",
    "# Number of files\n",
    "Nfile = 1\n",
    "fileNames = []\n",
    "file_prefix = 'user.angerami.24559744.OutputStream._000'\n",
    "for i in range(1,Nfile+1):\n",
    "    endstring = f'{i:03}'\n",
    "    fileNames.append(file_prefix + endstring + '.root')\n"
   ]
  },
  {
   "cell_type": "code",
   "execution_count": 8,
   "id": "b7a14358-e26c-4339-987e-02a375ecde66",
   "metadata": {},
   "outputs": [],
   "source": [
    "#====================\n",
    "# Load Data Files ===\n",
    "#====================\n",
    "\n",
    "## GEOMETRY DICTIONARY ##\n",
    "geo_file = ur.open('/fast_scratch/atlas_images/v01-45/cell_geo.root')\n",
    "CellGeo_tree = geo_file[\"CellGeo\"]\n",
    "geo_dict = dict_from_tree(tree=CellGeo_tree, branches=None, np_branches=geo_branches)\n",
    "\n",
    "# cell geometry data\n",
    "cell_geo_ID = geo_dict['cell_geo_ID']\n",
    "cell_ID_dict = dict(zip(cell_geo_ID, np.arange(len(cell_geo_ID))))\n",
    "\n",
    "# for event dictionary\n",
    "events_prefix = '/fast_scratch/atlas_images/v01-45/pipm/'\n",
    "\n",
    "# Use this to compare with the dimensionality of new events\n",
    "firstArray = True"
   ]
  },
  {
   "cell_type": "markdown",
   "id": "34e8ac3d-889c-4c6c-bbdb-5860e04e8daf",
   "metadata": {},
   "source": [
    "# Loop over files: "
   ]
  },
  {
   "cell_type": "code",
   "execution_count": 9,
   "id": "2fe6f1f1-93b2-4527-a5f3-25ba54848123",
   "metadata": {},
   "outputs": [],
   "source": [
    "k = 1 # tally used to keep track of file number\n",
    "tot_nEvts = 0 # used for keeping track of total number of events\n",
    "max_nPoints = 0 # used for keeping track of the largest 'point cloud'\n",
    "t_tot = 0 # total time"
   ]
  },
  {
   "cell_type": "code",
   "execution_count": 10,
   "id": "d34a5a5e-2d6c-4573-b6f8-a9864172f9ec",
   "metadata": {},
   "outputs": [],
   "source": [
    "#for currFile in fileNames:\n",
    "#    \n",
    "#    # Check for file, a few are missing\n",
    "#    if not os.path.isfile(events_prefix+currFile):\n",
    "#        print()\n",
    "#        print('File '+events_prefix+currFile+' not found..')\n",
    "#        print()\n",
    "##        k += 1\n",
    "#        continue\n",
    "#    \n",
    "#    else:\n",
    "#        print()\n",
    "#        print('Working on File: '+str(currFile)+' - '+str(k)+'/'+str(Nfile))\n",
    "#        k += 1"
   ]
  },
  {
   "cell_type": "markdown",
   "id": "ab83b6b7-8c25-41b6-9c52-4e724683685e",
   "metadata": {},
   "source": [
    "Just test one file"
   ]
  },
  {
   "cell_type": "code",
   "execution_count": 11,
   "id": "bf188c5c-97b4-45ca-992e-2c15784600b6",
   "metadata": {},
   "outputs": [],
   "source": [
    "currFile = 'user.angerami.24559744.OutputStream._000001.root'"
   ]
  },
  {
   "cell_type": "code",
   "execution_count": 12,
   "id": "37d523ca-088b-4c69-8969-9d50f26f73a1",
   "metadata": {},
   "outputs": [],
   "source": [
    "## EVENT DICTIONARY ##\n",
    "event = ur.open(events_prefix+currFile)\n",
    "event_tree = event[\"EventTree\"]\n",
    "event_dict = dict_from_tree(tree=event_tree, branches=ak_event_branches, np_branches=np_event_branches)"
   ]
  },
  {
   "cell_type": "markdown",
   "id": "73d676ed-df49-4a8d-ae3d-8f3a671d8c0c",
   "metadata": {},
   "source": [
    "ak_event_branches -> Cluster, tracks, etcs. arrays per event\n",
    "\n",
    "np_branches -> Event-level variables. one value per event"
   ]
  },
  {
   "cell_type": "code",
   "execution_count": 13,
   "id": "232a7728-5096-4a93-b51d-54adad4c0d9d",
   "metadata": {},
   "outputs": [
    {
     "data": {
      "text/plain": [
       "['cluster_nCells',\n",
       " 'cluster_cell_ID',\n",
       " 'cluster_cell_E',\n",
       " 'cluster_nCells',\n",
       " 'nTruthPart',\n",
       " 'truthPartPdgId',\n",
       " 'cluster_Eta',\n",
       " 'cluster_Phi',\n",
       " 'trackPt',\n",
       " 'trackP',\n",
       " 'trackMass',\n",
       " 'trackEta',\n",
       " 'trackPhi',\n",
       " 'truthPartE',\n",
       " 'cluster_ENG_CALIB_TOT',\n",
       " 'cluster_E',\n",
       " 'truthPartPt']"
      ]
     },
     "execution_count": 13,
     "metadata": {},
     "output_type": "execute_result"
    }
   ],
   "source": [
    "ak_event_branches"
   ]
  },
  {
   "cell_type": "code",
   "execution_count": 14,
   "id": "bd6727fc-691d-444b-89de-2fcf34661ed3",
   "metadata": {},
   "outputs": [
    {
     "data": {
      "text/plain": [
       "['nCluster', 'eventNumber', 'nTrack', 'nTruthPart']"
      ]
     },
     "execution_count": 14,
     "metadata": {},
     "output_type": "execute_result"
    }
   ],
   "source": [
    "np_event_branches"
   ]
  },
  {
   "cell_type": "code",
   "execution_count": 15,
   "id": "e4723473-ddf9-4ea3-ba2d-3551544ef457",
   "metadata": {},
   "outputs": [
    {
     "name": "stdout",
     "output_type": "stream",
     "text": [
      "Events with 0 clusters: 6597\n",
      "Total number of events:  20000\n"
     ]
    }
   ],
   "source": [
    "import collections\n",
    "elements_count = collections.Counter(event_dict['nCluster'])\n",
    "for key, value in elements_count.items():\n",
    "    if key == 0:\n",
    "       print(f\"Events with {key} clusters: {value}\")\n",
    "print(\"Total number of events: \", len(event_dict['nCluster']))"
   ]
  },
  {
   "cell_type": "markdown",
   "id": "446b5a37-7c47-4a07-aebe-9f9a016d27c4",
   "metadata": {},
   "source": [
    "# Event level cuts"
   ]
  },
  {
   "cell_type": "code",
   "execution_count": 16,
   "id": "994e51ed-d81e-4e54-bc84-410de43c1525",
   "metadata": {},
   "outputs": [],
   "source": [
    "#===================\n",
    "# APPLY CUTS =======\n",
    "#===================\n",
    "# create ordered list of events to use for index slicing\n",
    "nEvents = len(event_dict['eventNumber'])\n",
    "all_events = np.arange(0,nEvents,1,dtype=np.int32) #array with event index"
   ]
  },
  {
   "cell_type": "code",
   "execution_count": 17,
   "id": "b4407457-ff01-4be0-8aab-f4e6f1c3317e",
   "metadata": {},
   "outputs": [],
   "source": [
    "nCluster = event_dict['nCluster']"
   ]
  },
  {
   "cell_type": "code",
   "execution_count": 18,
   "id": "d3f3aef0-19cd-4fe1-a424-f4a44238e211",
   "metadata": {},
   "outputs": [],
   "source": [
    "filtered_event_mask = nCluster != 0"
   ]
  },
  {
   "cell_type": "code",
   "execution_count": 19,
   "id": "22040ff5-539b-4ec6-bcba-025c21acfbfe",
   "metadata": {},
   "outputs": [],
   "source": [
    "filtered_event = all_events[filtered_event_mask]"
   ]
  },
  {
   "cell_type": "code",
   "execution_count": 20,
   "id": "e8341409-449c-4179-b5aa-d92579a47278",
   "metadata": {},
   "outputs": [
    {
     "name": "stdout",
     "output_type": "stream",
     "text": [
      "* selected events:  13403 / 20000\n"
     ]
    }
   ],
   "source": [
    "print(\"* selected events: \", len(filtered_event), \"/\", len(all_events))"
   ]
  },
  {
   "cell_type": "markdown",
   "id": "1899db62-2bd8-49b8-a610-a8dcdac95082",
   "metadata": {},
   "source": [
    "First event does not have clusters and was filtered out:"
   ]
  },
  {
   "cell_type": "code",
   "execution_count": 21,
   "id": "3b21e3c5-5f3b-483b-8327-2e147a6b514c",
   "metadata": {},
   "outputs": [
    {
     "data": {
      "text/plain": [
       "array([    1,     3,     4, ..., 19997, 19998, 19999], dtype=int32)"
      ]
     },
     "execution_count": 21,
     "metadata": {},
     "output_type": "execute_result"
    }
   ],
   "source": [
    "filtered_event"
   ]
  },
  {
   "cell_type": "code",
   "execution_count": 22,
   "id": "4eb69e8b-0dfc-4870-aec4-e290bde50470",
   "metadata": {},
   "outputs": [
    {
     "data": {
      "text/plain": [
       "0"
      ]
     },
     "execution_count": 22,
     "metadata": {},
     "output_type": "execute_result"
    }
   ],
   "source": [
    "nCluster[0]"
   ]
  },
  {
   "cell_type": "markdown",
   "id": "b3848afc-49a6-437b-a4a1-889e6812a8df",
   "metadata": {},
   "source": [
    "Second event have one cluster with 105 cells"
   ]
  },
  {
   "cell_type": "code",
   "execution_count": 23,
   "id": "add21088-713a-4247-853c-bbc909bb5c88",
   "metadata": {},
   "outputs": [
    {
     "data": {
      "text/plain": [
       "<Array [161, 64] type='2 * int32'>"
      ]
     },
     "execution_count": 23,
     "metadata": {},
     "output_type": "execute_result"
    }
   ],
   "source": [
    "ncells=event_dict['cluster_nCells']\n",
    "ncells[8]"
   ]
  },
  {
   "cell_type": "markdown",
   "id": "b65e21ad-a7c8-4c7a-adf2-aadf6c8baa9c",
   "metadata": {},
   "source": [
    "# Loop over events:"
   ]
  },
  {
   "cell_type": "code",
   "execution_count": 24,
   "id": "cd8e2ccd-2128-44d6-a3cb-af87ea546415",
   "metadata": {},
   "outputs": [],
   "source": [
    "#============================================#\n",
    "## CREATE INDEX ARRAY FOR  CLUSTERS ##\n",
    "#============================================#\n",
    "event_indices = []\n",
    "t0 = t.time()"
   ]
  },
  {
   "cell_type": "code",
   "execution_count": 25,
   "id": "dbbb0959-13ee-4739-b4f8-560afd569a38",
   "metadata": {},
   "outputs": [],
   "source": [
    "#for evt in filtered_event:"
   ]
  },
  {
   "cell_type": "code",
   "execution_count": 26,
   "id": "6830af08-4ce4-4a27-871e-fa2e41a9f362",
   "metadata": {},
   "outputs": [],
   "source": [
    "evt =5000   #Just one event for testing"
   ]
  },
  {
   "cell_type": "code",
   "execution_count": 27,
   "id": "12ce938e-582e-4f62-a228-4f38cfe89907",
   "metadata": {},
   "outputs": [],
   "source": [
    "# pull cluster number, don't need zero index as it's loaded as a np array\n",
    "nClust = event_dict[\"nCluster\"][evt]\n",
    "cluster_idx = np.arange(nClust)"
   ]
  },
  {
   "cell_type": "code",
   "execution_count": 28,
   "id": "67d3a9ae-84f1-40b2-9eab-0721ce26dbfa",
   "metadata": {
    "tags": []
   },
   "outputs": [],
   "source": [
    "## ENERGY SELECTION AND ETA SELECTION\n",
    "clusterEs = event_dict[\"cluster_E\"][evt].to_numpy()"
   ]
  },
  {
   "cell_type": "code",
   "execution_count": 29,
   "id": "77a34fd7-8e46-49ef-8fdc-eab0528fd54c",
   "metadata": {},
   "outputs": [],
   "source": [
    "clus_phi = event_dict[\"cluster_Phi\"][evt].to_numpy()\n",
    "clus_eta = event_dict[\"cluster_Eta\"][evt].to_numpy()"
   ]
  },
  {
   "cell_type": "code",
   "execution_count": 30,
   "id": "4451c169-fd04-4e78-a81f-91be6ed2e86b",
   "metadata": {},
   "outputs": [],
   "source": [
    "eta_mask = abs(clus_eta) < 0.7\n",
    "e_mask = clusterEs > 0.5\n",
    "\n",
    "selection = eta_mask & e_mask"
   ]
  },
  {
   "cell_type": "markdown",
   "id": "bd44bc9e-15c0-4e6e-9117-9e906cff3640",
   "metadata": {},
   "source": [
    "np.argmax returns the first instance of True in an array. But that is useful just for the one cluster case"
   ]
  },
  {
   "cell_type": "code",
   "execution_count": 31,
   "id": "3ddf795d-370f-4b2e-969f-38397722c86a",
   "metadata": {},
   "outputs": [
    {
     "data": {
      "text/plain": [
       "array([ True, False,  True,  True])"
      ]
     },
     "execution_count": 31,
     "metadata": {},
     "output_type": "execute_result"
    }
   ],
   "source": [
    "selection"
   ]
  },
  {
   "cell_type": "code",
   "execution_count": 32,
   "id": "46566183-401b-45d0-a48a-47380b4abc45",
   "metadata": {},
   "outputs": [],
   "source": [
    "selected_clusters = cluster_idx[selection]"
   ]
  },
  {
   "cell_type": "code",
   "execution_count": 33,
   "id": "33f38327-4a91-4f4f-a1d4-cfdfd24258ad",
   "metadata": {},
   "outputs": [
    {
     "data": {
      "text/plain": [
       "array([0, 2, 3])"
      ]
     },
     "execution_count": 33,
     "metadata": {},
     "output_type": "execute_result"
    }
   ],
   "source": [
    "selected_clusters"
   ]
  },
  {
   "cell_type": "code",
   "execution_count": 34,
   "id": "eb2adf79-e467-43d1-8a20-b010b6cd1f30",
   "metadata": {},
   "outputs": [
    {
     "name": "stdout",
     "output_type": "stream",
     "text": [
      "* Event  5000  has  3  / 4 selected clusters\n"
     ]
    }
   ],
   "source": [
    "## CREATE LIST ##\n",
    "# Note: currently do not have track only events. Do this in the future    \n",
    "if np.count_nonzero(selection) > 0:\n",
    "    event_indices.append((evt, 0, selected_clusters))\n",
    "    print(\"* Event \", evt, \" has \", np.count_nonzero(selection), \" /\" ,nClust,\"selected clusters\")"
   ]
  },
  {
   "cell_type": "code",
   "execution_count": 35,
   "id": "7087b6f5-cfb7-4408-825d-e6ec18e58356",
   "metadata": {
    "tags": []
   },
   "outputs": [
    {
     "data": {
      "text/plain": [
       "[(5000, 0, array([0, 2, 3]))]"
      ]
     },
     "execution_count": 35,
     "metadata": {},
     "output_type": "execute_result"
    }
   ],
   "source": [
    "event_indices"
   ]
  },
  {
   "cell_type": "code",
   "execution_count": null,
   "id": "884b08f9-4859-42d8-a956-7e270126b093",
   "metadata": {},
   "outputs": [],
   "source": []
  },
  {
   "cell_type": "markdown",
   "id": "88966161-3d1a-493b-8116-b9a5635b0522",
   "metadata": {},
   "source": [
    "## End the Loop over events"
   ]
  },
  {
   "cell_type": "code",
   "execution_count": 36,
   "id": "6a8744ce-842c-4f66-9422-f394722a4b02",
   "metadata": {},
   "outputs": [],
   "source": [
    "event_indices = np.array(event_indices, dtype=np.object_)"
   ]
  },
  {
   "cell_type": "code",
   "execution_count": 37,
   "id": "bc810771-31ee-438f-b138-c5fb8b708dc6",
   "metadata": {},
   "outputs": [
    {
     "data": {
      "text/plain": [
       "array([[5000, 0, array([0, 2, 3])]], dtype=object)"
      ]
     },
     "execution_count": 37,
     "metadata": {},
     "output_type": "execute_result"
    }
   ],
   "source": [
    "event_indices"
   ]
  },
  {
   "cell_type": "code",
   "execution_count": null,
   "id": "f8f13402-31d9-49c7-b242-4aac8b02c2a1",
   "metadata": {},
   "outputs": [],
   "source": []
  },
  {
   "cell_type": "markdown",
   "id": "b7c48a00-d44e-49e9-8344-784a1c45e834",
   "metadata": {},
   "source": [
    "# Check the dimension of the output X per file:"
   ]
  },
  {
   "cell_type": "code",
   "execution_count": 38,
   "id": "8c3d62b0-b0f2-454b-946c-8faac33e75d0",
   "metadata": {},
   "outputs": [],
   "source": [
    "#=========================#\n",
    "## DIMENSIONS OF X ARRAY ##\n",
    "#=========================#\n",
    "t0 = t.time()\n",
    "max_dims = find_max_dim_tuple(event_indices, event_dict)"
   ]
  },
  {
   "cell_type": "markdown",
   "id": "b1491cf9-e00b-4d67-8c1a-87a97052ba80",
   "metadata": {},
   "source": [
    "Returns (total number of selected events, total number of cells, 6 features)\n",
    "\n",
    "Features: 6 for energy, eta, phi, rperp, track flag, sample layer"
   ]
  },
  {
   "cell_type": "code",
   "execution_count": 39,
   "id": "6b5494ab-0b4d-412b-9c4f-bd82440cf7d6",
   "metadata": {},
   "outputs": [],
   "source": [
    "evt_tot = max_dims[0]\n",
    "tot_nEvts += max_dims[0]"
   ]
  },
  {
   "cell_type": "code",
   "execution_count": 40,
   "id": "8a9054ac-6cf3-406b-89f6-06e01122cfa9",
   "metadata": {},
   "outputs": [
    {
     "data": {
      "text/plain": [
       "1"
      ]
     },
     "execution_count": 40,
     "metadata": {},
     "output_type": "execute_result"
    }
   ],
   "source": [
    "evt_tot"
   ]
  },
  {
   "cell_type": "code",
   "execution_count": 41,
   "id": "1dc3be25-7d4e-47d0-be1f-947fbb54a16b",
   "metadata": {},
   "outputs": [
    {
     "data": {
      "text/plain": [
       "1"
      ]
     },
     "execution_count": 41,
     "metadata": {},
     "output_type": "execute_result"
    }
   ],
   "source": [
    "tot_nEvts"
   ]
  },
  {
   "cell_type": "code",
   "execution_count": 42,
   "id": "23f3fc29-4297-43fa-9742-274325bc17ca",
   "metadata": {},
   "outputs": [],
   "source": [
    "    # keep track of the largest point cloud to use for saving later\n",
    "    if max_dims[1] > max_nPoints:\n",
    "        max_nPoints = max_dims[1]"
   ]
  },
  {
   "cell_type": "code",
   "execution_count": 43,
   "id": "2f367367-b6ea-4886-8b86-43a93600c180",
   "metadata": {},
   "outputs": [
    {
     "data": {
      "text/plain": [
       "460"
      ]
     },
     "execution_count": 43,
     "metadata": {},
     "output_type": "execute_result"
    }
   ],
   "source": [
    "max_dims[1]"
   ]
  },
  {
   "cell_type": "code",
   "execution_count": 44,
   "id": "8247a868-6169-45ad-a8b0-2feedf3efe7a",
   "metadata": {},
   "outputs": [
    {
     "data": {
      "text/plain": [
       "460"
      ]
     },
     "execution_count": 44,
     "metadata": {},
     "output_type": "execute_result"
    }
   ],
   "source": [
    "max_nPoints"
   ]
  },
  {
   "cell_type": "code",
   "execution_count": 45,
   "id": "7bad0789-4d64-4acd-902a-b1f14ecd0e8a",
   "metadata": {},
   "outputs": [
    {
     "name": "stdout",
     "output_type": "stream",
     "text": [
      "Selected number of events: 1\n",
      "Number of cells: 460\n"
     ]
    }
   ],
   "source": [
    "    print('Selected number of events: '+str(evt_tot))\n",
    "    print('Number of cells: '+str(max_dims[1]))"
   ]
  },
  {
   "cell_type": "code",
   "execution_count": 46,
   "id": "3365fad2-8f53-4c2a-8a72-3c59e4463a12",
   "metadata": {},
   "outputs": [],
   "source": [
    "    # Create arrays\n",
    "    Y_new = np.zeros((max_dims[0],3))\n",
    "    X_new = np.zeros(max_dims)"
   ]
  },
  {
   "cell_type": "code",
   "execution_count": 47,
   "id": "8fa7a817-5007-448d-9f37-faffdbea10e6",
   "metadata": {},
   "outputs": [
    {
     "name": "stdout",
     "output_type": "stream",
     "text": [
      "* Events with selected clusters: 1\n",
      "* Total number of cells: 460\n",
      "* Dim of largest point cloud: 460\n"
     ]
    }
   ],
   "source": [
    "    print('* Events with selected clusters: '+str(max_dims[0]))\n",
    "    print('* Total number of cells: '+str(max_dims[1]))\n",
    "    print('* Dim of largest point cloud: '+str(max_nPoints))"
   ]
  },
  {
   "cell_type": "markdown",
   "id": "7eb6059f-39b6-4c26-9989-185983810407",
   "metadata": {},
   "source": [
    "# Fill the arrays"
   ]
  },
  {
   "cell_type": "markdown",
   "id": "73b0dd4d-d824-4604-bbeb-e5a73897d4dd",
   "metadata": {},
   "source": [
    "Loop over selected-selected events\n",
    "\n",
    "\n",
    "Recall: event_indices.append((evt, 0, selected_clusters))"
   ]
  },
  {
   "cell_type": "code",
   "execution_count": 77,
   "id": "fb387e5f-ef9c-493c-a9db-eff030a003c3",
   "metadata": {},
   "outputs": [
    {
     "name": "stdout",
     "output_type": "stream",
     "text": [
      "evt 5000\n",
      "track_idx 0\n",
      "cluster_nums [0 2 3]\n",
      "there is a cluster here\n",
      " Average eta in the event -0.62879086\n",
      " Average phi in the event 0.35715285\n",
      "----Cluster  0\n",
      "- Number of cells:  438\n",
      "- eta:  -0.608532726764679\n",
      "- phi:  0.2467040866613388\n",
      "---- - First cell in cluster  0\n",
      "- - eta:  -0.6113232\n",
      "- - phi:  0.23482959\n",
      "- - eta normalised to average:  0.017467678\n",
      "- - phi normalised to average:  -0.12232326\n",
      "- - eta normalised to cluster: -0.0027904510498046875\n",
      "- - phi normalised to cluster:  -0.011874496936798096\n",
      "----Cluster  2\n",
      "- Number of cells:  13\n",
      "- eta:  -0.6112126111984253\n",
      "- phi:  0.4098142981529236\n",
      "---- - First cell in cluster  2\n",
      "- - eta:  -0.6114513\n",
      "- - phi:  0.40671355\n",
      "- - eta normalised to average:  0.017339528\n",
      "- - phi normalised to average:  0.049560696\n",
      "- - eta normalised to cluster: -0.00023871660232543945\n",
      "- - phi normalised to cluster:  -0.003100752830505371\n",
      "----Cluster  3\n",
      "- Number of cells:  3\n",
      "- eta:  -0.511576771736145\n",
      "- phi:  0.3450736105442047\n",
      "---- - First cell in cluster  3\n",
      "- - eta:  -0.5110549\n",
      "- - phi:  0.34506458\n",
      "- - eta normalised to average:  0.11773598\n",
      "- - phi normalised to average:  -0.012088269\n",
      "- - eta normalised to cluster: 0.0005218982696533203\n",
      "- - phi normalised to cluster:  -9.03010368347168e-06\n"
     ]
    }
   ],
   "source": [
    "    #===================#\n",
    "    ## FILL IN ENTRIES ##==============================================================\n",
    "    #===================#\n",
    "    t0 = t.time()\n",
    "    for i in range(max_dims[0]):\n",
    "        # pull all relevant indices\n",
    "        evt = event_indices[i,0]\n",
    "        track_idx = event_indices[i,1]\n",
    "        # recall this now returns an array\n",
    "        cluster_nums = event_indices[i,2]\n",
    "        \n",
    "        \n",
    "        print(\"evt\",evt)\n",
    "        print(\"track_idx\",track_idx)\n",
    "        print(\"cluster_nums\",cluster_nums)\n",
    "        \n",
    "        ##############\n",
    "        ## CLUSTERS ##\n",
    "        ##############\n",
    "        # set up to have no clusters, further this with setting up the same thing for tracks\n",
    "        target_ENG_CALIB_TOT = -1\n",
    "        if cluster_nums is not None:\n",
    "            print(\"there is a cluster here\")\n",
    "            cluster_Eta = event_dict['cluster_Eta'][evt].to_numpy()\n",
    "            cluster_Phi = event_dict['cluster_Phi'][evt].to_numpy()\n",
    "            av_Eta = np.mean(cluster_Eta)\n",
    "            av_Phi = np.mean(cluster_Phi)\n",
    "\n",
    "            nClust_current_total = 0\n",
    "            target_ENG_CALIB_TOT = 0\n",
    "            \n",
    "            print(\" Average eta in the event\", av_Eta)\n",
    "            print(\" Average phi in the event\", av_Phi)\n",
    "            \n",
    "            for c in cluster_nums:\n",
    "                # cluster data\n",
    "                target_ENG_CALIB_TOT += event_dict['cluster_ENG_CALIB_TOT'][evt][c]\n",
    "                cluster_cell_ID = event_dict['cluster_cell_ID'][evt][c].to_numpy()\n",
    "                nInClust = len(cluster_cell_ID)\n",
    "                cluster_cell_E = event_dict['cluster_cell_E'][evt][c].to_numpy()            \n",
    "                cell_indices = find_index_1D(cluster_cell_ID, cell_ID_dict)\n",
    "                \n",
    "                print(\"----Cluster \",c )\n",
    "                print(\"- Number of cells: \",nInClust)\n",
    "                print(\"- eta: \",event_dict['cluster_Eta'][evt][c])\n",
    "                print(\"- phi: \",event_dict['cluster_Phi'][evt][c])\n",
    "                               \n",
    "                cluster_cell_Eta = geo_dict['cell_geo_eta'][cell_indices]\n",
    "                cluster_cell_Phi = geo_dict['cell_geo_phi'][cell_indices]\n",
    "                cluster_cell_rPerp = geo_dict['cell_geo_rPerp'][cell_indices]\n",
    "                cluster_cell_sampling = geo_dict['cell_geo_sampling'][cell_indices]\n",
    "                \n",
    "                print(\"---- - First cell in cluster \",c )\n",
    "                print(\"- - eta: \",cluster_cell_Eta[0])\n",
    "                print(\"- - phi: \",cluster_cell_Phi[0])\n",
    "                print(\"- - eta normalised to average: \",cluster_cell_Eta[0]- av_Eta)\n",
    "                print(\"- - phi normalised to average: \",cluster_cell_Phi[0]- av_Phi)\n",
    "                print(\"- - eta normalised to cluster:\",cluster_cell_Eta[0]-event_dict['cluster_Eta'][evt][c])\n",
    "                print(\"- - phi normalised to cluster: \",cluster_cell_Phi[0]-event_dict['cluster_Phi'][evt][c])\n",
    "                \n",
    "                # input all the data\n",
    "                # note here we leave the fourth entry zeros (zero for flag!!!)\n",
    "                low = nClust_current_total\n",
    "                high = low + nInClust\n",
    "                X_new[i,low:high,0] = np.log(cluster_cell_E)\n",
    "                # Normalize to average cluster centers\n",
    "                X_new[i,low:high,1] = cluster_cell_Eta - av_Eta #cluster_cell_Eta - event_dict['cluster_Eta'][evt][c]\n",
    "                X_new[i,low:high,2] = cluster_cell_Phi - av_Phi #cluster_cell_Phi -event_dict['cluster_Phi'][evt][c]\n",
    "                X_new[i,low:high,3] = cluster_cell_rPerp\n",
    "                X_new[i,low:high,5] = cluster_cell_sampling * 0.1\n",
    "                \n",
    "                nClust_current_total += nInClust"
   ]
  },
  {
   "cell_type": "code",
   "execution_count": 76,
   "id": "527b0cdc-fdae-46eb-bdcf-6675c61db79f",
   "metadata": {},
   "outputs": [
    {
     "data": {
      "text/plain": [
       "454"
      ]
     },
     "execution_count": 76,
     "metadata": {},
     "output_type": "execute_result"
    }
   ],
   "source": [
    "nClust_current_total"
   ]
  },
  {
   "cell_type": "code",
   "execution_count": 78,
   "id": "bd92331f-7eae-4fdf-a79e-6656d417e1a2",
   "metadata": {},
   "outputs": [
    {
     "data": {
      "text/plain": [
       "array([0.71349967, 0.00902699, 0.02797122])"
      ]
     },
     "execution_count": 78,
     "metadata": {},
     "output_type": "execute_result"
    }
   ],
   "source": [
    "event_dict['cluster_cell_E'][evt][c].to_numpy() "
   ]
  },
  {
   "cell_type": "code",
   "execution_count": null,
   "id": "64ec6b47-08c3-4c0d-962b-bbd3b341b4d4",
   "metadata": {},
   "outputs": [],
   "source": []
  }
 ],
 "metadata": {
  "kernelspec": {
   "display_name": "Python 3 (ipykernel)",
   "language": "python",
   "name": "python3"
  },
  "language_info": {
   "codemirror_mode": {
    "name": "ipython",
    "version": 3
   },
   "file_extension": ".py",
   "mimetype": "text/x-python",
   "name": "python",
   "nbconvert_exporter": "python",
   "pygments_lexer": "ipython3",
   "version": "3.8.10"
  }
 },
 "nbformat": 4,
 "nbformat_minor": 5
}
